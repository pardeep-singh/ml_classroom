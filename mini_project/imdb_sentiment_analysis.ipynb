{
 "cells": [
  {
   "cell_type": "markdown",
   "metadata": {},
   "source": [
    "## Problem Statement"
   ]
  },
  {
   "cell_type": "markdown",
   "metadata": {},
   "source": [
    "Analyze IMDB Movie reviews & perform Sentiment Analysis using following dataset:\n",
    "\n",
    "- [Kaggle: IMDB Dataset containing 50k Movie Reviews](https://www.kaggle.com/lakshmi25npathi/imdb-dataset-of-50k-movie-reviews)\n",
    "\n",
    "*Note: Split the dataset into train(40k) & test(10k) datasets.*"
   ]
  },
  {
   "cell_type": "markdown",
   "metadata": {},
   "source": [
    "## Goals"
   ]
  },
  {
   "cell_type": "markdown",
   "metadata": {},
   "source": [
    "**Deadline 1st June 2020**\n",
    "\n",
    "[Google Form Link](https://forms.gle/zt49YLx5xj8cdeAG7)\n",
    "\n",
    "**Following can be acheived by referring to notebooks used in the sessions:**\n",
    "\n",
    "- [ ] Perform EDA analysis to understand the dataset.\n",
    "- [ ] Perform Feature Engineering using `CountVectorizer`.\n",
    "- [ ] Apply Naive Bayes & Logistic Regression.\n",
    "- [ ] Use Regularized Logistic Regression.\n",
    "- [ ] Build an Ensemble Model using Naive Bayes & Logistic Regression.\n",
    "\n",
    "**Stretch Goals:**\n",
    "\n",
    "- [ ] Use `Tfidfvectorizer` for Feature Engineering.\n",
    "- [ ] Use `SVC`.\n",
    "- [ ] Build an Ensemble Model using Naive Bayes, Logistic Regression & SVC.\n",
    "- [ ] Write a Micro service which exposes an endpoint to classify given text. Use best performing model for this."
   ]
  },
  {
   "cell_type": "markdown",
   "metadata": {},
   "source": [
    "## Resources"
   ]
  },
  {
   "cell_type": "markdown",
   "metadata": {},
   "source": [
    "- [How to Use Tfidftransformer & Tfidfvectorizer?](https://kavita-ganesan.com/tfidftransformer-tfidfvectorizer-usage-differences/#.XqWEVVMzbOQ)\n",
    "- [Support Vector Classifier (SVC)](https://scikit-learn.org/stable/modules/svm.html#classification)"
   ]
  }
 ],
 "metadata": {
  "kernelspec": {
   "display_name": "Python 3",
   "language": "python",
   "name": "python3"
  },
  "language_info": {
   "codemirror_mode": {
    "name": "ipython",
    "version": 3
   },
   "file_extension": ".py",
   "mimetype": "text/x-python",
   "name": "python",
   "nbconvert_exporter": "python",
   "pygments_lexer": "ipython3",
   "version": "3.8.2"
  },
  "toc": {
   "base_numbering": 1,
   "nav_menu": {},
   "number_sections": true,
   "sideBar": true,
   "skip_h1_title": false,
   "title_cell": "Table of Contents",
   "title_sidebar": "Contents",
   "toc_cell": false,
   "toc_position": {},
   "toc_section_display": true,
   "toc_window_display": false
  }
 },
 "nbformat": 4,
 "nbformat_minor": 4
}
