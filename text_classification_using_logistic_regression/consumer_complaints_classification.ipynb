{
 "cells": [
  {
   "cell_type": "markdown",
   "metadata": {
    "toc": true
   },
   "source": [
    "<h1>Text Classification using Logistic Regression<span class=\"tocSkip\"></span></h1>\n",
    "<div class=\"toc\"><ul class=\"toc-item\"><li><span><a href=\"#Logistic-Regression-Theory\" data-toc-modified-id=\"Logistic-Regression-Theory-1\">Logistic Regression Theory</a></span><ul class=\"toc-item\"><li><span><a href=\"#Regression-Revision\" data-toc-modified-id=\"Regression-Revision-1.1\">Regression Revision</a></span></li><li><span><a href=\"#Linear-Classifiers\" data-toc-modified-id=\"Linear-Classifiers-1.2\">Linear Classifiers</a></span><ul class=\"toc-item\"><li><span><a href=\"#Linear-Classifier-Example\" data-toc-modified-id=\"Linear-Classifier-Example-1.2.1\">Linear Classifier Example</a></span></li></ul></li><li><span><a href=\"#Logistic-Regression-Classifier\" data-toc-modified-id=\"Logistic-Regression-Classifier-1.3\">Logistic Regression Classifier</a></span><ul class=\"toc-item\"><li><span><a href=\"#Sigmoid-Function\" data-toc-modified-id=\"Sigmoid-Function-1.3.1\">Sigmoid Function</a></span></li><li><span><a href=\"#Maximum-Likelihood-Quality-Metric\" data-toc-modified-id=\"Maximum-Likelihood-Quality-Metric-1.3.2\">Maximum Likelihood Quality Metric</a></span></li><li><span><a href=\"#Gradient-Ascent-(TODO:-Add-some-theory-to-this-section)\" data-toc-modified-id=\"Gradient-Ascent-(TODO:-Add-some-theory-to-this-section)-1.3.3\">Gradient Ascent (TODO: Add some theory to this section)</a></span></li></ul></li></ul></li><li><span><a href=\"#Machine-Learning-Project-Lifecycle:-Second-Iteration\" data-toc-modified-id=\"Machine-Learning-Project-Lifecycle:-Second-Iteration-2\">Machine Learning Project Lifecycle: Second Iteration</a></span><ul class=\"toc-item\"><li><span><a href=\"#Problem-Statement\" data-toc-modified-id=\"Problem-Statement-2.1\">Problem Statement</a></span></li><li><span><a href=\"#Training-Data\" data-toc-modified-id=\"Training-Data-2.2\">Training Data</a></span></li><li><span><a href=\"#Preprocessing-+-Feature-Engineering\" data-toc-modified-id=\"Preprocessing-+-Feature-Engineering-2.3\">Preprocessing + Feature Engineering</a></span></li><li><span><a href=\"#Machine-Learning-Algorithm:-Logistic-Regression\" data-toc-modified-id=\"Machine-Learning-Algorithm:-Logistic-Regression-2.4\">Machine Learning Algorithm: Logistic Regression</a></span></li><li><span><a href=\"#Modeling\" data-toc-modified-id=\"Modeling-2.5\">Modeling</a></span></li><li><span><a href=\"#Model-Evaluation\" data-toc-modified-id=\"Model-Evaluation-2.6\">Model Evaluation</a></span></li><li><span><a href=\"#Quality-Metrics\" data-toc-modified-id=\"Quality-Metrics-2.7\">Quality Metrics</a></span></li><li><span><a href=\"#Model-Evaluation-on-Test-Dataset\" data-toc-modified-id=\"Model-Evaluation-on-Test-Dataset-2.8\">Model Evaluation on Test Dataset</a></span></li></ul></li><li><span><a href=\"#Homework\" data-toc-modified-id=\"Homework-3\">Homework</a></span></li><li><span><a href=\"#Resources\" data-toc-modified-id=\"Resources-4\">Resources</a></span></li></ul></div>"
   ]
  },
  {
   "cell_type": "markdown",
   "metadata": {},
   "source": [
    "<img src=\"../images/classification.png\" alt=\"Classification\" style=\"width: 700px;\"/>"
   ]
  },
  {
   "cell_type": "markdown",
   "metadata": {},
   "source": [
    "## Logistic Regression Theory"
   ]
  },
  {
   "cell_type": "markdown",
   "metadata": {},
   "source": [
    "### Regression Revision"
   ]
  },
  {
   "cell_type": "markdown",
   "metadata": {},
   "source": [
    "### Linear Classifiers\n",
    "\n",
    "- Called Linear Classifiers because output is weighted sum of input features.\n",
    "- Training a classifier -> Learning the coefficients.\n",
    "\n",
    "<img src='../images/linear_classifier_decision_boundry.jpg' alt='Linear Classifier decision boundry' style=\"width: 600px;\" align=\"left\">"
   ]
  },
  {
   "cell_type": "markdown",
   "metadata": {},
   "source": [
    "#### Linear Classifier Example\n",
    "\n",
    "*Linear Classifier example to classify document to check whether documents belong to Student Loan class or not*\n",
    "\n",
    "*Training Data*\n",
    "\n",
    "- +1 -> Belongs to Student Loan class\n",
    "- -1 -> Doesnt belong to Student Loan Class\n",
    "\n",
    "| Document | +1 or -1|\n",
    "|:---------|:----------------:|\n",
    "| EMI is high on Student Loan. | +1 |\n",
    "| Interest is not great on Savings account.| -1 |\n",
    "| Interest on Student loan has decreased.| + 1|"
   ]
  },
  {
   "cell_type": "markdown",
   "metadata": {},
   "source": [
    "*Linear Classifier Model*\n",
    "\n",
    "| Word(x) | Coefficient| Coefficient Value|\n",
    "|:---------:|:----------------:| :----------------: |\n",
    "|  | $ w_0 $ |1.0 |\n",
    "| EMI | $ w_1 $ | 2.0 |\n",
    "| Student | $ w_2 $ | 3.0 |\n",
    "| Interest | $ w_3 $ | 1.0 |\n",
    "| Loan | $ w_4 $ | 1.0 |\n",
    "| Savings | $ w_5 $ | -2.0 |"
   ]
  },
  {
   "cell_type": "markdown",
   "metadata": {},
   "source": [
    "*Classification*\n",
    "\n",
    "$ y = sign(Score(x_i)) $\n",
    "\n",
    "    - if sign is +1, input document belongs to Student Loan class\n",
    "    - if sign is -1, input document doesn't belong to Student Loan class\n",
    "\n",
    "$ Score(x_i) = w_0 + w_1 * x_i[1] + ... +  w_d * x_i[d] = w ^ T . X_i $\n",
    "\n",
    "where\n",
    "\n",
    "- $ x_i $ -> $ x_d $ are features.\n",
    "- $ w_0 $ -> $ w_d $ are coefficients."
   ]
  },
  {
   "cell_type": "markdown",
   "metadata": {},
   "source": [
    "Assumes that x is 1 for all the token,\n",
    "\n",
    "Q) Given `EMI Student`, check if this tokenised sentence belongs to `Student Loan` product category or not?\n",
    "\n",
    "Q) Given `Interest Savings`, check if this tokenised sentence belongs to `Student Loan` product category or not?"
   ]
  },
  {
   "cell_type": "markdown",
   "metadata": {},
   "source": [
    "### Logistic Regression Classifier\n",
    "\n",
    "- Linear classifier/model which uses *Logistic/Logit Link Function* to shrink the output of $ Score(x_i) $ function to 0.0 - 1.0 probability range.\n",
    "\n",
    "$ P(y_i | x_i, w) = Link Function \\: ( \\: Score \\: ( \\: w \\: ^ t \\: . h(x) \\: ) \\:)$\n",
    "\n",
    "<img src='../images/logistic_classifier_to_lr_classifier.jpg' alt='Linear Classifier to LR Classifier' style=\"width: 550px;\" align=\"left\">"
   ]
  },
  {
   "cell_type": "markdown",
   "metadata": {},
   "source": [
    "#### Sigmoid Function\n",
    "\n",
    "- How to make predictions in term of probability?\n",
    "\n",
    "$ sigmoid(Score) = 1 \\: / \\:  (1 + e ^ {-score}) $\n",
    "\n",
    "| Score | -${\\infty}$ | -2 | 0.0 | +2 | +${\\infty}$ |\n",
    "|:---------:|:-------:| :--: | :-------:| :-------:| :-------:|\n",
    "| sigmoid(Score)|0|.12 |.5|.88| 1| \n"
   ]
  },
  {
   "cell_type": "code",
   "execution_count": 114,
   "metadata": {},
   "outputs": [],
   "source": [
    "import numpy as np\n",
    "\n",
    "def sigmoid(value):\n",
    "    return 1 / (1 + np.exp(-value))"
   ]
  },
  {
   "cell_type": "code",
   "execution_count": 115,
   "metadata": {},
   "outputs": [],
   "source": [
    "import seaborn as sns;\n",
    "sns.set()\n",
    "\n",
    "import matplotlib.pyplot as plt\n",
    "%matplotlib inline\n",
    "\n",
    "sns.set(style=\"whitegrid\")"
   ]
  },
  {
   "cell_type": "code",
   "execution_count": 116,
   "metadata": {},
   "outputs": [
    {
     "data": {
      "image/png": "[encoded data removed]",
      "text/plain": [
       "<Figure size 432x288 with 1 Axes>"
      ]
     },
     "metadata": {},
     "output_type": "display_data"
    }
   ],
   "source": [
    "x = np.linspace(-6, 6)\n",
    "y = sigmoid(x)\n",
    "\n",
    "data = {'Score': x, 'Sigmoid(Score)': y}\n",
    "ax = sns.lineplot(x='Score', y='Sigmoid(Score)', data=data)\n",
    "ax.set(xlabel='Score', ylabel='Sigmoid(Score)')\n",
    "ax.set(title='Sigmoid Link function');"
   ]
  },
  {
   "cell_type": "markdown",
   "metadata": {},
   "source": [
    "#### Maximum Likelihood Quality Metric\n",
    "\n",
    "- *How to evaluate the learned coefficients?*\n",
    "\n",
    "    Model which returns the highest likelihood given the $ w_i ... w_d $\n",
    "\n",
    "\n",
    "| Data Point | X[1] | X[2]  |  y  | Choose w to maximise                  |\n",
    "|:----------:|:----:| :---: | :-: | :-----------------------------------: |\n",
    "| x,y      | 2    | 1     | +1  | $ P(y = +1 | x, w) $   |\n",
    "| x,y      | 0    | 2     | -1  | $ P(y = -1 | x, w) $   |\n",
    "| x,y      | 6    | 7     | -1  | $ P(y = -1 | x, w) $   |\n",
    "| x,y      | 19   | 1     | +1  | $ P(y = +1 | x, w) $  |\n",
    "\n",
    "$ likelihood(w) = {\\displaystyle \\prod_{i=1}^N P(y_i | x_i, w)} $\n",
    "\n",
    "<img src='../images/likelihood_example.jpg' alt='Maximum Likelihood Example' style=\"width: 600px;\" align=\"left\">"
   ]
  },
  {
   "cell_type": "markdown",
   "metadata": {},
   "source": [
    "#### Gradient Ascent (TODO: Add some theory to this section)\n",
    "\n",
    "- How to learn the coefficients?\n",
    "\n",
    "*High Level Algorithm for Single data point*\n",
    "\n",
    "- while not converged:\n",
    "\n",
    "    - $ \\displaystyle w ^ {t + 1} = w ^ {t}  + n {\\displaystyle \\frac{ \\partial l}{\\partial w}}$\n",
    "    \n",
    "For multiple data points, we will use d + 1 dimensional vector as\n",
    "\n",
    "$ \\displaystyle \\nabla l (w) = \\begin{vmatrix} {\\displaystyle \\frac{ \\partial l}{\\partial w_0}} \\\\ {\\displaystyle \\frac{ \\partial l}{\\partial w_1}} \\\\ ... \\\\ {\\displaystyle \\frac{ \\partial l}{\\partial w_d}} \\end{vmatrix}$\n"
   ]
  },
  {
   "cell_type": "code",
   "execution_count": 221,
   "metadata": {},
   "outputs": [
    {
     "data": {
      "image/png": "[encoded data removed]",
      "text/plain": [
       "<Figure size 1152x576 with 3 Axes>"
      ]
     },
     "metadata": {
      "needs_background": "light"
     },
     "output_type": "display_data"
    }
   ],
   "source": [
    "import numpy as np\n",
    "import matplotlib.pyplot as plt\n",
    "%matplotlib inline\n",
    "plt.rcParams[\"figure.figsize\"] = 8, 8\n",
    "\n",
    "x1 = np.linspace(-6, 8, 32)\n",
    "x2 = np.linspace(-6, 8, 32)\n",
    "\n",
    "X1, X2 = np.meshgrid(x1, x2)\n",
    "Y = np.sqrt(np.square(X1) + np.square(X2))\n",
    "\n",
    "#fig = plt.figure(figsize=plt.figaspect(0.5))\n",
    "fig = plt.figure(figsize=plt.figaspect(0.5))\n",
    "\n",
    "# First Plot\n",
    "ax = fig.add_subplot(1, 2, 1, projection='3d')\n",
    "\n",
    "surf = ax.plot_surface(X1, X2, Y * -1, cmap='jet')\n",
    "fig.colorbar(surf, shrink=0.5, aspect=10)\n",
    "\n",
    "# Second Plot\n",
    "ax = fig.add_subplot(1, 2, 2)\n",
    "\n",
    "cp = plt.contour(X1, X2, Y)\n",
    "plt.clabel(cp, inline=1, fontsize=10)\n",
    "plt.xlabel('Weight of #Loan')\n",
    "plt.ylabel('Weight of #Savings')\n",
    "plt.show()"
   ]
  },
  {
   "cell_type": "markdown",
   "metadata": {},
   "source": [
    "**Derivative of Likelihood**\n",
    "\n",
    "$ {\\displaystyle \\frac{ \\partial (w)}{\\partial w_j}} = \\displaystyle \\sum_{i=1}^N h_j(x_i) (1[y_i = +1] - P(y = +1 | x_i, w))$\n",
    "\n",
    "where\n",
    "\n",
    "- $1[y_i = +1]$ is 1 if $y_i$ = +1 or 0 if $y_i$ = -1\n",
    "\n",
    "*Example*\n",
    "\n",
    "- $ w_1 $ = 1\n",
    "- n = 0.1\n",
    "\n",
    "| X[1] | X[2]  |  y  | $P(y_i)$ | Contribution to $ w_1 $ derivative |\n",
    "|----| --- | ---- | :---------------------: | -------------------------- |\n",
    "| 2    | 1     | +1  |         00.05         | ?   |\n",
    "| 0    | 2     | -1  |          00.02       | ?   |\n",
    "| 3    | 3     | -1  |      00.05        | ?   |"
   ]
  },
  {
   "cell_type": "markdown",
   "metadata": {},
   "source": [
    "*Coefficients update rule during each iteration*\n",
    "\n",
    "Let assume that  $h_j(x_i) = 1$ in $ {\\displaystyle \\frac{ \\partial l(w)}{\\partial w_j}} = \\displaystyle \\sum_{i=1}^N h_j(x_i) (1[y_i = +1] - P(y = +1 | x_i, w))$\n",
    "\n",
    "- $P(y=+1|x_i, w) \\approx 1$\n",
    "    - if $y_i=+1$\n",
    "        - $\\Delta_i = 1 * (1 - 1) \\approx 0$\n",
    "        - Dont change anything as predection is correct\n",
    "    - elif $y_i=-1$\n",
    "        - $\\Delta_i = 1 * (1 - 1) \\approx 1$\n",
    "        - decrease $w_j$ for next iteration so that $P(y=+1|x_i, w)$ also decreases\n",
    "- $P(y=+1|x_i, w) \\approx 0$\n",
    "    - if $y_i=-1$\n",
    "        - $\\Delta_i = 1 * (0 - 0) \\approx 0$\n",
    "        - Dont change anything as predection is correct\n",
    "    - elif $y_i=+1$\n",
    "        - $\\Delta_i = 1 * (0 - 1) \\approx 1$\n",
    "        - increase $w_j$ for next iteration so that $P(y=+1|x_i, w)$ also increase"
   ]
  },
  {
   "cell_type": "markdown",
   "metadata": {},
   "source": [
    "## Machine Learning Project Lifecycle: Second Iteration\n",
    "\n",
    "- tf-idf\n",
    "- Logistic Regression\n",
    "- GridSearchCV\n",
    "- precision, recall"
   ]
  },
  {
   "cell_type": "markdown",
   "metadata": {},
   "source": [
    "### Problem Statement\n",
    "\n",
    "Classify the Financial Consumer Complaints into different Product Categories given consumer complaint text.\n",
    "\n",
    "**Product Categories**\n",
    "\n",
    "- Credit reporting, repair, or other\n",
    "- Debt collection\n",
    "- Student loan\n",
    "- Money transfer, virtual currency, or money service\n",
    "- Bank account or service"
   ]
  },
  {
   "cell_type": "markdown",
   "metadata": {},
   "source": [
    "### Training Data\n",
    "\n",
    "[Kaggle: Consumer Complaint Database](https://www.kaggle.com/selener/consumer-complaint-database)"
   ]
  },
  {
   "cell_type": "code",
   "execution_count": 1,
   "metadata": {},
   "outputs": [],
   "source": [
    "import pandas as pd"
   ]
  },
  {
   "cell_type": "code",
   "execution_count": 2,
   "metadata": {},
   "outputs": [],
   "source": [
    "complaints_training_dataset = pd.read_csv('../datasets/consumer_complaints_training_dataset.csv')"
   ]
  },
  {
   "cell_type": "code",
   "execution_count": 3,
   "metadata": {},
   "outputs": [
    {
     "data": {
      "text/html": [
       "<div>\n",
       "<style scoped>\n",
       "    .dataframe tbody tr th:only-of-type {\n",
       "        vertical-align: middle;\n",
       "    }\n",
       "\n",
       "    .dataframe tbody tr th {\n",
       "        vertical-align: top;\n",
       "    }\n",
       "\n",
       "    .dataframe thead th {\n",
       "        text-align: right;\n",
       "    }\n",
       "</style>\n",
       "<table border=\"1\" class=\"dataframe\">\n",
       "  <thead>\n",
       "    <tr style=\"text-align: right;\">\n",
       "      <th></th>\n",
       "      <th>Product</th>\n",
       "      <th>Complaint_text</th>\n",
       "    </tr>\n",
       "  </thead>\n",
       "  <tbody>\n",
       "    <tr>\n",
       "      <th>0</th>\n",
       "      <td>Credit reporting, repair, or other</td>\n",
       "      <td>My name is  XXXX   XXXX   XXXX , not  XXXX   X...</td>\n",
       "    </tr>\n",
       "    <tr>\n",
       "      <th>1</th>\n",
       "      <td>Credit reporting, repair, or other</td>\n",
       "      <td>I was shocked when I reviewed my credit report...</td>\n",
       "    </tr>\n",
       "    <tr>\n",
       "      <th>2</th>\n",
       "      <td>Credit reporting, repair, or other</td>\n",
       "      <td>Equifax misused of credit file. Disputing acco...</td>\n",
       "    </tr>\n",
       "    <tr>\n",
       "      <th>3</th>\n",
       "      <td>Credit reporting, repair, or other</td>\n",
       "      <td>I am disturbed that you continue to list the v...</td>\n",
       "    </tr>\n",
       "    <tr>\n",
       "      <th>4</th>\n",
       "      <td>Credit reporting, repair, or other</td>\n",
       "      <td>I went to multiple different credit report web...</td>\n",
       "    </tr>\n",
       "  </tbody>\n",
       "</table>\n",
       "</div>"
      ],
      "text/plain": [
       "                              Product  \\\n",
       "0  Credit reporting, repair, or other   \n",
       "1  Credit reporting, repair, or other   \n",
       "2  Credit reporting, repair, or other   \n",
       "3  Credit reporting, repair, or other   \n",
       "4  Credit reporting, repair, or other   \n",
       "\n",
       "                                      Complaint_text  \n",
       "0  My name is  XXXX   XXXX   XXXX , not  XXXX   X...  \n",
       "1  I was shocked when I reviewed my credit report...  \n",
       "2  Equifax misused of credit file. Disputing acco...  \n",
       "3  I am disturbed that you continue to list the v...  \n",
       "4  I went to multiple different credit report web...  "
      ]
     },
     "execution_count": 3,
     "metadata": {},
     "output_type": "execute_result"
    }
   ],
   "source": [
    "complaints_training_dataset.head()"
   ]
  },
  {
   "cell_type": "code",
   "execution_count": 4,
   "metadata": {},
   "outputs": [
    {
     "name": "stdout",
     "output_type": "stream",
     "text": [
      "<class 'pandas.core.frame.DataFrame'>\n",
      "RangeIndex: 20000 entries, 0 to 19999\n",
      "Data columns (total 2 columns):\n",
      " #   Column          Non-Null Count  Dtype \n",
      "---  ------          --------------  ----- \n",
      " 0   Product         20000 non-null  object\n",
      " 1   Complaint_text  20000 non-null  object\n",
      "dtypes: object(2)\n",
      "memory usage: 312.6+ KB\n"
     ]
    }
   ],
   "source": [
    "complaints_training_dataset.info()"
   ]
  },
  {
   "cell_type": "markdown",
   "metadata": {},
   "source": [
    "**Q) What is the distribution of complaints for each product type?**"
   ]
  },
  {
   "cell_type": "code",
   "execution_count": 5,
   "metadata": {},
   "outputs": [
    {
     "data": {
      "text/plain": [
       "array(['Credit reporting, repair, or other', 'Debt collection',\n",
       "       'Student loan',\n",
       "       'Money transfer, virtual currency, or money service',\n",
       "       'Bank account or service'], dtype=object)"
      ]
     },
     "execution_count": 5,
     "metadata": {},
     "output_type": "execute_result"
    }
   ],
   "source": [
    "complaints_training_dataset.Product.unique()"
   ]
  },
  {
   "cell_type": "code",
   "execution_count": 6,
   "metadata": {},
   "outputs": [
    {
     "data": {
      "text/html": [
       "<div>\n",
       "<style scoped>\n",
       "    .dataframe tbody tr th:only-of-type {\n",
       "        vertical-align: middle;\n",
       "    }\n",
       "\n",
       "    .dataframe tbody tr th {\n",
       "        vertical-align: top;\n",
       "    }\n",
       "\n",
       "    .dataframe thead th {\n",
       "        text-align: right;\n",
       "    }\n",
       "</style>\n",
       "<table border=\"1\" class=\"dataframe\">\n",
       "  <thead>\n",
       "    <tr style=\"text-align: right;\">\n",
       "      <th></th>\n",
       "      <th>Count</th>\n",
       "    </tr>\n",
       "    <tr>\n",
       "      <th>Product</th>\n",
       "      <th></th>\n",
       "    </tr>\n",
       "  </thead>\n",
       "  <tbody>\n",
       "    <tr>\n",
       "      <th>Bank account or service</th>\n",
       "      <td>4000</td>\n",
       "    </tr>\n",
       "    <tr>\n",
       "      <th>Credit reporting, repair, or other</th>\n",
       "      <td>4000</td>\n",
       "    </tr>\n",
       "    <tr>\n",
       "      <th>Debt collection</th>\n",
       "      <td>4000</td>\n",
       "    </tr>\n",
       "    <tr>\n",
       "      <th>Money transfer, virtual currency, or money service</th>\n",
       "      <td>4000</td>\n",
       "    </tr>\n",
       "    <tr>\n",
       "      <th>Student loan</th>\n",
       "      <td>4000</td>\n",
       "    </tr>\n",
       "  </tbody>\n",
       "</table>\n",
       "</div>"
      ],
      "text/plain": [
       "                                                    Count\n",
       "Product                                                  \n",
       "Bank account or service                              4000\n",
       "Credit reporting, repair, or other                   4000\n",
       "Debt collection                                      4000\n",
       "Money transfer, virtual currency, or money service   4000\n",
       "Student loan                                         4000"
      ]
     },
     "execution_count": 6,
     "metadata": {},
     "output_type": "execute_result"
    }
   ],
   "source": [
    "complaints_training_dataset\\\n",
    "    .groupby('Product')\\\n",
    "    [['Complaint_text']]\\\n",
    "    .count()\\\n",
    "    .rename(columns={'Complaint_text': 'Count'})\\\n",
    "    .sort_values('Count', ascending=False)"
   ]
  },
  {
   "cell_type": "markdown",
   "metadata": {},
   "source": [
    "**Q) Find out the Occurances of Duplicate Text messages if any?**"
   ]
  },
  {
   "cell_type": "code",
   "execution_count": 7,
   "metadata": {},
   "outputs": [
    {
     "data": {
      "text/plain": [
       "19913"
      ]
     },
     "execution_count": 7,
     "metadata": {},
     "output_type": "execute_result"
    }
   ],
   "source": [
    "complaints_training_dataset['Complaint_text'].nunique()"
   ]
  },
  {
   "cell_type": "code",
   "execution_count": 8,
   "metadata": {},
   "outputs": [],
   "source": [
    "duplicate_complaints = complaints_training_dataset['Complaint_text']\\\n",
    "    .value_counts()\\\n",
    "    [complaints_training_dataset['Complaint_text'].value_counts() > 2].index"
   ]
  },
  {
   "cell_type": "code",
   "execution_count": 9,
   "metadata": {},
   "outputs": [
    {
     "data": {
      "text/plain": [
       "9"
      ]
     },
     "execution_count": 9,
     "metadata": {},
     "output_type": "execute_result"
    }
   ],
   "source": [
    "len(duplicate_complaints)"
   ]
  },
  {
   "cell_type": "markdown",
   "metadata": {},
   "source": [
    "### Preprocessing + Feature Engineering\n",
    "\n",
    "- tf-idf"
   ]
  },
  {
   "cell_type": "code",
   "execution_count": 10,
   "metadata": {},
   "outputs": [],
   "source": [
    "from sklearn.feature_extraction.text import TfidfVectorizer\n",
    "from sklearn.model_selection import train_test_split\n",
    "\n",
    "RANDOM_STATE = 19"
   ]
  },
  {
   "cell_type": "code",
   "execution_count": 11,
   "metadata": {},
   "outputs": [],
   "source": [
    "tfidf_vectorizer = TfidfVectorizer(stop_words='english')"
   ]
  },
  {
   "cell_type": "code",
   "execution_count": 12,
   "metadata": {},
   "outputs": [],
   "source": [
    "X_train, X_test, y_train, y_test = train_test_split(\n",
    "    complaints_training_dataset['Complaint_text'],\n",
    "    complaints_training_dataset['Product'],\n",
    "    test_size=.2,\n",
    "    stratify=complaints_training_dataset['Product'],\n",
    "    random_state=RANDOM_STATE)"
   ]
  },
  {
   "cell_type": "code",
   "execution_count": 13,
   "metadata": {},
   "outputs": [
    {
     "data": {
      "text/plain": [
       "((16000,), (4000,), (16000,), (4000,))"
      ]
     },
     "execution_count": 13,
     "metadata": {},
     "output_type": "execute_result"
    }
   ],
   "source": [
    "X_train.shape, X_test.shape, y_train.shape, y_test.shape"
   ]
  },
  {
   "cell_type": "code",
   "execution_count": 14,
   "metadata": {},
   "outputs": [],
   "source": [
    "X_train_tfidf_vectorizer = tfidf_vectorizer.fit_transform(X_train)\n",
    "X_test_tfidf_vectorizer = tfidf_vectorizer.transform(X_test)"
   ]
  },
  {
   "cell_type": "code",
   "execution_count": 15,
   "metadata": {},
   "outputs": [
    {
     "data": {
      "text/plain": [
       "24253"
      ]
     },
     "execution_count": 15,
     "metadata": {},
     "output_type": "execute_result"
    }
   ],
   "source": [
    "len(tfidf_vectorizer.get_feature_names())"
   ]
  },
  {
   "cell_type": "code",
   "execution_count": 16,
   "metadata": {},
   "outputs": [
    {
     "data": {
      "text/plain": [
       "['00', '000', '0001', '001', '0010', '00109', '004', '00i', '01', '014']"
      ]
     },
     "execution_count": 16,
     "metadata": {},
     "output_type": "execute_result"
    }
   ],
   "source": [
    "tfidf_vectorizer.get_feature_names()[:10]"
   ]
  },
  {
   "cell_type": "code",
   "execution_count": 17,
   "metadata": {},
   "outputs": [
    {
     "data": {
      "text/plain": [
       "{'xxxx': 23870,\n",
       " 'account': 1264,\n",
       " 'listed': 12934,\n",
       " 'credit': 5847,\n",
       " 'report': 18089,\n",
       " 'experian': 8616,\n",
       " 'paid': 15420,\n",
       " 'closed': 4699,\n",
       " '2007': 316,\n",
       " 'like': 12884,\n",
       " 'removed': 17959,\n",
       " 'years': 24179,\n",
       " 'employer': 7949,\n",
       " 'submitted': 20596,\n",
       " 'incorrect': 11389,\n",
       " 'information': 11571,\n",
       " 'hsa': 10867,\n",
       " 'bank': 2995,\n",
       " 'subsidiary': 20629,\n",
       " 'webster': 23415,\n",
       " 'money': 14021,\n",
       " 'deducted': 6314,\n",
       " 'paycheck': 15611,\n",
       " '15': 141,\n",
       " 'days': 6155,\n",
       " 'hired': 10690,\n",
       " 'refusing': 17693,\n",
       " 'release': 17849,\n",
       " 'funds': 9757,\n",
       " 'corrected': 5640,\n",
       " 'requested': 18186,\n",
       " 'verifying': 23042,\n",
       " 'identity': 11020,\n",
       " 'social': 19889,\n",
       " 'security': 19170,\n",
       " 'number': 14713,\n",
       " 'began': 3183,\n",
       " 'disputing': 7212,\n",
       " 'items': 12217,\n",
       " 'bureaus': 3841,\n",
       " 'xx': 23868,\n",
       " 'sent': 19261,\n",
       " 'follow': 9343,\n",
       " 'letters': 12801,\n",
       " 'believe': 3227,\n",
       " 'public': 16890,\n",
       " 'records': 17518,\n",
       " 'reporting': 18098,\n",
       " 'accurately': 1326,\n",
       " 'compliance': 5057,\n",
       " 'fcra': 8951,\n",
       " 'fdcpa': 8960,\n",
       " 'received': 17384,\n",
       " 'didnt': 6848,\n",
       " 'say': 18958,\n",
       " 'company': 4974,\n",
       " 'transcription': 21852,\n",
       " 'voicemail': 23191,\n",
       " 'left': 12720,\n",
       " 'called': 3978,\n",
       " 'said': 18853,\n",
       " 'owe': 15378,\n",
       " '910': 1023,\n",
       " '00': 0,\n",
       " 'settle': 19356,\n",
       " '760': 920,\n",
       " 'prior': 16560,\n",
       " '2013': 327,\n",
       " 'exact': 8442,\n",
       " 'date': 6134,\n",
       " 'asked': 2470,\n",
       " 'documentation': 7374,\n",
       " 'recall': 17356,\n",
       " 'need': 14378,\n",
       " 'attorney': 2684,\n",
       " 'request': 18183,\n",
       " 'point': 16150,\n",
       " 'til': 21564,\n",
       " 'resolve': 18288,\n",
       " 'issue': 12186,\n",
       " 'transcript': 21851,\n",
       " 'calling': 3985,\n",
       " 'special': 20027,\n",
       " 'ending': 8010,\n",
       " '______': 1072,\n",
       " 'processing': 16622,\n",
       " 'division': 7329,\n",
       " 'location': 13023,\n",
       " 'services': 19330,\n",
       " 'trying': 22083,\n",
       " 'locate': 13019,\n",
       " 'formal': 9487,\n",
       " 'complaint': 5030,\n",
       " 'counts': 5744,\n",
       " 'raw': 17197,\n",
       " 'charges': 4386,\n",
       " 'currently': 6011,\n",
       " 'pending': 15727,\n",
       " 'advised': 1591,\n",
       " 'best': 3296,\n",
       " 'make': 13252,\n",
       " 'immediate': 11124,\n",
       " 'contact': 5414,\n",
       " '_________': 1074,\n",
       " 'senior': 19249,\n",
       " 'associates': 2547,\n",
       " 'legal': 12726,\n",
       " 'department': 6561,\n",
       " 'obtained': 14818,\n",
       " '______________': 1077,\n",
       " 'case': 4137,\n",
       " 'court': 5758,\n",
       " 'right': 18597,\n",
       " 'appointment': 2259,\n",
       " 'directly': 6936,\n",
       " '__': 1068,\n",
       " 'scheduled': 19018,\n",
       " 'local': 13016,\n",
       " '___________': 1075,\n",
       " 'residence': 18262,\n",
       " '____': 1070,\n",
       " 'seven': 19364,\n",
       " 'process': 16619,\n",
       " '_____': 1071,\n",
       " 'issues': 12192,\n",
       " 'standard': 20222,\n",
       " 'time': 21570,\n",
       " 'today': 21651,\n",
       " 'possibly': 16262,\n",
       " 'prevent': 16507,\n",
       " 'moving': 14153,\n",
       " 'forward': 9524,\n",
       " 'carry': 4127,\n",
       " 'supplies': 20803,\n",
       " 'extension': 8702,\n",
       " '_____________': 1076,\n",
       " 'final': 9120,\n",
       " 'notification': 14641,\n",
       " 'luck': 13152,\n",
       " 'traded': 21790,\n",
       " 'bitcoin': 3385,\n",
       " 'coinbase': 4777,\n",
       " 'did': 6842,\n",
       " 'transactions': 21840,\n",
       " 'month': 14056,\n",
       " 'suddenly': 20688,\n",
       " 'provide': 16838,\n",
       " 'ssn': 20169,\n",
       " 'action': 1411,\n",
       " 'sell': 19216,\n",
       " 'withdraw': 23644,\n",
       " 'allows': 1888,\n",
       " 'trade': 21789,\n",
       " 'beginning': 3190,\n",
       " 'usd': 22846,\n",
       " 'contacted': 5417,\n",
       " 'reply': 18077,\n",
       " 'submitting': 20597,\n",
       " 'agency': 1694,\n",
       " 'belong': 3245,\n",
       " 'uploading': 22795,\n",
       " 'letter': 12797,\n",
       " 'proof': 16758,\n",
       " 'fraud': 9576,\n",
       " 'deleted': 6450,\n",
       " 'does': 7395,\n",
       " 'numerous': 14726,\n",
       " 'disputes': 7210,\n",
       " 'situation': 19705,\n",
       " 'rectified': 17546,\n",
       " 'score': 19053,\n",
       " 'lower': 13127,\n",
       " 'accounts': 1285,\n",
       " 'shouldnt': 19524,\n",
       " 'bought': 3612,\n",
       " 'phone': 15934,\n",
       " '2017': 349,\n",
       " 'excited': 8502,\n",
       " 'new': 14466,\n",
       " 'advertised': 1578,\n",
       " 'plethora': 16090,\n",
       " 'amazing': 1939,\n",
       " 'features': 8979,\n",
       " 'including': 11339,\n",
       " 'camera': 4003,\n",
       " 'market': 13362,\n",
       " 'unlimited': 22564,\n",
       " 'photo': 15942,\n",
       " 'memory': 13561,\n",
       " 'addition': 1461,\n",
       " 'line': 12904,\n",
       " 'included': 11337,\n",
       " 'leasing': 12706,\n",
       " 'feature': 8978,\n",
       " 'true': 22045,\n",
       " 'synchrony': 20983,\n",
       " 'approved': 2300,\n",
       " 'immediately': 11127,\n",
       " 'pay': 15605,\n",
       " 'apr': 2315,\n",
       " 'turned': 22119,\n",
       " 'good': 10030,\n",
       " 'product': 16649,\n",
       " 'near': 14357,\n",
       " 'got': 10050,\n",
       " 'receive': 17383,\n",
       " 'text': 21285,\n",
       " 'messages': 13619,\n",
       " 'calls': 3991,\n",
       " 'half': 10304,\n",
       " 'help': 10584,\n",
       " '30': 492,\n",
       " 'given': 9967,\n",
       " 'complete': 5039,\n",
       " 'run': 18794,\n",
       " 'return': 18472,\n",
       " 'service': 19321,\n",
       " 'center': 4263,\n",
       " 'remote': 17952,\n",
       " 'sole': 19911,\n",
       " 'purpose': 16958,\n",
       " 'deny': 6548,\n",
       " 'customer': 6045,\n",
       " 'refunds': 17682,\n",
       " 'getting': 9936,\n",
       " 'faulty': 8918,\n",
       " 'products': 16653,\n",
       " 'day': 6150,\n",
       " 'warranty': 23330,\n",
       " 'suffer': 20694,\n",
       " '700': 884,\n",
       " 'loss': 13104,\n",
       " 'refurbished': 17683,\n",
       " 'replacement': 18063,\n",
       " 'supposed': 20819,\n",
       " 'working': 23731,\n",
       " 'regards': 17707,\n",
       " 'false': 8838,\n",
       " 'advertising': 1583,\n",
       " 'providing': 16845,\n",
       " 'decent': 6256,\n",
       " 'hopes': 10793,\n",
       " 'protect': 16810,\n",
       " 'refund': 17678,\n",
       " 'fraudulent': 9602,\n",
       " 'file': 9096,\n",
       " 'claims': 4611,\n",
       " 'hours': 10843,\n",
       " 'customers': 6049,\n",
       " 'claim': 4601,\n",
       " 'filed': 9097,\n",
       " 'returned': 18474,\n",
       " '60': 798,\n",
       " 'paper': 15469,\n",
       " 'mail': 13219,\n",
       " 'mind': 13722,\n",
       " 'life': 12866,\n",
       " 'sit': 19692,\n",
       " 'wait': 23263,\n",
       " 'moved': 14143,\n",
       " 'accept': 1203,\n",
       " 'policy': 16166,\n",
       " 'waited': 23265,\n",
       " 'hear': 10534,\n",
       " 'thing': 21433,\n",
       " 'told': 21666,\n",
       " 'activity': 1427,\n",
       " 'months': 14059,\n",
       " 'broken': 3732,\n",
       " 'important': 11207,\n",
       " 'texts': 21290,\n",
       " 'tried': 21999,\n",
       " 'troubleshoot': 22031,\n",
       " 'work': 23718,\n",
       " 'want': 23303,\n",
       " 'know': 12483,\n",
       " 'protecting': 16813,\n",
       " 'relaxed': 17842,\n",
       " 'approach': 2282,\n",
       " 'completely': 5047,\n",
       " 'scammed': 18976,\n",
       " 'america': 1969,\n",
       " 'biggest': 3335,\n",
       " 'retailers': 18416,\n",
       " 'recorded': 17513,\n",
       " 'answers': 2135,\n",
       " 'kept': 12414,\n",
       " 'contractual': 5487,\n",
       " 'agreements': 1747,\n",
       " 'contractually': 5488,\n",
       " 'agree': 1741,\n",
       " 'buy': 3904,\n",
       " 'share': 19418,\n",
       " 'purchased': 16934,\n",
       " 'buyer': 3907,\n",
       " 'ready': 17240,\n",
       " 'contract': 5481,\n",
       " '2015': 329,\n",
       " 'read': 17225,\n",
       " 'send': 19240,\n",
       " 'commission': 4922,\n",
       " 'fully': 9739,\n",
       " 'refunded': 17680,\n",
       " 'title': 21616,\n",
       " 'fees': 9006,\n",
       " 'holding': 10728,\n",
       " 'escrow': 8291,\n",
       " 'promises': 16724,\n",
       " 'able': 1127,\n",
       " 'weeks': 23432,\n",
       " 'navient': 14316,\n",
       " 'ignored': 11055,\n",
       " 'failed': 8805,\n",
       " 'respond': 18322,\n",
       " 'multiple': 14195,\n",
       " 'requests': 18192,\n",
       " 'ibr': 10965,\n",
       " 'income': 11343,\n",
       " 'reevaluation': 17620,\n",
       " 'changed': 4349,\n",
       " 'jobs': 12308,\n",
       " 'decreased': 6295,\n",
       " 'dramatically': 7516,\n",
       " 'form': 9486,\n",
       " 'submissions': 20590,\n",
       " 'fax': 8929,\n",
       " 'online': 15008,\n",
       " 'website': 23413,\n",
       " 'forms': 9500,\n",
       " 'copy': 5610,\n",
       " 'documenting': 7378,\n",
       " 'hourly': 10842,\n",
       " 'wage': 23255,\n",
       " 'afford': 1646,\n",
       " 'asking': 2473,\n",
       " '2016': 345,\n",
       " 'went': 23457,\n",
       " 'tx': 22148,\n",
       " 'used': 22859,\n",
       " 'western': 23474,\n",
       " 'union': 22515,\n",
       " 'terminal': 21238,\n",
       " 'transfer': 21859,\n",
       " 'sum': 20726,\n",
       " '120': 93,\n",
       " 'mtcn': 14171,\n",
       " 'tracking': 21784,\n",
       " 'came': 4002,\n",
       " 'transaction': 21837,\n",
       " 'recipient': 17438,\n",
       " 'id': 10988,\n",
       " 'sure': 20844,\n",
       " 'agent': 1702,\n",
       " 'suggested': 20710,\n",
       " 'test': 21268,\n",
       " 'question': 17055,\n",
       " 'answer': 2129,\n",
       " 'suffice': 20701,\n",
       " 'provided': 16839,\n",
       " 'plus': 16113,\n",
       " 'later': 12606,\n",
       " 'informed': 11583,\n",
       " 'refused': 17691,\n",
       " 'expired': 8635,\n",
       " 'denied': 6528,\n",
       " 'use': 22857,\n",
       " 'wanted': 23304,\n",
       " 'individual': 11486,\n",
       " 'valid': 22924,\n",
       " 'entertain': 8124,\n",
       " 'stating': 20273,\n",
       " 'home': 10746,\n",
       " 'telephone': 21179,\n",
       " 'spoke': 20101,\n",
       " 'stated': 20259,\n",
       " 'let': 12791,\n",
       " 'change': 4348,\n",
       " 'fee': 8992,\n",
       " 'offer': 14891,\n",
       " 'minutes': 13771,\n",
       " 'speaking': 20024,\n",
       " 'different': 6869,\n",
       " 'individuals': 11490,\n",
       " 'mailed': 13223,\n",
       " 'address': 1474,\n",
       " 'just': 12384,\n",
       " 'ago': 1734,\n",
       " 'inquired': 11702,\n",
       " 'status': 20288,\n",
       " 'representative': 18128,\n",
       " 'fault': 8916,\n",
       " 'mentioned': 13574,\n",
       " 'lieu': 12865,\n",
       " 'international': 11943,\n",
       " 'recipients': 17440,\n",
       " 'initial': 11632,\n",
       " 'requesting': 18189,\n",
       " 'victim': 23087,\n",
       " 'theft': 21340,\n",
       " 'result': 18401,\n",
       " 'inquiries': 11708,\n",
       " 'knowledge': 12489,\n",
       " 'consent': 5300,\n",
       " 'transunion': 21921,\n",
       " 'supporting': 20813,\n",
       " 'documents': 7380,\n",
       " 'ignoring': 11058,\n",
       " 'clearly': 4658,\n",
       " 'frustrating': 9701,\n",
       " 'disappointing': 6975,\n",
       " 'remove': 17957,\n",
       " 'inaccurate': 11271,\n",
       " 'attaching': 2629,\n",
       " 'citibank': 4568,\n",
       " 'took': 21688,\n",
       " '170': 224,\n",
       " 'checking': 4437,\n",
       " 'order': 15118,\n",
       " 'maximize': 13440,\n",
       " 'processed': 16620,\n",
       " 'larger': 12585,\n",
       " 'smaller': 19823,\n",
       " 'caused': 4194,\n",
       " 'overdrafted': 15292,\n",
       " 'engaging': 8049,\n",
       " 'unfair': 22447,\n",
       " 'business': 3878,\n",
       " 'practices': 16322,\n",
       " 'overdraft': 15291,\n",
       " 'validate': 22925,\n",
       " 'debt': 6224,\n",
       " 'creditors': 5857,\n",
       " 'evidence': 8421,\n",
       " 'companies': 4971,\n",
       " 'stayed': 20306,\n",
       " 'second': 19136,\n",
       " 'movement': 14146,\n",
       " 'validated': 22926,\n",
       " 'crazy': 5819,\n",
       " 'equitable': 8223,\n",
       " 'conclusion': 5152,\n",
       " 'physically': 15960,\n",
       " 'pioneer': 16004,\n",
       " 'recovery': 17533,\n",
       " 'garnishment': 9850,\n",
       " 'driven': 7550,\n",
       " 'repayment': 18036,\n",
       " 'plan': 16040,\n",
       " 'according': 1254,\n",
       " 'law': 12629,\n",
       " 'family': 8860,\n",
       " 'extreme': 8738,\n",
       " 'economic': 7725,\n",
       " 'hardship': 10406,\n",
       " 'rent': 17989,\n",
       " 'food': 9359,\n",
       " 'table': 21003,\n",
       " 'living': 12978,\n",
       " 'present': 16456,\n",
       " '11': 75,\n",
       " 'capital': 4056,\n",
       " 'indicating': 11461,\n",
       " 'suspected': 20891,\n",
       " 'talked': 21045,\n",
       " 'promissed': 16729,\n",
       " 'doing': 7404,\n",
       " 'investigation': 12068,\n",
       " 'states': 20266,\n",
       " 'concluded': 5149,\n",
       " 'responsible': 18348,\n",
       " '4000': 611,\n",
       " 'tryied': 22081,\n",
       " 'associate': 2545,\n",
       " 'assigned': 2522,\n",
       " 'times': 21583,\n",
       " 'reach': 17210,\n",
       " 'resolution': 18285,\n",
       " 'try': 22079,\n",
       " 'speak': 20021,\n",
       " 'referring': 17637,\n",
       " 'person': 15849,\n",
       " 'care': 4101,\n",
       " 'assist': 2533,\n",
       " 'police': 16161,\n",
       " 'validation': 22929,\n",
       " 'delinquency': 6468,\n",
       " 'itemized': 12214,\n",
       " 'erc': 8241,\n",
       " 'recieved': 17430,\n",
       " 'original': 15157,\n",
       " 'creditor': 5856,\n",
       " 'continuing': 5472,\n",
       " 'cra': 5800,\n",
       " 'owed': 15379,\n",
       " 'wells': 23449,\n",
       " 'fargo': 8880,\n",
       " 'withdrew': 23655,\n",
       " 'charge': 4376,\n",
       " 'thought': 21469,\n",
       " 'opened': 15043,\n",
       " 'regular': 17736,\n",
       " 'pnc': 16128,\n",
       " 'deposit': 6596,\n",
       " '2000': 307,\n",
       " 'occurred': 14851,\n",
       " 'saturday': 18942,\n",
       " 'unable': 22228,\n",
       " 'access': 1211,\n",
       " 'support': 20808,\n",
       " 'monday': 14013,\n",
       " 'signature': 19602,\n",
       " 'card': 4088,\n",
       " 'piece': 15979,\n",
       " 'sign': 19592,\n",
       " 'note': 14621,\n",
       " 'far': 8876,\n",
       " 'tell': 21187,\n",
       " 'method': 13634,\n",
       " 'payment': 15632,\n",
       " 'solely': 19912,\n",
       " 'contain': 5423,\n",
       " 'verify': 23040,\n",
       " 'driver': 7551,\n",
       " 'license': 12848,\n",
       " 'reason': 17303,\n",
       " 'physical': 15959,\n",
       " 'necessary': 14369,\n",
       " 'takes': 21038,\n",
       " 'close': 4698,\n",
       " 'issuing': 12195,\n",
       " 'impossible': 11222,\n",
       " 'violation': 23137,\n",
       " 'fdic': 8964,\n",
       " 'laws': 12641,\n",
       " '5000': 710,\n",
       " 'meaning': 13478,\n",
       " 'reasonable': 17304,\n",
       " 'expectation': 8592,\n",
       " 'hold': 10725,\n",
       " 'period': 15781,\n",
       " 'cryptocurrencies': 5947,\n",
       " 'purchase': 16933,\n",
       " 'etherium': 8343,\n",
       " 'dollars': 7411,\n",
       " 'sold': 19908,\n",
       " '180': 237,\n",
       " 'stagnant': 20195,\n",
       " 'withdrawal': 23645,\n",
       " 'debit': 6217,\n",
       " 'taken': 21034,\n",
       " 'research': 18228,\n",
       " 'uncommon': 22307,\n",
       " 'problem': 16598,\n",
       " 'occurs': 14855,\n",
       " 'coarse': 4742,\n",
       " 'attempted': 2650,\n",
       " 'equipment': 8218,\n",
       " 'receiving': 17393,\n",
       " 'invoice': 12091,\n",
       " 'alleged': 1852,\n",
       " 'completed': 5040,\n",
       " 'wire': 23619,\n",
       " 'subsequently': 20624,\n",
       " 'site': 19693,\n",
       " 'scam': 18974,\n",
       " 'chase': 4400,\n",
       " 'identified': 11008,\n",
       " 'complicated': 5063,\n",
       " 'refuses': 17692,\n",
       " 'harmless': 10420,\n",
       " 'document': 7371,\n",
       " 'supplied': 20800,\n",
       " 'notarized': 14611,\n",
       " 'understanding': 22378,\n",
       " 'frozen': 9684,\n",
       " 'assets': 2517,\n",
       " 'longer': 13069,\n",
       " 'bigger': 3334,\n",
       " 'cause': 4193,\n",
       " 'overdrawn': 15300,\n",
       " 'applies': 2251,\n",
       " 'charging': 4387,\n",
       " 'consumer': 5397,\n",
       " 'happened': 10376,\n",
       " 'yesterday': 24192,\n",
       " 'servicing': 19334,\n",
       " 'son': 19950,\n",
       " 'student': 20533,\n",
       " 'loans': 13009,\n",
       " 'variable': 22958,\n",
       " '75': 914,\n",
       " '25': 429,\n",
       " 'sending': 19245,\n",
       " 'payments': 15634,\n",
       " 'specific': 20035,\n",
       " 'loan': 13001,\n",
       " 'numbers': 14719,\n",
       " 'higher': 10652,\n",
       " 'rate': 17175,\n",
       " 'earlier': 7668,\n",
       " 'posting': 16274,\n",
       " 'proportionately': 16781,\n",
       " 'outstanding': 15265,\n",
       " 'balance': 2960,\n",
       " 'causing': 4197,\n",
       " 'accrued': 1304,\n",
       " 'portion': 16224,\n",
       " 'total': 21727,\n",
       " 'abusive': 1182,\n",
       " 'reducing': 17599,\n",
       " 'accordingly': 1255,\n",
       " 'collection': 4825,\n",
       " 'claiming': 4609,\n",
       " '560': 763,\n",
       " 'fro': 9663,\n",
       " 'nj': 14520,\n",
       " 've': 22979,\n",
       " 'lived': 12971,\n",
       " 'delaware': 6438,\n",
       " 'past': 15565,\n",
       " '18': 236,\n",
       " 'copies': 5603,\n",
       " 'application': 2247,\n",
       " 'recordings': 17517,\n",
       " 'regarding': 17705,\n",
       " 'tax': 21102,\n",
       " 'returns': 18476,\n",
       " 'open': 15041,\n",
       " 'continually': 5464,\n",
       " 'don': 7429,\n",
       " 'woman': 23698,\n",
       " 'nasty': 14294,\n",
       " 'job': 12305,\n",
       " 'burden': 3827,\n",
       " 'prove': 16833,\n",
       " 'isn': 12176,\n",
       " 'dos': 7449,\n",
       " 'dates': 6140,\n",
       " 'busy': 3890,\n",
       " 'schedule': 19017,\n",
       " 'fix': 9214,\n",
       " 'mistakes': 13915,\n",
       " 'national': 14298,\n",
       " 'owes': 15383,\n",
       " '000': 1,\n",
       " 'unpaid': 22599,\n",
       " 'disputed': 7205,\n",
       " 'despite': 6714,\n",
       " 'doesn': 7396,\n",
       " 'start': 20242,\n",
       " 'morning': 14084,\n",
       " 'initiated': 11639,\n",
       " 'inquire': 11701,\n",
       " 'end': 8002,\n",
       " 'inquiry': 11712,\n",
       " 'jp': 12331,\n",
       " 'morgan': 14080,\n",
       " 'wires': 23623,\n",
       " 'week': 23425,\n",
       " 'gave': 9872,\n",
       " 'writing': 23802,\n",
       " 'confirming': 5224,\n",
       " 'confirm': 5219,\n",
       " 'says': 18962,\n",
       " 'investigating': 12067,\n",
       " 'maybe': 13445,\n",
       " 'message': 13616,\n",
       " 'format': 9491,\n",
       " 'making': 13258,\n",
       " 'transfers': 21874,\n",
       " 'supply': 20805,\n",
       " 'member': 13546,\n",
       " 'standing': 20224,\n",
       " 'bow': 3624,\n",
       " 'thank': 21303,\n",
       " 'advance': 1562,\n",
       " 'sincerely': 19664,\n",
       " 'hello': 10581,\n",
       " 'express': 8678,\n",
       " 'concern': 5134,\n",
       " 'forgiveness': 9470,\n",
       " 'program': 16686,\n",
       " 'qualified': 17020,\n",
       " 'district': 7292,\n",
       " 'signed': 19607,\n",
       " '17000': 226,\n",
       " '20': 305,\n",
       " 'upset': 22805,\n",
       " 'matter': 13425,\n",
       " 'struggled': 20516,\n",
       " 'needed': 14379,\n",
       " 'place': 16026,\n",
       " 'forbearance': 9389,\n",
       " 'deferment': 6370,\n",
       " 'quite': 17081,\n",
       " 'bankruptcy': 3021,\n",
       " '2014': 328,\n",
       " 'track': 21780,\n",
       " 'greatly': 10153,\n",
       " 'appreciate': 2271,\n",
       " 'thanks': 21308,\n",
       " 'harassing': 10393,\n",
       " 'signer': 19610,\n",
       " 'forcing': 9410,\n",
       " 'appear': 2224,\n",
       " 'delinquent': 6472,\n",
       " 'offered': 14893,\n",
       " 'whatsoever': 23494,\n",
       " 'exhausted': 8553,\n",
       " 'options': 15105,\n",
       " 'unemployment': 22424,\n",
       " 'current': 6009,\n",
       " 'approximately': 2306,\n",
       " '300': 493,\n",
       " 'cosigner': 5681,\n",
       " 'appliances': 2242,\n",
       " 'store': 20421,\n",
       " 'delivery': 6486,\n",
       " 'produced': 16645,\n",
       " 'manager': 13288,\n",
       " '12': 92,\n",
       " 'cash': 4147,\n",
       " 'applied': 2250,\n",
       " 'agreed': 1743,\n",
       " 'enter': 8118,\n",
       " 'technical': 21142,\n",
       " 'difficulty': 6883,\n",
       " '4700': 676,\n",
       " 'statement': 20262,\n",
       " '45': 655,\n",
       " 'toll': 21676,\n",
       " 'free': 9616,\n",
       " 'receipt': 17376,\n",
       " 'long': 13067,\n",
       " 'fine': 9149,\n",
       " 'statements': 20265,\n",
       " 'bills': 3362,\n",
       " 'notices': 14635,\n",
       " 'farm': 8886,\n",
       " 'ran': 17146,\n",
       " 'history': 10703,\n",
       " '5900': 780,\n",
       " 'dated': 6135,\n",
       " 'delete': 6449,\n",
       " 'derogatory': 6652,\n",
       " 'reports': 18102,\n",
       " 'fed': 8980,\n",
       " 'cd': 4233,\n",
       " 'barclays': 3041,\n",
       " 'funded': 9754,\n",
       " 'placed': 16027,\n",
       " 'facts': 8793,\n",
       " 'emails': 7890,\n",
       " 'reached': 17213,\n",
       " 'maturity': 13434,\n",
       " 'allowed': 1885,\n",
       " 'allowing': 1887,\n",
       " 'saying': 18961,\n",
       " 'verified': 23035,\n",
       " 'deposits': 6607,\n",
       " 'actually': 1436,\n",
       " 'recieve': 17429,\n",
       " 'resulting': 18403,\n",
       " 'link': 12913,\n",
       " 'external': 8712,\n",
       " 'acces': 1209,\n",
       " 'using': 22875,\n",
       " 'borrowed': 3590,\n",
       " 'owned': 15385,\n",
       " 'illigal': 11085,\n",
       " 'recently': 17398,\n",
       " 'safety': 18847,\n",
       " 'box': 3626,\n",
       " '32': 527,\n",
       " 'discovered': 7062,\n",
       " 'issued': 12187,\n",
       " 'acquired': 1388,\n",
       " 'office': 14901,\n",
       " 'showed': 19530,\n",
       " 'record': 17511,\n",
       " 'having': 10490,\n",
       " 'library': 12842,\n",
       " 'checked': 4432,\n",
       " 'abandoned': 1111,\n",
       " 'illinois': 11087,\n",
       " 'secretary': 19144,\n",
       " 'treasurey': 21965,\n",
       " 'cfpb': 4310,\n",
       " 'complain': 5019,\n",
       " 'private': 16572,\n",
       " 'originally': 15159,\n",
       " 'missed': 13894,\n",
       " 'required': 18196,\n",
       " 'paying': 15627,\n",
       " 'starting': 20248,\n",
       " '2009': 318,\n",
       " 'graduated': 10094,\n",
       " 'little': 12968,\n",
       " '200': 306,\n",
       " 'principal': 16544,\n",
       " '15000': 144,\n",
       " '91': 1022,\n",
       " 'missing': 13896,\n",
       " '18000': 239,\n",
       " 'roughly': 18732,\n",
       " '13000': 112,\n",
       " 'ridiculous': 18587,\n",
       " 'considered': 5321,\n",
       " 'crime': 5886,\n",
       " 'understand': 22375,\n",
       " 'works': 23737,\n",
       " 'really': 17269,\n",
       " 'ask': 2468,\n",
       " 'utilities': 22892,\n",
       " 'primary': 16538,\n",
       " 'systems': 20994,\n",
       " 'useless': 22863,\n",
       " 'require': 18195,\n",
       " 'utility': 22893,\n",
       " 'energy': 8032,\n",
       " 'additional': 1462,\n",
       " 'power': 16300,\n",
       " 'warning': 23322,\n",
       " 'consistently': 5338,\n",
       " 'coming': 4886,\n",
       " 'previous': 16518,\n",
       " 'positive': 16244,\n",
       " 'drastic': 7517,\n",
       " 'difference': 6867,\n",
       " 'bringing': 3716,\n",
       " 'challenge': 4336,\n",
       " 'email': 7885,\n",
       " 'duplicate': 7623,\n",
       " 'solutions': 19930,\n",
       " 'executive': 8530,\n",
       " 'remediation': 17916,\n",
       " 'analyst': 2026,\n",
       " 'lost': 13107,\n",
       " 'stolen': 20396,\n",
       " 'exec': 8522,\n",
       " 'electronic': 7838,\n",
       " 'branch': 3650,\n",
       " 'consider': 5315,\n",
       " 'propietary': 16777,\n",
       " 'material': 13410,\n",
       " 'available': 2812,\n",
       " 'review': 18520,\n",
       " 'lies': 12864,\n",
       " 'created': 5828,\n",
       " 'explanation': 8647,\n",
       " 'unauthorized': 22261,\n",
       " 'civil': 4592,\n",
       " 'stepson': 20348,\n",
       " 'married': 13376,\n",
       " '28': 453,\n",
       " 'wellsfargo': 23451,\n",
       " 'electronically': 7839,\n",
       " 'authorized': 2755,\n",
       " 'specially': 20033,\n",
       " 'possetion': 16256,\n",
       " 'cards': 4098,\n",
       " 'aware': 2859,\n",
       " 'considerin': 5323,\n",
       " 'filing': 9104,\n",
       " 'lawsuit': 12644,\n",
       " 'justice': 12385,\n",
       " 'dept': 6625,\n",
       " 'ftc': 9716,\n",
       " '3200': 529,\n",
       " '100': 28,\n",
       " 'pmnt': 16123,\n",
       " 'posted': 16269,\n",
       " '35': 554,\n",
       " '5days': 786,\n",
       " 'summary': 20735,\n",
       " '500': 709,\n",
       " '96': 1044,\n",
       " '3800': 578,\n",
       " '29': 462,\n",
       " 'added': 1454,\n",
       " 'thet': 21403,\n",
       " 'pohe': 16148,\n",
       " 'reverse': 18509,\n",
       " '7500': 916,\n",
       " 'dont': 7437,\n",
       " 'ost': 15194,\n",
       " 'mortgage': 14094,\n",
       " 'refi': 17645,\n",
       " 'looking': 13081,\n",
       " 'whent': 23504,\n",
       " 'accolunt': 1231,\n",
       " 'habve': 10284,\n",
       " 'explaining': 8644,\n",
       " 'acct': 1308,\n",
       " 'create': 5827,\n",
       " 'terms': 21251,\n",
       " 'agreement': 1746,\n",
       " 'governing': 10064,\n",
       " 'paypal': 15654,\n",
       " 'username': 22866,\n",
       " 'payer': 15623,\n",
       " 'single': 19676,\n",
       " 'beneficial': 3261,\n",
       " 'owner': 15386,\n",
       " 'inadvertently': 11290,\n",
       " 'upgraded': 22785,\n",
       " 'documented': 7377,\n",
       " 'occasions': 14833,\n",
       " 'downgrade': 7472,\n",
       " 'simple': 19650,\n",
       " 'personal': 15852,\n",
       " 'limited': 12898,\n",
       " 'communications': 4952,\n",
       " 'spent': 20071,\n",
       " 'representatives': 18129,\n",
       " 'explained': 8641,\n",
       " 'lingering': 12911,\n",
       " 'ongoing': 15004,\n",
       " 'emp': 7931,\n",
       " 'indicated': 11459,\n",
       " 'ticket': 21545,\n",
       " 'allow': 1880,\n",
       " '24': 415,\n",
       " 'contacting': 5418,\n",
       " 'audit': 2714,\n",
       " 'risk': 18627,\n",
       " 'arc': 2347,\n",
       " 'committee': 4935,\n",
       " 'board': 3504,\n",
       " 'financial': 9136,\n",
       " 'protection': 16814,\n",
       " 'bureau': 3835,\n",
       " 'unfortunately': 22472,\n",
       " 'confirmation': 5220,\n",
       " 'communication': 4950,\n",
       " 'opposed': 15081,\n",
       " 'taking': 21041,\n",
       " 'steps': 20347,\n",
       " 'bring': 3715,\n",
       " 'attention': 2666,\n",
       " 'media': 13505,\n",
       " 'congressional': 5260,\n",
       " 'representation': 18126,\n",
       " 'california': 3971,\n",
       " 'state': 20258,\n",
       " 'general': 9894,\n",
       " 'federal': 8981,\n",
       " 'reserve': 18250,\n",
       " 'frb': 9609,\n",
       " 'securities': 19167,\n",
       " 'exchanges': 8496,\n",
       " 'sec': 19135,\n",
       " 'checks': 4447,\n",
       " 'deposited': 6599,\n",
       " 'cashed': 4151,\n",
       " 'written': 23807,\n",
       " 'suntrust': 20757,\n",
       " 'beneficiary': 3263,\n",
       " 'arrived': 2423,\n",
       " 'credited': 5852,\n",
       " 'various': 22968,\n",
       " 'traces': 21778,\n",
       " 'banking': 3009,\n",
       " 'incident': 11324,\n",
       " 'happen': 10374,\n",
       " 'wiring': 23627,\n",
       " 'closing': 4707,\n",
       " '8000': 949,\n",
       " 'property': 16776,\n",
       " 'prepared': 16430,\n",
       " 'waiting': 23267,\n",
       " 'fund': 9751,\n",
       " 'lady': 12543,\n",
       " 'xxxxxxxx': 24129,\n",
       " 'cancel': 4016,\n",
       " 'stop': 20410,\n",
       " 'transition': 21887,\n",
       " 'nv': 14743,\n",
       " 'expected': 8594,\n",
       " 'going': 10021,\n",
       " 'stopped': 20416,\n",
       " 'perform': 15768,\n",
       " '48': 681,\n",
       " 'instructed': 11816,\n",
       " 'ref': 17621,\n",
       " 'forth': 9511,\n",
       " 'talk': 21044,\n",
       " 'direct': 6928,\n",
       " 'check': 4427,\n",
       " 'frustrated': 9700,\n",
       " 'desperately': 6708,\n",
       " 'response': 18337,\n",
       " 'indicate': 11458,\n",
       " 'benefit': 3266,\n",
       " 'assessed': 2508,\n",
       " 'attempt': 2649,\n",
       " 'guaranteed': 10221,\n",
       " 'initiator': 11644,\n",
       " 'attempts': 2652,\n",
       " 'approval': 2297,\n",
       " ...}"
      ]
     },
     "execution_count": 17,
     "metadata": {},
     "output_type": "execute_result"
    }
   ],
   "source": [
    "tfidf_vectorizer.vocabulary_"
   ]
  },
  {
   "cell_type": "code",
   "execution_count": 18,
   "metadata": {},
   "outputs": [
    {
     "data": {
      "text/plain": [
       "((16000, 24253), (4000, 24253))"
      ]
     },
     "execution_count": 18,
     "metadata": {},
     "output_type": "execute_result"
    }
   ],
   "source": [
    "X_train_tfidf_vectorizer.shape, X_test_tfidf_vectorizer.shape"
   ]
  },
  {
   "cell_type": "code",
   "execution_count": 19,
   "metadata": {},
   "outputs": [],
   "source": [
    "X_train_array = X_train_tfidf_vectorizer.toarray()"
   ]
  },
  {
   "cell_type": "code",
   "execution_count": 20,
   "metadata": {},
   "outputs": [
    {
     "data": {
      "text/plain": [
       "(16000, 24253)"
      ]
     },
     "execution_count": 20,
     "metadata": {},
     "output_type": "execute_result"
    }
   ],
   "source": [
    "X_train_array.shape"
   ]
  },
  {
   "cell_type": "code",
   "execution_count": 21,
   "metadata": {},
   "outputs": [],
   "source": [
    "def raw_text_to_vocab(text_index):\n",
    "    print(X_train.iloc[text_index])\n",
    "    for index, exists in enumerate(X_train_array[text_index]):\n",
    "        if exists:\n",
    "            print(index, '->', tfidf_vectorizer.get_feature_names()[index], exists)"
   ]
  },
  {
   "cell_type": "code",
   "execution_count": 22,
   "metadata": {},
   "outputs": [
    {
     "name": "stdout",
     "output_type": "stream",
     "text": [
      "XXXX account listed on my credit report with Experian and XXXX has been paid and closed since XXXX 2007. I would like this account removed from my credit report as it has been over 7 years.\n",
      "316 -> 2007 0.5053025674114882\n",
      "1264 -> account 0.23714799081376592\n",
      "4699 -> closed 0.24369816873494327\n",
      "5847 -> credit 0.2711659299396489\n",
      "8616 -> experian 0.3251534568496874\n",
      "12884 -> like 0.21548411669064685\n",
      "12934 -> listed 0.2878745483554451\n",
      "15420 -> paid 0.20196458765216904\n",
      "17959 -> removed 0.24191434462896622\n",
      "18089 -> report 0.3388974107843852\n",
      "23870 -> xxxx 0.252468558431063\n",
      "24179 -> years 0.20634045493324743\n"
     ]
    }
   ],
   "source": [
    "raw_text_to_vocab(0)"
   ]
  },
  {
   "cell_type": "code",
   "execution_count": 54,
   "metadata": {},
   "outputs": [
    {
     "name": "stdout",
     "output_type": "stream",
     "text": [
      "\n",
      "==> Credit reporting, repair, or other:\n",
      "  * Most Correlated Unigrams are: remove, bureaus, inquiry, inquiries, reporting, transunion, experian, credit, report, equifax\n",
      "\n",
      "==> Debt collection:\n",
      "  * Most Correlated Unigrams are: collections, calling, company, collector, recovery, owe, validation, collect, collection, debt\n",
      "\n",
      "==> Student loan:\n",
      "  * Most Correlated Unigrams are: plan, payment, forbearance, school, repayment, payments, student, loan, loans, navient\n",
      "\n",
      "==> Money transfer, virtual currency, or money service:\n",
      "  * Most Correlated Unigrams are: moneygram, funds, support, transaction, western, wire, money, transfer, paypal, coinbase\n",
      "\n",
      "==> Bank account or service:\n",
      "  * Most Correlated Unigrams are: atm, america, fees, deposit, bonus, branch, check, checking, overdraft, bank\n"
     ]
    }
   ],
   "source": [
    "from sklearn.feature_selection import chi2\n",
    "import numpy as np\n",
    "\n",
    "N = 10\n",
    "for product in complaints_training_dataset['Product'].unique():\n",
    "  features_chi2 = chi2(X_train_tfidf_vectorizer, y_train == product)\n",
    "  indices = np.argsort(features_chi2[0])\n",
    "  feature_names = np.array(tfidf_vectorizer.get_feature_names())[indices]\n",
    "  unigrams = [v for v in feature_names if len(v.split(' ')) == 1]\n",
    "  bigrams = [v for v in feature_names if len(v.split(' ')) == 2]\n",
    "  print(\"\\n==> %s:\" %(product))\n",
    "  print(\"  * Most Correlated Unigrams are: %s\" %(', '.join(unigrams[-N:])))"
   ]
  },
  {
   "cell_type": "markdown",
   "metadata": {},
   "source": [
    "### Machine Learning Algorithm: Logistic Regression"
   ]
  },
  {
   "cell_type": "code",
   "execution_count": 23,
   "metadata": {},
   "outputs": [],
   "source": [
    "from sklearn.linear_model import LogisticRegression"
   ]
  },
  {
   "cell_type": "code",
   "execution_count": 24,
   "metadata": {},
   "outputs": [],
   "source": [
    "lr = LogisticRegression(penalty='none', max_iter=5000, random_state=RANDOM_STATE)"
   ]
  },
  {
   "cell_type": "markdown",
   "metadata": {},
   "source": [
    "### Modeling"
   ]
  },
  {
   "cell_type": "code",
   "execution_count": 25,
   "metadata": {},
   "outputs": [
    {
     "name": "stdout",
     "output_type": "stream",
     "text": [
      "26.5 s ± 206 ms per loop (mean ± std. dev. of 7 runs, 1 loop each)\n"
     ]
    }
   ],
   "source": [
    "%%timeit\n",
    "\n",
    "lr.fit(X_train_tfidf_vectorizer, y_train)"
   ]
  },
  {
   "cell_type": "code",
   "execution_count": 39,
   "metadata": {},
   "outputs": [
    {
     "data": {
      "text/plain": [
       "array(['Bank account or service', 'Credit reporting, repair, or other',\n",
       "       'Debt collection',\n",
       "       'Money transfer, virtual currency, or money service',\n",
       "       'Student loan'], dtype=object)"
      ]
     },
     "execution_count": 39,
     "metadata": {},
     "output_type": "execute_result"
    }
   ],
   "source": [
    "lr.classes_"
   ]
  },
  {
   "cell_type": "code",
   "execution_count": 40,
   "metadata": {},
   "outputs": [
    {
     "data": {
      "text/plain": [
       "array([[  4.45527964,  11.71320653,  -0.57958248, ...,  -0.36313706,\n",
       "         -0.55065392,  -0.66473836],\n",
       "       [-53.75923819,  13.67907964,  -1.01580707, ...,  10.51522669,\n",
       "         -0.47902942,  -0.78670433],\n",
       "       [ 19.22036409,  21.97705394,  -6.01933863, ...,  -9.72853609,\n",
       "          2.08523391, -58.43707307],\n",
       "       [ 10.17163661,   5.96736674,  -0.807175  , ...,  -0.28395916,\n",
       "         -0.60524174,  -0.3710432 ],\n",
       "       [ 19.91195785, -53.33670686,   8.42190318, ...,  -0.13959437,\n",
       "         -0.45030883,  60.25955896]])"
      ]
     },
     "execution_count": 40,
     "metadata": {},
     "output_type": "execute_result"
    }
   ],
   "source": [
    "lr.coef_"
   ]
  },
  {
   "cell_type": "code",
   "execution_count": 57,
   "metadata": {},
   "outputs": [],
   "source": [
    "def print_top10(vectorizer, clf, class_labels):\n",
    "    \"\"\"Prints features with the highest coefficient values, per class\"\"\"\n",
    "    feature_names = vectorizer.get_feature_names()\n",
    "    for i, class_label in enumerate(class_labels):\n",
    "        top10 = np.argsort(clf.coef_[i])[-10:]\n",
    "        print(\"\\n==> %s:\" %(class_label))\n",
    "        print(\"    * %s\" % (\", \".join(feature_names[j] for j in top10)))"
   ]
  },
  {
   "cell_type": "code",
   "execution_count": 58,
   "metadata": {},
   "outputs": [
    {
     "name": "stdout",
     "output_type": "stream",
     "text": [
      "\n",
      "==> Credit reporting, repair, or other:\n",
      "    * paypal, cd, declined, description, bonus, banking, branch, pnc, bank, scottrade\n",
      "\n",
      "==> Bank account or service:\n",
      "    * oh, 59, results, report, investigation, breach, inquires, transunion, freeze, experian\n",
      "\n",
      "==> Debt collection:\n",
      "    * threatened, medical, reffrence, friends, collection, afni, erc, continued, paided, calling\n",
      "\n",
      "==> Money transfer, virtual currency, or money service:\n",
      "    * app, 2018, money, transaction, google, transfer, western, paypal, moneygram, coinbase\n",
      "\n",
      "==> Student loan:\n",
      "    * aes, consolidated, deferment, signer, equifax, loans, ita, repayment, fedloan, navient\n"
     ]
    }
   ],
   "source": [
    "print_top10(tfidf_vectorizer, lr, y_train.unique())"
   ]
  },
  {
   "cell_type": "markdown",
   "metadata": {},
   "source": [
    "### Model Evaluation\n",
    "\n",
    "- Cross Validation\n",
    "- Hyper Parameter Tunning"
   ]
  },
  {
   "cell_type": "code",
   "execution_count": 26,
   "metadata": {},
   "outputs": [],
   "source": [
    "from sklearn.model_selection import cross_val_score, GridSearchCV"
   ]
  },
  {
   "cell_type": "code",
   "execution_count": 27,
   "metadata": {},
   "outputs": [],
   "source": [
    "cv_scores = cross_val_score(lr, X_train_tfidf_vectorizer, y_train, cv=5)"
   ]
  },
  {
   "cell_type": "code",
   "execution_count": 29,
   "metadata": {},
   "outputs": [
    {
     "name": "stdout",
     "output_type": "stream",
     "text": [
      "0.8265\n",
      "[0.8284375 0.8378125 0.82      0.82375   0.8225   ]\n"
     ]
    }
   ],
   "source": [
    "print(cv_scores.mean())\n",
    "print(cv_scores)"
   ]
  },
  {
   "cell_type": "code",
   "execution_count": 30,
   "metadata": {
    "scrolled": true
   },
   "outputs": [
    {
     "name": "stdout",
     "output_type": "stream",
     "text": [
      "Fitting 5 folds for each of 6 candidates, totalling 30 fits\n"
     ]
    },
    {
     "name": "stderr",
     "output_type": "stream",
     "text": [
      "[Parallel(n_jobs=-1)]: Using backend LokyBackend with 2 concurrent workers.\n",
      "[Parallel(n_jobs=-1)]: Done  30 out of  30 | elapsed:  2.5min finished\n",
      "/usr/local/lib/python3.8/site-packages/sklearn/linear_model/_logistic.py:937: ConvergenceWarning: lbfgs failed to converge (status=1):\n",
      "STOP: TOTAL NO. of ITERATIONS REACHED LIMIT.\n",
      "\n",
      "Increase the number of iterations (max_iter) or scale the data as shown in:\n",
      "    https://scikit-learn.org/stable/modules/preprocessing.html.\n",
      "Please also refer to the documentation for alternative solver options:\n",
      "    https://scikit-learn.org/stable/modules/linear_model.html#logistic-regression\n",
      "  n_iter_i = _check_optimize_result(\n"
     ]
    },
    {
     "data": {
      "text/plain": [
       "GridSearchCV(cv=5, error_score=nan,\n",
       "             estimator=LogisticRegression(C=1.0, class_weight=None, dual=False,\n",
       "                                          fit_intercept=True,\n",
       "                                          intercept_scaling=1, l1_ratio=None,\n",
       "                                          max_iter=100, multi_class='auto',\n",
       "                                          n_jobs=None, penalty='none',\n",
       "                                          random_state=19, solver='lbfgs',\n",
       "                                          tol=0.0001, verbose=0,\n",
       "                                          warm_start=False),\n",
       "             iid='deprecated', n_jobs=-1,\n",
       "             param_grid={'max_iter': [100, 1000, 2500, 5000, 7500, 10000]},\n",
       "             pre_dispatch='2*n_jobs', refit=True, return_train_score=False,\n",
       "             scoring=None, verbose=1)"
      ]
     },
     "execution_count": 30,
     "metadata": {},
     "output_type": "execute_result"
    }
   ],
   "source": [
    "params_grid = {\n",
    "    'max_iter': [100, 1000, 2500, 5000, 7500, 10000]\n",
    "}\n",
    "\n",
    "grid_search = GridSearchCV(LogisticRegression(penalty='none',\n",
    "                                              random_state=RANDOM_STATE),\n",
    "                           params_grid, cv=5,\n",
    "                           n_jobs=-1, verbose=1)\n",
    "\n",
    "grid_search.fit(X_train_tfidf_vectorizer, y_train)"
   ]
  },
  {
   "cell_type": "code",
   "execution_count": 31,
   "metadata": {
    "scrolled": false
   },
   "outputs": [
    {
     "name": "stdout",
     "output_type": "stream",
     "text": [
      "0.8286250000000001\n",
      "LogisticRegression(C=1.0, class_weight=None, dual=False, fit_intercept=True,\n",
      "                   intercept_scaling=1, l1_ratio=None, max_iter=100,\n",
      "                   multi_class='auto', n_jobs=None, penalty='none',\n",
      "                   random_state=19, solver='lbfgs', tol=0.0001, verbose=0,\n",
      "                   warm_start=False)\n",
      "{'mean_fit_time': array([ 3.79685416, 10.7339808 , 11.00318294, 12.06940999, 10.50979061,\n",
      "       10.3441277 ]), 'std_fit_time': array([0.12411618, 3.84133155, 3.15231605, 5.01800921, 3.56282789,\n",
      "       3.44055938]), 'mean_score_time': array([0.00517759, 0.00495033, 0.00541468, 0.00508108, 0.00487676,\n",
      "       0.00526452]), 'std_score_time': array([0.00050965, 0.00010706, 0.0005899 , 0.00020441, 0.00012834,\n",
      "       0.00060805]), 'param_max_iter': masked_array(data=[100, 1000, 2500, 5000, 7500, 10000],\n",
      "             mask=[False, False, False, False, False, False],\n",
      "       fill_value='?',\n",
      "            dtype=object), 'params': [{'max_iter': 100}, {'max_iter': 1000}, {'max_iter': 2500}, {'max_iter': 5000}, {'max_iter': 7500}, {'max_iter': 10000}], 'split0_test_score': array([0.8290625, 0.83     , 0.83     , 0.83     , 0.83     , 0.83     ]), 'split1_test_score': array([0.8371875, 0.8315625, 0.8315625, 0.8315625, 0.8315625, 0.8315625]), 'split2_test_score': array([0.8225  , 0.820625, 0.820625, 0.820625, 0.820625, 0.820625]), 'split3_test_score': array([0.8309375, 0.8240625, 0.8240625, 0.8240625, 0.8240625, 0.8240625]), 'split4_test_score': array([0.8234375, 0.820625 , 0.820625 , 0.820625 , 0.820625 , 0.820625 ]), 'mean_test_score': array([0.828625, 0.825375, 0.825375, 0.825375, 0.825375, 0.825375]), 'std_test_score': array([0.00535315, 0.0046157 , 0.0046157 , 0.0046157 , 0.0046157 ,\n",
      "       0.0046157 ]), 'rank_test_score': array([1, 2, 2, 2, 2, 2], dtype=int32)}\n"
     ]
    }
   ],
   "source": [
    "print(grid_search.best_score_)\n",
    "print(grid_search.best_estimator_)\n",
    "print(grid_search.cv_results_)"
   ]
  },
  {
   "cell_type": "markdown",
   "metadata": {},
   "source": [
    "### Quality Metrics"
   ]
  },
  {
   "cell_type": "code",
   "execution_count": 32,
   "metadata": {},
   "outputs": [],
   "source": [
    "from sklearn.metrics import (accuracy_score,\n",
    "                             confusion_matrix,\n",
    "                             precision_score,\n",
    "                             recall_score)\n",
    "\n",
    "import seaborn as sns;\n",
    "sns.set()\n",
    "\n",
    "import matplotlib.pyplot as plt\n",
    "%matplotlib inline"
   ]
  },
  {
   "cell_type": "code",
   "execution_count": 33,
   "metadata": {},
   "outputs": [],
   "source": [
    "predictions = lr.predict(X_test_tfidf_vectorizer)"
   ]
  },
  {
   "cell_type": "code",
   "execution_count": 34,
   "metadata": {},
   "outputs": [
    {
     "data": {
      "text/plain": [
       "0.82425"
      ]
     },
     "execution_count": 34,
     "metadata": {},
     "output_type": "execute_result"
    }
   ],
   "source": [
    "accuracy_score(y_test, predictions)"
   ]
  },
  {
   "cell_type": "code",
   "execution_count": 35,
   "metadata": {},
   "outputs": [
    {
     "data": {
      "text/plain": [
       "array([[660,  32,  10,  80,  18],\n",
       "       [ 32, 634,  24,   5, 105],\n",
       "       [ 12,  38, 703,  10,  37],\n",
       "       [ 94,  21,   1, 676,   8],\n",
       "       [ 20, 120,  25,  11, 624]])"
      ]
     },
     "execution_count": 35,
     "metadata": {},
     "output_type": "execute_result"
    }
   ],
   "source": [
    "conf_matrix = confusion_matrix(y_test, predictions, labels=y_test.unique())\n",
    "conf_matrix"
   ]
  },
  {
   "cell_type": "code",
   "execution_count": 36,
   "metadata": {},
   "outputs": [
    {
     "data": {
      "text/plain": [
       "<matplotlib.axes._subplots.AxesSubplot at 0x7fb9937938b0>"
      ]
     },
     "execution_count": 36,
     "metadata": {},
     "output_type": "execute_result"
    },
    {
     "data": {
      "image/png": "[encoded data removed]",
      "text/plain": [
       "<Figure size 432x288 with 2 Axes>"
      ]
     },
     "metadata": {
      "needs_background": "light"
     },
     "output_type": "display_data"
    }
   ],
   "source": [
    "sns.heatmap(conf_matrix,\n",
    "            cmap='YlGnBu',\n",
    "            annot=True,\n",
    "            fmt=\"d\",\n",
    "            xticklabels=y_test.unique(),\n",
    "            yticklabels=y_test.unique())"
   ]
  },
  {
   "cell_type": "code",
   "execution_count": 37,
   "metadata": {},
   "outputs": [
    {
     "data": {
      "text/plain": [
       "0.8242499999999999"
      ]
     },
     "execution_count": 37,
     "metadata": {},
     "output_type": "execute_result"
    }
   ],
   "source": [
    "recall_score(y_test, predictions, labels=y_test.unique(), average='macro')"
   ]
  },
  {
   "cell_type": "code",
   "execution_count": 38,
   "metadata": {},
   "outputs": [
    {
     "data": {
      "text/plain": [
       "0.82425"
      ]
     },
     "execution_count": 38,
     "metadata": {},
     "output_type": "execute_result"
    }
   ],
   "source": [
    "precision_score(y_test, predictions, labels=y_test.unique(), average='micro')"
   ]
  },
  {
   "cell_type": "markdown",
   "metadata": {},
   "source": [
    "### Model Evaluation on Test Dataset\n",
    "\n",
    "- Note: Retrain the model using full training dataset."
   ]
  },
  {
   "cell_type": "markdown",
   "metadata": {},
   "source": [
    "## Homework"
   ]
  },
  {
   "cell_type": "markdown",
   "metadata": {},
   "source": [
    "## Resources"
   ]
  }
 ],
 "metadata": {
  "kernelspec": {
   "display_name": "Python 3",
   "language": "python",
   "name": "python3"
  },
  "language_info": {
   "codemirror_mode": {
    "name": "ipython",
    "version": 3
   },
   "file_extension": ".py",
   "mimetype": "text/x-python",
   "name": "python",
   "nbconvert_exporter": "python",
   "pygments_lexer": "ipython3",
   "version": "3.8.2"
  },
  "toc": {
   "base_numbering": 1,
   "nav_menu": {},
   "number_sections": false,
   "sideBar": true,
   "skip_h1_title": false,
   "title_cell": "Text Classification using Logistic Regression",
   "title_sidebar": "Contents",
   "toc_cell": true,
   "toc_position": {},
   "toc_section_display": true,
   "toc_window_display": false
  }
 },
 "nbformat": 4,
 "nbformat_minor": 4
}
