{
 "cells": [
  {
   "cell_type": "markdown",
   "metadata": {
    "toc": true
   },
   "source": [
    "<h1>Text Classification using Logistic Regression<span class=\"tocSkip\"></span></h1>\n",
    "<div class=\"toc\"><ul class=\"toc-item\"><li><span><a href=\"#Logistic-Regression-Theory\" data-toc-modified-id=\"Logistic-Regression-Theory-1\">Logistic Regression Theory</a></span><ul class=\"toc-item\"><li><span><a href=\"#Regression-Revision\" data-toc-modified-id=\"Regression-Revision-1.1\">Regression Revision</a></span></li><li><span><a href=\"#Linear-Classifiers\" data-toc-modified-id=\"Linear-Classifiers-1.2\">Linear Classifiers</a></span><ul class=\"toc-item\"><li><span><a href=\"#Linear-Classifier-Example\" data-toc-modified-id=\"Linear-Classifier-Example-1.2.1\">Linear Classifier Example</a></span></li></ul></li><li><span><a href=\"#Logistic-Regression-Classifier\" data-toc-modified-id=\"Logistic-Regression-Classifier-1.3\">Logistic Regression Classifier</a></span><ul class=\"toc-item\"><li><span><a href=\"#Sigmoid-Function\" data-toc-modified-id=\"Sigmoid-Function-1.3.1\">Sigmoid Function</a></span></li><li><span><a href=\"#Maximum-Likelihood-Quality-Metric\" data-toc-modified-id=\"Maximum-Likelihood-Quality-Metric-1.3.2\">Maximum Likelihood Quality Metric</a></span></li><li><span><a href=\"#Gradient-Ascent-(TODO:-Add-some-theory-to-this-section)\" data-toc-modified-id=\"Gradient-Ascent-(TODO:-Add-some-theory-to-this-section)-1.3.3\">Gradient Ascent (TODO: Add some theory to this section)</a></span></li><li><span><a href=\"#Multiclass-Classification:-One-v/s-All\" data-toc-modified-id=\"Multiclass-Classification:-One-v/s-All-1.3.4\">Multiclass Classification: One v/s All</a></span></li></ul></li></ul></li><li><span><a href=\"#Machine-Learning-Project-Lifecycle:-Second-Iteration\" data-toc-modified-id=\"Machine-Learning-Project-Lifecycle:-Second-Iteration-2\">Machine Learning Project Lifecycle: Second Iteration</a></span><ul class=\"toc-item\"><li><span><a href=\"#Problem-Statement\" data-toc-modified-id=\"Problem-Statement-2.1\">Problem Statement</a></span></li><li><span><a href=\"#Training-Data\" data-toc-modified-id=\"Training-Data-2.2\">Training Data</a></span></li><li><span><a href=\"#Preprocessing-+-Feature-Engineering\" data-toc-modified-id=\"Preprocessing-+-Feature-Engineering-2.3\">Preprocessing + Feature Engineering</a></span></li><li><span><a href=\"#Machine-Learning-Algorithm:-Logistic-Regression\" data-toc-modified-id=\"Machine-Learning-Algorithm:-Logistic-Regression-2.4\">Machine Learning Algorithm: Logistic Regression</a></span><ul class=\"toc-item\"><li><span><a href=\"#Using-Sklearn-Implementation-for-Student-Loan-Class-Prediction\" data-toc-modified-id=\"Using-Sklearn-Implementation-for-Student-Loan-Class-Prediction-2.4.1\">Using Sklearn Implementation for Student Loan Class Prediction</a></span></li><li><span><a href=\"#Custom-Implementation-for-Student-Loan-Class-Prediction\" data-toc-modified-id=\"Custom-Implementation-for-Student-Loan-Class-Prediction-2.4.2\">Custom Implementation for Student Loan Class Prediction</a></span></li></ul></li><li><span><a href=\"#Model-Evaluation\" data-toc-modified-id=\"Model-Evaluation-2.5\">Model Evaluation</a></span></li><li><span><a href=\"#Quality-Metrics\" data-toc-modified-id=\"Quality-Metrics-2.6\">Quality Metrics</a></span></li><li><span><a href=\"#Model-Evaluation-on-Test-Dataset\" data-toc-modified-id=\"Model-Evaluation-on-Test-Dataset-2.7\">Model Evaluation on Test Dataset</a></span></li></ul></li><li><span><a href=\"#Homework\" data-toc-modified-id=\"Homework-3\">Homework</a></span></li><li><span><a href=\"#Resources\" data-toc-modified-id=\"Resources-4\">Resources</a></span></li></ul></div>"
   ]
  },
  {
   "cell_type": "markdown",
   "metadata": {},
   "source": [
    "<img src=\"../images/classification.png\" alt=\"Classification\" style=\"width: 700px;\"/>"
   ]
  },
  {
   "cell_type": "markdown",
   "metadata": {},
   "source": [
    "## Logistic Regression Theory"
   ]
  },
  {
   "cell_type": "markdown",
   "metadata": {},
   "source": [
    "### Regression Revision"
   ]
  },
  {
   "cell_type": "markdown",
   "metadata": {},
   "source": [
    "### Linear Classifiers\n",
    "\n",
    "- Called Linear Classifiers because output is weighted sum of input features.\n",
    "- Training a classifier -> Learning the coefficients.\n",
    "\n",
    "<img src='../images/linear_classifier_decision_boundry.jpg' alt='Linear Classifier decision boundry' style=\"width: 600px;\" align=\"left\">"
   ]
  },
  {
   "cell_type": "markdown",
   "metadata": {},
   "source": [
    "#### Linear Classifier Example\n",
    "\n",
    "*Linear Classifier example to classify document to check whether documents belong to Student Loan class or not*\n",
    "\n",
    "*Training Data*\n",
    "\n",
    "- +1 -> Belongs to Student Loan class\n",
    "- -1 -> Doesnt belong to Student Loan Class\n",
    "\n",
    "| Document | +1 or -1|\n",
    "|:---------|:----------------:|\n",
    "| EMI is high on Student Loan. | +1 |\n",
    "| Interest is not great on Savings account.| -1 |\n",
    "| Interest on Student loan has decreased.| + 1|"
   ]
  },
  {
   "cell_type": "markdown",
   "metadata": {},
   "source": [
    "*Linear Classifier Model*\n",
    "\n",
    "| Word(x) | Coefficient| Coefficient Value|\n",
    "|:---------:|:----------------:| :----------------: |\n",
    "|  | $ w_0 $ |1.0 |\n",
    "| EMI | $ w_1 $ | 2.0 |\n",
    "| Student | $ w_2 $ | 3.0 |\n",
    "| Interest | $ w_3 $ | 1.0 |\n",
    "| Loan | $ w_4 $ | 1.0 |\n",
    "| Savings | $ w_5 $ | -2.0 |"
   ]
  },
  {
   "cell_type": "markdown",
   "metadata": {},
   "source": [
    "*Classification*\n",
    "\n",
    "$ y = sign(Score(x_i)) $\n",
    "\n",
    "    - if sign is +1, input document belongs to Student Loan class\n",
    "    - if sign is -1, input document doesn't belong to Student Loan class\n",
    "\n",
    "$ Score(x_i) = w_0 + w_1 * x_i[1] + ... +  w_d * x_i[d] = w ^ T . X_i $\n",
    "\n",
    "where\n",
    "\n",
    "- $ x_i $ -> $ x_d $ are features.\n",
    "- $ w_0 $ -> $ w_d $ are coefficients."
   ]
  },
  {
   "cell_type": "markdown",
   "metadata": {},
   "source": [
    "Assumes that x is 1 for all the token,\n",
    "\n",
    "Q) Given `EMI Student`, check if this tokenised sentence belongs to `Student Loan` product category or not?\n",
    "\n",
    "Q) Given `Interest Savings`, check if this tokenised sentence belongs to `Student Loan` product category or not?"
   ]
  },
  {
   "cell_type": "markdown",
   "metadata": {},
   "source": [
    "### Logistic Regression Classifier\n",
    "\n",
    "- Linear classifier/model which uses *Logistic/Logit Link Function* to shrink the output of $ Score(x_i) $ function to 0.0 - 1.0 probability range.\n",
    "\n",
    "$ P(y_i | x_i, w) = Link Function \\: ( \\: Score \\: ( \\: w \\: ^ t \\: . h(x) \\: ) \\:)$\n",
    "\n",
    "<img src='../images/logistic_classifier_to_lr_classifier.jpg' alt='Linear Classifier to LR Classifier' style=\"width: 550px;\" align=\"left\">"
   ]
  },
  {
   "cell_type": "markdown",
   "metadata": {},
   "source": [
    "#### Sigmoid Function\n",
    "\n",
    "- How to make predictions in term of probability?\n",
    "\n",
    "$ sigmoid(Score) = 1 \\: / \\:  (1 + e ^ {-score}) $\n",
    "\n",
    "| Score | -${\\infty}$ | -2 | 0.0 | +2 | +${\\infty}$ |\n",
    "|:---------:|:-------:| :--: | :-------:| :-------:| :-------:|\n",
    "| sigmoid(Score)|0|.12 |.5|.88| 1| \n"
   ]
  },
  {
   "cell_type": "code",
   "execution_count": 3,
   "metadata": {},
   "outputs": [],
   "source": [
    "import numpy as np\n",
    "\n",
    "def sigmoid(value):\n",
    "    return 1 / (1 + np.exp(-value))"
   ]
  },
  {
   "cell_type": "code",
   "execution_count": 4,
   "metadata": {},
   "outputs": [],
   "source": [
    "import seaborn as sns;\n",
    "sns.set()\n",
    "\n",
    "import matplotlib.pyplot as plt\n",
    "%matplotlib inline\n",
    "\n",
    "sns.set(style=\"whitegrid\")"
   ]
  },
  {
   "cell_type": "code",
   "execution_count": 5,
   "metadata": {},
   "outputs": [
    {
     "data": {
      "image/png": "[encoded data removed]",
      "text/plain": [
       "<Figure size 432x288 with 1 Axes>"
      ]
     },
     "metadata": {
      "needs_background": "light"
     },
     "output_type": "display_data"
    }
   ],
   "source": [
    "x = np.linspace(-6, 6)\n",
    "y = sigmoid(x)\n",
    "\n",
    "data = {'Score': x, 'Sigmoid(Score)': y}\n",
    "ax = sns.lineplot(x='Score', y='Sigmoid(Score)', data=data)\n",
    "ax.set(xlabel='Score', ylabel='Sigmoid(Score)')\n",
    "ax.set(title='Sigmoid Link function');"
   ]
  },
  {
   "cell_type": "markdown",
   "metadata": {},
   "source": [
    "#### Maximum Likelihood Quality Metric\n",
    "\n",
    "- *How to evaluate the learned coefficients?*\n",
    "\n",
    "    Model which returns the highest likelihood given the $ w_i ... w_d $\n",
    "\n",
    "\n",
    "| Data Point | X[1] | X[2]  |  y  | Choose w to maximise                  |\n",
    "|:----------:|:----:| :---: | :-: | :-----------------------------------: |\n",
    "| x,y      | 2    | 1     | +1  | $ P(y = +1 | x, w) $   |\n",
    "| x,y      | 0    | 2     | -1  | $ P(y = -1 | x, w) $   |\n",
    "| x,y      | 6    | 7     | -1  | $ P(y = -1 | x, w) $   |\n",
    "| x,y      | 19   | 1     | +1  | $ P(y = +1 | x, w) $  |\n",
    "\n",
    "$ likelihood(w) = {\\displaystyle \\prod_{i=1}^N P(y_i | x_i, w)} $\n",
    "\n",
    "<img src='../images/likelihood_example.jpg' alt='Maximum Likelihood Example' style=\"width: 600px;\" align=\"left\">"
   ]
  },
  {
   "cell_type": "markdown",
   "metadata": {},
   "source": [
    "#### Gradient Ascent (TODO: Add some theory to this section)\n",
    "\n",
    "- How to learn the coefficients?\n",
    "\n",
    "*High Level Algorithm for Single data point*\n",
    "\n",
    "- while not converged:\n",
    "\n",
    "    - $ \\displaystyle w ^ {t + 1} = w ^ {t}  + n {\\displaystyle \\frac{ \\partial l}{\\partial w}}$\n",
    "    \n",
    "For multiple data points, we will use d + 1 dimensional vector as\n",
    "\n",
    "$ \\displaystyle \\nabla l (w) = \\begin{vmatrix} {\\displaystyle \\frac{ \\partial l}{\\partial w_0}} \\\\ {\\displaystyle \\frac{ \\partial l}{\\partial w_1}} \\\\ ... \\\\ {\\displaystyle \\frac{ \\partial l}{\\partial w_d}} \\end{vmatrix}$\n"
   ]
  },
  {
   "cell_type": "code",
   "execution_count": 7,
   "metadata": {},
   "outputs": [],
   "source": [
    "# import numpy as np\n",
    "# import matplotlib.pyplot as plt\n",
    "# %matplotlib inline\n",
    "# plt.rcParams[\"figure.figsize\"] = 8, 8\n",
    "# from mpl_toolkits.mplot3d import axes3d\n",
    "\n",
    "# x1 = np.linspace(-6, 8, 32)\n",
    "# x2 = np.linspace(-6, 8, 32)\n",
    "\n",
    "# X1, X2 = np.meshgrid(x1, x2)\n",
    "# Y = np.sqrt(np.square(X1) + np.square(X2))\n",
    "\n",
    "# #fig = plt.figure(figsize=plt.figaspect(0.5))\n",
    "# fig = plt.figure(figsize=plt.figaspect(0.5))\n",
    "\n",
    "# # First Plot\n",
    "# ax = fig.add_subplot(1, 2, 1, projection='3d')\n",
    "\n",
    "# surf = ax.plot_surface(X1, X2, Y * -1, cmap='jet')\n",
    "# fig.colorbar(surf, shrink=0.5, aspect=10)\n",
    "\n",
    "# # Second Plot\n",
    "# ax = fig.add_subplot(1, 2, 2)\n",
    "\n",
    "# cp = plt.contour(X1, X2, Y)\n",
    "# plt.clabel(cp, inline=1, fontsize=10)\n",
    "# plt.xlabel('Weight of #Loan')\n",
    "# plt.ylabel('Weight of #Savings')\n",
    "# plt.show()"
   ]
  },
  {
   "cell_type": "markdown",
   "metadata": {},
   "source": [
    "**Derivative of Likelihood**\n",
    "\n",
    "$ {\\displaystyle \\frac{ \\partial (w)}{\\partial w_j}} = \\displaystyle \\sum_{i=1}^N h_j(x_i) (1[y_i = +1] - P(y = +1 | x_i, w))$\n",
    "\n",
    "where\n",
    "\n",
    "- $1[y_i = +1]$ is 1 if $y_i$ = +1 or 0 if $y_i$ = -1\n",
    "\n",
    "*Example*\n",
    "\n",
    "- $ w_1 $ = 1\n",
    "- n = 0.1\n",
    "\n",
    "| X[1] | X[2]  |  y | $P(y_i)$ | Contribution to $ w_1 $ derivative |\n",
    "|----| --- | ---- | :---------------------: | -------------------------- |\n",
    "| 2    | 1     | +1  |         00.05         | ?   |\n",
    "| 0    | 2     | -1  |          00.02       | ?   |\n",
    "| 3    | 3     | -1  |      00.05        | ?   |"
   ]
  },
  {
   "cell_type": "markdown",
   "metadata": {},
   "source": [
    "*Coefficients update rule during each iteration*\n",
    "\n",
    "Let assume that  $h_j(x_i) = 1$ in $ {\\displaystyle \\frac{ \\partial l(w)}{\\partial w_j}} = \\displaystyle \\sum_{i=1}^N h_j(x_i) (1[y_i = +1] - P(y = +1 | x_i, w))$\n",
    "\n",
    "- $P(y=+1|x_i, w) \\approx 1$\n",
    "    - if $y_i=+1$\n",
    "        - $\\Delta_i = 1 * (1 - 1) \\approx 0$\n",
    "        - Dont change anything as predection is correct\n",
    "    - elif $y_i=-1$\n",
    "        - $\\Delta_i = 1 * (1 - 1) \\approx 1$\n",
    "        - decrease $w_j$ for next iteration so that $P(y=+1|x_i, w)$ also decreases\n",
    "- $P(y=+1|x_i, w) \\approx 0$\n",
    "    - if $y_i=-1$\n",
    "        - $\\Delta_i = 1 * (0 - 0) \\approx 0$\n",
    "        - Dont change anything as predection is correct\n",
    "    - elif $y_i=+1$\n",
    "        - $\\Delta_i = 1 * (0 - 1) \\approx 1$\n",
    "        - increase $w_j$ for next iteration so that $P(y=+1|x_i, w)$ also increase"
   ]
  },
  {
   "cell_type": "markdown",
   "metadata": {},
   "source": [
    "#### Multiclass Classification: One v/s All\n",
    "<img src='../images/one_vs_all_lr_classifier_example.png' alt='One v/s All Classifier Example' style=\"width: 600px;\" align=\"left\">"
   ]
  },
  {
   "cell_type": "markdown",
   "metadata": {},
   "source": [
    "## Machine Learning Project Lifecycle: Second Iteration\n",
    "\n",
    "- tf-idf\n",
    "- Logistic Regression\n",
    "- GridSearchCV\n",
    "- precision, recall"
   ]
  },
  {
   "cell_type": "markdown",
   "metadata": {},
   "source": [
    "### Problem Statement\n",
    "\n",
    "Classify the Financial Consumer Complaints into different Product Categories given consumer complaint text.\n",
    "\n",
    "**Product Categories**\n",
    "\n",
    "- Credit reporting, repair, or other\n",
    "- Debt collection\n",
    "- Student loan\n",
    "- Money transfer, virtual currency, or money service\n",
    "- Bank account or service"
   ]
  },
  {
   "cell_type": "markdown",
   "metadata": {},
   "source": [
    "### Training Data\n",
    "\n",
    "[Kaggle: Consumer Complaint Database](https://www.kaggle.com/selener/consumer-complaint-database)"
   ]
  },
  {
   "cell_type": "code",
   "execution_count": 8,
   "metadata": {},
   "outputs": [],
   "source": [
    "import pandas as pd"
   ]
  },
  {
   "cell_type": "code",
   "execution_count": 9,
   "metadata": {},
   "outputs": [],
   "source": [
    "complaints_training_dataset = pd.read_csv('../datasets/consumer_complaints_training_dataset.csv')"
   ]
  },
  {
   "cell_type": "code",
   "execution_count": 10,
   "metadata": {},
   "outputs": [
    {
     "data": {
      "text/html": [
       "<div>\n",
       "<style scoped>\n",
       "    .dataframe tbody tr th:only-of-type {\n",
       "        vertical-align: middle;\n",
       "    }\n",
       "\n",
       "    .dataframe tbody tr th {\n",
       "        vertical-align: top;\n",
       "    }\n",
       "\n",
       "    .dataframe thead th {\n",
       "        text-align: right;\n",
       "    }\n",
       "</style>\n",
       "<table border=\"1\" class=\"dataframe\">\n",
       "  <thead>\n",
       "    <tr style=\"text-align: right;\">\n",
       "      <th></th>\n",
       "      <th>Product</th>\n",
       "      <th>Complaint_text</th>\n",
       "    </tr>\n",
       "  </thead>\n",
       "  <tbody>\n",
       "    <tr>\n",
       "      <th>0</th>\n",
       "      <td>Credit reporting, repair, or other</td>\n",
       "      <td>My name is  XXXX   XXXX   XXXX , not  XXXX   X...</td>\n",
       "    </tr>\n",
       "    <tr>\n",
       "      <th>1</th>\n",
       "      <td>Credit reporting, repair, or other</td>\n",
       "      <td>I was shocked when I reviewed my credit report...</td>\n",
       "    </tr>\n",
       "    <tr>\n",
       "      <th>2</th>\n",
       "      <td>Credit reporting, repair, or other</td>\n",
       "      <td>Equifax misused of credit file. Disputing acco...</td>\n",
       "    </tr>\n",
       "    <tr>\n",
       "      <th>3</th>\n",
       "      <td>Credit reporting, repair, or other</td>\n",
       "      <td>I am disturbed that you continue to list the v...</td>\n",
       "    </tr>\n",
       "    <tr>\n",
       "      <th>4</th>\n",
       "      <td>Credit reporting, repair, or other</td>\n",
       "      <td>I went to multiple different credit report web...</td>\n",
       "    </tr>\n",
       "  </tbody>\n",
       "</table>\n",
       "</div>"
      ],
      "text/plain": [
       "                              Product  \\\n",
       "0  Credit reporting, repair, or other   \n",
       "1  Credit reporting, repair, or other   \n",
       "2  Credit reporting, repair, or other   \n",
       "3  Credit reporting, repair, or other   \n",
       "4  Credit reporting, repair, or other   \n",
       "\n",
       "                                      Complaint_text  \n",
       "0  My name is  XXXX   XXXX   XXXX , not  XXXX   X...  \n",
       "1  I was shocked when I reviewed my credit report...  \n",
       "2  Equifax misused of credit file. Disputing acco...  \n",
       "3  I am disturbed that you continue to list the v...  \n",
       "4  I went to multiple different credit report web...  "
      ]
     },
     "execution_count": 10,
     "metadata": {},
     "output_type": "execute_result"
    }
   ],
   "source": [
    "complaints_training_dataset.head()"
   ]
  },
  {
   "cell_type": "code",
   "execution_count": 11,
   "metadata": {},
   "outputs": [
    {
     "name": "stdout",
     "output_type": "stream",
     "text": [
      "<class 'pandas.core.frame.DataFrame'>\n",
      "RangeIndex: 20000 entries, 0 to 19999\n",
      "Data columns (total 2 columns):\n",
      "Product           20000 non-null object\n",
      "Complaint_text    20000 non-null object\n",
      "dtypes: object(2)\n",
      "memory usage: 312.6+ KB\n"
     ]
    }
   ],
   "source": [
    "complaints_training_dataset.info()"
   ]
  },
  {
   "cell_type": "markdown",
   "metadata": {},
   "source": [
    "**Q) What is the distribution of complaints for each product type?**"
   ]
  },
  {
   "cell_type": "code",
   "execution_count": 12,
   "metadata": {},
   "outputs": [
    {
     "data": {
      "text/plain": [
       "array(['Credit reporting, repair, or other', 'Debt collection',\n",
       "       'Student loan',\n",
       "       'Money transfer, virtual currency, or money service',\n",
       "       'Bank account or service'], dtype=object)"
      ]
     },
     "execution_count": 12,
     "metadata": {},
     "output_type": "execute_result"
    }
   ],
   "source": [
    "complaints_training_dataset.Product.unique()"
   ]
  },
  {
   "cell_type": "code",
   "execution_count": 13,
   "metadata": {},
   "outputs": [
    {
     "data": {
      "text/html": [
       "<div>\n",
       "<style scoped>\n",
       "    .dataframe tbody tr th:only-of-type {\n",
       "        vertical-align: middle;\n",
       "    }\n",
       "\n",
       "    .dataframe tbody tr th {\n",
       "        vertical-align: top;\n",
       "    }\n",
       "\n",
       "    .dataframe thead th {\n",
       "        text-align: right;\n",
       "    }\n",
       "</style>\n",
       "<table border=\"1\" class=\"dataframe\">\n",
       "  <thead>\n",
       "    <tr style=\"text-align: right;\">\n",
       "      <th></th>\n",
       "      <th>Count</th>\n",
       "    </tr>\n",
       "    <tr>\n",
       "      <th>Product</th>\n",
       "      <th></th>\n",
       "    </tr>\n",
       "  </thead>\n",
       "  <tbody>\n",
       "    <tr>\n",
       "      <th>Bank account or service</th>\n",
       "      <td>4000</td>\n",
       "    </tr>\n",
       "    <tr>\n",
       "      <th>Credit reporting, repair, or other</th>\n",
       "      <td>4000</td>\n",
       "    </tr>\n",
       "    <tr>\n",
       "      <th>Debt collection</th>\n",
       "      <td>4000</td>\n",
       "    </tr>\n",
       "    <tr>\n",
       "      <th>Money transfer, virtual currency, or money service</th>\n",
       "      <td>4000</td>\n",
       "    </tr>\n",
       "    <tr>\n",
       "      <th>Student loan</th>\n",
       "      <td>4000</td>\n",
       "    </tr>\n",
       "  </tbody>\n",
       "</table>\n",
       "</div>"
      ],
      "text/plain": [
       "                                                    Count\n",
       "Product                                                  \n",
       "Bank account or service                              4000\n",
       "Credit reporting, repair, or other                   4000\n",
       "Debt collection                                      4000\n",
       "Money transfer, virtual currency, or money service   4000\n",
       "Student loan                                         4000"
      ]
     },
     "execution_count": 13,
     "metadata": {},
     "output_type": "execute_result"
    }
   ],
   "source": [
    "complaints_training_dataset\\\n",
    "    .groupby('Product')\\\n",
    "    [['Complaint_text']]\\\n",
    "    .count()\\\n",
    "    .rename(columns={'Complaint_text': 'Count'})\\\n",
    "    .sort_values('Count', ascending=False)"
   ]
  },
  {
   "cell_type": "markdown",
   "metadata": {},
   "source": [
    "**Q) Find out the Occurances of Duplicate Text messages if any?**"
   ]
  },
  {
   "cell_type": "code",
   "execution_count": 14,
   "metadata": {},
   "outputs": [
    {
     "data": {
      "text/plain": [
       "19913"
      ]
     },
     "execution_count": 14,
     "metadata": {},
     "output_type": "execute_result"
    }
   ],
   "source": [
    "complaints_training_dataset['Complaint_text'].nunique()"
   ]
  },
  {
   "cell_type": "code",
   "execution_count": 15,
   "metadata": {},
   "outputs": [],
   "source": [
    "duplicate_complaints = complaints_training_dataset['Complaint_text']\\\n",
    "    .value_counts()\\\n",
    "    [complaints_training_dataset['Complaint_text'].value_counts() > 2].index"
   ]
  },
  {
   "cell_type": "code",
   "execution_count": 16,
   "metadata": {},
   "outputs": [
    {
     "data": {
      "text/plain": [
       "9"
      ]
     },
     "execution_count": 16,
     "metadata": {},
     "output_type": "execute_result"
    }
   ],
   "source": [
    "len(duplicate_complaints)"
   ]
  },
  {
   "cell_type": "markdown",
   "metadata": {},
   "source": [
    "### Preprocessing + Feature Engineering\n",
    "\n",
    "- tf-idf"
   ]
  },
  {
   "cell_type": "code",
   "execution_count": 169,
   "metadata": {
    "scrolled": false
   },
   "outputs": [],
   "source": [
    "import datetime\n",
    "start_time = datetime.datetime.now()"
   ]
  },
  {
   "cell_type": "code",
   "execution_count": 170,
   "metadata": {},
   "outputs": [],
   "source": [
    "from sklearn.feature_extraction.text import TfidfVectorizer\n",
    "from sklearn.model_selection import train_test_split\n",
    "\n",
    "RANDOM_STATE = 19"
   ]
  },
  {
   "cell_type": "code",
   "execution_count": 171,
   "metadata": {},
   "outputs": [],
   "source": [
    "tfidf_vectorizer = TfidfVectorizer(stop_words='english', max_features=5000)"
   ]
  },
  {
   "cell_type": "code",
   "execution_count": 172,
   "metadata": {},
   "outputs": [],
   "source": [
    "X_train, X_test, y_train, y_test = train_test_split(\n",
    "    complaints_training_dataset['Complaint_text'],\n",
    "    complaints_training_dataset['Product'],\n",
    "    test_size=.2,\n",
    "    stratify=complaints_training_dataset['Product'],\n",
    "    random_state=RANDOM_STATE)"
   ]
  },
  {
   "cell_type": "code",
   "execution_count": 173,
   "metadata": {},
   "outputs": [
    {
     "data": {
      "text/plain": [
       "((16000,), (4000,), (16000,), (4000,))"
      ]
     },
     "execution_count": 173,
     "metadata": {},
     "output_type": "execute_result"
    }
   ],
   "source": [
    "X_train.shape, X_test.shape, y_train.shape, y_test.shape"
   ]
  },
  {
   "cell_type": "code",
   "execution_count": 174,
   "metadata": {},
   "outputs": [],
   "source": [
    "X_train_tfidf_vectorizer = tfidf_vectorizer.fit_transform(X_train)\n",
    "X_test_tfidf_vectorizer = tfidf_vectorizer.transform(X_test)"
   ]
  },
  {
   "cell_type": "code",
   "execution_count": 175,
   "metadata": {},
   "outputs": [
    {
     "data": {
      "text/plain": [
       "5000"
      ]
     },
     "execution_count": 175,
     "metadata": {},
     "output_type": "execute_result"
    }
   ],
   "source": [
    "len(tfidf_vectorizer.get_feature_names())"
   ]
  },
  {
   "cell_type": "code",
   "execution_count": 176,
   "metadata": {},
   "outputs": [
    {
     "data": {
      "text/plain": [
       "['00', '000', '10', '100', '1000', '10000', '100000', '1005', '11', '110']"
      ]
     },
     "execution_count": 176,
     "metadata": {},
     "output_type": "execute_result"
    }
   ],
   "source": [
    "tfidf_vectorizer.get_feature_names()[:10]"
   ]
  },
  {
   "cell_type": "code",
   "execution_count": 177,
   "metadata": {},
   "outputs": [
    {
     "data": {
      "text/plain": [
       "{'xxxx': 4976,\n",
       " 'account': 322,\n",
       " 'listed': 2727,\n",
       " 'credit': 1279,\n",
       " 'report': 3828,\n",
       " 'experian': 1842,\n",
       " 'paid': 3234,\n",
       " 'closed': 1021,\n",
       " '2007': 63,\n",
       " 'like': 2712,\n",
       " 'removed': 3795,\n",
       " 'years': 4986,\n",
       " 'employer': 1698,\n",
       " 'submitted': 4351,\n",
       " 'incorrect': 2429,\n",
       " 'information': 2457,\n",
       " 'hsa': 2338,\n",
       " 'bank': 688,\n",
       " 'subsidiary': 4359,\n",
       " 'webster': 4876,\n",
       " 'money': 2984,\n",
       " 'deducted': 1378,\n",
       " 'paycheck': 3273,\n",
       " '15': 28,\n",
       " 'days': 1329,\n",
       " 'hired': 2289,\n",
       " 'refusing': 3715,\n",
       " 'release': 3764,\n",
       " 'funds': 2094,\n",
       " 'corrected': 1225,\n",
       " 'requested': 3845,\n",
       " 'verifying': 4792,\n",
       " 'identity': 2366,\n",
       " 'social': 4198,\n",
       " 'security': 4056,\n",
       " 'number': 3097,\n",
       " 'began': 719,\n",
       " 'disputing': 1563,\n",
       " 'items': 2575,\n",
       " 'bureaus': 840,\n",
       " 'xx': 4975,\n",
       " 'sent': 4081,\n",
       " 'follow': 2015,\n",
       " 'letters': 2687,\n",
       " 'believe': 728,\n",
       " 'public': 3548,\n",
       " 'records': 3673,\n",
       " 'reporting': 3830,\n",
       " 'accurately': 339,\n",
       " 'compliance': 1097,\n",
       " 'fcra': 1926,\n",
       " 'fdcpa': 1927,\n",
       " 'received': 3649,\n",
       " 'didnt': 1485,\n",
       " 'say': 4007,\n",
       " 'company': 1077,\n",
       " 'voicemail': 4823,\n",
       " 'left': 2671,\n",
       " 'called': 860,\n",
       " 'said': 3987,\n",
       " 'owe': 3216,\n",
       " '910': 278,\n",
       " '00': 0,\n",
       " 'settle': 4107,\n",
       " 'prior': 3466,\n",
       " '2013': 69,\n",
       " 'exact': 1799,\n",
       " 'date': 1322,\n",
       " 'asked': 584,\n",
       " 'documentation': 1590,\n",
       " 'recall': 3642,\n",
       " 'need': 3039,\n",
       " 'attorney': 635,\n",
       " 'request': 3844,\n",
       " 'point': 3381,\n",
       " 'til': 4527,\n",
       " 'resolve': 3871,\n",
       " 'issue': 2567,\n",
       " 'transcript': 4578,\n",
       " 'calling': 862,\n",
       " 'special': 4236,\n",
       " 'ending': 1711,\n",
       " 'processing': 3487,\n",
       " 'division': 1578,\n",
       " 'location': 2754,\n",
       " 'services': 4099,\n",
       " 'trying': 4627,\n",
       " 'locate': 2752,\n",
       " 'formal': 2041,\n",
       " 'complaint': 1088,\n",
       " 'counts': 1256,\n",
       " 'charges': 955,\n",
       " 'currently': 1305,\n",
       " 'pending': 3298,\n",
       " 'advised': 409,\n",
       " 'best': 742,\n",
       " 'make': 2824,\n",
       " 'immediate': 2385,\n",
       " 'contact': 1175,\n",
       " 'senior': 4077,\n",
       " 'associates': 604,\n",
       " 'legal': 2672,\n",
       " 'department': 1438,\n",
       " 'obtained': 3111,\n",
       " 'case': 899,\n",
       " 'court': 1262,\n",
       " 'right': 3938,\n",
       " 'appointment': 536,\n",
       " 'directly': 1507,\n",
       " 'scheduled': 4023,\n",
       " 'local': 2751,\n",
       " 'residence': 3865,\n",
       " 'seven': 4112,\n",
       " 'process': 3484,\n",
       " 'issues': 2570,\n",
       " 'standard': 4274,\n",
       " 'time': 4529,\n",
       " 'today': 4539,\n",
       " 'possibly': 3405,\n",
       " 'prevent': 3449,\n",
       " 'moving': 3004,\n",
       " 'forward': 2049,\n",
       " 'carry': 896,\n",
       " 'supplies': 4397,\n",
       " 'extension': 1867,\n",
       " 'final': 1970,\n",
       " 'notification': 3086,\n",
       " 'luck': 2795,\n",
       " 'traded': 4565,\n",
       " 'bitcoin': 758,\n",
       " 'coinbase': 1034,\n",
       " 'did': 1483,\n",
       " 'transactions': 4577,\n",
       " 'month': 2990,\n",
       " 'suddenly': 4368,\n",
       " 'provide': 3535,\n",
       " 'ssn': 4263,\n",
       " 'action': 357,\n",
       " 'sell': 4067,\n",
       " 'withdraw': 4920,\n",
       " 'allows': 474,\n",
       " 'trade': 4564,\n",
       " 'beginning': 723,\n",
       " 'usd': 4741,\n",
       " 'contacted': 1176,\n",
       " 'reply': 3826,\n",
       " 'submitting': 4352,\n",
       " 'agency': 436,\n",
       " 'belong': 732,\n",
       " 'uploading': 4728,\n",
       " 'letter': 2685,\n",
       " 'proof': 3518,\n",
       " 'fraud': 2058,\n",
       " 'deleted': 1414,\n",
       " 'does': 1595,\n",
       " 'numerous': 3099,\n",
       " 'disputes': 1562,\n",
       " 'situation': 4180,\n",
       " 'rectified': 3679,\n",
       " 'score': 4030,\n",
       " 'lower': 2788,\n",
       " 'accounts': 327,\n",
       " 'shouldnt': 4142,\n",
       " 'bought': 799,\n",
       " 'phone': 3337,\n",
       " '2017': 73,\n",
       " 'excited': 1813,\n",
       " 'new': 3060,\n",
       " 'advertised': 403,\n",
       " 'features': 1932,\n",
       " 'including': 2420,\n",
       " 'camera': 865,\n",
       " 'market': 2849,\n",
       " 'unlimited': 4696,\n",
       " 'photo': 3340,\n",
       " 'addition': 372,\n",
       " 'line': 2721,\n",
       " 'included': 2418,\n",
       " 'leasing': 2665,\n",
       " 'feature': 1931,\n",
       " 'true': 4618,\n",
       " 'synchrony': 4428,\n",
       " 'approved': 545,\n",
       " 'immediately': 2386,\n",
       " 'pay': 3271,\n",
       " 'apr': 549,\n",
       " 'turned': 4634,\n",
       " 'good': 2154,\n",
       " 'product': 3492,\n",
       " 'near': 3035,\n",
       " 'got': 2158,\n",
       " 'receive': 3648,\n",
       " 'text': 4486,\n",
       " 'messages': 2915,\n",
       " 'calls': 863,\n",
       " 'half': 2217,\n",
       " 'help': 2267,\n",
       " '30': 114,\n",
       " 'given': 2141,\n",
       " 'complete': 1090,\n",
       " 'run': 3977,\n",
       " 'return': 3916,\n",
       " 'service': 4095,\n",
       " 'center': 923,\n",
       " 'sole': 4203,\n",
       " 'purpose': 3566,\n",
       " 'deny': 1436,\n",
       " 'customer': 1307,\n",
       " 'refunds': 3710,\n",
       " 'getting': 2137,\n",
       " 'faulty': 1919,\n",
       " 'products': 3493,\n",
       " 'day': 1328,\n",
       " 'warranty': 4859,\n",
       " 'suffer': 4371,\n",
       " '700': 242,\n",
       " 'loss': 2780,\n",
       " 'replacement': 3823,\n",
       " 'supposed': 4404,\n",
       " 'working': 4948,\n",
       " 'regards': 3721,\n",
       " 'false': 1903,\n",
       " 'advertising': 406,\n",
       " 'providing': 3540,\n",
       " 'decent': 1361,\n",
       " 'hopes': 2320,\n",
       " 'protect': 3525,\n",
       " 'refund': 3706,\n",
       " 'fraudulent': 2062,\n",
       " 'file': 1963,\n",
       " 'claims': 996,\n",
       " 'hours': 2332,\n",
       " 'customers': 1308,\n",
       " 'claim': 992,\n",
       " 'filed': 1964,\n",
       " 'returned': 3917,\n",
       " '60': 213,\n",
       " 'paper': 3238,\n",
       " 'mail': 2810,\n",
       " 'mind': 2933,\n",
       " 'life': 2707,\n",
       " 'sit': 4176,\n",
       " 'wait': 4837,\n",
       " 'moved': 3002,\n",
       " 'accept': 305,\n",
       " 'policy': 3387,\n",
       " 'waited': 4838,\n",
       " 'hear': 2259,\n",
       " 'thing': 4503,\n",
       " 'told': 4542,\n",
       " 'activity': 364,\n",
       " 'months': 2992,\n",
       " 'broken': 819,\n",
       " 'important': 2393,\n",
       " 'texts': 4488,\n",
       " 'tried': 4611,\n",
       " 'work': 4944,\n",
       " 'want': 4849,\n",
       " 'know': 2616,\n",
       " 'protecting': 3527,\n",
       " 'approach': 539,\n",
       " 'completely': 1092,\n",
       " 'scammed': 4012,\n",
       " 'america': 484,\n",
       " 'biggest': 748,\n",
       " 'recorded': 3670,\n",
       " 'answers': 502,\n",
       " 'kept': 2605,\n",
       " 'contractual': 1198,\n",
       " 'agreements': 446,\n",
       " 'agree': 442,\n",
       " 'buy': 846,\n",
       " 'share': 4120,\n",
       " 'purchased': 3561,\n",
       " 'buyer': 847,\n",
       " 'ready': 3621,\n",
       " 'contract': 1194,\n",
       " '2015': 71,\n",
       " 'read': 3618,\n",
       " 'send': 4073,\n",
       " 'commission': 1063,\n",
       " 'fully': 2088,\n",
       " 'refunded': 3708,\n",
       " 'title': 4536,\n",
       " 'fees': 1944,\n",
       " 'holding': 2299,\n",
       " 'escrow': 1765,\n",
       " 'promises': 3507,\n",
       " 'able': 292,\n",
       " 'weeks': 4883,\n",
       " 'navient': 3026,\n",
       " 'ignored': 2371,\n",
       " 'failed': 1890,\n",
       " 'respond': 3880,\n",
       " 'multiple': 3011,\n",
       " 'requests': 3847,\n",
       " 'ibr': 2355,\n",
       " 'income': 2421,\n",
       " 'changed': 945,\n",
       " 'jobs': 2583,\n",
       " 'decreased': 1375,\n",
       " 'dramatically': 1620,\n",
       " 'form': 2040,\n",
       " 'fax': 1922,\n",
       " 'online': 3150,\n",
       " 'website': 4874,\n",
       " 'forms': 2044,\n",
       " 'copy': 1219,\n",
       " 'documenting': 1592,\n",
       " 'wage': 4835,\n",
       " 'afford': 425,\n",
       " 'asking': 585,\n",
       " '2016': 72,\n",
       " 'went': 4888,\n",
       " 'tx': 4640,\n",
       " 'used': 4743,\n",
       " 'western': 4892,\n",
       " 'union': 4683,\n",
       " 'transfer': 4581,\n",
       " 'sum': 4383,\n",
       " '120': 14,\n",
       " 'mtcn': 3009,\n",
       " 'tracking': 4563,\n",
       " 'came': 864,\n",
       " 'transaction': 4576,\n",
       " 'recipient': 3661,\n",
       " 'id': 2358,\n",
       " 'sure': 4407,\n",
       " 'agent': 437,\n",
       " 'suggested': 4376,\n",
       " 'test': 4484,\n",
       " 'question': 3588,\n",
       " 'answer': 499,\n",
       " 'provided': 3536,\n",
       " 'plus': 3375,\n",
       " 'later': 2643,\n",
       " 'informed': 2458,\n",
       " 'refused': 3713,\n",
       " 'expired': 1851,\n",
       " 'denied': 1432,\n",
       " 'use': 4742,\n",
       " 'wanted': 4850,\n",
       " 'individual': 2449,\n",
       " 'valid': 4765,\n",
       " 'stating': 4288,\n",
       " 'home': 2305,\n",
       " 'telephone': 4464,\n",
       " 'spoke': 4252,\n",
       " 'stated': 4284,\n",
       " 'let': 2683,\n",
       " 'change': 944,\n",
       " 'fee': 1938,\n",
       " 'offer': 3128,\n",
       " 'minutes': 2943,\n",
       " 'speaking': 4234,\n",
       " 'different': 1489,\n",
       " 'individuals': 2451,\n",
       " 'mailed': 2812,\n",
       " 'address': 375,\n",
       " 'just': 2599,\n",
       " 'ago': 441,\n",
       " 'inquired': 2474,\n",
       " 'status': 4291,\n",
       " 'representative': 3836,\n",
       " 'fault': 1918,\n",
       " 'mentioned': 2901,\n",
       " 'lieu': 2706,\n",
       " 'international': 2525,\n",
       " 'recipients': 3662,\n",
       " 'initial': 2461,\n",
       " 'requesting': 3846,\n",
       " 'victim': 4800,\n",
       " 'theft': 4495,\n",
       " 'result': 3900,\n",
       " 'inquiries': 2476,\n",
       " 'knowledge': 2619,\n",
       " 'consent': 1147,\n",
       " 'transunion': 4594,\n",
       " 'supporting': 4401,\n",
       " 'documents': 1593,\n",
       " 'ignoring': 2372,\n",
       " 'clearly': 1010,\n",
       " 'frustrating': 2081,\n",
       " 'disappointing': 1515,\n",
       " 'remove': 3794,\n",
       " 'inaccurate': 2405,\n",
       " 'attaching': 620,\n",
       " 'citibank': 985,\n",
       " 'took': 4549,\n",
       " '170': 45,\n",
       " 'checking': 965,\n",
       " 'order': 3172,\n",
       " 'maximize': 2871,\n",
       " 'processed': 3485,\n",
       " 'larger': 2638,\n",
       " 'smaller': 4194,\n",
       " 'caused': 910,\n",
       " 'overdrafted': 3200,\n",
       " 'engaging': 1722,\n",
       " 'unfair': 4674,\n",
       " 'business': 842,\n",
       " 'practices': 3420,\n",
       " 'overdraft': 3199,\n",
       " 'validate': 4766,\n",
       " 'debt': 1349,\n",
       " 'creditors': 1283,\n",
       " 'evidence': 1794,\n",
       " 'companies': 1076,\n",
       " 'stayed': 4296,\n",
       " 'second': 4043,\n",
       " 'validated': 4767,\n",
       " 'crazy': 1274,\n",
       " 'equitable': 1750,\n",
       " 'conclusion': 1116,\n",
       " 'physically': 3343,\n",
       " 'pioneer': 3355,\n",
       " 'recovery': 3678,\n",
       " 'garnishment': 2115,\n",
       " 'driven': 1626,\n",
       " 'repayment': 3815,\n",
       " 'plan': 3364,\n",
       " 'according': 320,\n",
       " 'law': 2648,\n",
       " 'family': 1908,\n",
       " 'extreme': 1874,\n",
       " 'economic': 1657,\n",
       " 'hardship': 2240,\n",
       " 'rent': 3801,\n",
       " 'food': 2019,\n",
       " 'table': 4431,\n",
       " 'living': 2743,\n",
       " 'present': 3435,\n",
       " '11': 8,\n",
       " 'capital': 879,\n",
       " 'indicating': 2447,\n",
       " 'suspected': 4417,\n",
       " 'talked': 4439,\n",
       " 'doing': 1599,\n",
       " 'investigation': 2542,\n",
       " 'states': 4287,\n",
       " 'concluded': 1115,\n",
       " 'responsible': 3889,\n",
       " '4000': 153,\n",
       " 'associate': 602,\n",
       " 'assigned': 594,\n",
       " 'times': 4533,\n",
       " 'reach': 3615,\n",
       " 'resolution': 3869,\n",
       " 'try': 4626,\n",
       " 'speak': 4232,\n",
       " 'referring': 3697,\n",
       " 'person': 3326,\n",
       " 'care': 887,\n",
       " 'assist': 597,\n",
       " 'police': 3385,\n",
       " 'validation': 4769,\n",
       " 'delinquency': 1420,\n",
       " 'itemized': 2574,\n",
       " 'erc': 1755,\n",
       " 'recieved': 3660,\n",
       " 'original': 3180,\n",
       " 'creditor': 1282,\n",
       " 'continuing': 1191,\n",
       " 'cra': 1272,\n",
       " 'owed': 3217,\n",
       " 'wells': 4886,\n",
       " 'fargo': 1911,\n",
       " 'withdrew': 4927,\n",
       " 'charge': 951,\n",
       " 'thought': 4511,\n",
       " 'opened': 3153,\n",
       " 'regular': 3729,\n",
       " 'pnc': 3378,\n",
       " 'deposit': 1442,\n",
       " '2000': 59,\n",
       " 'occurred': 3120,\n",
       " 'saturday': 4001,\n",
       " 'unable': 4650,\n",
       " 'access': 311,\n",
       " 'support': 4399,\n",
       " 'monday': 2982,\n",
       " 'signature': 4154,\n",
       " 'card': 885,\n",
       " 'piece': 3351,\n",
       " 'sign': 4152,\n",
       " 'note': 3079,\n",
       " 'far': 1910,\n",
       " 'tell': 4466,\n",
       " 'method': 2919,\n",
       " 'payment': 3281,\n",
       " 'solely': 4204,\n",
       " 'contain': 1179,\n",
       " 'verify': 4791,\n",
       " 'driver': 1627,\n",
       " 'license': 2698,\n",
       " 'reason': 3632,\n",
       " 'physical': 3342,\n",
       " 'necessary': 3038,\n",
       " 'takes': 4436,\n",
       " 'close': 1020,\n",
       " 'issuing': 2571,\n",
       " 'impossible': 2396,\n",
       " 'violation': 4811,\n",
       " 'fdic': 1928,\n",
       " 'laws': 2650,\n",
       " '5000': 187,\n",
       " 'meaning': 2879,\n",
       " 'reasonable': 3633,\n",
       " 'expectation': 1834,\n",
       " 'hold': 2296,\n",
       " 'period': 3314,\n",
       " 'cryptocurrencies': 1295,\n",
       " 'purchase': 3560,\n",
       " 'dollars': 1601,\n",
       " 'sold': 4202,\n",
       " '180': 49,\n",
       " 'withdrawal': 4921,\n",
       " 'debit': 1345,\n",
       " 'taken': 4435,\n",
       " 'research': 3855,\n",
       " 'problem': 3475,\n",
       " 'occurs': 3123,\n",
       " 'attempted': 625,\n",
       " 'equipment': 1749,\n",
       " 'receiving': 3653,\n",
       " 'invoice': 2551,\n",
       " 'alleged': 463,\n",
       " 'completed': 1091,\n",
       " 'wire': 4911,\n",
       " 'subsequently': 4358,\n",
       " 'site': 4177,\n",
       " 'scam': 4011,\n",
       " 'chase': 958,\n",
       " 'identified': 2362,\n",
       " 'complicated': 1099,\n",
       " 'refuses': 3714,\n",
       " 'harmless': 2244,\n",
       " 'document': 1589,\n",
       " 'supplied': 4395,\n",
       " 'notarized': 3076,\n",
       " 'understanding': 4666,\n",
       " 'frozen': 2079,\n",
       " 'assets': 592,\n",
       " 'longer': 2770,\n",
       " 'bigger': 747,\n",
       " 'cause': 909,\n",
       " 'overdrawn': 3204,\n",
       " 'applies': 533,\n",
       " 'charging': 956,\n",
       " 'consumer': 1172,\n",
       " 'happened': 2229,\n",
       " 'yesterday': 4992,\n",
       " 'servicing': 4100,\n",
       " 'son': 4214,\n",
       " 'student': 4339,\n",
       " 'loans': 2750,\n",
       " 'variable': 4773,\n",
       " '75': 252,\n",
       " '25': 93,\n",
       " 'sending': 4075,\n",
       " 'payments': 3282,\n",
       " 'specific': 4239,\n",
       " 'loan': 2749,\n",
       " 'numbers': 3098,\n",
       " 'higher': 2281,\n",
       " 'rate': 3611,\n",
       " 'earlier': 1643,\n",
       " 'posting': 3410,\n",
       " 'outstanding': 3196,\n",
       " 'balance': 683,\n",
       " 'causing': 912,\n",
       " 'accrued': 331,\n",
       " 'portion': 3396,\n",
       " 'total': 4551,\n",
       " 'abusive': 302,\n",
       " 'reducing': 3687,\n",
       " 'accordingly': 321,\n",
       " 'collection': 1041,\n",
       " 'claiming': 995,\n",
       " '560': 203,\n",
       " 'fro': 2077,\n",
       " 'nj': 3067,\n",
       " 've': 4777,\n",
       " 'lived': 2740,\n",
       " 'delaware': 1408,\n",
       " 'past': 3265,\n",
       " '18': 48,\n",
       " 'copies': 1218,\n",
       " 'application': 530,\n",
       " 'recordings': 3672,\n",
       " 'regarding': 3719,\n",
       " 'tax': 4447,\n",
       " 'returns': 3919,\n",
       " 'open': 3152,\n",
       " 'continually': 1187,\n",
       " 'don': 1603,\n",
       " 'woman': 4934,\n",
       " 'nasty': 3018,\n",
       " 'job': 2582,\n",
       " 'burden': 838,\n",
       " 'prove': 3531,\n",
       " 'isn': 2565,\n",
       " 'dates': 1324,\n",
       " 'busy': 844,\n",
       " 'schedule': 4022,\n",
       " 'fix': 1996,\n",
       " 'mistakes': 2967,\n",
       " 'national': 3020,\n",
       " 'owes': 3218,\n",
       " '000': 1,\n",
       " 'unpaid': 4701,\n",
       " 'disputed': 1561,\n",
       " 'despite': 1463,\n",
       " 'doesn': 1596,\n",
       " 'start': 4279,\n",
       " 'morning': 2995,\n",
       " 'initiated': 2464,\n",
       " 'inquire': 2473,\n",
       " 'end': 1709,\n",
       " 'inquiry': 2478,\n",
       " 'jp': 2589,\n",
       " 'morgan': 2994,\n",
       " 'wires': 4913,\n",
       " 'week': 4879,\n",
       " 'gave': 2119,\n",
       " 'writing': 4963,\n",
       " 'confirming': 1132,\n",
       " 'confirm': 1128,\n",
       " 'says': 4009,\n",
       " 'investigating': 2541,\n",
       " 'maybe': 2873,\n",
       " 'message': 2913,\n",
       " 'format': 2043,\n",
       " 'making': 2827,\n",
       " 'transfers': 4585,\n",
       " 'supply': 4398,\n",
       " 'member': 2895,\n",
       " 'standing': 4276,\n",
       " 'thank': 4490,\n",
       " 'advance': 397,\n",
       " 'sincerely': 4172,\n",
       " 'hello': 2265,\n",
       " 'express': 1861,\n",
       " 'concern': 1109,\n",
       " 'forgiveness': 2037,\n",
       " 'program': 3499,\n",
       " 'qualified': 3581,\n",
       " 'district': 1574,\n",
       " 'signed': 4156,\n",
       " '17000': 47,\n",
       " '20': 57,\n",
       " 'upset': 4730,\n",
       " 'matter': 2867,\n",
       " 'struggled': 4334,\n",
       " 'needed': 3040,\n",
       " 'place': 3356,\n",
       " 'forbearance': 2021,\n",
       " 'deferment': 1396,\n",
       " 'quite': 3598,\n",
       " 'bankruptcy': 695,\n",
       " '2014': 70,\n",
       " 'track': 4561,\n",
       " 'greatly': 2183,\n",
       " 'appreciate': 537,\n",
       " 'thanks': 4492,\n",
       " 'harassing': 2235,\n",
       " 'signer': 4157,\n",
       " 'forcing': 2025,\n",
       " 'appear': 523,\n",
       " 'delinquent': 1421,\n",
       " 'offered': 3129,\n",
       " 'whatsoever': 4897,\n",
       " 'exhausted': 1824,\n",
       " 'options': 3169,\n",
       " 'unemployment': 4671,\n",
       " 'current': 1304,\n",
       " 'approximately': 548,\n",
       " '300': 115,\n",
       " 'cosigner': 1237,\n",
       " 'store': 4313,\n",
       " 'delivery': 1424,\n",
       " 'produced': 3491,\n",
       " 'manager': 2835,\n",
       " '12': 13,\n",
       " 'cash': 901,\n",
       " 'applied': 532,\n",
       " 'agreed': 443,\n",
       " 'enter': 1731,\n",
       " 'technical': 4457,\n",
       " 'difficulty': 1493,\n",
       " 'statement': 4285,\n",
       " '45': 168,\n",
       " 'toll': 4543,\n",
       " 'free': 2064,\n",
       " 'receipt': 3644,\n",
       " 'long': 2769,\n",
       " 'fine': 1983,\n",
       " 'statements': 4286,\n",
       " 'bills': 752,\n",
       " 'notices': 3084,\n",
       " 'farm': 1912,\n",
       " 'ran': 3606,\n",
       " 'history': 2292,\n",
       " '5900': 211,\n",
       " 'dated': 1323,\n",
       " 'delete': 1413,\n",
       " 'derogatory': 1450,\n",
       " 'reports': 3831,\n",
       " 'fed': 1933,\n",
       " 'cd': 917,\n",
       " 'barclays': 700,\n",
       " 'funded': 2092,\n",
       " 'placed': 3357,\n",
       " 'facts': 1887,\n",
       " 'emails': 1688,\n",
       " 'reached': 3616,\n",
       " 'maturity': 2869,\n",
       " 'allowed': 472,\n",
       " 'allowing': 473,\n",
       " 'saying': 4008,\n",
       " 'verified': 4789,\n",
       " 'deposits': 1446,\n",
       " 'actually': 367,\n",
       " 'recieve': 3659,\n",
       " 'resulting': 3902,\n",
       " 'link': 2723,\n",
       " 'external': 1870,\n",
       " 'using': 4750,\n",
       " 'borrowed': 791,\n",
       " 'owned': 3220,\n",
       " 'recently': 3655,\n",
       " 'safety': 3986,\n",
       " 'box': 802,\n",
       " '32': 121,\n",
       " 'discovered': 1534,\n",
       " 'issued': 2568,\n",
       " 'acquired': 350,\n",
       " 'office': 3132,\n",
       " 'showed': 4143,\n",
       " 'record': 3669,\n",
       " 'having': 2253,\n",
       " 'checked': 964,\n",
       " 'abandoned': 288,\n",
       " 'illinois': 2379,\n",
       " 'secretary': 4048,\n",
       " 'cfpb': 935,\n",
       " 'complain': 1085,\n",
       " 'private': 3470,\n",
       " 'originally': 3181,\n",
       " 'missed': 2962,\n",
       " 'required': 3849,\n",
       " 'paying': 3280,\n",
       " 'starting': 4281,\n",
       " '2009': 65,\n",
       " 'graduated': 2167,\n",
       " 'little': 2738,\n",
       " '200': 58,\n",
       " 'principal': 3461,\n",
       " '15000': 31,\n",
       " 'missing': 2963,\n",
       " '18000': 51,\n",
       " 'roughly': 3960,\n",
       " '13000': 21,\n",
       " 'ridiculous': 3937,\n",
       " 'considered': 1155,\n",
       " 'crime': 1285,\n",
       " 'understand': 4665,\n",
       " 'works': 4950,\n",
       " 'really': 3627,\n",
       " 'ask': 583,\n",
       " 'utilities': 4756,\n",
       " 'primary': 3459,\n",
       " 'systems': 4430,\n",
       " 'useless': 4745,\n",
       " 'require': 3848,\n",
       " 'utility': 4757,\n",
       " 'energy': 1716,\n",
       " 'additional': 373,\n",
       " 'power': 3416,\n",
       " 'warning': 4856,\n",
       " 'consistently': 1158,\n",
       " 'coming': 1058,\n",
       " 'previous': 3454,\n",
       " 'positive': 3399,\n",
       " 'difference': 1488,\n",
       " 'bringing': 817,\n",
       " 'challenge': 940,\n",
       " 'email': 1685,\n",
       " 'duplicate': 1636,\n",
       " 'solutions': 4207,\n",
       " 'executive': 1819,\n",
       " 'analyst': 492,\n",
       " 'lost': 2782,\n",
       " 'stolen': 4307,\n",
       " 'electronic': 1679,\n",
       " 'branch': 805,\n",
       " 'consider': 1152,\n",
       " 'material': 2864,\n",
       " 'available': 661,\n",
       " 'review': 3926,\n",
       " 'lies': 2705,\n",
       " 'created': 1276,\n",
       " 'explanation': 1856,\n",
       " 'unauthorized': 4653,\n",
       " 'civil': 991,\n",
       " 'married': 2853,\n",
       " '28': 105,\n",
       " 'wellsfargo': 4887,\n",
       " 'electronically': 1680,\n",
       " 'authorized': 651,\n",
       " 'cards': 886,\n",
       " 'aware': 670,\n",
       " 'filing': 1966,\n",
       " 'lawsuit': 2651,\n",
       " 'justice': 2600,\n",
       " 'dept': 1447,\n",
       " 'ftc': 2084,\n",
       " '3200': 123,\n",
       " '100': 3,\n",
       " 'posted': 3409,\n",
       " '35': 132,\n",
       " 'summary': 4384,\n",
       " '500': 186,\n",
       " '3800': 145,\n",
       " '29': 109,\n",
       " 'added': 370,\n",
       " 'reverse': 3923,\n",
       " '7500': 254,\n",
       " 'dont': 1604,\n",
       " 'mortgage': 2996,\n",
       " 'looking': 2773,\n",
       " 'explaining': 1854,\n",
       " 'acct': 333,\n",
       " 'create': 1275,\n",
       " 'terms': 4482,\n",
       " 'agreement': 445,\n",
       " 'governing': 2161,\n",
       " 'paypal': 3285,\n",
       " 'username': 4747,\n",
       " 'payer': 3279,\n",
       " 'single': 4173,\n",
       " 'beneficial': 737,\n",
       " 'owner': 3221,\n",
       " 'documented': 1591,\n",
       " 'occasions': 3117,\n",
       " 'simple': 4169,\n",
       " 'personal': 3327,\n",
       " 'limited': 2718,\n",
       " 'communications': 1074,\n",
       " 'spent': 4249,\n",
       " 'representatives': 3837,\n",
       " 'explained': 1853,\n",
       " 'ongoing': 3149,\n",
       " 'indicated': 2445,\n",
       " 'ticket': 4523,\n",
       " 'allow': 471,\n",
       " '24': 89,\n",
       " 'contacting': 1177,\n",
       " 'audit': 638,\n",
       " 'risk': 3946,\n",
       " 'board': 777,\n",
       " 'financial': 1977,\n",
       " 'protection': 3528,\n",
       " 'bureau': 839,\n",
       " 'unfortunately': 4678,\n",
       " 'confirmation': 1129,\n",
       " 'communication': 1073,\n",
       " 'opposed': 3164,\n",
       " 'taking': 4437,\n",
       " 'steps': 4303,\n",
       " 'bring': 816,\n",
       " 'attention': 632,\n",
       " 'media': 2886,\n",
       " 'representation': 3835,\n",
       " 'california': 858,\n",
       " 'state': 4283,\n",
       " 'general': 2124,\n",
       " 'federal': 1934,\n",
       " 'reserve': 3861,\n",
       " 'securities': 4054,\n",
       " 'exchanges': 1812,\n",
       " 'sec': 4042,\n",
       " 'checks': 966,\n",
       " 'deposited': 1443,\n",
       " 'cashed': 902,\n",
       " 'written': 4964,\n",
       " 'suntrust': 4390,\n",
       " 'beneficiary': 739,\n",
       " 'arrived': 571,\n",
       " 'credited': 1280,\n",
       " 'various': 4775,\n",
       " 'banking': 692,\n",
       " 'incident': 2415,\n",
       " 'happen': 2228,\n",
       " 'wiring': 4914,\n",
       " 'closing': 1026,\n",
       " '8000': 261,\n",
       " 'property': 3523,\n",
       " 'prepared': 3432,\n",
       " 'waiting': 4839,\n",
       " 'fund': 2091,\n",
       " 'lady': 2629,\n",
       " 'xxxxxxxx': 4981,\n",
       " 'cancel': 868,\n",
       " 'stop': 4309,\n",
       " 'transition': 4588,\n",
       " 'nv': 3100,\n",
       " 'expected': 1835,\n",
       " 'going': 2150,\n",
       " 'stopped': 4310,\n",
       " 'perform': 3309,\n",
       " '48': 177,\n",
       " 'instructed': 2499,\n",
       " 'ref': 3689,\n",
       " 'forth': 2045,\n",
       " 'talk': 4438,\n",
       " 'direct': 1502,\n",
       " 'check': 963,\n",
       " 'frustrated': 2080,\n",
       " 'desperately': 1462,\n",
       " 'response': 3885,\n",
       " 'indicate': 2444,\n",
       " 'benefit': 740,\n",
       " 'assessed': 589,\n",
       " 'attempt': 624,\n",
       " 'guaranteed': 2200,\n",
       " 'attempts': 627,\n",
       " 'approval': 543,\n",
       " 'wired': 4912,\n",
       " 'acted': 355,\n",
       " 'accordance': 319,\n",
       " 'conditions': 1119,\n",
       " 'enclosed': 1704,\n",
       " 'disclosures': 1526,\n",
       " 'disclose': 1522,\n",
       " 'effort': 1671,\n",
       " 'act': 354,\n",
       " 'liable': 2695,\n",
       " 'amended': 482,\n",
       " 'canceled': 869,\n",
       " 'refer': 3690,\n",
       " 'section': 4049,\n",
       " 'titled': 4537,\n",
       " 'canceling': 870,\n",
       " 'orders': 3174,\n",
       " 'details': 1470,\n",
       " 'experience': 1843,\n",
       " 'regret': 3728,\n",
       " 'inconvenience': 2427,\n",
       " 'encountered': 1706,\n",
       " 'apologize': 513,\n",
       " 'meet': 2892,\n",
       " 'confirmed': 1131,\n",
       " 'instructions': 2501,\n",
       " 'authorization': 648,\n",
       " 'based': 704,\n",
       " 'indication': 2448,\n",
       " 'error': 1758,\n",
       " 'handling': 2223,\n",
       " 'respectfully': 3877,\n",
       " 'decline': 1371,\n",
       " 'remitted': 3791,\n",
       " 'learning': 2662,\n",
       " 'identify': 2364,\n",
       " 'victimized': 4801,\n",
       " 'consumers': 1173,\n",
       " 'circumstances': 981,\n",
       " 'conduct': 1121,\n",
       " 'unknown': 4691,\n",
       " 'cooperate': 1214,\n",
       " 'enforcement': 1719,\n",
       " 'understood': 4667,\n",
       " 'previously': 3455,\n",
       " 'indemnity': 2441,\n",
       " 'referred': 3696,\n",
       " 'correspondence': 1231,\n",
       " 'appears': 527,\n",
       " 'following': 2017,\n",
       " 'unit': 4686,\n",
       " 'quote': 3599,\n",
       " 'reference': 3691,\n",
       " 'future': 2104,\n",
       " 'opportunity': 3163,\n",
       " 'concerns': 1112,\n",
       " 'questions': 3593,\n",
       " 'wish': 4916,\n",
       " 'feel': 1941,\n",
       " 'friday': 2072,\n",
       " 'ct': 1300,\n",
       " 'lawyer': 2653,\n",
       " 'refuse': 3712,\n",
       " 'think': 4505,\n",
       " 'instead': 2495,\n",
       " 'arrested': 568,\n",
       " 'people': 3303,\n",
       " 'personally': 3328,\n",
       " 'self': 4066,\n",
       " 'look': 2771,\n",
       " 'atm': 616,\n",
       " 'withdrawals': 4922,\n",
       " ...}"
      ]
     },
     "execution_count": 177,
     "metadata": {},
     "output_type": "execute_result"
    }
   ],
   "source": [
    "tfidf_vectorizer.vocabulary_"
   ]
  },
  {
   "cell_type": "code",
   "execution_count": 178,
   "metadata": {},
   "outputs": [
    {
     "data": {
      "text/plain": [
       "((16000, 5000), (4000, 5000))"
      ]
     },
     "execution_count": 178,
     "metadata": {},
     "output_type": "execute_result"
    }
   ],
   "source": [
    "X_train_tfidf_vectorizer.shape, X_test_tfidf_vectorizer.shape"
   ]
  },
  {
   "cell_type": "markdown",
   "metadata": {},
   "source": [
    "### Machine Learning Algorithm: Logistic Regression"
   ]
  },
  {
   "cell_type": "markdown",
   "metadata": {},
   "source": [
    "#### Using Sklearn Implementation for Student Loan Class Prediction"
   ]
  },
  {
   "cell_type": "code",
   "execution_count": 289,
   "metadata": {},
   "outputs": [],
   "source": [
    "from sklearn.linear_model import LogisticRegression\n",
    "from sklearn.metrics import accuracy_score"
   ]
  },
  {
   "cell_type": "code",
   "execution_count": 290,
   "metadata": {},
   "outputs": [],
   "source": [
    "sklearn_binary_classifier = LogisticRegression(penalty='none',\n",
    "                                                        max_iter=101,\n",
    "                                                        random_state=RANDOM_STATE)"
   ]
  },
  {
   "cell_type": "code",
   "execution_count": 291,
   "metadata": {},
   "outputs": [
    {
     "name": "stderr",
     "output_type": "stream",
     "text": [
      "/Users/pardeep/anaconda3/lib/python3.7/site-packages/sklearn/linear_model/_logistic.py:940: ConvergenceWarning: lbfgs failed to converge (status=1):\n",
      "STOP: TOTAL NO. of ITERATIONS REACHED LIMIT.\n",
      "\n",
      "Increase the number of iterations (max_iter) or scale the data as shown in:\n",
      "    https://scikit-learn.org/stable/modules/preprocessing.html\n",
      "Please also refer to the documentation for alternative solver options:\n",
      "    https://scikit-learn.org/stable/modules/linear_model.html#logistic-regression\n",
      "  extra_warning_msg=_LOGISTIC_SOLVER_CONVERGENCE_MSG)\n"
     ]
    },
    {
     "data": {
      "text/plain": [
       "LogisticRegression(C=1.0, class_weight=None, dual=False, fit_intercept=True,\n",
       "                   intercept_scaling=1, l1_ratio=None, max_iter=101,\n",
       "                   multi_class='auto', n_jobs=None, penalty='none',\n",
       "                   random_state=19, solver='lbfgs', tol=0.0001, verbose=0,\n",
       "                   warm_start=False)"
      ]
     },
     "execution_count": 291,
     "metadata": {},
     "output_type": "execute_result"
    }
   ],
   "source": [
    "sklearn_binary_classifier.fit(X_train_tfidf_vectorizer, y_train == 'Student loan')"
   ]
  },
  {
   "cell_type": "code",
   "execution_count": 292,
   "metadata": {},
   "outputs": [],
   "source": [
    "sklearn_binary_classifier_predictions = sklearn_binary_classifier.predict(X_test_tfidf_vectorizer)"
   ]
  },
  {
   "cell_type": "code",
   "execution_count": 293,
   "metadata": {},
   "outputs": [
    {
     "data": {
      "text/plain": [
       "0.955"
      ]
     },
     "execution_count": 293,
     "metadata": {},
     "output_type": "execute_result"
    }
   ],
   "source": [
    "sklearn_binary_classifier_score = accuracy_score(y_test == 'Student loan', sklearn_binary_classifier_predictions)\n",
    "sklearn_binary_classifier_score"
   ]
  },
  {
   "cell_type": "markdown",
   "metadata": {},
   "source": [
    "#### Custom Implementation for Student Loan Class Prediction"
   ]
  },
  {
   "cell_type": "markdown",
   "metadata": {},
   "source": [
    "**Estimating Conditional Probability using Link Function**\n",
    "\n",
    "$ P(y_i = +1 | \\mathbf{x}_i,\\mathbf{w}) = \\frac{1}{1 + \\exp(-\\mathbf{w}^T h(\\mathbf{x}_i))} $"
   ]
  },
  {
   "cell_type": "code",
   "execution_count": 294,
   "metadata": {},
   "outputs": [],
   "source": [
    "def sigmoid(scores):\n",
    "    return 1.0 / (1 + np.exp(-scores))\n",
    "\n",
    "def predict_probability(feature_matrix, coefficients):\n",
    "    scores = np.dot(feature_matrix, coefficients)\n",
    "    predictions = sigmoid(scores)\n",
    "    return predictions"
   ]
  },
  {
   "cell_type": "code",
   "execution_count": 295,
   "metadata": {},
   "outputs": [
    {
     "name": "stdout",
     "output_type": "stream",
     "text": [
      "The following outputs must match \n",
      "------------------------------------------------\n",
      "correct_predictions           = [0.98201379 0.26894142]\n",
      "output of predict_probability = [0.98201379 0.26894142]\n"
     ]
    }
   ],
   "source": [
    "dummy_feature_matrix = np.array([[1.,2.,3.], [1.,-1.,-1]])\n",
    "dummy_coefficients = np.array([1., 3., -1.])\n",
    "\n",
    "correct_scores      = np.array( [ 1.*1. + 2.*3. + 3.*(-1.),          1.*1. + (-1.)*3. + (-1.)*(-1.) ] )\n",
    "correct_predictions = np.array( [ 1./(1+np.exp(-correct_scores[0])), 1./(1+np.exp(-correct_scores[1])) ] )\n",
    "\n",
    "print('The following outputs must match ')\n",
    "print('------------------------------------------------')\n",
    "print('correct_predictions           =', correct_predictions)\n",
    "print('output of predict_probability =', predict_probability(dummy_feature_matrix, dummy_coefficients))"
   ]
  },
  {
   "cell_type": "markdown",
   "metadata": {},
   "source": [
    "**Compute derivative of log likelihood with respect to a single coefficient**\n",
    "\n",
    "$\n",
    "\\displaystyle \\frac{\\partial\\ell}{\\partial w_j} = \\sum_{i=1}^N h_j(\\mathbf{x}_i)\\left(\\mathbf{1}[y_i = +1] - P(y_i = +1 | \\mathbf{x}_i, \\mathbf{w})\\right)\n",
    "$\n",
    "\n",
    "We will now write a function that computes the derivative of log likelihood with respect to a single coefficient $w_j$. The function accepts two arguments:\n",
    "* `errors` vector containing $\\mathbf{1}[y_i = +1] - P(y_i = +1 | \\mathbf{x}_i, \\mathbf{w})$ for all $i$.\n",
    "* `feature` vector containing $h_j(\\mathbf{x}_i)$  for all $i$."
   ]
  },
  {
   "cell_type": "code",
   "execution_count": 296,
   "metadata": {},
   "outputs": [],
   "source": [
    "def feature_derivative(errors, feature):\n",
    "    derivative = np.dot(errors, feature)\n",
    "    return derivative"
   ]
  },
  {
   "cell_type": "markdown",
   "metadata": {},
   "source": [
    "**Compute log likelihood which is given by**\n",
    "\n",
    "$ \\ell\\ell(\\mathbf{w}) = \\sum_{i=1}^N \\Big( (\\mathbf{1}[y_i = +1] - 1)\\mathbf{w}^T h(\\mathbf{x}_i) - \\ln\\left(1 + \\exp(-\\mathbf{w}^T h(\\mathbf{x}_i))\\right) \\Big) $"
   ]
  },
  {
   "cell_type": "code",
   "execution_count": 297,
   "metadata": {},
   "outputs": [],
   "source": [
    "def compute_log_likelihood(feature_matrix, target_labels, target_label, coefficients):\n",
    "    indicator = (target_labels == target_label)\n",
    "    scores = np.dot(feature_matrix, coefficients)\n",
    "    likelihood = np.sum((indicator - 1) * scores - np.log(1 + np.exp(-scores)))\n",
    "    return likelihood"
   ]
  },
  {
   "cell_type": "code",
   "execution_count": 298,
   "metadata": {},
   "outputs": [
    {
     "name": "stdout",
     "output_type": "stream",
     "text": [
      "The following outputs must match \n",
      "------------------------------------------------\n",
      "correct_log_likelihood           = -5.331411615436032\n",
      "output of compute_log_likelihood = -5.331411615436032\n"
     ]
    }
   ],
   "source": [
    "dummy_feature_matrix = np.array([[1.,2.,3.], [1.,-1.,-1]])\n",
    "dummy_coefficients = np.array([1., 3., -1.])\n",
    "dummy_sentiment = np.array([-1, 1])\n",
    "\n",
    "correct_indicators = np.array([ -1==+1, 1==+1])\n",
    "correct_scores      = np.array( [ 1.*1. + 2.*3. + 3.*(-1.),  1.*1. + (-1.)*3. + (-1.)*(-1.) ] )\n",
    "correct_first_term  = np.array( [ (correct_indicators[0]-1)*correct_scores[0],\n",
    "                                 (correct_indicators[1]-1)*correct_scores[1] ] )\n",
    "correct_second_term = np.array( [ np.log(1. + np.exp(-correct_scores[0])), \n",
    "                                 np.log(1. + np.exp(-correct_scores[1])) ] )\n",
    "\n",
    "correct_ll          =      sum( [ correct_first_term[0]-correct_second_term[0],\n",
    "                                 correct_first_term[1]-correct_second_term[1] ] ) \n",
    "\n",
    "print('The following outputs must match ')\n",
    "print('------------------------------------------------')\n",
    "print('correct_log_likelihood           =', correct_ll)\n",
    "print('output of compute_log_likelihood =', compute_log_likelihood(dummy_feature_matrix,\n",
    "                                                                   dummy_sentiment,\n",
    "                                                                   1,\n",
    "                                                                   dummy_coefficients))"
   ]
  },
  {
   "cell_type": "markdown",
   "metadata": {},
   "source": [
    "**Train Binary Logistic Regression Classifier model using Gradient Ascent**"
   ]
  },
  {
   "cell_type": "code",
   "execution_count": 299,
   "metadata": {},
   "outputs": [],
   "source": [
    "def train_binary_lr_classifier(\n",
    "        feature_matrix, target_labels, target_label,\n",
    "        initial_coefficients, step_size, max_iterations):\n",
    "    coefficients = np.array(initial_coefficients)\n",
    "    for iteration in range(max_iterations):\n",
    "        predictions = predict_probability(feature_matrix, coefficients)\n",
    "        \n",
    "        indicator = (target_labels == target_label)\n",
    "        \n",
    "        errors = indicator - predictions\n",
    "        \n",
    "        for j in range(len(coefficients)):\n",
    "            derivative = feature_derivative(errors, feature_matrix[:, j])\n",
    "            coefficients[j] += step_size * derivative\n",
    "            \n",
    "        if (iteration <= 100 and iteration % 10 == 0)\\\n",
    "            or (iteration <= 1000 and iteration % 100 == 0)\\\n",
    "            or (iteration <= 10000 and iteration % 1000 == 0)\\\n",
    "            or iteration % 10000 == 0:\n",
    "            lp = compute_log_likelihood(feature_matrix, target_labels,\n",
    "                                        target_label, coefficients)\n",
    "            print('----------------------------------')\n",
    "            print(f'Iteration: {iteration} -> Likelihood value: {lp} for {target_label} classifier.')\n",
    "            predicted_probabilities = predict_probability(feature_matrix, coefficients)\n",
    "            predicted_classes = predicted_probabilities > .5\n",
    "            correct_predictions = predicted_classes == (target_labels == target_label)\n",
    "            print(f'Minimum Probability:{predictions.min()},',\n",
    "                  f'Maximum Probability:{predictions.max()},',\n",
    "                  f'Current Accuracy: {correct_predictions.sum() / len(target_labels)}')\n",
    "    return coefficients"
   ]
  },
  {
   "cell_type": "code",
   "execution_count": 318,
   "metadata": {},
   "outputs": [
    {
     "name": "stdout",
     "output_type": "stream",
     "text": [
      "(16000, 5000) (5000,)\n",
      "----------------------------------\n",
      "Iteration: 0 -> Likelihood value: -9264.973598987097 for Student loan classifier.\n",
      "Minimum Probability:0.5, Maximum Probability:0.5, Current Accuracy: 0.8098125\n",
      "----------------------------------\n",
      "Iteration: 10 -> Likelihood value: -5684.652745709447 for Student loan classifier.\n",
      "Minimum Probability:0.03220807632465235, Maximum Probability:0.8248226069329134, Current Accuracy: 0.8836875\n",
      "----------------------------------\n",
      "Iteration: 20 -> Likelihood value: -4527.1525909665925 for Student loan classifier.\n",
      "Minimum Probability:0.015522900093332435, Maximum Probability:0.9419128476869763, Current Accuracy: 0.92\n",
      "----------------------------------\n",
      "Iteration: 30 -> Likelihood value: -3886.9630777387206 for Student loan classifier.\n",
      "Minimum Probability:0.009396161172296824, Maximum Probability:0.9771028090740713, Current Accuracy: 0.935\n",
      "----------------------------------\n",
      "Iteration: 40 -> Likelihood value: -3481.9147446806173 for Student loan classifier.\n",
      "Minimum Probability:0.006411184223174085, Maximum Probability:0.9899585565766322, Current Accuracy: 0.9425625\n",
      "----------------------------------\n",
      "Iteration: 50 -> Likelihood value: -3201.576185875023 for Student loan classifier.\n",
      "Minimum Probability:0.004716081572485366, Maximum Probability:0.9948712907476387, Current Accuracy: 0.94675\n",
      "----------------------------------\n",
      "Iteration: 60 -> Likelihood value: -2995.0755005052024 for Student loan classifier.\n",
      "Minimum Probability:0.003611482646497907, Maximum Probability:0.9970831930578077, Current Accuracy: 0.949375\n",
      "----------------------------------\n",
      "Iteration: 70 -> Likelihood value: -2835.914933487068 for Student loan classifier.\n",
      "Minimum Probability:0.002861849597341919, Maximum Probability:0.9982045572840815, Current Accuracy: 0.9519375\n",
      "----------------------------------\n",
      "Iteration: 80 -> Likelihood value: -2708.9593349366214 for Student loan classifier.\n",
      "Minimum Probability:0.0023364009679234473, Maximum Probability:0.9988258553786902, Current Accuracy: 0.9531875\n",
      "----------------------------------\n",
      "Iteration: 90 -> Likelihood value: -2604.9346908272446 for Student loan classifier.\n",
      "Minimum Probability:0.0019527696864972475, Maximum Probability:0.9991945889142088, Current Accuracy: 0.9540625\n",
      "----------------------------------\n",
      "Iteration: 100 -> Likelihood value: -2517.837881000255 for Student loan classifier.\n",
      "Minimum Probability:0.0016556198224144782, Maximum Probability:0.9994257450574617, Current Accuracy: 0.9549375\n"
     ]
    }
   ],
   "source": [
    "# Hyper Paramters\n",
    "step_size, max_iterations =1e-3, 101\n",
    "\n",
    "# Target Variables\n",
    "target_labels, target_label = y_train, 'Student loan'\n",
    "\n",
    "# Feature Matrix & Initial Coefficients\n",
    "#constant_feature = np.ones((X_train_tfidf_vectorizer.shape[0], 1))\n",
    "#features_matrix = np.hstack((constant_feature, X_train_tfidf_vectorizer.toarray()))\n",
    "features_matrix = X_train_tfidf_vectorizer.toarray()\n",
    "initial_coefficients = np.zeros(X_train_tfidf_vectorizer.shape[1])\n",
    "\n",
    "print(X_train_tfidf_vectorizer.shape, initial_coefficients.shape)\n",
    "custom_binary_classifier_coeffs = train_binary_lr_classifier(\n",
    "    features_matrix,\n",
    "    target_labels,\n",
    "    target_label,\n",
    "    initial_coefficients,\n",
    "    step_size,\n",
    "    max_iterations)"
   ]
  },
  {
   "cell_type": "code",
   "execution_count": 319,
   "metadata": {},
   "outputs": [
    {
     "data": {
      "text/plain": [
       "0.9549375"
      ]
     },
     "execution_count": 319,
     "metadata": {},
     "output_type": "execute_result"
    }
   ],
   "source": [
    "custom_binary_classifier_predictions = predict_probability(features_matrix,\n",
    "                                                           custom_binary_classifier_coeffs) > .5\n",
    "custom_binary_classifier_score = accuracy_score(target_labels == 'Student loan',\n",
    "                                            custom_binary_classifier_predictions)\n",
    "custom_binary_classifier_score"
   ]
  },
  {
   "cell_type": "code",
   "execution_count": 320,
   "metadata": {},
   "outputs": [
    {
     "data": {
      "text/plain": [
       "(0.955, 0.9549375)"
      ]
     },
     "execution_count": 320,
     "metadata": {},
     "output_type": "execute_result"
    }
   ],
   "source": [
    "sklearn_binary_classifier_score, custom_binary_classifier_score"
   ]
  },
  {
   "cell_type": "markdown",
   "metadata": {},
   "source": [
    "**Common features in top n feature**"
   ]
  },
  {
   "cell_type": "code",
   "execution_count": 386,
   "metadata": {},
   "outputs": [],
   "source": [
    "def print_top_n(vectorizer, coeffs, class_labels, n=10):\n",
    "    \"\"\"Prints features with the highest coefficient values, per class\"\"\"\n",
    "    feature_names = vectorizer.get_feature_names()\n",
    "    if coeffs.shape[0] > 1:\n",
    "        for i, class_label in enumerate(class_labels):\n",
    "            top = np.argsort(coeffs[i])[::-1][:n]\n",
    "            print(\"\\n==> %s:\" %(class_label))\n",
    "            print(\"    * %s\" % (\", \".join(feature_names[j] for j in top)))\n",
    "    else:\n",
    "        top = np.argsort(coeffs[0])[::-1][:n]\n",
    "        for feature_index in top:\n",
    "            print(feature_names[feature_index], coeffs[0, feature_index])\n",
    "        return [feature_names[j] for j in top]"
   ]
  },
  {
   "cell_type": "code",
   "execution_count": 385,
   "metadata": {},
   "outputs": [
    {
     "name": "stdout",
     "output_type": "stream",
     "text": [
      "Sklearn top 10 features\n",
      "navient 295.0307534420733\n",
      "fedloan 215.803709265229\n",
      "repayment 196.0183337773061\n",
      "classes 180.32893117859632\n",
      "deferment 178.0680256064273\n",
      "mohela 166.54542268573329\n",
      "consolidated 161.91267072372142\n",
      "originated 142.16506470435417\n",
      "unverifiable 137.65606583407393\n",
      "paperwork 134.85421622491603\n",
      "----------------------------------------\n",
      "Custom Imp top 10 features\n",
      "loan 6.51029232301947\n",
      "loans 5.7841808005092865\n",
      "navient 5.766705675261361\n",
      "student 3.8980105395957105\n",
      "payments 3.663740806896705\n",
      "payment 3.0073421460042047\n",
      "school 2.4557757105588878\n",
      "repayment 2.121930144127936\n",
      "forbearance 2.024210843243374\n",
      "income 1.726670202917134\n",
      "----------------------------------------\n",
      "Common Features are {'navient', 'repayment'}\n",
      "Common features count is 2\n"
     ]
    }
   ],
   "source": [
    "n = 10\n",
    "print(f'Sklearn top {n} features')\n",
    "sklearn_top_features = print_top_n(\n",
    "    tfidf_vectorizer,\n",
    "    sklearn_binary_classifier.coef_,\n",
    "    ['Student Loan'],\n",
    "    n=n)\n",
    "\n",
    "print('----------------------------------------')\n",
    "print(f'Custom Imp top {n} features')\n",
    "custom_imp_top_features = print_top_n(\n",
    "    tfidf_vectorizer,\n",
    "    np.array([custom_binary_classifier_coeffs]),\n",
    "    ['Student Loan'],\n",
    "    n=n)\n",
    "\n",
    "print('----------------------------------------')\n",
    "common_features = set(sklearn_top_features).intersection(set(custom_imp_top_features))\n",
    "print(f'Common Features are {common_features}')\n",
    "print(f'Common features count is {len(common_features)}')"
   ]
  },
  {
   "cell_type": "markdown",
   "metadata": {},
   "source": [
    "### Model Evaluation"
   ]
  },
  {
   "cell_type": "code",
   "execution_count": 212,
   "metadata": {},
   "outputs": [],
   "source": [
    "from sklearn.model_selection import cross_val_score"
   ]
  },
  {
   "cell_type": "code",
   "execution_count": 217,
   "metadata": {},
   "outputs": [
    {
     "name": "stderr",
     "output_type": "stream",
     "text": [
      "/Users/pardeep/anaconda3/lib/python3.7/site-packages/sklearn/linear_model/_logistic.py:940: ConvergenceWarning: lbfgs failed to converge (status=1):\n",
      "STOP: TOTAL NO. of ITERATIONS REACHED LIMIT.\n",
      "\n",
      "Increase the number of iterations (max_iter) or scale the data as shown in:\n",
      "    https://scikit-learn.org/stable/modules/preprocessing.html\n",
      "Please also refer to the documentation for alternative solver options:\n",
      "    https://scikit-learn.org/stable/modules/linear_model.html#logistic-regression\n",
      "  extra_warning_msg=_LOGISTIC_SOLVER_CONVERGENCE_MSG)\n"
     ]
    }
   ],
   "source": [
    "cv_scores = cross_val_score(LogisticRegression(penalty='none', max_iter=1000, random_state=RANDOM_STATE),\n",
    "                            X_train_tfidf_vectorizer,\n",
    "                            y_train,\n",
    "                            cv=5)"
   ]
  },
  {
   "cell_type": "code",
   "execution_count": 218,
   "metadata": {},
   "outputs": [
    {
     "name": "stdout",
     "output_type": "stream",
     "text": [
      "0.8190625\n",
      "[0.8140625 0.83      0.806875  0.82375   0.820625 ]\n"
     ]
    }
   ],
   "source": [
    "print(cv_scores.mean())\n",
    "print(cv_scores)"
   ]
  },
  {
   "cell_type": "markdown",
   "metadata": {},
   "source": [
    "### Quality Metrics"
   ]
  },
  {
   "cell_type": "code",
   "execution_count": 41,
   "metadata": {},
   "outputs": [],
   "source": [
    "from sklearn.metrics import (accuracy_score,\n",
    "                             confusion_matrix)\n",
    "\n",
    "import seaborn as sns;\n",
    "sns.set()\n",
    "\n",
    "import matplotlib.pyplot as plt\n",
    "%matplotlib inline"
   ]
  },
  {
   "cell_type": "code",
   "execution_count": 42,
   "metadata": {},
   "outputs": [],
   "source": [
    "predictions = lr.predict(X_test_tfidf_vectorizer)"
   ]
  },
  {
   "cell_type": "code",
   "execution_count": 43,
   "metadata": {},
   "outputs": [
    {
     "data": {
      "text/plain": [
       "0.82425"
      ]
     },
     "execution_count": 43,
     "metadata": {},
     "output_type": "execute_result"
    }
   ],
   "source": [
    "accuracy_score(y_test, predictions)"
   ]
  },
  {
   "cell_type": "code",
   "execution_count": 44,
   "metadata": {},
   "outputs": [
    {
     "data": {
      "text/plain": [
       "array([[660,  32,  10,  80,  18],\n",
       "       [ 32, 634,  24,   5, 105],\n",
       "       [ 12,  38, 703,  10,  37],\n",
       "       [ 94,  21,   1, 676,   8],\n",
       "       [ 20, 120,  25,  11, 624]])"
      ]
     },
     "execution_count": 44,
     "metadata": {},
     "output_type": "execute_result"
    }
   ],
   "source": [
    "conf_matrix = confusion_matrix(y_test, predictions, labels=y_test.unique())\n",
    "conf_matrix"
   ]
  },
  {
   "cell_type": "code",
   "execution_count": 45,
   "metadata": {},
   "outputs": [
    {
     "data": {
      "text/plain": [
       "<matplotlib.axes._subplots.AxesSubplot at 0x7f2d516a93d0>"
      ]
     },
     "execution_count": 45,
     "metadata": {},
     "output_type": "execute_result"
    },
    {
     "data": {
      "image/png": "[encoded data removed]",
      "text/plain": [
       "<Figure size 432x288 with 2 Axes>"
      ]
     },
     "metadata": {
      "needs_background": "light"
     },
     "output_type": "display_data"
    }
   ],
   "source": [
    "sns.heatmap(conf_matrix,\n",
    "            cmap='YlGnBu',\n",
    "            annot=True,\n",
    "            fmt=\"d\",\n",
    "            xticklabels=y_test.unique(),\n",
    "            yticklabels=y_test.unique())"
   ]
  },
  {
   "cell_type": "markdown",
   "metadata": {},
   "source": [
    "### Model Evaluation on Test Dataset\n",
    "\n",
    "- Note: Retrain the model using full training dataset."
   ]
  },
  {
   "cell_type": "markdown",
   "metadata": {},
   "source": [
    "## Homework"
   ]
  },
  {
   "cell_type": "markdown",
   "metadata": {},
   "source": [
    "## Resources"
   ]
  }
 ],
 "metadata": {
  "kernelspec": {
   "display_name": "Python 3",
   "language": "python",
   "name": "python3"
  },
  "language_info": {
   "codemirror_mode": {
    "name": "ipython",
    "version": 3
   },
   "file_extension": ".py",
   "mimetype": "text/x-python",
   "name": "python",
   "nbconvert_exporter": "python",
   "pygments_lexer": "ipython3",
   "version": "3.7.3"
  },
  "toc": {
   "base_numbering": 1,
   "nav_menu": {},
   "number_sections": false,
   "sideBar": true,
   "skip_h1_title": false,
   "title_cell": "Text Classification using Logistic Regression",
   "title_sidebar": "Contents",
   "toc_cell": true,
   "toc_position": {},
   "toc_section_display": true,
   "toc_window_display": false
  }
 },
 "nbformat": 4,
 "nbformat_minor": 4
}
