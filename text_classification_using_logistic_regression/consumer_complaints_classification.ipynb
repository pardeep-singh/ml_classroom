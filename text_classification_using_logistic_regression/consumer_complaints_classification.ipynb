{
 "cells": [
  {
   "cell_type": "markdown",
   "metadata": {
    "toc": true
   },
   "source": [
    "<h1>Text Classification using Logistic Regression<span class=\"tocSkip\"></span></h1>\n",
    "<div class=\"toc\"><ul class=\"toc-item\"><li><span><a href=\"#Logistic-Regression-Theory\" data-toc-modified-id=\"Logistic-Regression-Theory-1\">Logistic Regression Theory</a></span><ul class=\"toc-item\"><li><span><a href=\"#Linear-Classifiers\" data-toc-modified-id=\"Linear-Classifiers-1.1\">Linear Classifiers</a></span></li><li><span><a href=\"#Logistic-Regression-Classifier\" data-toc-modified-id=\"Logistic-Regression-Classifier-1.2\">Logistic Regression Classifier</a></span><ul class=\"toc-item\"><li><span><a href=\"#Sigmoid-Function\" data-toc-modified-id=\"Sigmoid-Function-1.2.1\">Sigmoid Function</a></span></li><li><span><a href=\"#Maximum-Likelihood-Estimation(MLE)-Quality-Metric\" data-toc-modified-id=\"Maximum-Likelihood-Estimation(MLE)-Quality-Metric-1.2.2\">Maximum Likelihood Estimation(MLE) Quality Metric</a></span></li><li><span><a href=\"#Gradient-Ascent\" data-toc-modified-id=\"Gradient-Ascent-1.2.3\">Gradient Ascent</a></span></li><li><span><a href=\"#Multiclass-Classification:-One-v/s-All\" data-toc-modified-id=\"Multiclass-Classification:-One-v/s-All-1.2.4\">Multiclass Classification: One v/s All</a></span></li></ul></li></ul></li><li><span><a href=\"#Machine-Learning-Project-Lifecycle:-Second-Iteration\" data-toc-modified-id=\"Machine-Learning-Project-Lifecycle:-Second-Iteration-2\">Machine Learning Project Lifecycle: Second Iteration</a></span><ul class=\"toc-item\"><li><span><a href=\"#Problem-Statement\" data-toc-modified-id=\"Problem-Statement-2.1\">Problem Statement</a></span></li><li><span><a href=\"#Training-Data\" data-toc-modified-id=\"Training-Data-2.2\">Training Data</a></span></li><li><span><a href=\"#Preprocessing-+-Feature-Engineering\" data-toc-modified-id=\"Preprocessing-+-Feature-Engineering-2.3\">Preprocessing + Feature Engineering</a></span></li><li><span><a href=\"#Machine-Learning-Algorithm:-Logistic-Regression\" data-toc-modified-id=\"Machine-Learning-Algorithm:-Logistic-Regression-2.4\">Machine Learning Algorithm: Logistic Regression</a></span><ul class=\"toc-item\"><li><span><a href=\"#Binary-Classification\" data-toc-modified-id=\"Binary-Classification-2.4.1\">Binary Classification</a></span><ul class=\"toc-item\"><li><span><a href=\"#Using-Sklearn-Implementation-for-Student-Loan-Class-Prediction\" data-toc-modified-id=\"Using-Sklearn-Implementation-for-Student-Loan-Class-Prediction-2.4.1.1\">Using Sklearn Implementation for Student Loan Class Prediction</a></span></li><li><span><a href=\"#Custom-Implementation-for-Student-Loan-Class-Prediction\" data-toc-modified-id=\"Custom-Implementation-for-Student-Loan-Class-Prediction-2.4.1.2\">Custom Implementation for Student Loan Class Prediction</a></span></li></ul></li><li><span><a href=\"#Multiclass-Classifier\" data-toc-modified-id=\"Multiclass-Classifier-2.4.2\">Multiclass Classifier</a></span><ul class=\"toc-item\"><li><span><a href=\"#Using-Sklearn\" data-toc-modified-id=\"Using-Sklearn-2.4.2.1\">Using Sklearn</a></span></li><li><span><a href=\"#Using-Custom-Implementation\" data-toc-modified-id=\"Using-Custom-Implementation-2.4.2.2\">Using Custom Implementation</a></span></li></ul></li></ul></li><li><span><a href=\"#Model-Evaluation\" data-toc-modified-id=\"Model-Evaluation-2.5\">Model Evaluation</a></span></li><li><span><a href=\"#Quality-Metrics\" data-toc-modified-id=\"Quality-Metrics-2.6\">Quality Metrics</a></span></li><li><span><a href=\"#Model-Evaluation-on-Test-Dataset\" data-toc-modified-id=\"Model-Evaluation-on-Test-Dataset-2.7\">Model Evaluation on Test Dataset</a></span></li></ul></li><li><span><a href=\"#Homework\" data-toc-modified-id=\"Homework-3\">Homework</a></span></li><li><span><a href=\"#Resources\" data-toc-modified-id=\"Resources-4\">Resources</a></span></li></ul></div>"
   ]
  },
  {
   "cell_type": "markdown",
   "metadata": {},
   "source": [
    "<img src=\"../images/classification.png\" alt=\"Classification\" style=\"width: 700px;\"/>"
   ]
  },
  {
   "cell_type": "markdown",
   "metadata": {},
   "source": [
    "## Logistic Regression Theory"
   ]
  },
  {
   "cell_type": "markdown",
   "metadata": {},
   "source": [
    "### Linear Classifiers\n",
    "\n",
    "- Called Linear Classifiers because output is weighted sum of input features.\n",
    "- Training a classifier -> Learning the coefficients.\n",
    "\n",
    "<img src='../images/linear_classifier_decision_boundry.jpg' alt='Linear Classifier decision boundry' style=\"width: 600px;\" align=\"left\">"
   ]
  },
  {
   "cell_type": "markdown",
   "metadata": {},
   "source": [
    "**Linear Classifier Example**\n",
    "\n",
    "*Linear Classifier example to classify document to check whether documents belong to Student Loan class or not*\n",
    "\n",
    "*Training Data*\n",
    "\n",
    "- +1 -> Belongs to Student Loan class\n",
    "- -1 -> Doesnt belong to Student Loan Class\n",
    "\n",
    "| Document | +1 or -1|\n",
    "|:---------|:----------------:|\n",
    "| EMI is high on Student Loan. | +1 |\n",
    "| Interest is not great on Savings account.| -1 |\n",
    "| Interest on Student loan has decreased.| + 1|"
   ]
  },
  {
   "cell_type": "markdown",
   "metadata": {},
   "source": [
    "*Linear Classifier Model*\n",
    "\n",
    "| Word(x) | Coefficient| Coefficient Value|\n",
    "|:---------:|:----------------:| :----------------: |\n",
    "|  | $ w_0 $ |1.0 |\n",
    "| EMI | $ w_1 $ | 2.0 |\n",
    "| Student | $ w_2 $ | 3.0 |\n",
    "| Interest | $ w_3 $ | 1.0 |\n",
    "| Loan | $ w_4 $ | 1.0 |\n",
    "| Savings | $ w_5 $ | -3.0 |"
   ]
  },
  {
   "cell_type": "markdown",
   "metadata": {},
   "source": [
    "*Classification*\n",
    "\n",
    "$ y = sign(Score(x_i)) $\n",
    "\n",
    "    - if sign is +1, input document belongs to Student Loan class\n",
    "    - if sign is -1, input document doesn't belong to Student Loan class\n",
    "\n",
    "$ Score(x_i) = w_0 + w_1 * x_i[1] + ... +  w_d * x_i[d] = w ^ T . X_i $\n",
    "\n",
    "where\n",
    "\n",
    "- $ x_i $ -> $ x_d $ are features.\n",
    "- $ w_0 $ -> $ w_d $ are coefficients."
   ]
  },
  {
   "cell_type": "markdown",
   "metadata": {},
   "source": [
    "Assumes that x is 1 for all the token,\n",
    "\n",
    "Q) Given `EMI Student`, check if this tokenised sentence belongs to `Student Loan` product category or not?\n",
    "\n",
    "Q) Given `Interest Savings`, check if this tokenised sentence belongs to `Student Loan` product category or not?"
   ]
  },
  {
   "cell_type": "markdown",
   "metadata": {},
   "source": [
    "### Logistic Regression Classifier\n",
    "\n",
    "- Linear classifier/model which uses *Logistic/Logit Link Function* to shrink the output of $ Score(x_i) $ function to 0.0 - 1.0 probability range.\n",
    "\n",
    "$ P(y_i | x_i, w) = Link Function \\: ( \\: Score \\: ( \\: w \\: ^ t \\: . h(x) \\: ) \\:)$"
   ]
  },
  {
   "cell_type": "markdown",
   "metadata": {},
   "source": [
    "<img src='../images/logistic_classifier_to_lr_classifier.jpg' alt='Linear Classifier to LR Classifier' style=\"width: 500px;\" align=\"left\">"
   ]
  },
  {
   "cell_type": "markdown",
   "metadata": {},
   "source": [
    "#### Sigmoid Function\n",
    "\n",
    "- How to make predictions in terms of probability?\n",
    "\n",
    "$ sigmoid(Score) = 1 \\: / \\:  (1 + e ^ {-score}) $\n",
    "\n",
    "| Score | -${\\infty}$ | -2 | 0.0 | +2 | +${\\infty}$ |\n",
    "|:---------:|:-------:| :--: | :-------:| :-------:| :-------:|\n",
    "| sigmoid(Score)|0|.12 |.5|.88| 1| \n"
   ]
  },
  {
   "cell_type": "code",
   "execution_count": 1,
   "metadata": {},
   "outputs": [],
   "source": [
    "import numpy as np\n",
    "\n",
    "def sigmoid(value):\n",
    "    return 1 / (1 + np.exp(-value))"
   ]
  },
  {
   "cell_type": "code",
   "execution_count": 2,
   "metadata": {},
   "outputs": [],
   "source": [
    "import seaborn as sns;\n",
    "sns.set()\n",
    "\n",
    "import matplotlib.pyplot as plt\n",
    "%matplotlib inline\n",
    "\n",
    "sns.set(style=\"whitegrid\")"
   ]
  },
  {
   "cell_type": "code",
   "execution_count": 3,
   "metadata": {},
   "outputs": [
    {
     "data": {
      "image/png": "[encoded data removed]",
      "text/plain": [
       "<Figure size 432x288 with 1 Axes>"
      ]
     },
     "metadata": {},
     "output_type": "display_data"
    }
   ],
   "source": [
    "x = np.linspace(-6, 6)\n",
    "y = sigmoid(x)\n",
    "\n",
    "data = {'Score': x, 'Sigmoid(Score)': y}\n",
    "ax = sns.lineplot(x='Score', y='Sigmoid(Score)', data=data)\n",
    "ax.set(xlabel='Score', ylabel='Sigmoid(Score)')\n",
    "ax.set(title='Sigmoid Link function');"
   ]
  },
  {
   "cell_type": "markdown",
   "metadata": {},
   "source": [
    "#### Maximum Likelihood Estimation(MLE) Quality Metric\n",
    "\n",
    "- *How to evaluate the learned coefficients?*\n",
    "\n",
    "    Model which returns the highest likelihood given the $ w_i ... w_d $\n",
    "\n",
    "\n",
    "| Data Point | X[1] | X[2]  |  y  | Choose w to maximise                  |\n",
    "|:----------:|:----:| :---: | :-: | :-----------------------------------: |\n",
    "| x,y      | 2    | 1     | +1  | $ P(y = +1 | x, w) $   |\n",
    "| x,y      | 0    | 2     | -1  | $ P(y = -1 | x, w) $   |\n",
    "| x,y      | 6    | 7     | -1  | $ P(y = -1 | x, w) $   |\n",
    "| x,y      | 19   | 1     | +1  | $ P(y = +1 | x, w) $  |\n",
    "\n",
    "$ likelihood(w) = {\\displaystyle \\prod_{i=1}^N P(y_i | x_i, w)} $\n",
    "\n",
    "<img src='../images/likelihood_example.jpg' alt='Maximum Likelihood Example' style=\"width: 600px;\" align=\"left\">"
   ]
  },
  {
   "cell_type": "markdown",
   "metadata": {},
   "source": [
    "#### Gradient Ascent\n",
    "\n",
    "- How to learn the coefficients?\n",
    "\n",
    "**Q) Given a hill top & a condition that you can move in direction to reach the top of the hill from the current position which is at the bottom of hill, What process you will follow reach the top of the hill?**"
   ]
  },
  {
   "cell_type": "markdown",
   "metadata": {},
   "source": [
    "*High Level Algorithm for Single data point*\n",
    "\n",
    "- while not converged:\n",
    "\n",
    "    - $ \\displaystyle w ^ {t + 1} = w ^ {t}  + n {\\displaystyle \\frac{ \\partial l}{\\partial w}}$\n",
    "    \n",
    "For multiple data points, we will use d + 1 dimensional vector as\n",
    "\n",
    "$ \\displaystyle \\nabla l (w) = \\begin{vmatrix} {\\displaystyle \\frac{ \\partial l}{\\partial w_0}} \\\\ {\\displaystyle \\frac{ \\partial l}{\\partial w_1}} \\\\ ... \\\\ {\\displaystyle \\frac{ \\partial l}{\\partial w_d}} \\end{vmatrix}$\n"
   ]
  },
  {
   "cell_type": "code",
   "execution_count": 64,
   "metadata": {},
   "outputs": [
    {
     "data": {
      "image/png": "[encoded data removed]",
      "text/plain": [
       "<Figure size 1152x345.6 with 3 Axes>"
      ]
     },
     "metadata": {
      "needs_background": "light"
     },
     "output_type": "display_data"
    }
   ],
   "source": [
    "import numpy as np\n",
    "import matplotlib.pyplot as plt\n",
    "%matplotlib inline\n",
    "plt.rcParams[\"figure.figsize\"] = 8, 8\n",
    "from mpl_toolkits.mplot3d import axes3d\n",
    "\n",
    "x1 = np.linspace(-6, 8, 32)\n",
    "x2 = np.linspace(-6, 8, 32)\n",
    "\n",
    "X1, X2 = np.meshgrid(x1, x2)\n",
    "Y = np.sqrt(np.square(X1) + np.square(X2))\n",
    "\n",
    "#fig = plt.figure(figsize=plt.figaspect(0.5))\n",
    "fig = plt.figure(figsize=plt.figaspect(0.3))\n",
    "\n",
    "# First Plot\n",
    "ax = fig.add_subplot(1, 2, 1, projection='3d')\n",
    "\n",
    "surf = ax.plot_surface(X1, X2, Y * -1, cmap='jet')\n",
    "fig.colorbar(surf, shrink=0.5, aspect=10)\n",
    "\n",
    "# Second Plot\n",
    "ax = fig.add_subplot(1, 2, 2)\n",
    "\n",
    "cp = plt.contour(X1, X2, Y)\n",
    "plt.clabel(cp, inline=1, fontsize=10)\n",
    "plt.xlabel('Weight of #Loan')\n",
    "plt.ylabel('Weight of #Savings')\n",
    "plt.show()"
   ]
  },
  {
   "cell_type": "markdown",
   "metadata": {},
   "source": [
    "**Computing Coefficeints using Partial Derivatives**\n",
    "\n",
    "$ \\displaystyle w ^ {t + 1} = w ^ {t}  + n {\\displaystyle \\frac{ \\partial l}{\\partial w}}$\n",
    "\n",
    "$ {\\displaystyle \\frac{ \\partial (w)}{\\partial w_j}} = \\displaystyle \\sum_{i=1}^N h_j(x_i) (1[y_i = +1] - P(y = +1 | x_i, w))$\n",
    "\n",
    "where\n",
    "\n",
    "- $1[y_i = +1]$ is 1 if $y_i$ = +1 or 0 if $y_i$ = -1\n",
    "\n",
    "*Example*\n",
    "\n",
    "- $ w_1 $ = 1\n",
    "- n = 0.1\n",
    "\n",
    "| X[1] | X[2]  |  y | $P(y_i)$ | Contribution to $ w_1 $ derivative |\n",
    "|----| --- | ---- | :---------------------: | -------------------------- |\n",
    "| 2    | 1     | +1  |         00.5         | ?   |\n",
    "| 0    | 2     | -1  |          00.02       | ?   |\n",
    "| 3    | 3     | -1  |      00.05        | ?   |\n",
    "\n",
    "**Q) What will be the value of $w_t+1$?**"
   ]
  },
  {
   "cell_type": "markdown",
   "metadata": {},
   "source": [
    "*Coefficients update rule during each iteration*\n",
    "\n",
    "Let assume that  $h_j(x_i) = 1$ in $ {\\displaystyle \\frac{ \\partial l(w)}{\\partial w_j}} = \\displaystyle \\sum_{i=1}^N h_j(x_i) (1[y_i = +1] - P(y = +1 | x_i, w))$\n",
    "\n",
    "- $P(y=+1|x_i, w) \\approx 1$\n",
    "    - if $y_i=+1$\n",
    "        - $\\Delta_i = 1 * (1 - 1) = 0$\n",
    "        - Dont change anything as predection is correct\n",
    "    - elif $y_i=-1$\n",
    "        - $\\Delta_i = 1 * (0 - 1) = -1$\n",
    "        - decrease $w_j$ for next iteration so that $P(y=+1|x_i, w)$ also decreases\n",
    "- $P(y=+1|x_i, w) \\approx 0$\n",
    "    - if $y_i=-1$\n",
    "        - $\\Delta_i = 1 * (0 - 0) = 0$\n",
    "        - Dont change anything as predection is correct\n",
    "    - elif $y_i=+1$\n",
    "        - $\\Delta_i = 1 * (1 - 0) = 1$\n",
    "        - increase $w_j$ for next iteration so that $P(y=+1|x_i, w)$ also increase"
   ]
  },
  {
   "cell_type": "markdown",
   "metadata": {},
   "source": [
    "#### Multiclass Classification: One v/s All\n",
    "<img src='../images/one_vs_all_lr_classifier_example.png' alt='One v/s All Classifier Example' style=\"width: 600px;\" align=\"left\">"
   ]
  },
  {
   "cell_type": "markdown",
   "metadata": {},
   "source": [
    "## Machine Learning Project Lifecycle: Second Iteration"
   ]
  },
  {
   "cell_type": "markdown",
   "metadata": {},
   "source": [
    "### Problem Statement\n",
    "\n",
    "Classify the Financial Consumer Complaints into different Product Categories given consumer complaint text.\n",
    "\n",
    "**Product Categories**\n",
    "\n",
    "- Credit reporting, repair, or other\n",
    "- Debt collection\n",
    "- Student loan\n",
    "- Money transfer, virtual currency, or money service\n",
    "- Bank account or service"
   ]
  },
  {
   "cell_type": "markdown",
   "metadata": {},
   "source": [
    "### Training Data\n",
    "\n",
    "[Kaggle: Consumer Complaint Database](https://www.kaggle.com/selener/consumer-complaint-database)"
   ]
  },
  {
   "cell_type": "code",
   "execution_count": 5,
   "metadata": {},
   "outputs": [],
   "source": [
    "import pandas as pd"
   ]
  },
  {
   "cell_type": "code",
   "execution_count": 6,
   "metadata": {},
   "outputs": [],
   "source": [
    "complaints_training_dataset = pd.read_csv('../datasets/consumer_complaints_training_dataset.csv')"
   ]
  },
  {
   "cell_type": "code",
   "execution_count": 7,
   "metadata": {},
   "outputs": [
    {
     "data": {
      "text/html": [
       "<div>\n",
       "<style scoped>\n",
       "    .dataframe tbody tr th:only-of-type {\n",
       "        vertical-align: middle;\n",
       "    }\n",
       "\n",
       "    .dataframe tbody tr th {\n",
       "        vertical-align: top;\n",
       "    }\n",
       "\n",
       "    .dataframe thead th {\n",
       "        text-align: right;\n",
       "    }\n",
       "</style>\n",
       "<table border=\"1\" class=\"dataframe\">\n",
       "  <thead>\n",
       "    <tr style=\"text-align: right;\">\n",
       "      <th></th>\n",
       "      <th>Product</th>\n",
       "      <th>Complaint_text</th>\n",
       "    </tr>\n",
       "  </thead>\n",
       "  <tbody>\n",
       "    <tr>\n",
       "      <th>0</th>\n",
       "      <td>Credit reporting, repair, or other</td>\n",
       "      <td>My name is  XXXX   XXXX   XXXX , not  XXXX   X...</td>\n",
       "    </tr>\n",
       "    <tr>\n",
       "      <th>1</th>\n",
       "      <td>Credit reporting, repair, or other</td>\n",
       "      <td>I was shocked when I reviewed my credit report...</td>\n",
       "    </tr>\n",
       "    <tr>\n",
       "      <th>2</th>\n",
       "      <td>Credit reporting, repair, or other</td>\n",
       "      <td>Equifax misused of credit file. Disputing acco...</td>\n",
       "    </tr>\n",
       "    <tr>\n",
       "      <th>3</th>\n",
       "      <td>Credit reporting, repair, or other</td>\n",
       "      <td>I am disturbed that you continue to list the v...</td>\n",
       "    </tr>\n",
       "    <tr>\n",
       "      <th>4</th>\n",
       "      <td>Credit reporting, repair, or other</td>\n",
       "      <td>I went to multiple different credit report web...</td>\n",
       "    </tr>\n",
       "  </tbody>\n",
       "</table>\n",
       "</div>"
      ],
      "text/plain": [
       "                              Product  \\\n",
       "0  Credit reporting, repair, or other   \n",
       "1  Credit reporting, repair, or other   \n",
       "2  Credit reporting, repair, or other   \n",
       "3  Credit reporting, repair, or other   \n",
       "4  Credit reporting, repair, or other   \n",
       "\n",
       "                                      Complaint_text  \n",
       "0  My name is  XXXX   XXXX   XXXX , not  XXXX   X...  \n",
       "1  I was shocked when I reviewed my credit report...  \n",
       "2  Equifax misused of credit file. Disputing acco...  \n",
       "3  I am disturbed that you continue to list the v...  \n",
       "4  I went to multiple different credit report web...  "
      ]
     },
     "execution_count": 7,
     "metadata": {},
     "output_type": "execute_result"
    }
   ],
   "source": [
    "complaints_training_dataset.head()"
   ]
  },
  {
   "cell_type": "code",
   "execution_count": 8,
   "metadata": {},
   "outputs": [
    {
     "name": "stdout",
     "output_type": "stream",
     "text": [
      "<class 'pandas.core.frame.DataFrame'>\n",
      "RangeIndex: 20000 entries, 0 to 19999\n",
      "Data columns (total 2 columns):\n",
      " #   Column          Non-Null Count  Dtype \n",
      "---  ------          --------------  ----- \n",
      " 0   Product         20000 non-null  object\n",
      " 1   Complaint_text  20000 non-null  object\n",
      "dtypes: object(2)\n",
      "memory usage: 312.6+ KB\n"
     ]
    }
   ],
   "source": [
    "complaints_training_dataset.info()"
   ]
  },
  {
   "cell_type": "markdown",
   "metadata": {},
   "source": [
    "**Q) What is the distribution of complaints for each product type?**"
   ]
  },
  {
   "cell_type": "code",
   "execution_count": 9,
   "metadata": {},
   "outputs": [
    {
     "data": {
      "text/plain": [
       "array(['Credit reporting, repair, or other', 'Debt collection',\n",
       "       'Student loan',\n",
       "       'Money transfer, virtual currency, or money service',\n",
       "       'Bank account or service'], dtype=object)"
      ]
     },
     "execution_count": 9,
     "metadata": {},
     "output_type": "execute_result"
    }
   ],
   "source": [
    "complaints_training_dataset.Product.unique()"
   ]
  },
  {
   "cell_type": "code",
   "execution_count": 10,
   "metadata": {},
   "outputs": [
    {
     "data": {
      "text/html": [
       "<div>\n",
       "<style scoped>\n",
       "    .dataframe tbody tr th:only-of-type {\n",
       "        vertical-align: middle;\n",
       "    }\n",
       "\n",
       "    .dataframe tbody tr th {\n",
       "        vertical-align: top;\n",
       "    }\n",
       "\n",
       "    .dataframe thead th {\n",
       "        text-align: right;\n",
       "    }\n",
       "</style>\n",
       "<table border=\"1\" class=\"dataframe\">\n",
       "  <thead>\n",
       "    <tr style=\"text-align: right;\">\n",
       "      <th></th>\n",
       "      <th>Count</th>\n",
       "    </tr>\n",
       "    <tr>\n",
       "      <th>Product</th>\n",
       "      <th></th>\n",
       "    </tr>\n",
       "  </thead>\n",
       "  <tbody>\n",
       "    <tr>\n",
       "      <th>Bank account or service</th>\n",
       "      <td>4000</td>\n",
       "    </tr>\n",
       "    <tr>\n",
       "      <th>Credit reporting, repair, or other</th>\n",
       "      <td>4000</td>\n",
       "    </tr>\n",
       "    <tr>\n",
       "      <th>Debt collection</th>\n",
       "      <td>4000</td>\n",
       "    </tr>\n",
       "    <tr>\n",
       "      <th>Money transfer, virtual currency, or money service</th>\n",
       "      <td>4000</td>\n",
       "    </tr>\n",
       "    <tr>\n",
       "      <th>Student loan</th>\n",
       "      <td>4000</td>\n",
       "    </tr>\n",
       "  </tbody>\n",
       "</table>\n",
       "</div>"
      ],
      "text/plain": [
       "                                                    Count\n",
       "Product                                                  \n",
       "Bank account or service                              4000\n",
       "Credit reporting, repair, or other                   4000\n",
       "Debt collection                                      4000\n",
       "Money transfer, virtual currency, or money service   4000\n",
       "Student loan                                         4000"
      ]
     },
     "execution_count": 10,
     "metadata": {},
     "output_type": "execute_result"
    }
   ],
   "source": [
    "complaints_training_dataset\\\n",
    "    .groupby('Product')\\\n",
    "    [['Complaint_text']]\\\n",
    "    .count()\\\n",
    "    .rename(columns={'Complaint_text': 'Count'})\\\n",
    "    .sort_values('Count', ascending=False)"
   ]
  },
  {
   "cell_type": "markdown",
   "metadata": {},
   "source": [
    "**Q) Find out the Occurances of Duplicate Text messages if any?**"
   ]
  },
  {
   "cell_type": "code",
   "execution_count": 11,
   "metadata": {},
   "outputs": [
    {
     "data": {
      "text/plain": [
       "19913"
      ]
     },
     "execution_count": 11,
     "metadata": {},
     "output_type": "execute_result"
    }
   ],
   "source": [
    "complaints_training_dataset['Complaint_text'].nunique()"
   ]
  },
  {
   "cell_type": "code",
   "execution_count": 12,
   "metadata": {},
   "outputs": [],
   "source": [
    "duplicate_complaints = complaints_training_dataset['Complaint_text']\\\n",
    "    .value_counts()\\\n",
    "    [complaints_training_dataset['Complaint_text'].value_counts() > 2].index"
   ]
  },
  {
   "cell_type": "code",
   "execution_count": 13,
   "metadata": {},
   "outputs": [
    {
     "data": {
      "text/plain": [
       "9"
      ]
     },
     "execution_count": 13,
     "metadata": {},
     "output_type": "execute_result"
    }
   ],
   "source": [
    "len(duplicate_complaints)"
   ]
  },
  {
   "cell_type": "markdown",
   "metadata": {},
   "source": [
    "### Preprocessing + Feature Engineering"
   ]
  },
  {
   "cell_type": "code",
   "execution_count": 14,
   "metadata": {},
   "outputs": [],
   "source": [
    "from sklearn.feature_extraction.text import CountVectorizer\n",
    "from sklearn.model_selection import train_test_split\n",
    "\n",
    "RANDOM_STATE = 19"
   ]
  },
  {
   "cell_type": "code",
   "execution_count": 15,
   "metadata": {},
   "outputs": [],
   "source": [
    "count_vectorizer = CountVectorizer(stop_words='english', max_features=5000)"
   ]
  },
  {
   "cell_type": "code",
   "execution_count": 16,
   "metadata": {},
   "outputs": [],
   "source": [
    "X_train, X_test, y_train, y_test = train_test_split(\n",
    "    complaints_training_dataset['Complaint_text'],\n",
    "    complaints_training_dataset['Product'],\n",
    "    test_size=.2,\n",
    "    stratify=complaints_training_dataset['Product'],\n",
    "    random_state=RANDOM_STATE)"
   ]
  },
  {
   "cell_type": "code",
   "execution_count": 17,
   "metadata": {},
   "outputs": [
    {
     "data": {
      "text/plain": [
       "((16000,), (4000,), (16000,), (4000,))"
      ]
     },
     "execution_count": 17,
     "metadata": {},
     "output_type": "execute_result"
    }
   ],
   "source": [
    "X_train.shape, X_test.shape, y_train.shape, y_test.shape"
   ]
  },
  {
   "cell_type": "code",
   "execution_count": 18,
   "metadata": {},
   "outputs": [],
   "source": [
    "X_train_count_vectorizer = count_vectorizer.fit_transform(X_train)\n",
    "X_test_count_vectorizer = count_vectorizer.transform(X_test)"
   ]
  },
  {
   "cell_type": "code",
   "execution_count": 19,
   "metadata": {},
   "outputs": [
    {
     "data": {
      "text/plain": [
       "5000"
      ]
     },
     "execution_count": 19,
     "metadata": {},
     "output_type": "execute_result"
    }
   ],
   "source": [
    "len(count_vectorizer.get_feature_names())"
   ]
  },
  {
   "cell_type": "code",
   "execution_count": 20,
   "metadata": {},
   "outputs": [
    {
     "data": {
      "text/plain": [
       "['00', '000', '10', '100', '1000', '10000', '100000', '1005', '11', '110']"
      ]
     },
     "execution_count": 20,
     "metadata": {},
     "output_type": "execute_result"
    }
   ],
   "source": [
    "count_vectorizer.get_feature_names()[:10]"
   ]
  },
  {
   "cell_type": "code",
   "execution_count": 21,
   "metadata": {},
   "outputs": [
    {
     "data": {
      "text/plain": [
       "[('xxxx', 4976),\n",
       " ('account', 322),\n",
       " ('listed', 2727),\n",
       " ('credit', 1279),\n",
       " ('report', 3828),\n",
       " ('experian', 1842),\n",
       " ('paid', 3234),\n",
       " ('closed', 1021),\n",
       " ('2007', 63),\n",
       " ('like', 2712)]"
      ]
     },
     "execution_count": 21,
     "metadata": {},
     "output_type": "execute_result"
    }
   ],
   "source": [
    "list(count_vectorizer.vocabulary_.items())[:10]"
   ]
  },
  {
   "cell_type": "code",
   "execution_count": 22,
   "metadata": {},
   "outputs": [
    {
     "data": {
      "text/plain": [
       "((16000, 5000), (4000, 5000))"
      ]
     },
     "execution_count": 22,
     "metadata": {},
     "output_type": "execute_result"
    }
   ],
   "source": [
    "X_train_count_vectorizer.shape, X_test_count_vectorizer.shape"
   ]
  },
  {
   "cell_type": "markdown",
   "metadata": {},
   "source": [
    "### Machine Learning Algorithm: Logistic Regression"
   ]
  },
  {
   "cell_type": "markdown",
   "metadata": {},
   "source": [
    "#### Binary Classification"
   ]
  },
  {
   "cell_type": "markdown",
   "metadata": {},
   "source": [
    "##### Using Sklearn Implementation for Student Loan Class Prediction"
   ]
  },
  {
   "cell_type": "code",
   "execution_count": 23,
   "metadata": {},
   "outputs": [],
   "source": [
    "from sklearn.linear_model import LogisticRegression\n",
    "from sklearn.metrics import accuracy_score"
   ]
  },
  {
   "cell_type": "code",
   "execution_count": 24,
   "metadata": {},
   "outputs": [],
   "source": [
    "sklearn_binary_classifier = LogisticRegression(penalty='none',\n",
    "                                               max_iter=101,\n",
    "                                               random_state=RANDOM_STATE)"
   ]
  },
  {
   "cell_type": "code",
   "execution_count": 25,
   "metadata": {},
   "outputs": [
    {
     "name": "stderr",
     "output_type": "stream",
     "text": [
      "/usr/local/lib/python3.8/site-packages/sklearn/linear_model/_logistic.py:937: ConvergenceWarning: lbfgs failed to converge (status=1):\n",
      "STOP: TOTAL NO. of ITERATIONS REACHED LIMIT.\n",
      "\n",
      "Increase the number of iterations (max_iter) or scale the data as shown in:\n",
      "    https://scikit-learn.org/stable/modules/preprocessing.html.\n",
      "Please also refer to the documentation for alternative solver options:\n",
      "    https://scikit-learn.org/stable/modules/linear_model.html#logistic-regression\n",
      "  n_iter_i = _check_optimize_result(\n"
     ]
    },
    {
     "data": {
      "text/plain": [
       "LogisticRegression(C=1.0, class_weight=None, dual=False, fit_intercept=True,\n",
       "                   intercept_scaling=1, l1_ratio=None, max_iter=101,\n",
       "                   multi_class='auto', n_jobs=None, penalty='none',\n",
       "                   random_state=19, solver='lbfgs', tol=0.0001, verbose=0,\n",
       "                   warm_start=False)"
      ]
     },
     "execution_count": 25,
     "metadata": {},
     "output_type": "execute_result"
    }
   ],
   "source": [
    "sklearn_binary_classifier.fit(X_train_count_vectorizer, y_train == 'Student loan')"
   ]
  },
  {
   "cell_type": "code",
   "execution_count": 26,
   "metadata": {},
   "outputs": [],
   "source": [
    "sklearn_binary_classifier_predictions = sklearn_binary_classifier.predict(X_test_count_vectorizer)"
   ]
  },
  {
   "cell_type": "code",
   "execution_count": 27,
   "metadata": {},
   "outputs": [
    {
     "data": {
      "text/plain": [
       "0.954"
      ]
     },
     "execution_count": 27,
     "metadata": {},
     "output_type": "execute_result"
    }
   ],
   "source": [
    "sklearn_binary_classifier_score = accuracy_score(y_test == 'Student loan', sklearn_binary_classifier_predictions)\n",
    "sklearn_binary_classifier_score"
   ]
  },
  {
   "cell_type": "markdown",
   "metadata": {},
   "source": [
    "##### Custom Implementation for Student Loan Class Prediction"
   ]
  },
  {
   "cell_type": "markdown",
   "metadata": {},
   "source": [
    "**Estimating Conditional Probability using Link Function**\n",
    "\n",
    "$ \\displaystyle P(y_i = +1 | \\mathbf{x}_i,\\mathbf{w}) = \\frac{1}{1 + \\exp(-\\mathbf{w}^T h(\\mathbf{x}_i))} $"
   ]
  },
  {
   "cell_type": "code",
   "execution_count": 65,
   "metadata": {},
   "outputs": [],
   "source": [
    "def sigmoid(scores):\n",
    "    return 1.0 / (1 + np.exp(-scores))\n",
    "\n",
    "def predict_probability(feature_matrix, coefficients):\n",
    "    scores = np.dot(feature_matrix, coefficients)\n",
    "    predictions = sigmoid(scores)\n",
    "    return predictions"
   ]
  },
  {
   "cell_type": "code",
   "execution_count": 66,
   "metadata": {},
   "outputs": [
    {
     "name": "stdout",
     "output_type": "stream",
     "text": [
      "The following outputs must match \n",
      "------------------------------------------------\n",
      "correct_predictions           = [0.98201379 0.26894142]\n",
      "output of predict_probability = [0.98201379 0.26894142]\n"
     ]
    }
   ],
   "source": [
    "dummy_feature_matrix = np.array([[1.,2.,3.], [1.,-1.,-1]])\n",
    "dummy_coefficients = np.array([1., 3., -1.])\n",
    "\n",
    "correct_scores      = np.array( [ 1.*1. + 2.*3. + 3.*(-1.),          1.*1. + (-1.)*3. + (-1.)*(-1.) ] )\n",
    "correct_predictions = np.array( [ 1./(1+np.exp(-correct_scores[0])), 1./(1+np.exp(-correct_scores[1])) ] )\n",
    "\n",
    "print('The following outputs must match ')\n",
    "print('------------------------------------------------')\n",
    "print('correct_predictions           =', correct_predictions)\n",
    "print('output of predict_probability =', predict_probability(dummy_feature_matrix, dummy_coefficients))"
   ]
  },
  {
   "cell_type": "markdown",
   "metadata": {},
   "source": [
    "**Compute derivative with respect to a single coefficient**\n",
    "\n",
    "$\n",
    "\\displaystyle \\frac{\\partial\\ell}{\\partial w_j} = \\sum_{i=1}^N h_j(\\mathbf{x}_i)\\left(\\mathbf{1}[y_i = +1] - P(y_i = +1 | \\mathbf{x}_i, \\mathbf{w})\\right)\n",
    "$\n",
    "\n",
    "We will now write a function that computes the derivative of log likelihood with respect to a single coefficient $w_j$. The function accepts two arguments:\n",
    "* `errors` vector containing $\\mathbf{1}[y_i = +1] - P(y_i = +1 | \\mathbf{x}_i, \\mathbf{w})$ for all $i$.\n",
    "* `feature` vector containing $h_j(\\mathbf{x}_i)$  for all $i$."
   ]
  },
  {
   "cell_type": "code",
   "execution_count": 30,
   "metadata": {},
   "outputs": [],
   "source": [
    "def feature_derivative(errors, feature):\n",
    "    derivative = np.dot(errors, feature)\n",
    "    return derivative"
   ]
  },
  {
   "cell_type": "markdown",
   "metadata": {},
   "source": [
    "**Compute log likelihood which is given by**\n",
    "\n",
    "$ \\ell\\ell(\\mathbf{w}) = \\sum_{i=1}^N \\Big( (\\mathbf{1}[y_i = +1] - 1)\\mathbf{w}^T h(\\mathbf{x}_i) - \\ln\\left(1 + \\exp(-\\mathbf{w}^T h(\\mathbf{x}_i))\\right) \\Big) $"
   ]
  },
  {
   "cell_type": "code",
   "execution_count": 31,
   "metadata": {},
   "outputs": [],
   "source": [
    "def compute_log_likelihood(feature_matrix, target_labels, target_label, coefficients):\n",
    "    indicator = (target_labels == target_label)\n",
    "    scores = np.dot(feature_matrix, coefficients)\n",
    "    likelihood = np.sum((indicator - 1) * scores - np.log(1 + np.exp(-scores)))\n",
    "    return likelihood"
   ]
  },
  {
   "cell_type": "code",
   "execution_count": 67,
   "metadata": {},
   "outputs": [
    {
     "name": "stdout",
     "output_type": "stream",
     "text": [
      "The following outputs must match \n",
      "------------------------------------------------\n",
      "correct_log_likelihood           = -5.331411615436032\n",
      "output of compute_log_likelihood = -5.331411615436032\n"
     ]
    }
   ],
   "source": [
    "dummy_feature_matrix = np.array([[1.,2.,3.], [1.,-1.,-1]])\n",
    "dummy_coefficients = np.array([1., 3., -1.])\n",
    "dummy_sentiment = np.array([-1, 1])\n",
    "\n",
    "correct_indicators = np.array([ -1==+1, 1==+1])\n",
    "correct_scores      = np.array( [ 1.*1. + 2.*3. + 3.*(-1.),  1.*1. + (-1.)*3. + (-1.)*(-1.) ] )\n",
    "correct_first_term  = np.array( [ (correct_indicators[0]-1)*correct_scores[0],\n",
    "                                 (correct_indicators[1]-1)*correct_scores[1] ] )\n",
    "correct_second_term = np.array( [ np.log(1. + np.exp(-correct_scores[0])), \n",
    "                                 np.log(1. + np.exp(-correct_scores[1])) ] )\n",
    "\n",
    "correct_ll          =      sum( [ correct_first_term[0]-correct_second_term[0],\n",
    "                                 correct_first_term[1]-correct_second_term[1] ] ) \n",
    "\n",
    "print('The following outputs must match ')\n",
    "print('------------------------------------------------')\n",
    "print('correct_log_likelihood           =', correct_ll)\n",
    "print('output of compute_log_likelihood =', compute_log_likelihood(dummy_feature_matrix,\n",
    "                                                                   dummy_sentiment,\n",
    "                                                                   1,\n",
    "                                                                   dummy_coefficients))"
   ]
  },
  {
   "cell_type": "markdown",
   "metadata": {},
   "source": [
    "**Any Questions????**"
   ]
  },
  {
   "cell_type": "markdown",
   "metadata": {},
   "source": [
    "**Train Binary Logistic Regression Classifier model using Gradient Ascent**"
   ]
  },
  {
   "cell_type": "code",
   "execution_count": 33,
   "metadata": {},
   "outputs": [],
   "source": [
    "def train_binary_lr_classifier(\n",
    "        features_matrix, target_labels, target_label,\n",
    "        initial_coefficients, step_size, max_iterations):\n",
    "    coefficients = np.array(initial_coefficients)\n",
    "    for iteration in range(max_iterations):\n",
    "        predictions = predict_probability(features_matrix, coefficients)\n",
    "        \n",
    "        indicator = (target_labels == target_label)\n",
    "        \n",
    "        errors = indicator - predictions\n",
    "        \n",
    "        for j in range(len(coefficients)):\n",
    "            derivative = feature_derivative(errors, features_matrix[:, j])\n",
    "            coefficients[j] += step_size * derivative\n",
    "            \n",
    "        if (iteration <= 100 and iteration % 10 == 0)\\\n",
    "            or (iteration <= 1000 and iteration % 100 == 0)\\\n",
    "            or (iteration <= 10000 and iteration % 1000 == 0)\\\n",
    "            or iteration % 10000 == 0:\n",
    "            lp = compute_log_likelihood(features_matrix, target_labels,\n",
    "                                        target_label, coefficients)\n",
    "            print('----------------------------------')\n",
    "            print(f'Iteration: {iteration} -> Likelihood value: {lp} for {target_label} classifier.')\n",
    "            predicted_probabilities = predict_probability(features_matrix, coefficients)\n",
    "            predicted_classes = predicted_probabilities > .5\n",
    "            correct_predictions = predicted_classes == (target_labels == target_label)\n",
    "            print(f'Minimum Probability:{predictions.min()},',\n",
    "                  f'Maximum Probability:{predictions.max()},',\n",
    "                  f'Current Accuracy: {correct_predictions.sum() / len(target_labels)}')\n",
    "    return coefficients"
   ]
  },
  {
   "cell_type": "code",
   "execution_count": 34,
   "metadata": {},
   "outputs": [],
   "source": [
    "def count_vectorized_features_to_features_matrix(count_vectorized_features):\n",
    "    constant_feature = np.ones((count_vectorized_features.shape[0], 1))\n",
    "    return np.hstack((constant_feature, count_vectorized_features.toarray()))"
   ]
  },
  {
   "cell_type": "code",
   "execution_count": 35,
   "metadata": {
    "scrolled": true
   },
   "outputs": [
    {
     "name": "stdout",
     "output_type": "stream",
     "text": [
      "(16000, 5001) (5001,)\n",
      "----------------------------------\n",
      "Iteration: 0 -> Likelihood value: -18351.684887894677 for Student loan classifier.\n",
      "Minimum Probability:0.5, Maximum Probability:0.5, Current Accuracy: 0.8033125\n",
      "----------------------------------\n",
      "Iteration: 10 -> Likelihood value: -6158.331576286401 for Student loan classifier.\n",
      "Minimum Probability:2.7025490668168023e-09, Maximum Probability:0.999999999982643, Current Accuracy: 0.891375\n",
      "----------------------------------\n",
      "Iteration: 20 -> Likelihood value: -4004.3037195526767 for Student loan classifier.\n",
      "Minimum Probability:7.215761438369419e-14, Maximum Probability:0.9999999999956504, Current Accuracy: 0.9375625\n",
      "----------------------------------\n",
      "Iteration: 30 -> Likelihood value: -3576.3360214762492 for Student loan classifier.\n",
      "Minimum Probability:5.858595032778935e-17, Maximum Probability:0.9999999999208924, Current Accuracy: 0.9464375\n",
      "----------------------------------\n",
      "Iteration: 40 -> Likelihood value: -3346.3896591181638 for Student loan classifier.\n",
      "Minimum Probability:8.833001575542133e-19, Maximum Probability:0.9999999999980189, Current Accuracy: 0.947375\n",
      "----------------------------------\n",
      "Iteration: 50 -> Likelihood value: -3181.0500433098778 for Student loan classifier.\n",
      "Minimum Probability:4.3447869881649386e-20, Maximum Probability:0.9999999999999394, Current Accuracy: 0.9485625\n",
      "----------------------------------\n",
      "Iteration: 60 -> Likelihood value: -3053.8486684609256 for Student loan classifier.\n",
      "Minimum Probability:4.303610847556147e-21, Maximum Probability:0.9999999999999969, Current Accuracy: 0.9495625\n",
      "----------------------------------\n",
      "Iteration: 70 -> Likelihood value: -2951.5747855770987 for Student loan classifier.\n",
      "Minimum Probability:6.897466389644764e-22, Maximum Probability:0.9999999999999998, Current Accuracy: 0.9503125\n",
      "----------------------------------\n",
      "Iteration: 80 -> Likelihood value: -2866.706736556511 for Student loan classifier.\n",
      "Minimum Probability:1.5712146744469538e-22, Maximum Probability:1.0, Current Accuracy: 0.950625\n",
      "----------------------------------\n",
      "Iteration: 90 -> Likelihood value: -2794.598994320963 for Student loan classifier.\n",
      "Minimum Probability:4.6754263216271544e-23, Maximum Probability:1.0, Current Accuracy: 0.951125\n",
      "----------------------------------\n",
      "Iteration: 100 -> Likelihood value: -2732.205581932696 for Student loan classifier.\n",
      "Minimum Probability:1.7134380244175842e-23, Maximum Probability:1.0, Current Accuracy: 0.9513125\n"
     ]
    }
   ],
   "source": [
    "# Hyper Paramters\n",
    "step_size, max_iterations =1e-5, 101\n",
    "\n",
    "# Target Variables\n",
    "target_labels, target_label = y_train, 'Student loan'\n",
    "\n",
    "# Feature Matrix & Initial Coefficients\n",
    "X_train_features_matrix = count_vectorized_features_to_features_matrix(X_train_count_vectorizer)\n",
    "initial_coefficients = np.zeros(X_train_features_matrix.shape[1])\n",
    "\n",
    "print(X_train_features_matrix.shape, initial_coefficients.shape)\n",
    "\n",
    "custom_binary_classifier_coeffs = train_binary_lr_classifier(\n",
    "    X_train_features_matrix,\n",
    "    target_labels,\n",
    "    target_label,\n",
    "    initial_coefficients,\n",
    "    step_size,\n",
    "    max_iterations)"
   ]
  },
  {
   "cell_type": "code",
   "execution_count": 36,
   "metadata": {},
   "outputs": [
    {
     "data": {
      "text/plain": [
       "0.947"
      ]
     },
     "execution_count": 36,
     "metadata": {},
     "output_type": "execute_result"
    }
   ],
   "source": [
    "X_test_features_matrix = count_vectorized_features_to_features_matrix(X_test_count_vectorizer)\n",
    "custom_binary_classifier_predictions = predict_probability(X_test_features_matrix,\n",
    "                                                           custom_binary_classifier_coeffs) > .5\n",
    "custom_binary_classifier_score = accuracy_score(y_test == 'Student loan',\n",
    "                                                custom_binary_classifier_predictions)\n",
    "custom_binary_classifier_score"
   ]
  },
  {
   "cell_type": "code",
   "execution_count": 37,
   "metadata": {},
   "outputs": [
    {
     "data": {
      "text/plain": [
       "(0.954, 0.947)"
      ]
     },
     "execution_count": 37,
     "metadata": {},
     "output_type": "execute_result"
    }
   ],
   "source": [
    "sklearn_binary_classifier_score, custom_binary_classifier_score"
   ]
  },
  {
   "cell_type": "markdown",
   "metadata": {},
   "source": [
    "#### Multiclass Classifier"
   ]
  },
  {
   "cell_type": "markdown",
   "metadata": {},
   "source": [
    "##### Using Sklearn"
   ]
  },
  {
   "cell_type": "code",
   "execution_count": 38,
   "metadata": {},
   "outputs": [],
   "source": [
    "sklearn_multiclass_classifier = LogisticRegression(penalty='none',\n",
    "                                                   max_iter=101,\n",
    "                                                   random_state=RANDOM_STATE)"
   ]
  },
  {
   "cell_type": "code",
   "execution_count": 39,
   "metadata": {},
   "outputs": [
    {
     "name": "stderr",
     "output_type": "stream",
     "text": [
      "/usr/local/lib/python3.8/site-packages/sklearn/linear_model/_logistic.py:937: ConvergenceWarning: lbfgs failed to converge (status=1):\n",
      "STOP: TOTAL NO. of ITERATIONS REACHED LIMIT.\n",
      "\n",
      "Increase the number of iterations (max_iter) or scale the data as shown in:\n",
      "    https://scikit-learn.org/stable/modules/preprocessing.html.\n",
      "Please also refer to the documentation for alternative solver options:\n",
      "    https://scikit-learn.org/stable/modules/linear_model.html#logistic-regression\n",
      "  n_iter_i = _check_optimize_result(\n"
     ]
    },
    {
     "data": {
      "text/plain": [
       "LogisticRegression(C=1.0, class_weight=None, dual=False, fit_intercept=True,\n",
       "                   intercept_scaling=1, l1_ratio=None, max_iter=101,\n",
       "                   multi_class='auto', n_jobs=None, penalty='none',\n",
       "                   random_state=19, solver='lbfgs', tol=0.0001, verbose=0,\n",
       "                   warm_start=False)"
      ]
     },
     "execution_count": 39,
     "metadata": {},
     "output_type": "execute_result"
    }
   ],
   "source": [
    "sklearn_multiclass_classifier.fit(X_train_count_vectorizer, y_train)"
   ]
  },
  {
   "cell_type": "code",
   "execution_count": 40,
   "metadata": {},
   "outputs": [],
   "source": [
    "sklearn_multiclass_predictions = sklearn_multiclass_classifier.predict(X_test_count_vectorizer)"
   ]
  },
  {
   "cell_type": "code",
   "execution_count": 41,
   "metadata": {},
   "outputs": [
    {
     "data": {
      "text/plain": [
       "0.83225"
      ]
     },
     "execution_count": 41,
     "metadata": {},
     "output_type": "execute_result"
    }
   ],
   "source": [
    "sklearn_multiclass_score = accuracy_score(y_test, sklearn_multiclass_predictions)\n",
    "sklearn_multiclass_score"
   ]
  },
  {
   "cell_type": "markdown",
   "metadata": {},
   "source": [
    "##### Using Custom Implementation"
   ]
  },
  {
   "cell_type": "code",
   "execution_count": 42,
   "metadata": {
    "scrolled": true
   },
   "outputs": [
    {
     "name": "stdout",
     "output_type": "stream",
     "text": [
      "----------------------------------\n",
      "Iteration: 0 -> Likelihood value: -19573.86726362045 for Credit reporting, repair, or other classifier.\n",
      "Minimum Probability:0.5, Maximum Probability:0.5, Current Accuracy: 0.8\n",
      "----------------------------------\n",
      "Iteration: 10 -> Likelihood value: -9839.289579556567 for Credit reporting, repair, or other classifier.\n",
      "Minimum Probability:1.0118219403516449e-123, Maximum Probability:0.9135715795534015, Current Accuracy: 0.82775\n",
      "----------------------------------\n",
      "Iteration: 20 -> Likelihood value: -6294.955820348689 for Credit reporting, repair, or other classifier.\n",
      "Minimum Probability:3.811094295901252e-27, Maximum Probability:0.9999999999999336, Current Accuracy: 0.8585625\n",
      "----------------------------------\n",
      "Iteration: 30 -> Likelihood value: -10063.049553173892 for Credit reporting, repair, or other classifier.\n",
      "Minimum Probability:1.2926873778849048e-27, Maximum Probability:1.0, Current Accuracy: 0.834125\n",
      "----------------------------------\n",
      "Iteration: 40 -> Likelihood value: -6548.192826976568 for Credit reporting, repair, or other classifier.\n",
      "Minimum Probability:3.00422577937221e-31, Maximum Probability:1.0, Current Accuracy: 0.8594375\n",
      "----------------------------------\n",
      "Iteration: 50 -> Likelihood value: -6741.112816089199 for Credit reporting, repair, or other classifier.\n",
      "Minimum Probability:1.2857311469298802e-32, Maximum Probability:1.0, Current Accuracy: 0.85975\n",
      "----------------------------------\n",
      "Iteration: 60 -> Likelihood value: -6077.054933672734 for Credit reporting, repair, or other classifier.\n",
      "Minimum Probability:2.493199671987895e-34, Maximum Probability:1.0, Current Accuracy: 0.8675\n",
      "----------------------------------\n",
      "Iteration: 70 -> Likelihood value: -5541.418923514808 for Credit reporting, repair, or other classifier.\n",
      "Minimum Probability:1.0520733666892514e-35, Maximum Probability:1.0, Current Accuracy: 0.8736875\n",
      "----------------------------------\n",
      "Iteration: 80 -> Likelihood value: -5176.379115931447 for Credit reporting, repair, or other classifier.\n",
      "Minimum Probability:1.4262774850688745e-36, Maximum Probability:1.0, Current Accuracy: 0.879125\n",
      "----------------------------------\n",
      "Iteration: 90 -> Likelihood value: -4824.743215975135 for Credit reporting, repair, or other classifier.\n",
      "Minimum Probability:3.6131773751675005e-37, Maximum Probability:1.0, Current Accuracy: 0.8843125\n",
      "----------------------------------\n",
      "Iteration: 100 -> Likelihood value: -4129.791257808176 for Credit reporting, repair, or other classifier.\n",
      "Minimum Probability:5.001826635705953e-38, Maximum Probability:1.0, Current Accuracy: 0.90075\n",
      "----------------------------------\n",
      "Iteration: 0 -> Likelihood value: -18788.057248864145 for Bank account or service classifier.\n",
      "Minimum Probability:0.5, Maximum Probability:0.5, Current Accuracy: 0.8\n",
      "----------------------------------\n",
      "Iteration: 10 -> Likelihood value: -6090.107527159832 for Bank account or service classifier.\n",
      "Minimum Probability:2.241890474356293e-24, Maximum Probability:0.9999142141719735, Current Accuracy: 0.8893125\n",
      "----------------------------------\n",
      "Iteration: 20 -> Likelihood value: -5970.4829153240935 for Bank account or service classifier.\n",
      "Minimum Probability:2.275186129992978e-22, Maximum Probability:0.999994192237458, Current Accuracy: 0.8778125\n",
      "----------------------------------\n",
      "Iteration: 30 -> Likelihood value: -6062.13190571861 for Bank account or service classifier.\n",
      "Minimum Probability:1.7939922739194844e-22, Maximum Probability:0.9999999120061211, Current Accuracy: 0.876875\n",
      "----------------------------------\n",
      "Iteration: 40 -> Likelihood value: -5327.258860368242 for Bank account or service classifier.\n",
      "Minimum Probability:8.194879702418072e-25, Maximum Probability:0.999999959976261, Current Accuracy: 0.8903125\n",
      "----------------------------------\n",
      "Iteration: 50 -> Likelihood value: -4866.482431913475 for Bank account or service classifier.\n",
      "Minimum Probability:1.7740197094262793e-26, Maximum Probability:0.9999999664112658, Current Accuracy: 0.8975625\n",
      "----------------------------------\n",
      "Iteration: 60 -> Likelihood value: -4536.5559500762265 for Bank account or service classifier.\n",
      "Minimum Probability:7.138388353352124e-28, Maximum Probability:0.9999999707722642, Current Accuracy: 0.902875\n",
      "----------------------------------\n",
      "Iteration: 70 -> Likelihood value: -4309.306747612179 for Bank account or service classifier.\n",
      "Minimum Probability:5.916190726757889e-29, Maximum Probability:0.9999999854033699, Current Accuracy: 0.9065625\n",
      "----------------------------------\n",
      "Iteration: 80 -> Likelihood value: -4139.246167568441 for Bank account or service classifier.\n",
      "Minimum Probability:7.389786259902693e-30, Maximum Probability:0.9999999922759361, Current Accuracy: 0.9098125\n",
      "----------------------------------\n",
      "Iteration: 90 -> Likelihood value: -4003.626315794306 for Bank account or service classifier.\n",
      "Minimum Probability:1.1384783791216726e-30, Maximum Probability:0.9999999956373598, Current Accuracy: 0.912125\n",
      "----------------------------------\n",
      "Iteration: 100 -> Likelihood value: -3890.0850319338956 for Bank account or service classifier.\n",
      "Minimum Probability:1.8071839891460169e-31, Maximum Probability:0.9999999973345017, Current Accuracy: 0.9146875\n",
      "----------------------------------\n",
      "Iteration: 0 -> Likelihood value: -18148.93719632519 for Debt collection classifier.\n",
      "Minimum Probability:0.5, Maximum Probability:0.5, Current Accuracy: 0.8\n",
      "----------------------------------\n",
      "Iteration: 10 -> Likelihood value: -12550.184088730279 for Debt collection classifier.\n",
      "Minimum Probability:1.2992859421226081e-05, Maximum Probability:0.999999999999885, Current Accuracy: 0.823375\n",
      "----------------------------------\n",
      "Iteration: 20 -> Likelihood value: -7257.551105081748 for Debt collection classifier.\n",
      "Minimum Probability:5.941818197891825e-08, Maximum Probability:1.0, Current Accuracy: 0.84775\n",
      "----------------------------------\n",
      "Iteration: 30 -> Likelihood value: -5695.355467511636 for Debt collection classifier.\n",
      "Minimum Probability:1.367293347262431e-10, Maximum Probability:1.0, Current Accuracy: 0.8686875\n",
      "----------------------------------\n",
      "Iteration: 40 -> Likelihood value: -5430.4667574866035 for Debt collection classifier.\n",
      "Minimum Probability:5.093740918783334e-11, Maximum Probability:1.0, Current Accuracy: 0.8740625\n",
      "----------------------------------\n",
      "Iteration: 50 -> Likelihood value: -6151.781675717541 for Debt collection classifier.\n",
      "Minimum Probability:9.311731458744264e-11, Maximum Probability:1.0, Current Accuracy: 0.8638125\n",
      "----------------------------------\n",
      "Iteration: 60 -> Likelihood value: -5466.036291799506 for Debt collection classifier.\n",
      "Minimum Probability:1.7902615852176765e-11, Maximum Probability:1.0, Current Accuracy: 0.8749375\n",
      "----------------------------------\n",
      "Iteration: 70 -> Likelihood value: -5237.124409077609 for Debt collection classifier.\n",
      "Minimum Probability:4.774705439335253e-12, Maximum Probability:1.0, Current Accuracy: 0.8794375\n",
      "----------------------------------\n",
      "Iteration: 80 -> Likelihood value: -5027.863298886658 for Debt collection classifier.\n",
      "Minimum Probability:1.4820133081945503e-12, Maximum Probability:1.0, Current Accuracy: 0.8825625\n",
      "----------------------------------\n",
      "Iteration: 90 -> Likelihood value: -4861.806406860122 for Debt collection classifier.\n",
      "Minimum Probability:5.452052099681904e-13, Maximum Probability:1.0, Current Accuracy: 0.885125\n",
      "----------------------------------\n",
      "Iteration: 100 -> Likelihood value: -4724.4334545573465 for Debt collection classifier.\n",
      "Minimum Probability:2.285686037416976e-13, Maximum Probability:1.0, Current Accuracy: 0.888\n",
      "----------------------------------\n",
      "Iteration: 0 -> Likelihood value: -19817.432951779945 for Money transfer, virtual currency, or money service classifier.\n",
      "Minimum Probability:0.5, Maximum Probability:0.5, Current Accuracy: 0.8\n",
      "----------------------------------\n",
      "Iteration: 10 -> Likelihood value: -6397.085203710056 for Money transfer, virtual currency, or money service classifier.\n",
      "Minimum Probability:3.093769570823419e-67, Maximum Probability:0.9986807395445593, Current Accuracy: 0.9079375\n",
      "----------------------------------\n",
      "Iteration: 20 -> Likelihood value: -5356.750339055383 for Money transfer, virtual currency, or money service classifier.\n",
      "Minimum Probability:6.128675761194978e-64, Maximum Probability:0.9999973589267639, Current Accuracy: 0.9185625\n"
     ]
    },
    {
     "name": "stdout",
     "output_type": "stream",
     "text": [
      "----------------------------------\n",
      "Iteration: 30 -> Likelihood value: -9705.601571766325 for Money transfer, virtual currency, or money service classifier.\n",
      "Minimum Probability:1.566987642260186e-21, Maximum Probability:1.0, Current Accuracy: 0.8504375\n",
      "----------------------------------\n",
      "Iteration: 40 -> Likelihood value: -5327.590073354091 for Money transfer, virtual currency, or money service classifier.\n",
      "Minimum Probability:8.067161802257531e-27, Maximum Probability:0.9999999999998612, Current Accuracy: 0.89675\n",
      "----------------------------------\n",
      "Iteration: 50 -> Likelihood value: -6215.713594018006 for Money transfer, virtual currency, or money service classifier.\n",
      "Minimum Probability:7.404707522116241e-28, Maximum Probability:1.0, Current Accuracy: 0.8851875\n",
      "----------------------------------\n",
      "Iteration: 60 -> Likelihood value: -5287.063833559499 for Money transfer, virtual currency, or money service classifier.\n",
      "Minimum Probability:3.2790403407819594e-30, Maximum Probability:1.0, Current Accuracy: 0.899125\n",
      "----------------------------------\n",
      "Iteration: 70 -> Likelihood value: -4862.277987029538 for Money transfer, virtual currency, or money service classifier.\n",
      "Minimum Probability:5.741652659361283e-32, Maximum Probability:1.0, Current Accuracy: 0.9055625\n",
      "----------------------------------\n",
      "Iteration: 80 -> Likelihood value: -4545.889051577629 for Money transfer, virtual currency, or money service classifier.\n",
      "Minimum Probability:1.7926127228903485e-33, Maximum Probability:1.0, Current Accuracy: 0.909875\n",
      "----------------------------------\n",
      "Iteration: 90 -> Likelihood value: -4302.201629346522 for Money transfer, virtual currency, or money service classifier.\n",
      "Minimum Probability:8.91969166235008e-35, Maximum Probability:1.0, Current Accuracy: 0.9140625\n",
      "----------------------------------\n",
      "Iteration: 100 -> Likelihood value: -4043.480102156408 for Money transfer, virtual currency, or money service classifier.\n",
      "Minimum Probability:4.854584248142123e-36, Maximum Probability:1.0, Current Accuracy: 0.9180625\n",
      "----------------------------------\n",
      "Iteration: 0 -> Likelihood value: -18351.684887894677 for Student loan classifier.\n",
      "Minimum Probability:0.5, Maximum Probability:0.5, Current Accuracy: 0.8033125\n",
      "----------------------------------\n",
      "Iteration: 10 -> Likelihood value: -6158.331576286401 for Student loan classifier.\n",
      "Minimum Probability:2.7025490668168023e-09, Maximum Probability:0.999999999982643, Current Accuracy: 0.891375\n",
      "----------------------------------\n",
      "Iteration: 20 -> Likelihood value: -4004.3037195526767 for Student loan classifier.\n",
      "Minimum Probability:7.215761438369419e-14, Maximum Probability:0.9999999999956504, Current Accuracy: 0.9375625\n",
      "----------------------------------\n",
      "Iteration: 30 -> Likelihood value: -3576.3360214762492 for Student loan classifier.\n",
      "Minimum Probability:5.858595032778935e-17, Maximum Probability:0.9999999999208924, Current Accuracy: 0.9464375\n",
      "----------------------------------\n",
      "Iteration: 40 -> Likelihood value: -3346.3896591181638 for Student loan classifier.\n",
      "Minimum Probability:8.833001575542133e-19, Maximum Probability:0.9999999999980189, Current Accuracy: 0.947375\n",
      "----------------------------------\n",
      "Iteration: 50 -> Likelihood value: -3181.0500433098778 for Student loan classifier.\n",
      "Minimum Probability:4.3447869881649386e-20, Maximum Probability:0.9999999999999394, Current Accuracy: 0.9485625\n",
      "----------------------------------\n",
      "Iteration: 60 -> Likelihood value: -3053.8486684609256 for Student loan classifier.\n",
      "Minimum Probability:4.303610847556147e-21, Maximum Probability:0.9999999999999969, Current Accuracy: 0.9495625\n",
      "----------------------------------\n",
      "Iteration: 70 -> Likelihood value: -2951.5747855770987 for Student loan classifier.\n",
      "Minimum Probability:6.897466389644764e-22, Maximum Probability:0.9999999999999998, Current Accuracy: 0.9503125\n",
      "----------------------------------\n",
      "Iteration: 80 -> Likelihood value: -2866.706736556511 for Student loan classifier.\n",
      "Minimum Probability:1.5712146744469538e-22, Maximum Probability:1.0, Current Accuracy: 0.950625\n",
      "----------------------------------\n",
      "Iteration: 90 -> Likelihood value: -2794.598994320963 for Student loan classifier.\n",
      "Minimum Probability:4.6754263216271544e-23, Maximum Probability:1.0, Current Accuracy: 0.951125\n",
      "----------------------------------\n",
      "Iteration: 100 -> Likelihood value: -2732.205581932696 for Student loan classifier.\n",
      "Minimum Probability:1.7134380244175842e-23, Maximum Probability:1.0, Current Accuracy: 0.9513125\n"
     ]
    }
   ],
   "source": [
    "#Takes lot of time, dont run this during session\n",
    "\n",
    "# Hyper Paramters\n",
    "step_size, max_iterations =1e-5, 101\n",
    "\n",
    "# Feature Matrix & Initial Coefficients\n",
    "\n",
    "#constant_feature = np.ones((X_train_count_vectorizer.shape[0], 1))\n",
    "#features_matrix = np.hstack((constant_feature, X_train_count_vectorizer.toarray()))\n",
    "X_train_features_matrix = count_vectorized_features_to_features_matrix(X_train_count_vectorizer)\n",
    "initial_coefficients = np.zeros(X_train_features_matrix.shape[1])\n",
    "\n",
    "custom_one_vs_all_classifiers = {}\n",
    "for target_label in y_train.unique():\n",
    "    initial_coefficients = np.zeros(X_train_features_matrix.shape[1])\n",
    "    classifier_coeffs = train_binary_lr_classifier(\n",
    "        X_train_features_matrix,\n",
    "        y_train,\n",
    "        target_label,\n",
    "        initial_coefficients,\n",
    "        step_size,\n",
    "        max_iterations\n",
    "    )\n",
    "    custom_one_vs_all_classifiers[target_label] = classifier_coeffs"
   ]
  },
  {
   "cell_type": "code",
   "execution_count": 56,
   "metadata": {},
   "outputs": [
    {
     "data": {
      "text/plain": [
       "{'Credit reporting, repair, or other': array([-0.5408934 , -0.35669004, -0.01284816, ..., -0.0007763 ,\n",
       "        -0.00058236, -0.00408562]),\n",
       " 'Bank account or service': array([-0.7644409 ,  0.03341862, -0.00764131, ..., -0.00096891,\n",
       "        -0.0085252 ,  0.00104869]),\n",
       " 'Debt collection': array([-5.49943064e-01,  4.70363480e-02, -1.03947345e-02, ...,\n",
       "        -2.49864090e-04, -9.21034853e-03,  3.05954810e-03]),\n",
       " 'Money transfer, virtual currency, or money service': array([-0.69793518,  0.00651516,  0.01062006, ..., -0.00553463,\n",
       "         0.00493301,  0.00117219]),\n",
       " 'Student loan': array([-0.74350294, -0.04958305,  0.00331641, ...,  0.00216304,\n",
       "         0.00116182, -0.00142945])}"
      ]
     },
     "execution_count": 56,
     "metadata": {},
     "output_type": "execute_result"
    }
   ],
   "source": [
    "custom_one_vs_all_classifiers"
   ]
  },
  {
   "cell_type": "code",
   "execution_count": 43,
   "metadata": {},
   "outputs": [],
   "source": [
    "def multi_class_predictions(classifiers, X_test_features_matrix, labels):\n",
    "    predictions = []\n",
    "    for features_row in X_test_features_matrix:\n",
    "        max_prob, label_with_prob = 0, ''\n",
    "        for label in labels:\n",
    "            current_label_prob = predict_probability(features_row, classifiers[label])\n",
    "            if current_label_prob > max_prob:\n",
    "                max_prob = current_label_prob\n",
    "                label_with_prob = label\n",
    "        predictions.append(label_with_prob)\n",
    "    return predictions"
   ]
  },
  {
   "cell_type": "code",
   "execution_count": 44,
   "metadata": {},
   "outputs": [],
   "source": [
    "X_test_features_matrix = count_vectorized_features_to_features_matrix(X_test_count_vectorizer)\n",
    "custom_multiclass_predictions = multi_class_predictions(custom_one_vs_all_classifiers,\n",
    "                                                        X_test_features_matrix,\n",
    "                                                        y_train.unique())"
   ]
  },
  {
   "cell_type": "code",
   "execution_count": 45,
   "metadata": {},
   "outputs": [
    {
     "data": {
      "text/plain": [
       "0.816"
      ]
     },
     "execution_count": 45,
     "metadata": {},
     "output_type": "execute_result"
    }
   ],
   "source": [
    "custom_multiclass_score = accuracy_score(y_test, custom_multiclass_predictions)\n",
    "custom_multiclass_score"
   ]
  },
  {
   "cell_type": "code",
   "execution_count": 46,
   "metadata": {},
   "outputs": [
    {
     "data": {
      "text/plain": [
       "(0.83225, 0.816)"
      ]
     },
     "execution_count": 46,
     "metadata": {},
     "output_type": "execute_result"
    }
   ],
   "source": [
    "sklearn_multiclass_score, custom_multiclass_score"
   ]
  },
  {
   "cell_type": "markdown",
   "metadata": {},
   "source": [
    "### Model Evaluation"
   ]
  },
  {
   "cell_type": "code",
   "execution_count": 47,
   "metadata": {},
   "outputs": [],
   "source": [
    "from sklearn.model_selection import cross_val_score"
   ]
  },
  {
   "cell_type": "code",
   "execution_count": 48,
   "metadata": {},
   "outputs": [
    {
     "name": "stderr",
     "output_type": "stream",
     "text": [
      "/usr/local/lib/python3.8/site-packages/sklearn/linear_model/_logistic.py:937: ConvergenceWarning: lbfgs failed to converge (status=1):\n",
      "STOP: TOTAL NO. of ITERATIONS REACHED LIMIT.\n",
      "\n",
      "Increase the number of iterations (max_iter) or scale the data as shown in:\n",
      "    https://scikit-learn.org/stable/modules/preprocessing.html.\n",
      "Please also refer to the documentation for alternative solver options:\n",
      "    https://scikit-learn.org/stable/modules/linear_model.html#logistic-regression\n",
      "  n_iter_i = _check_optimize_result(\n",
      "/usr/local/lib/python3.8/site-packages/sklearn/linear_model/_logistic.py:937: ConvergenceWarning: lbfgs failed to converge (status=1):\n",
      "STOP: TOTAL NO. of ITERATIONS REACHED LIMIT.\n",
      "\n",
      "Increase the number of iterations (max_iter) or scale the data as shown in:\n",
      "    https://scikit-learn.org/stable/modules/preprocessing.html.\n",
      "Please also refer to the documentation for alternative solver options:\n",
      "    https://scikit-learn.org/stable/modules/linear_model.html#logistic-regression\n",
      "  n_iter_i = _check_optimize_result(\n",
      "/usr/local/lib/python3.8/site-packages/sklearn/linear_model/_logistic.py:937: ConvergenceWarning: lbfgs failed to converge (status=1):\n",
      "STOP: TOTAL NO. of ITERATIONS REACHED LIMIT.\n",
      "\n",
      "Increase the number of iterations (max_iter) or scale the data as shown in:\n",
      "    https://scikit-learn.org/stable/modules/preprocessing.html.\n",
      "Please also refer to the documentation for alternative solver options:\n",
      "    https://scikit-learn.org/stable/modules/linear_model.html#logistic-regression\n",
      "  n_iter_i = _check_optimize_result(\n",
      "/usr/local/lib/python3.8/site-packages/sklearn/linear_model/_logistic.py:937: ConvergenceWarning: lbfgs failed to converge (status=1):\n",
      "STOP: TOTAL NO. of ITERATIONS REACHED LIMIT.\n",
      "\n",
      "Increase the number of iterations (max_iter) or scale the data as shown in:\n",
      "    https://scikit-learn.org/stable/modules/preprocessing.html.\n",
      "Please also refer to the documentation for alternative solver options:\n",
      "    https://scikit-learn.org/stable/modules/linear_model.html#logistic-regression\n",
      "  n_iter_i = _check_optimize_result(\n",
      "/usr/local/lib/python3.8/site-packages/sklearn/linear_model/_logistic.py:937: ConvergenceWarning: lbfgs failed to converge (status=1):\n",
      "STOP: TOTAL NO. of ITERATIONS REACHED LIMIT.\n",
      "\n",
      "Increase the number of iterations (max_iter) or scale the data as shown in:\n",
      "    https://scikit-learn.org/stable/modules/preprocessing.html.\n",
      "Please also refer to the documentation for alternative solver options:\n",
      "    https://scikit-learn.org/stable/modules/linear_model.html#logistic-regression\n",
      "  n_iter_i = _check_optimize_result(\n"
     ]
    }
   ],
   "source": [
    "cv_scores = cross_val_score(LogisticRegression(penalty='none', max_iter=101, random_state=RANDOM_STATE),\n",
    "                            X_train_count_vectorizer,\n",
    "                            y_train,\n",
    "                            cv=5)"
   ]
  },
  {
   "cell_type": "code",
   "execution_count": 49,
   "metadata": {},
   "outputs": [
    {
     "name": "stdout",
     "output_type": "stream",
     "text": [
      "0.8332499999999999\n",
      "[0.82875   0.8365625 0.825625  0.841875  0.8334375]\n"
     ]
    }
   ],
   "source": [
    "print(cv_scores.mean())\n",
    "print(cv_scores)"
   ]
  },
  {
   "cell_type": "markdown",
   "metadata": {},
   "source": [
    "### Quality Metrics"
   ]
  },
  {
   "cell_type": "code",
   "execution_count": 50,
   "metadata": {},
   "outputs": [],
   "source": [
    "from sklearn.metrics import (accuracy_score,\n",
    "                             confusion_matrix)\n",
    "\n",
    "import seaborn as sns;\n",
    "sns.set()\n",
    "\n",
    "import matplotlib.pyplot as plt\n",
    "%matplotlib inline"
   ]
  },
  {
   "cell_type": "code",
   "execution_count": 51,
   "metadata": {},
   "outputs": [],
   "source": [
    "sklearn_conf_matrix = confusion_matrix(y_test, sklearn_multiclass_predictions, labels=y_test.unique())\n",
    "custom_imp_conf_matrix = confusion_matrix(y_test, custom_multiclass_predictions, labels=y_test.unique())"
   ]
  },
  {
   "cell_type": "code",
   "execution_count": 52,
   "metadata": {},
   "outputs": [
    {
     "data": {
      "image/png": "[encoded data removed]",
      "text/plain": [
       "<Figure size 432x288 with 3 Axes>"
      ]
     },
     "metadata": {
      "needs_background": "light"
     },
     "output_type": "display_data"
    }
   ],
   "source": [
    "fig, axs = plt.subplots(ncols=3, gridspec_kw=dict(width_ratios=[6,6,0.2]), figsize=(6,4))\n",
    "\n",
    "sns.heatmap(sklearn_conf_matrix,\n",
    "            cmap='YlGnBu',\n",
    "            annot=True,\n",
    "            fmt=\"d\",\n",
    "            cbar=False,\n",
    "            xticklabels=y_test.unique(),\n",
    "            yticklabels=y_test.unique(),\n",
    "            ax=axs[0])\n",
    "             \n",
    "sns.heatmap(custom_imp_conf_matrix,\n",
    "            cmap='YlGnBu',\n",
    "            annot=True,\n",
    "            fmt=\"d\",\n",
    "            cbar=False,\n",
    "            xticklabels=y_test.unique(),\n",
    "            yticklabels=False,\n",
    "            ax=axs[1])\n",
    "\n",
    "fig.colorbar(axs[1].collections[0], cax=axs[2])\n",
    "plt.show()"
   ]
  },
  {
   "cell_type": "markdown",
   "metadata": {},
   "source": [
    "### Model Evaluation on Test Dataset\n",
    "\n",
    "- Note: Retrain the model using full training [dataset](../datasets/consumer_complaints_training_dataset.csv) & test using the test [dataset](../datasets/consumer_complaints_test_dataset.csv)."
   ]
  },
  {
   "cell_type": "markdown",
   "metadata": {},
   "source": [
    "## Homework\n",
    "\n",
    "- [Google Form Link](https://forms.gle/qdrRLbikJ3B3NUNv9) Please submit by 23rd April.\n",
    "\n",
    "**Q1) Tryout different values for `step size(in .01 - .0000001 range)` and `max_iterations(in 100-5000 range)` hyper parameters on Custom Logistic Regression implementation & explain the difference which different combination of these parameters makes to the model accuracy on test dataset?**\n",
    "\n",
    "**Q2) What values for both these parameters gives the best accuracy?**\n",
    "\n",
    "**Q3) Write a microservice which Exposes an endpoint(`/classify`) which takes a single parameter as text & return label, label_probability. Writing this service will require followings things:**\n",
    "\n",
    "- Train a multiclass model using full training dataset (20000 records) & save model coefficients(`custom_one_vs_all_classifiers`) along with vocabulary dict(`count_vectorizer.vocabulary_.items()`) as a json object.\n",
    "- Function which takes a raw text & tokenize the given text. Simple split on punctuations can be used to split the text.\n",
    "- Function which takes a tokenised text & returns a feature matrix using a vocabulary. Row wise length of this matrix should be equal to row wise length of feature matrix used to train the model.\n",
    "- Function which implements `predict_probability` function logic.\n",
    "- Unit tests :)"
   ]
  },
  {
   "cell_type": "markdown",
   "metadata": {},
   "source": [
    "## Resources\n",
    "\n",
    "- [Logistic Regression explaination from Classification Course](https://www.youtube.com/watch?v=KYxr8x5CWCg&list=PLPehB8VCUkh8dypvJKt6YJ2slpe4TUFZ5)\n",
    "    - Most of the material in this notebook is from these videos\n",
    "- [Logistic Regression from Andrew NG Machine Learning Course](https://www.youtube.com/watch?v=-la3q9d7AKQ&list=PLNeKWBMsAzboR8vvhnlanxCNr2V7ITuxy)\n",
    "- [Logistic Regression with detailed derivation](https://web.stanford.edu/class/archive/cs/cs109/cs109.1178/lectureHandouts/220-logistic-regression.pdf)"
   ]
  },
  {
   "cell_type": "code",
   "execution_count": null,
   "metadata": {},
   "outputs": [],
   "source": []
  }
 ],
 "metadata": {
  "kernelspec": {
   "display_name": "Python 3",
   "language": "python",
   "name": "python3"
  },
  "language_info": {
   "codemirror_mode": {
    "name": "ipython",
    "version": 3
   },
   "file_extension": ".py",
   "mimetype": "text/x-python",
   "name": "python",
   "nbconvert_exporter": "python",
   "pygments_lexer": "ipython3",
   "version": "3.8.2"
  },
  "toc": {
   "base_numbering": 1,
   "nav_menu": {},
   "number_sections": false,
   "sideBar": true,
   "skip_h1_title": false,
   "title_cell": "Text Classification using Logistic Regression",
   "title_sidebar": "Contents",
   "toc_cell": true,
   "toc_position": {},
   "toc_section_display": true,
   "toc_window_display": false
  }
 },
 "nbformat": 4,
 "nbformat_minor": 4
}
