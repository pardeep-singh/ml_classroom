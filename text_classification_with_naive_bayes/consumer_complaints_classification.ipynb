{
 "cells": [
  {
   "cell_type": "markdown",
   "metadata": {
    "toc": true
   },
   "source": [
    "<h1>Text Classification using Naive Bayes<span class=\"tocSkip\"></span></h1>\n",
    "<div class=\"toc\"><ul class=\"toc-item\"><li><span><a href=\"#Introduction\" data-toc-modified-id=\"Introduction-1\">Introduction</a></span></li><li><span><a href=\"#Naive-Bayes-Theory\" data-toc-modified-id=\"Naive-Bayes-Theory-2\">Naive Bayes Theory</a></span><ul class=\"toc-item\"><li><ul class=\"toc-item\"><li><span><a href=\"#Bayesian-Decision-Theory\" data-toc-modified-id=\"Bayesian-Decision-Theory-2.0.1\">Bayesian Decision Theory</a></span></li><li><span><a href=\"#Probability\" data-toc-modified-id=\"Probability-2.0.2\">Probability</a></span></li><li><span><a href=\"#Conditional-Probability\" data-toc-modified-id=\"Conditional-Probability-2.0.3\">Conditional Probability</a></span></li><li><span><a href=\"#Bayes-Rules\" data-toc-modified-id=\"Bayes-Rules-2.0.4\">Bayes Rules</a></span></li><li><span><a href=\"#Naive-Bayes\" data-toc-modified-id=\"Naive-Bayes-2.0.5\">Naive Bayes</a></span></li></ul></li></ul></li><li><span><a href=\"#Machine-Learning-Project-Lifecycle:-First-Iteration\" data-toc-modified-id=\"Machine-Learning-Project-Lifecycle:-First-Iteration-3\">Machine Learning Project Lifecycle: First Iteration</a></span><ul class=\"toc-item\"><li><span><a href=\"#Problem-Statement\" data-toc-modified-id=\"Problem-Statement-3.1\">Problem Statement</a></span></li><li><span><a href=\"#Training-Data\" data-toc-modified-id=\"Training-Data-3.2\">Training Data</a></span></li><li><span><a href=\"#Preprocessing-+-Feature-Engineering\" data-toc-modified-id=\"Preprocessing-+-Feature-Engineering-3.3\">Preprocessing + Feature Engineering</a></span></li><li><span><a href=\"#Machine-Learning-Algorithm:-Naive-Bayes\" data-toc-modified-id=\"Machine-Learning-Algorithm:-Naive-Bayes-3.4\">Machine Learning Algorithm: Naive Bayes</a></span></li><li><span><a href=\"#Modeling\" data-toc-modified-id=\"Modeling-3.5\">Modeling</a></span></li><li><span><a href=\"#Model-Evaluation\" data-toc-modified-id=\"Model-Evaluation-3.6\">Model Evaluation</a></span></li><li><span><a href=\"#Quality-Metrics\" data-toc-modified-id=\"Quality-Metrics-3.7\">Quality Metrics</a></span></li></ul></li><li><span><a href=\"#Homework\" data-toc-modified-id=\"Homework-4\">Homework</a></span></li><li><span><a href=\"#Resources\" data-toc-modified-id=\"Resources-5\">Resources</a></span></li></ul></div>"
   ]
  },
  {
   "cell_type": "markdown",
   "metadata": {},
   "source": [
    "## Introduction"
   ]
  },
  {
   "cell_type": "markdown",
   "metadata": {},
   "source": [
    "<img src=\"../images/classification.png\" alt=\"Classification\" style=\"width: 700px;\"/>"
   ]
  },
  {
   "cell_type": "markdown",
   "metadata": {},
   "source": [
    "## Naive Bayes Theory"
   ]
  },
  {
   "cell_type": "markdown",
   "metadata": {},
   "source": [
    "#### Bayesian Decision Theory\n",
    "\n",
    "Theory of choosing a class which has the higher probability out of the given classes. It allows prior knowledge and logic to\n",
    "\n",
    "- $ p1(x, y) > p2(x, y) $ then the result will be class 1\n",
    "- $ p1(x, y) < p2(x, y) $ then the result will be class 2"
   ]
  },
  {
   "cell_type": "markdown",
   "metadata": {},
   "source": [
    "#### Probability\n",
    "\n",
    "Probability is a numerical description of how likely an event is to occur or how likely it is that a proposition is true.\n",
    "\n",
    "*Examples:*\n",
    "\n",
    "Given a Programming Languages preferences as following:\n",
    "\n",
    "- Clojure -> 8\n",
    "- Python -> 8\n",
    "- Javascript -> 2\n",
    "\n",
    "*Q) What is the probability that a given problem will be implemented in Clojure?*\n",
    "\n",
    "*Q) What is the probability that a given problem will be implemented in Python?*\n",
    "\n",
    "*Q) What is the probability that a given problem will be implemented in Javascript?*"
   ]
  },
  {
   "cell_type": "markdown",
   "metadata": {},
   "source": [
    "#### Conditional Probability\n",
    "\n",
    "The conditional probability of an event B is the probability that the event will occur given the knowledge that an event A has already occurred.\n",
    "\n",
    "$$p(x | c) = p(x {\\displaystyle \\cap } c) / p(c) $$\n",
    "\n",
    "Examples:\n",
    "\n",
    "**Given the following Programming Language perferences by devs from different team:**\n",
    "\n",
    "- Backend Team -> Clojure = 5, Python 4\n",
    "- Frontend Team -> Python = 4, Javascript = 2, Clojure is 3\n",
    "\n",
    "Q) What is the probability that a Dev from Backend team will choose Clojure to solve the problem?\n",
    "\n",
    "Q) What is the probability that a Dev from Frontend team will choose Javascript to solve the problem?"
   ]
  },
  {
   "cell_type": "markdown",
   "metadata": {},
   "source": [
    "#### Bayes Rules\n",
    "\n",
    "If $p(x | c)$ is given or known, $p(c | x)$ can be found using following formula:\n",
    "\n",
    "$$ p(c|x) =  p(c) * p(x|c) \\: / \\: p(x) $$\n",
    "\n",
    "Same equation can written as \n",
    "\n",
    "$$ p(c|x) = Prior Probability * Likelihood \\: / \\: Test Evidence $$\n"
   ]
  },
  {
   "cell_type": "markdown",
   "metadata": {},
   "source": [
    "$ x ^ 2 + y ^ 2 = z ^ 2$\n",
    "\n",
    "$$ x ^ 2 + y ^ 2 = z ^ 2$$\n",
    "\n",
    "\\begin{equation}\n",
    "x ^ 2 + y ^ 2 = z ^ 2\n",
    "\\end{equation}\n",
    "\n",
    "\\begin{equation}\n",
    "p(c|x) = (Prior * Evidence)  /  p(x)\n",
    "\\end{equation}"
   ]
  },
  {
   "cell_type": "markdown",
   "metadata": {},
   "source": [
    "#### Naive Bayes\n",
    "\n",
    "Simple algorithm which works well with small datasets & takes very less time to train. It can also handle multiple classes.\n",
    "\n",
    "**Assumptions**\n",
    "\n",
    "- Assumes that presence of a particular feature in a class is unrelated to the presence of any other feature.\n",
    "- Order of words in the sentence doesnt matter.\n",
    "\n",
    "**Example**\n",
    "\n"
   ]
  },
  {
   "cell_type": "markdown",
   "metadata": {},
   "source": [
    "## Machine Learning Project Lifecycle: First Iteration"
   ]
  },
  {
   "cell_type": "markdown",
   "metadata": {},
   "source": [
    "### Problem Statement\n",
    "\n",
    "Classify the Financial Consumer Complaints into different Product Categories given consumer complaint text.\n",
    "\n",
    "**Product Categories**\n",
    "\n",
    "- Credit reporting, repair, or other\n",
    "- Debt collection\n",
    "- Student loan\n",
    "- Money transfer, virtual currency, or money service\n",
    "- Bank account or service"
   ]
  },
  {
   "cell_type": "markdown",
   "metadata": {},
   "source": [
    "### Training Data\n",
    "\n",
    "[Kaggle: Consumer Complaint Database](https://www.kaggle.com/selener/consumer-complaint-database)"
   ]
  },
  {
   "cell_type": "code",
   "execution_count": 1,
   "metadata": {},
   "outputs": [],
   "source": [
    "import pandas as pd"
   ]
  },
  {
   "cell_type": "code",
   "execution_count": 2,
   "metadata": {},
   "outputs": [],
   "source": [
    "complaints_dataset = pd.read_csv('../datasets/consumer_complaints_dataset.csv')"
   ]
  },
  {
   "cell_type": "code",
   "execution_count": 3,
   "metadata": {},
   "outputs": [
    {
     "data": {
      "text/html": [
       "<div>\n",
       "<style scoped>\n",
       "    .dataframe tbody tr th:only-of-type {\n",
       "        vertical-align: middle;\n",
       "    }\n",
       "\n",
       "    .dataframe tbody tr th {\n",
       "        vertical-align: top;\n",
       "    }\n",
       "\n",
       "    .dataframe thead th {\n",
       "        text-align: right;\n",
       "    }\n",
       "</style>\n",
       "<table border=\"1\" class=\"dataframe\">\n",
       "  <thead>\n",
       "    <tr style=\"text-align: right;\">\n",
       "      <th></th>\n",
       "      <th>Product</th>\n",
       "      <th>Complaint_text</th>\n",
       "    </tr>\n",
       "  </thead>\n",
       "  <tbody>\n",
       "    <tr>\n",
       "      <th>0</th>\n",
       "      <td>Credit reporting, repair, or other</td>\n",
       "      <td>The Summer of XX/XX/2018 I was denied a mortga...</td>\n",
       "    </tr>\n",
       "    <tr>\n",
       "      <th>1</th>\n",
       "      <td>Credit reporting, repair, or other</td>\n",
       "      <td>There are many mistakes appear in my report wi...</td>\n",
       "    </tr>\n",
       "    <tr>\n",
       "      <th>2</th>\n",
       "      <td>Credit reporting, repair, or other</td>\n",
       "      <td>There are many mistakes appear in my report wi...</td>\n",
       "    </tr>\n",
       "    <tr>\n",
       "      <th>3</th>\n",
       "      <td>Credit reporting, repair, or other</td>\n",
       "      <td>There are many mistakes appear in my report wi...</td>\n",
       "    </tr>\n",
       "    <tr>\n",
       "      <th>4</th>\n",
       "      <td>Credit reporting, repair, or other</td>\n",
       "      <td>There are many mistakes appear in my report wi...</td>\n",
       "    </tr>\n",
       "  </tbody>\n",
       "</table>\n",
       "</div>"
      ],
      "text/plain": [
       "                              Product  \\\n",
       "0  Credit reporting, repair, or other   \n",
       "1  Credit reporting, repair, or other   \n",
       "2  Credit reporting, repair, or other   \n",
       "3  Credit reporting, repair, or other   \n",
       "4  Credit reporting, repair, or other   \n",
       "\n",
       "                                      Complaint_text  \n",
       "0  The Summer of XX/XX/2018 I was denied a mortga...  \n",
       "1  There are many mistakes appear in my report wi...  \n",
       "2  There are many mistakes appear in my report wi...  \n",
       "3  There are many mistakes appear in my report wi...  \n",
       "4  There are many mistakes appear in my report wi...  "
      ]
     },
     "execution_count": 3,
     "metadata": {},
     "output_type": "execute_result"
    }
   ],
   "source": [
    "complaints_dataset.head()"
   ]
  },
  {
   "cell_type": "code",
   "execution_count": 4,
   "metadata": {},
   "outputs": [
    {
     "name": "stdout",
     "output_type": "stream",
     "text": [
      "<class 'pandas.core.frame.DataFrame'>\n",
      "RangeIndex: 254350 entries, 0 to 254349\n",
      "Data columns (total 2 columns):\n",
      " #   Column          Non-Null Count   Dtype \n",
      "---  ------          --------------   ----- \n",
      " 0   Product         254350 non-null  object\n",
      " 1   Complaint_text  254350 non-null  object\n",
      "dtypes: object(2)\n",
      "memory usage: 3.9+ MB\n"
     ]
    }
   ],
   "source": [
    "complaints_dataset.info()"
   ]
  },
  {
   "cell_type": "markdown",
   "metadata": {},
   "source": [
    "**Q) What is the distribution of complaints for each product type?**"
   ]
  },
  {
   "cell_type": "code",
   "execution_count": 78,
   "metadata": {},
   "outputs": [
    {
     "data": {
      "text/plain": [
       "array(['Credit reporting, repair, or other', 'Debt collection',\n",
       "       'Student loan',\n",
       "       'Money transfer, virtual currency, or money service',\n",
       "       'Bank account or service'], dtype=object)"
      ]
     },
     "execution_count": 78,
     "metadata": {},
     "output_type": "execute_result"
    }
   ],
   "source": [
    "complaints_dataset.Product.unique()"
   ]
  },
  {
   "cell_type": "code",
   "execution_count": 5,
   "metadata": {},
   "outputs": [
    {
     "data": {
      "text/html": [
       "<div>\n",
       "<style scoped>\n",
       "    .dataframe tbody tr th:only-of-type {\n",
       "        vertical-align: middle;\n",
       "    }\n",
       "\n",
       "    .dataframe tbody tr th {\n",
       "        vertical-align: top;\n",
       "    }\n",
       "\n",
       "    .dataframe thead th {\n",
       "        text-align: right;\n",
       "    }\n",
       "</style>\n",
       "<table border=\"1\" class=\"dataframe\">\n",
       "  <thead>\n",
       "    <tr style=\"text-align: right;\">\n",
       "      <th></th>\n",
       "      <th>Count</th>\n",
       "    </tr>\n",
       "    <tr>\n",
       "      <th>Product</th>\n",
       "      <th></th>\n",
       "    </tr>\n",
       "  </thead>\n",
       "  <tbody>\n",
       "    <tr>\n",
       "      <th>Credit reporting, repair, or other</th>\n",
       "      <td>123966</td>\n",
       "    </tr>\n",
       "    <tr>\n",
       "      <th>Debt collection</th>\n",
       "      <td>86710</td>\n",
       "    </tr>\n",
       "    <tr>\n",
       "      <th>Student loan</th>\n",
       "      <td>21810</td>\n",
       "    </tr>\n",
       "    <tr>\n",
       "      <th>Bank account or service</th>\n",
       "      <td>14885</td>\n",
       "    </tr>\n",
       "    <tr>\n",
       "      <th>Money transfer, virtual currency, or money service</th>\n",
       "      <td>6979</td>\n",
       "    </tr>\n",
       "  </tbody>\n",
       "</table>\n",
       "</div>"
      ],
      "text/plain": [
       "                                                     Count\n",
       "Product                                                   \n",
       "Credit reporting, repair, or other                  123966\n",
       "Debt collection                                      86710\n",
       "Student loan                                         21810\n",
       "Bank account or service                              14885\n",
       "Money transfer, virtual currency, or money service    6979"
      ]
     },
     "execution_count": 5,
     "metadata": {},
     "output_type": "execute_result"
    }
   ],
   "source": [
    "complaints_dataset\\\n",
    "    .groupby('Product')\\\n",
    "    [['Complaint_text']]\\\n",
    "    .count()\\\n",
    "    .rename(columns={'Complaint_text': 'Count'})\\\n",
    "    .sort_values('Count', ascending=False)"
   ]
  },
  {
   "cell_type": "markdown",
   "metadata": {},
   "source": [
    "**Q) Find out the Occurances of Duplicate Text messages?**"
   ]
  },
  {
   "cell_type": "code",
   "execution_count": 6,
   "metadata": {},
   "outputs": [
    {
     "data": {
      "text/plain": [
       "238121"
      ]
     },
     "execution_count": 6,
     "metadata": {},
     "output_type": "execute_result"
    }
   ],
   "source": [
    "complaints_dataset['Complaint_text'].nunique()"
   ]
  },
  {
   "cell_type": "code",
   "execution_count": 7,
   "metadata": {},
   "outputs": [],
   "source": [
    "duplicate_complaints = complaints_dataset['Complaint_text']\\\n",
    "    .value_counts()\\\n",
    "    [complaints_dataset['Complaint_text'].value_counts() > 2].index"
   ]
  },
  {
   "cell_type": "code",
   "execution_count": 8,
   "metadata": {},
   "outputs": [
    {
     "data": {
      "text/plain": [
       "3354"
      ]
     },
     "execution_count": 8,
     "metadata": {},
     "output_type": "execute_result"
    }
   ],
   "source": [
    "len(duplicate_complaints)"
   ]
  },
  {
   "cell_type": "markdown",
   "metadata": {},
   "source": [
    "**Extract Mini Dataset with Equal number of examples in each Product class**"
   ]
  },
  {
   "cell_type": "code",
   "execution_count": 9,
   "metadata": {},
   "outputs": [],
   "source": [
    "dataset_indexes = []\n",
    "for product in complaints_dataset['Product'].unique():\n",
    "    indexes = complaints_dataset[complaints_dataset.Product == product]\\\n",
    "    .sample(4000, random_state=19).index\n",
    "    dataset_indexes.extend(indexes)"
   ]
  },
  {
   "cell_type": "code",
   "execution_count": 10,
   "metadata": {},
   "outputs": [],
   "source": [
    "mini_complaints_dataset = complaints_dataset.loc[dataset_indexes].copy()"
   ]
  },
  {
   "cell_type": "code",
   "execution_count": 11,
   "metadata": {},
   "outputs": [
    {
     "data": {
      "text/plain": [
       "(20000, 2)"
      ]
     },
     "execution_count": 11,
     "metadata": {},
     "output_type": "execute_result"
    }
   ],
   "source": [
    "mini_complaints_dataset.shape"
   ]
  },
  {
   "cell_type": "code",
   "execution_count": 12,
   "metadata": {},
   "outputs": [
    {
     "data": {
      "text/html": [
       "<div>\n",
       "<style scoped>\n",
       "    .dataframe tbody tr th:only-of-type {\n",
       "        vertical-align: middle;\n",
       "    }\n",
       "\n",
       "    .dataframe tbody tr th {\n",
       "        vertical-align: top;\n",
       "    }\n",
       "\n",
       "    .dataframe thead th {\n",
       "        text-align: right;\n",
       "    }\n",
       "</style>\n",
       "<table border=\"1\" class=\"dataframe\">\n",
       "  <thead>\n",
       "    <tr style=\"text-align: right;\">\n",
       "      <th></th>\n",
       "      <th>Count</th>\n",
       "    </tr>\n",
       "    <tr>\n",
       "      <th>Product</th>\n",
       "      <th></th>\n",
       "    </tr>\n",
       "  </thead>\n",
       "  <tbody>\n",
       "    <tr>\n",
       "      <th>Bank account or service</th>\n",
       "      <td>4000</td>\n",
       "    </tr>\n",
       "    <tr>\n",
       "      <th>Credit reporting, repair, or other</th>\n",
       "      <td>4000</td>\n",
       "    </tr>\n",
       "    <tr>\n",
       "      <th>Debt collection</th>\n",
       "      <td>4000</td>\n",
       "    </tr>\n",
       "    <tr>\n",
       "      <th>Money transfer, virtual currency, or money service</th>\n",
       "      <td>4000</td>\n",
       "    </tr>\n",
       "    <tr>\n",
       "      <th>Student loan</th>\n",
       "      <td>4000</td>\n",
       "    </tr>\n",
       "  </tbody>\n",
       "</table>\n",
       "</div>"
      ],
      "text/plain": [
       "                                                    Count\n",
       "Product                                                  \n",
       "Bank account or service                              4000\n",
       "Credit reporting, repair, or other                   4000\n",
       "Debt collection                                      4000\n",
       "Money transfer, virtual currency, or money service   4000\n",
       "Student loan                                         4000"
      ]
     },
     "execution_count": 12,
     "metadata": {},
     "output_type": "execute_result"
    }
   ],
   "source": [
    "mini_complaints_dataset.groupby('Product')\\\n",
    "    [['Complaint_text']]\\\n",
    "    .count()\\\n",
    "    .rename(columns={'Complaint_text': 'Count'})\\\n",
    "    .sort_values('Count', ascending=False)"
   ]
  },
  {
   "cell_type": "markdown",
   "metadata": {},
   "source": [
    "### Preprocessing + Feature Engineering\n",
    "\n",
    "**Bag of Words**\n",
    "\n",
    "Simple technique to convert collection of text documents to a matrix of token counts. [CountVectorizer](https://scikit-learn.org/stable/modules/generated/sklearn.feature_extraction.text.CountVectorizer.html) is the implementaiton of this technique in SKLearn which provides alot of parameters for tunning."
   ]
  },
  {
   "cell_type": "markdown",
   "metadata": {},
   "source": [
    "<img src=\"../images/bag_of_words_example.jpeg\" alt=\"Bag of Words Example\" style=\"width: 500px;\"/>"
   ]
  },
  {
   "cell_type": "code",
   "execution_count": 13,
   "metadata": {},
   "outputs": [],
   "source": [
    "from sklearn.feature_extraction.text import CountVectorizer\n",
    "from sklearn.model_selection import train_test_split\n",
    "\n",
    "RANDOM_STATE = 19"
   ]
  },
  {
   "cell_type": "markdown",
   "metadata": {},
   "source": [
    "**`CountVectorizer` Examples**"
   ]
  },
  {
   "cell_type": "code",
   "execution_count": 17,
   "metadata": {},
   "outputs": [],
   "source": [
    "example_dataset = [\n",
    "    \"Today is Thursday.\",\n",
    "    \"Second session of Machine Learning Series\",\n",
    "    \"Machine Learning uses Stats methods to learn from data. Stats is awesome\",\n",
    "]"
   ]
  },
  {
   "cell_type": "code",
   "execution_count": 18,
   "metadata": {},
   "outputs": [],
   "source": [
    "example_vectorizer = CountVectorizer(binary=True)\n",
    "transformed_data = example_vectorizer.fit_transform(example_dataset)"
   ]
  },
  {
   "cell_type": "code",
   "execution_count": 19,
   "metadata": {},
   "outputs": [
    {
     "name": "stdout",
     "output_type": "stream",
     "text": [
      "['awesome', 'data', 'from', 'is', 'learn', 'learning', 'machine', 'methods', 'of', 'second', 'series', 'session', 'stats', 'thursday', 'to', 'today', 'uses']\n"
     ]
    }
   ],
   "source": [
    "print(example_vectorizer.get_feature_names())"
   ]
  },
  {
   "cell_type": "code",
   "execution_count": 20,
   "metadata": {},
   "outputs": [
    {
     "data": {
      "text/plain": [
       "{'today': 15,\n",
       " 'is': 3,\n",
       " 'thursday': 13,\n",
       " 'second': 9,\n",
       " 'session': 11,\n",
       " 'of': 8,\n",
       " 'machine': 6,\n",
       " 'learning': 5,\n",
       " 'series': 10,\n",
       " 'uses': 16,\n",
       " 'stats': 12,\n",
       " 'methods': 7,\n",
       " 'to': 14,\n",
       " 'learn': 4,\n",
       " 'from': 2,\n",
       " 'data': 1,\n",
       " 'awesome': 0}"
      ]
     },
     "execution_count": 20,
     "metadata": {},
     "output_type": "execute_result"
    }
   ],
   "source": [
    "example_vectorizer.vocabulary_"
   ]
  },
  {
   "cell_type": "code",
   "execution_count": 21,
   "metadata": {},
   "outputs": [
    {
     "data": {
      "text/plain": [
       "array([[0, 0, 0, 1, 0, 0, 0, 0, 0, 0, 0, 0, 0, 1, 0, 1, 0],\n",
       "       [0, 0, 0, 0, 0, 1, 1, 0, 1, 1, 1, 1, 0, 0, 0, 0, 0],\n",
       "       [1, 1, 1, 1, 1, 1, 1, 1, 0, 0, 0, 0, 1, 0, 1, 0, 1]])"
      ]
     },
     "execution_count": 21,
     "metadata": {},
     "output_type": "execute_result"
    }
   ],
   "source": [
    "transformed_data.toarray()"
   ]
  },
  {
   "cell_type": "markdown",
   "metadata": {},
   "source": [
    "**Split the Data into Train & Test Sets**"
   ]
  },
  {
   "cell_type": "code",
   "execution_count": 14,
   "metadata": {},
   "outputs": [],
   "source": [
    "X_train, X_test, y_train, y_test = train_test_split(\n",
    "    mini_complaints_dataset['Complaint_text'],\n",
    "    mini_complaints_dataset['Product'],\n",
    "    test_size=.2,\n",
    "    stratify=mini_complaints_dataset['Product'],\n",
    "    random_state = RANDOM_STATE)"
   ]
  },
  {
   "cell_type": "code",
   "execution_count": 15,
   "metadata": {},
   "outputs": [
    {
     "data": {
      "text/plain": [
       "Student loan                                          3200\n",
       "Debt collection                                       3200\n",
       "Bank account or service                               3200\n",
       "Credit reporting, repair, or other                    3200\n",
       "Money transfer, virtual currency, or money service    3200\n",
       "Name: Product, dtype: int64"
      ]
     },
     "execution_count": 15,
     "metadata": {},
     "output_type": "execute_result"
    }
   ],
   "source": [
    "y_train.value_counts()"
   ]
  },
  {
   "cell_type": "code",
   "execution_count": 16,
   "metadata": {
    "scrolled": true
   },
   "outputs": [
    {
     "data": {
      "text/plain": [
       "Student loan                                          800\n",
       "Bank account or service                               800\n",
       "Credit reporting, repair, or other                    800\n",
       "Money transfer, virtual currency, or money service    800\n",
       "Debt collection                                       800\n",
       "Name: Product, dtype: int64"
      ]
     },
     "execution_count": 16,
     "metadata": {},
     "output_type": "execute_result"
    }
   ],
   "source": [
    "y_test.value_counts()"
   ]
  },
  {
   "cell_type": "markdown",
   "metadata": {},
   "source": [
    "**Preprocessing + Feature Eng. of the Dataset**"
   ]
  },
  {
   "cell_type": "code",
   "execution_count": 22,
   "metadata": {},
   "outputs": [],
   "source": [
    "binary_count_vectorizer = CountVectorizer(binary=True, stop_words='english')"
   ]
  },
  {
   "cell_type": "code",
   "execution_count": 23,
   "metadata": {},
   "outputs": [],
   "source": [
    "X_train_binary_count_vectorizer = binary_count_vectorizer.fit_transform(X_train)"
   ]
  },
  {
   "cell_type": "code",
   "execution_count": 24,
   "metadata": {},
   "outputs": [],
   "source": [
    "X_test_binary_count_vectorizer = binary_count_vectorizer.transform(X_test)"
   ]
  },
  {
   "cell_type": "code",
   "execution_count": 25,
   "metadata": {},
   "outputs": [
    {
     "data": {
      "text/plain": [
       "((16000, 24253), (4000, 24253))"
      ]
     },
     "execution_count": 25,
     "metadata": {},
     "output_type": "execute_result"
    }
   ],
   "source": [
    "X_train_binary_count_vectorizer.shape, X_test_binary_count_vectorizer.shape"
   ]
  },
  {
   "cell_type": "code",
   "execution_count": 26,
   "metadata": {},
   "outputs": [
    {
     "data": {
      "text/plain": [
       "['00', '000', '0001', '001', '0010', '00109', '004', '00i', '01', '014']"
      ]
     },
     "execution_count": 26,
     "metadata": {},
     "output_type": "execute_result"
    }
   ],
   "source": [
    "binary_count_vectorizer.get_feature_names()[:10]"
   ]
  },
  {
   "cell_type": "code",
   "execution_count": 27,
   "metadata": {},
   "outputs": [
    {
     "data": {
      "text/plain": [
       "{'xxxx': 23870,\n",
       " 'account': 1264,\n",
       " 'listed': 12934,\n",
       " 'credit': 5847,\n",
       " 'report': 18089,\n",
       " 'experian': 8616,\n",
       " 'paid': 15420,\n",
       " 'closed': 4699,\n",
       " '2007': 316,\n",
       " 'like': 12884,\n",
       " 'removed': 17959,\n",
       " 'years': 24179,\n",
       " 'employer': 7949,\n",
       " 'submitted': 20596,\n",
       " 'incorrect': 11389,\n",
       " 'information': 11571,\n",
       " 'hsa': 10867,\n",
       " 'bank': 2995,\n",
       " 'subsidiary': 20629,\n",
       " 'webster': 23415,\n",
       " 'money': 14021,\n",
       " 'deducted': 6314,\n",
       " 'paycheck': 15611,\n",
       " '15': 141,\n",
       " 'days': 6155,\n",
       " 'hired': 10690,\n",
       " 'refusing': 17693,\n",
       " 'release': 17849,\n",
       " 'funds': 9757,\n",
       " 'corrected': 5640,\n",
       " 'requested': 18186,\n",
       " 'verifying': 23042,\n",
       " 'identity': 11020,\n",
       " 'social': 19889,\n",
       " 'security': 19170,\n",
       " 'number': 14713,\n",
       " 'began': 3183,\n",
       " 'disputing': 7212,\n",
       " 'items': 12217,\n",
       " 'bureaus': 3841,\n",
       " 'xx': 23868,\n",
       " 'sent': 19261,\n",
       " 'follow': 9343,\n",
       " 'letters': 12801,\n",
       " 'believe': 3227,\n",
       " 'public': 16890,\n",
       " 'records': 17518,\n",
       " 'reporting': 18098,\n",
       " 'accurately': 1326,\n",
       " 'compliance': 5057,\n",
       " 'fcra': 8951,\n",
       " 'fdcpa': 8960,\n",
       " 'received': 17384,\n",
       " 'didnt': 6848,\n",
       " 'say': 18958,\n",
       " 'company': 4974,\n",
       " 'transcription': 21852,\n",
       " 'voicemail': 23191,\n",
       " 'left': 12720,\n",
       " 'called': 3978,\n",
       " 'said': 18853,\n",
       " 'owe': 15378,\n",
       " '910': 1023,\n",
       " '00': 0,\n",
       " 'settle': 19356,\n",
       " '760': 920,\n",
       " 'prior': 16560,\n",
       " '2013': 327,\n",
       " 'exact': 8442,\n",
       " 'date': 6134,\n",
       " 'asked': 2470,\n",
       " 'documentation': 7374,\n",
       " 'recall': 17356,\n",
       " 'need': 14378,\n",
       " 'attorney': 2684,\n",
       " 'request': 18183,\n",
       " 'point': 16150,\n",
       " 'til': 21564,\n",
       " 'resolve': 18288,\n",
       " 'issue': 12186,\n",
       " 'transcript': 21851,\n",
       " 'calling': 3985,\n",
       " 'special': 20027,\n",
       " 'ending': 8010,\n",
       " '______': 1072,\n",
       " 'processing': 16622,\n",
       " 'division': 7329,\n",
       " 'location': 13023,\n",
       " 'services': 19330,\n",
       " 'trying': 22083,\n",
       " 'locate': 13019,\n",
       " 'formal': 9487,\n",
       " 'complaint': 5030,\n",
       " 'counts': 5744,\n",
       " 'raw': 17197,\n",
       " 'charges': 4386,\n",
       " 'currently': 6011,\n",
       " 'pending': 15727,\n",
       " 'advised': 1591,\n",
       " 'best': 3296,\n",
       " 'make': 13252,\n",
       " 'immediate': 11124,\n",
       " 'contact': 5414,\n",
       " '_________': 1074,\n",
       " 'senior': 19249,\n",
       " 'associates': 2547,\n",
       " 'legal': 12726,\n",
       " 'department': 6561,\n",
       " 'obtained': 14818,\n",
       " '______________': 1077,\n",
       " 'case': 4137,\n",
       " 'court': 5758,\n",
       " 'right': 18597,\n",
       " 'appointment': 2259,\n",
       " 'directly': 6936,\n",
       " '__': 1068,\n",
       " 'scheduled': 19018,\n",
       " 'local': 13016,\n",
       " '___________': 1075,\n",
       " 'residence': 18262,\n",
       " '____': 1070,\n",
       " 'seven': 19364,\n",
       " 'process': 16619,\n",
       " '_____': 1071,\n",
       " 'issues': 12192,\n",
       " 'standard': 20222,\n",
       " 'time': 21570,\n",
       " 'today': 21651,\n",
       " 'possibly': 16262,\n",
       " 'prevent': 16507,\n",
       " 'moving': 14153,\n",
       " 'forward': 9524,\n",
       " 'carry': 4127,\n",
       " 'supplies': 20803,\n",
       " 'extension': 8702,\n",
       " '_____________': 1076,\n",
       " 'final': 9120,\n",
       " 'notification': 14641,\n",
       " 'luck': 13152,\n",
       " 'traded': 21790,\n",
       " 'bitcoin': 3385,\n",
       " 'coinbase': 4777,\n",
       " 'did': 6842,\n",
       " 'transactions': 21840,\n",
       " 'month': 14056,\n",
       " 'suddenly': 20688,\n",
       " 'provide': 16838,\n",
       " 'ssn': 20169,\n",
       " 'action': 1411,\n",
       " 'sell': 19216,\n",
       " 'withdraw': 23644,\n",
       " 'allows': 1888,\n",
       " 'trade': 21789,\n",
       " 'beginning': 3190,\n",
       " 'usd': 22846,\n",
       " 'contacted': 5417,\n",
       " 'reply': 18077,\n",
       " 'submitting': 20597,\n",
       " 'agency': 1694,\n",
       " 'belong': 3245,\n",
       " 'uploading': 22795,\n",
       " 'letter': 12797,\n",
       " 'proof': 16758,\n",
       " 'fraud': 9576,\n",
       " 'deleted': 6450,\n",
       " 'does': 7395,\n",
       " 'numerous': 14726,\n",
       " 'disputes': 7210,\n",
       " 'situation': 19705,\n",
       " 'rectified': 17546,\n",
       " 'score': 19053,\n",
       " 'lower': 13127,\n",
       " 'accounts': 1285,\n",
       " 'shouldnt': 19524,\n",
       " 'bought': 3612,\n",
       " 'phone': 15934,\n",
       " '2017': 349,\n",
       " 'excited': 8502,\n",
       " 'new': 14466,\n",
       " 'advertised': 1578,\n",
       " 'plethora': 16090,\n",
       " 'amazing': 1939,\n",
       " 'features': 8979,\n",
       " 'including': 11339,\n",
       " 'camera': 4003,\n",
       " 'market': 13362,\n",
       " 'unlimited': 22564,\n",
       " 'photo': 15942,\n",
       " 'memory': 13561,\n",
       " 'addition': 1461,\n",
       " 'line': 12904,\n",
       " 'included': 11337,\n",
       " 'leasing': 12706,\n",
       " 'feature': 8978,\n",
       " 'true': 22045,\n",
       " 'synchrony': 20983,\n",
       " 'approved': 2300,\n",
       " 'immediately': 11127,\n",
       " 'pay': 15605,\n",
       " 'apr': 2315,\n",
       " 'turned': 22119,\n",
       " 'good': 10030,\n",
       " 'product': 16649,\n",
       " 'near': 14357,\n",
       " 'got': 10050,\n",
       " 'receive': 17383,\n",
       " 'text': 21285,\n",
       " 'messages': 13619,\n",
       " 'calls': 3991,\n",
       " 'half': 10304,\n",
       " 'help': 10584,\n",
       " '30': 492,\n",
       " 'given': 9967,\n",
       " 'complete': 5039,\n",
       " 'run': 18794,\n",
       " 'return': 18472,\n",
       " 'service': 19321,\n",
       " 'center': 4263,\n",
       " 'remote': 17952,\n",
       " 'sole': 19911,\n",
       " 'purpose': 16958,\n",
       " 'deny': 6548,\n",
       " 'customer': 6045,\n",
       " 'refunds': 17682,\n",
       " 'getting': 9936,\n",
       " 'faulty': 8918,\n",
       " 'products': 16653,\n",
       " 'day': 6150,\n",
       " 'warranty': 23330,\n",
       " 'suffer': 20694,\n",
       " '700': 884,\n",
       " 'loss': 13104,\n",
       " 'refurbished': 17683,\n",
       " 'replacement': 18063,\n",
       " 'supposed': 20819,\n",
       " 'working': 23731,\n",
       " 'regards': 17707,\n",
       " 'false': 8838,\n",
       " 'advertising': 1583,\n",
       " 'providing': 16845,\n",
       " 'decent': 6256,\n",
       " 'hopes': 10793,\n",
       " 'protect': 16810,\n",
       " 'refund': 17678,\n",
       " 'fraudulent': 9602,\n",
       " 'file': 9096,\n",
       " 'claims': 4611,\n",
       " 'hours': 10843,\n",
       " 'customers': 6049,\n",
       " 'claim': 4601,\n",
       " 'filed': 9097,\n",
       " 'returned': 18474,\n",
       " '60': 798,\n",
       " 'paper': 15469,\n",
       " 'mail': 13219,\n",
       " 'mind': 13722,\n",
       " 'life': 12866,\n",
       " 'sit': 19692,\n",
       " 'wait': 23263,\n",
       " 'moved': 14143,\n",
       " 'accept': 1203,\n",
       " 'policy': 16166,\n",
       " 'waited': 23265,\n",
       " 'hear': 10534,\n",
       " 'thing': 21433,\n",
       " 'told': 21666,\n",
       " 'activity': 1427,\n",
       " 'months': 14059,\n",
       " 'broken': 3732,\n",
       " 'important': 11207,\n",
       " 'texts': 21290,\n",
       " 'tried': 21999,\n",
       " 'troubleshoot': 22031,\n",
       " 'work': 23718,\n",
       " 'want': 23303,\n",
       " 'know': 12483,\n",
       " 'protecting': 16813,\n",
       " 'relaxed': 17842,\n",
       " 'approach': 2282,\n",
       " 'completely': 5047,\n",
       " 'scammed': 18976,\n",
       " 'america': 1969,\n",
       " 'biggest': 3335,\n",
       " 'retailers': 18416,\n",
       " 'recorded': 17513,\n",
       " 'answers': 2135,\n",
       " 'kept': 12414,\n",
       " 'contractual': 5487,\n",
       " 'agreements': 1747,\n",
       " 'contractually': 5488,\n",
       " 'agree': 1741,\n",
       " 'buy': 3904,\n",
       " 'share': 19418,\n",
       " 'purchased': 16934,\n",
       " 'buyer': 3907,\n",
       " 'ready': 17240,\n",
       " 'contract': 5481,\n",
       " '2015': 329,\n",
       " 'read': 17225,\n",
       " 'send': 19240,\n",
       " 'commission': 4922,\n",
       " 'fully': 9739,\n",
       " 'refunded': 17680,\n",
       " 'title': 21616,\n",
       " 'fees': 9006,\n",
       " 'holding': 10728,\n",
       " 'escrow': 8291,\n",
       " 'promises': 16724,\n",
       " 'able': 1127,\n",
       " 'weeks': 23432,\n",
       " 'navient': 14316,\n",
       " 'ignored': 11055,\n",
       " 'failed': 8805,\n",
       " 'respond': 18322,\n",
       " 'multiple': 14195,\n",
       " 'requests': 18192,\n",
       " 'ibr': 10965,\n",
       " 'income': 11343,\n",
       " 'reevaluation': 17620,\n",
       " 'changed': 4349,\n",
       " 'jobs': 12308,\n",
       " 'decreased': 6295,\n",
       " 'dramatically': 7516,\n",
       " 'form': 9486,\n",
       " 'submissions': 20590,\n",
       " 'fax': 8929,\n",
       " 'online': 15008,\n",
       " 'website': 23413,\n",
       " 'forms': 9500,\n",
       " 'copy': 5610,\n",
       " 'documenting': 7378,\n",
       " 'hourly': 10842,\n",
       " 'wage': 23255,\n",
       " 'afford': 1646,\n",
       " 'asking': 2473,\n",
       " '2016': 345,\n",
       " 'went': 23457,\n",
       " 'tx': 22148,\n",
       " 'used': 22859,\n",
       " 'western': 23474,\n",
       " 'union': 22515,\n",
       " 'terminal': 21238,\n",
       " 'transfer': 21859,\n",
       " 'sum': 20726,\n",
       " '120': 93,\n",
       " 'mtcn': 14171,\n",
       " 'tracking': 21784,\n",
       " 'came': 4002,\n",
       " 'transaction': 21837,\n",
       " 'recipient': 17438,\n",
       " 'id': 10988,\n",
       " 'sure': 20844,\n",
       " 'agent': 1702,\n",
       " 'suggested': 20710,\n",
       " 'test': 21268,\n",
       " 'question': 17055,\n",
       " 'answer': 2129,\n",
       " 'suffice': 20701,\n",
       " 'provided': 16839,\n",
       " 'plus': 16113,\n",
       " 'later': 12606,\n",
       " 'informed': 11583,\n",
       " 'refused': 17691,\n",
       " 'expired': 8635,\n",
       " 'denied': 6528,\n",
       " 'use': 22857,\n",
       " 'wanted': 23304,\n",
       " 'individual': 11486,\n",
       " 'valid': 22924,\n",
       " 'entertain': 8124,\n",
       " 'stating': 20273,\n",
       " 'home': 10746,\n",
       " 'telephone': 21179,\n",
       " 'spoke': 20101,\n",
       " 'stated': 20259,\n",
       " 'let': 12791,\n",
       " 'change': 4348,\n",
       " 'fee': 8992,\n",
       " 'offer': 14891,\n",
       " 'minutes': 13771,\n",
       " 'speaking': 20024,\n",
       " 'different': 6869,\n",
       " 'individuals': 11490,\n",
       " 'mailed': 13223,\n",
       " 'address': 1474,\n",
       " 'just': 12384,\n",
       " 'ago': 1734,\n",
       " 'inquired': 11702,\n",
       " 'status': 20288,\n",
       " 'representative': 18128,\n",
       " 'fault': 8916,\n",
       " 'mentioned': 13574,\n",
       " 'lieu': 12865,\n",
       " 'international': 11943,\n",
       " 'recipients': 17440,\n",
       " 'initial': 11632,\n",
       " 'requesting': 18189,\n",
       " 'victim': 23087,\n",
       " 'theft': 21340,\n",
       " 'result': 18401,\n",
       " 'inquiries': 11708,\n",
       " 'knowledge': 12489,\n",
       " 'consent': 5300,\n",
       " 'transunion': 21921,\n",
       " 'supporting': 20813,\n",
       " 'documents': 7380,\n",
       " 'ignoring': 11058,\n",
       " 'clearly': 4658,\n",
       " 'frustrating': 9701,\n",
       " 'disappointing': 6975,\n",
       " 'remove': 17957,\n",
       " 'inaccurate': 11271,\n",
       " 'attaching': 2629,\n",
       " 'citibank': 4568,\n",
       " 'took': 21688,\n",
       " '170': 224,\n",
       " 'checking': 4437,\n",
       " 'order': 15118,\n",
       " 'maximize': 13440,\n",
       " 'processed': 16620,\n",
       " 'larger': 12585,\n",
       " 'smaller': 19823,\n",
       " 'caused': 4194,\n",
       " 'overdrafted': 15292,\n",
       " 'engaging': 8049,\n",
       " 'unfair': 22447,\n",
       " 'business': 3878,\n",
       " 'practices': 16322,\n",
       " 'overdraft': 15291,\n",
       " 'validate': 22925,\n",
       " 'debt': 6224,\n",
       " 'creditors': 5857,\n",
       " 'evidence': 8421,\n",
       " 'companies': 4971,\n",
       " 'stayed': 20306,\n",
       " 'second': 19136,\n",
       " 'movement': 14146,\n",
       " 'validated': 22926,\n",
       " 'crazy': 5819,\n",
       " 'equitable': 8223,\n",
       " 'conclusion': 5152,\n",
       " 'physically': 15960,\n",
       " 'pioneer': 16004,\n",
       " 'recovery': 17533,\n",
       " 'garnishment': 9850,\n",
       " 'driven': 7550,\n",
       " 'repayment': 18036,\n",
       " 'plan': 16040,\n",
       " 'according': 1254,\n",
       " 'law': 12629,\n",
       " 'family': 8860,\n",
       " 'extreme': 8738,\n",
       " 'economic': 7725,\n",
       " 'hardship': 10406,\n",
       " 'rent': 17989,\n",
       " 'food': 9359,\n",
       " 'table': 21003,\n",
       " 'living': 12978,\n",
       " 'present': 16456,\n",
       " '11': 75,\n",
       " 'capital': 4056,\n",
       " 'indicating': 11461,\n",
       " 'suspected': 20891,\n",
       " 'talked': 21045,\n",
       " 'promissed': 16729,\n",
       " 'doing': 7404,\n",
       " 'investigation': 12068,\n",
       " 'states': 20266,\n",
       " 'concluded': 5149,\n",
       " 'responsible': 18348,\n",
       " '4000': 611,\n",
       " 'tryied': 22081,\n",
       " 'associate': 2545,\n",
       " 'assigned': 2522,\n",
       " 'times': 21583,\n",
       " 'reach': 17210,\n",
       " 'resolution': 18285,\n",
       " 'try': 22079,\n",
       " 'speak': 20021,\n",
       " 'referring': 17637,\n",
       " 'person': 15849,\n",
       " 'care': 4101,\n",
       " 'assist': 2533,\n",
       " 'police': 16161,\n",
       " 'validation': 22929,\n",
       " 'delinquency': 6468,\n",
       " 'itemized': 12214,\n",
       " 'erc': 8241,\n",
       " 'recieved': 17430,\n",
       " 'original': 15157,\n",
       " 'creditor': 5856,\n",
       " 'continuing': 5472,\n",
       " 'cra': 5800,\n",
       " 'owed': 15379,\n",
       " 'wells': 23449,\n",
       " 'fargo': 8880,\n",
       " 'withdrew': 23655,\n",
       " 'charge': 4376,\n",
       " 'thought': 21469,\n",
       " 'opened': 15043,\n",
       " 'regular': 17736,\n",
       " 'pnc': 16128,\n",
       " 'deposit': 6596,\n",
       " '2000': 307,\n",
       " 'occurred': 14851,\n",
       " 'saturday': 18942,\n",
       " 'unable': 22228,\n",
       " 'access': 1211,\n",
       " 'support': 20808,\n",
       " 'monday': 14013,\n",
       " 'signature': 19602,\n",
       " 'card': 4088,\n",
       " 'piece': 15979,\n",
       " 'sign': 19592,\n",
       " 'note': 14621,\n",
       " 'far': 8876,\n",
       " 'tell': 21187,\n",
       " 'method': 13634,\n",
       " 'payment': 15632,\n",
       " 'solely': 19912,\n",
       " 'contain': 5423,\n",
       " 'verify': 23040,\n",
       " 'driver': 7551,\n",
       " 'license': 12848,\n",
       " 'reason': 17303,\n",
       " 'physical': 15959,\n",
       " 'necessary': 14369,\n",
       " 'takes': 21038,\n",
       " 'close': 4698,\n",
       " 'issuing': 12195,\n",
       " 'impossible': 11222,\n",
       " 'violation': 23137,\n",
       " 'fdic': 8964,\n",
       " 'laws': 12641,\n",
       " '5000': 710,\n",
       " 'meaning': 13478,\n",
       " 'reasonable': 17304,\n",
       " 'expectation': 8592,\n",
       " 'hold': 10725,\n",
       " 'period': 15781,\n",
       " 'cryptocurrencies': 5947,\n",
       " 'purchase': 16933,\n",
       " 'etherium': 8343,\n",
       " 'dollars': 7411,\n",
       " 'sold': 19908,\n",
       " '180': 237,\n",
       " 'stagnant': 20195,\n",
       " 'withdrawal': 23645,\n",
       " 'debit': 6217,\n",
       " 'taken': 21034,\n",
       " 'research': 18228,\n",
       " 'uncommon': 22307,\n",
       " 'problem': 16598,\n",
       " 'occurs': 14855,\n",
       " 'coarse': 4742,\n",
       " 'attempted': 2650,\n",
       " 'equipment': 8218,\n",
       " 'receiving': 17393,\n",
       " 'invoice': 12091,\n",
       " 'alleged': 1852,\n",
       " 'completed': 5040,\n",
       " 'wire': 23619,\n",
       " 'subsequently': 20624,\n",
       " 'site': 19693,\n",
       " 'scam': 18974,\n",
       " 'chase': 4400,\n",
       " 'identified': 11008,\n",
       " 'complicated': 5063,\n",
       " 'refuses': 17692,\n",
       " 'harmless': 10420,\n",
       " 'document': 7371,\n",
       " 'supplied': 20800,\n",
       " 'notarized': 14611,\n",
       " 'understanding': 22378,\n",
       " 'frozen': 9684,\n",
       " 'assets': 2517,\n",
       " 'longer': 13069,\n",
       " 'bigger': 3334,\n",
       " 'cause': 4193,\n",
       " 'overdrawn': 15300,\n",
       " 'applies': 2251,\n",
       " 'charging': 4387,\n",
       " 'consumer': 5397,\n",
       " 'happened': 10376,\n",
       " 'yesterday': 24192,\n",
       " 'servicing': 19334,\n",
       " 'son': 19950,\n",
       " 'student': 20533,\n",
       " 'loans': 13009,\n",
       " 'variable': 22958,\n",
       " '75': 914,\n",
       " '25': 429,\n",
       " 'sending': 19245,\n",
       " 'payments': 15634,\n",
       " 'specific': 20035,\n",
       " 'loan': 13001,\n",
       " 'numbers': 14719,\n",
       " 'higher': 10652,\n",
       " 'rate': 17175,\n",
       " 'earlier': 7668,\n",
       " 'posting': 16274,\n",
       " 'proportionately': 16781,\n",
       " 'outstanding': 15265,\n",
       " 'balance': 2960,\n",
       " 'causing': 4197,\n",
       " 'accrued': 1304,\n",
       " 'portion': 16224,\n",
       " 'total': 21727,\n",
       " 'abusive': 1182,\n",
       " 'reducing': 17599,\n",
       " 'accordingly': 1255,\n",
       " 'collection': 4825,\n",
       " 'claiming': 4609,\n",
       " '560': 763,\n",
       " 'fro': 9663,\n",
       " 'nj': 14520,\n",
       " 've': 22979,\n",
       " 'lived': 12971,\n",
       " 'delaware': 6438,\n",
       " 'past': 15565,\n",
       " '18': 236,\n",
       " 'copies': 5603,\n",
       " 'application': 2247,\n",
       " 'recordings': 17517,\n",
       " 'regarding': 17705,\n",
       " 'tax': 21102,\n",
       " 'returns': 18476,\n",
       " 'open': 15041,\n",
       " 'continually': 5464,\n",
       " 'don': 7429,\n",
       " 'woman': 23698,\n",
       " 'nasty': 14294,\n",
       " 'job': 12305,\n",
       " 'burden': 3827,\n",
       " 'prove': 16833,\n",
       " 'isn': 12176,\n",
       " 'dos': 7449,\n",
       " 'dates': 6140,\n",
       " 'busy': 3890,\n",
       " 'schedule': 19017,\n",
       " 'fix': 9214,\n",
       " 'mistakes': 13915,\n",
       " 'national': 14298,\n",
       " 'owes': 15383,\n",
       " '000': 1,\n",
       " 'unpaid': 22599,\n",
       " 'disputed': 7205,\n",
       " 'despite': 6714,\n",
       " 'doesn': 7396,\n",
       " 'start': 20242,\n",
       " 'morning': 14084,\n",
       " 'initiated': 11639,\n",
       " 'inquire': 11701,\n",
       " 'end': 8002,\n",
       " 'inquiry': 11712,\n",
       " 'jp': 12331,\n",
       " 'morgan': 14080,\n",
       " 'wires': 23623,\n",
       " 'week': 23425,\n",
       " 'gave': 9872,\n",
       " 'writing': 23802,\n",
       " 'confirming': 5224,\n",
       " 'confirm': 5219,\n",
       " 'says': 18962,\n",
       " 'investigating': 12067,\n",
       " 'maybe': 13445,\n",
       " 'message': 13616,\n",
       " 'format': 9491,\n",
       " 'making': 13258,\n",
       " 'transfers': 21874,\n",
       " 'supply': 20805,\n",
       " 'member': 13546,\n",
       " 'standing': 20224,\n",
       " 'bow': 3624,\n",
       " 'thank': 21303,\n",
       " 'advance': 1562,\n",
       " 'sincerely': 19664,\n",
       " 'hello': 10581,\n",
       " 'express': 8678,\n",
       " 'concern': 5134,\n",
       " 'forgiveness': 9470,\n",
       " 'program': 16686,\n",
       " 'qualified': 17020,\n",
       " 'district': 7292,\n",
       " 'signed': 19607,\n",
       " '17000': 226,\n",
       " '20': 305,\n",
       " 'upset': 22805,\n",
       " 'matter': 13425,\n",
       " 'struggled': 20516,\n",
       " 'needed': 14379,\n",
       " 'place': 16026,\n",
       " 'forbearance': 9389,\n",
       " 'deferment': 6370,\n",
       " 'quite': 17081,\n",
       " 'bankruptcy': 3021,\n",
       " '2014': 328,\n",
       " 'track': 21780,\n",
       " 'greatly': 10153,\n",
       " 'appreciate': 2271,\n",
       " 'thanks': 21308,\n",
       " 'harassing': 10393,\n",
       " 'signer': 19610,\n",
       " 'forcing': 9410,\n",
       " 'appear': 2224,\n",
       " 'delinquent': 6472,\n",
       " 'offered': 14893,\n",
       " 'whatsoever': 23494,\n",
       " 'exhausted': 8553,\n",
       " 'options': 15105,\n",
       " 'unemployment': 22424,\n",
       " 'current': 6009,\n",
       " 'approximately': 2306,\n",
       " '300': 493,\n",
       " 'cosigner': 5681,\n",
       " 'appliances': 2242,\n",
       " 'store': 20421,\n",
       " 'delivery': 6486,\n",
       " 'produced': 16645,\n",
       " 'manager': 13288,\n",
       " '12': 92,\n",
       " 'cash': 4147,\n",
       " 'applied': 2250,\n",
       " 'agreed': 1743,\n",
       " 'enter': 8118,\n",
       " 'technical': 21142,\n",
       " 'difficulty': 6883,\n",
       " '4700': 676,\n",
       " 'statement': 20262,\n",
       " '45': 655,\n",
       " 'toll': 21676,\n",
       " 'free': 9616,\n",
       " 'receipt': 17376,\n",
       " 'long': 13067,\n",
       " 'fine': 9149,\n",
       " 'statements': 20265,\n",
       " 'bills': 3362,\n",
       " 'notices': 14635,\n",
       " 'farm': 8886,\n",
       " 'ran': 17146,\n",
       " 'history': 10703,\n",
       " '5900': 780,\n",
       " 'dated': 6135,\n",
       " 'delete': 6449,\n",
       " 'derogatory': 6652,\n",
       " 'reports': 18102,\n",
       " 'fed': 8980,\n",
       " 'cd': 4233,\n",
       " 'barclays': 3041,\n",
       " 'funded': 9754,\n",
       " 'placed': 16027,\n",
       " 'facts': 8793,\n",
       " 'emails': 7890,\n",
       " 'reached': 17213,\n",
       " 'maturity': 13434,\n",
       " 'allowed': 1885,\n",
       " 'allowing': 1887,\n",
       " 'saying': 18961,\n",
       " 'verified': 23035,\n",
       " 'deposits': 6607,\n",
       " 'actually': 1436,\n",
       " 'recieve': 17429,\n",
       " 'resulting': 18403,\n",
       " 'link': 12913,\n",
       " 'external': 8712,\n",
       " 'acces': 1209,\n",
       " 'using': 22875,\n",
       " 'borrowed': 3590,\n",
       " 'owned': 15385,\n",
       " 'illigal': 11085,\n",
       " 'recently': 17398,\n",
       " 'safety': 18847,\n",
       " 'box': 3626,\n",
       " '32': 527,\n",
       " 'discovered': 7062,\n",
       " 'issued': 12187,\n",
       " 'acquired': 1388,\n",
       " 'office': 14901,\n",
       " 'showed': 19530,\n",
       " 'record': 17511,\n",
       " 'having': 10490,\n",
       " 'library': 12842,\n",
       " 'checked': 4432,\n",
       " 'abandoned': 1111,\n",
       " 'illinois': 11087,\n",
       " 'secretary': 19144,\n",
       " 'treasurey': 21965,\n",
       " 'cfpb': 4310,\n",
       " 'complain': 5019,\n",
       " 'private': 16572,\n",
       " 'originally': 15159,\n",
       " 'missed': 13894,\n",
       " 'required': 18196,\n",
       " 'paying': 15627,\n",
       " 'starting': 20248,\n",
       " '2009': 318,\n",
       " 'graduated': 10094,\n",
       " 'little': 12968,\n",
       " '200': 306,\n",
       " 'principal': 16544,\n",
       " '15000': 144,\n",
       " '91': 1022,\n",
       " 'missing': 13896,\n",
       " '18000': 239,\n",
       " 'roughly': 18732,\n",
       " '13000': 112,\n",
       " 'ridiculous': 18587,\n",
       " 'considered': 5321,\n",
       " 'crime': 5886,\n",
       " 'understand': 22375,\n",
       " 'works': 23737,\n",
       " 'really': 17269,\n",
       " 'ask': 2468,\n",
       " 'utilities': 22892,\n",
       " 'primary': 16538,\n",
       " 'systems': 20994,\n",
       " 'useless': 22863,\n",
       " 'require': 18195,\n",
       " 'utility': 22893,\n",
       " 'energy': 8032,\n",
       " 'additional': 1462,\n",
       " 'power': 16300,\n",
       " 'warning': 23322,\n",
       " 'consistently': 5338,\n",
       " 'coming': 4886,\n",
       " 'previous': 16518,\n",
       " 'positive': 16244,\n",
       " 'drastic': 7517,\n",
       " 'difference': 6867,\n",
       " 'bringing': 3716,\n",
       " 'challenge': 4336,\n",
       " 'email': 7885,\n",
       " 'duplicate': 7623,\n",
       " 'solutions': 19930,\n",
       " 'executive': 8530,\n",
       " 'remediation': 17916,\n",
       " 'analyst': 2026,\n",
       " 'lost': 13107,\n",
       " 'stolen': 20396,\n",
       " 'exec': 8522,\n",
       " 'electronic': 7838,\n",
       " 'branch': 3650,\n",
       " 'consider': 5315,\n",
       " 'propietary': 16777,\n",
       " 'material': 13410,\n",
       " 'available': 2812,\n",
       " 'review': 18520,\n",
       " 'lies': 12864,\n",
       " 'created': 5828,\n",
       " 'explanation': 8647,\n",
       " 'unauthorized': 22261,\n",
       " 'civil': 4592,\n",
       " 'stepson': 20348,\n",
       " 'married': 13376,\n",
       " '28': 453,\n",
       " 'wellsfargo': 23451,\n",
       " 'electronically': 7839,\n",
       " 'authorized': 2755,\n",
       " 'specially': 20033,\n",
       " 'possetion': 16256,\n",
       " 'cards': 4098,\n",
       " 'aware': 2859,\n",
       " 'considerin': 5323,\n",
       " 'filing': 9104,\n",
       " 'lawsuit': 12644,\n",
       " 'justice': 12385,\n",
       " 'dept': 6625,\n",
       " 'ftc': 9716,\n",
       " '3200': 529,\n",
       " '100': 28,\n",
       " 'pmnt': 16123,\n",
       " 'posted': 16269,\n",
       " '35': 554,\n",
       " '5days': 786,\n",
       " 'summary': 20735,\n",
       " '500': 709,\n",
       " '96': 1044,\n",
       " '3800': 578,\n",
       " '29': 462,\n",
       " 'added': 1454,\n",
       " 'thet': 21403,\n",
       " 'pohe': 16148,\n",
       " 'reverse': 18509,\n",
       " '7500': 916,\n",
       " 'dont': 7437,\n",
       " 'ost': 15194,\n",
       " 'mortgage': 14094,\n",
       " 'refi': 17645,\n",
       " 'looking': 13081,\n",
       " 'whent': 23504,\n",
       " 'accolunt': 1231,\n",
       " 'habve': 10284,\n",
       " 'explaining': 8644,\n",
       " 'acct': 1308,\n",
       " 'create': 5827,\n",
       " 'terms': 21251,\n",
       " 'agreement': 1746,\n",
       " 'governing': 10064,\n",
       " 'paypal': 15654,\n",
       " 'username': 22866,\n",
       " 'payer': 15623,\n",
       " 'single': 19676,\n",
       " 'beneficial': 3261,\n",
       " 'owner': 15386,\n",
       " 'inadvertently': 11290,\n",
       " 'upgraded': 22785,\n",
       " 'documented': 7377,\n",
       " 'occasions': 14833,\n",
       " 'downgrade': 7472,\n",
       " 'simple': 19650,\n",
       " 'personal': 15852,\n",
       " 'limited': 12898,\n",
       " 'communications': 4952,\n",
       " 'spent': 20071,\n",
       " 'representatives': 18129,\n",
       " 'explained': 8641,\n",
       " 'lingering': 12911,\n",
       " 'ongoing': 15004,\n",
       " 'emp': 7931,\n",
       " 'indicated': 11459,\n",
       " 'ticket': 21545,\n",
       " 'allow': 1880,\n",
       " '24': 415,\n",
       " 'contacting': 5418,\n",
       " 'audit': 2714,\n",
       " 'risk': 18627,\n",
       " 'arc': 2347,\n",
       " 'committee': 4935,\n",
       " 'board': 3504,\n",
       " 'financial': 9136,\n",
       " 'protection': 16814,\n",
       " 'bureau': 3835,\n",
       " 'unfortunately': 22472,\n",
       " 'confirmation': 5220,\n",
       " 'communication': 4950,\n",
       " 'opposed': 15081,\n",
       " 'taking': 21041,\n",
       " 'steps': 20347,\n",
       " 'bring': 3715,\n",
       " 'attention': 2666,\n",
       " 'media': 13505,\n",
       " 'congressional': 5260,\n",
       " 'representation': 18126,\n",
       " 'california': 3971,\n",
       " 'state': 20258,\n",
       " 'general': 9894,\n",
       " 'federal': 8981,\n",
       " 'reserve': 18250,\n",
       " 'frb': 9609,\n",
       " 'securities': 19167,\n",
       " 'exchanges': 8496,\n",
       " 'sec': 19135,\n",
       " 'checks': 4447,\n",
       " 'deposited': 6599,\n",
       " 'cashed': 4151,\n",
       " 'written': 23807,\n",
       " 'suntrust': 20757,\n",
       " 'beneficiary': 3263,\n",
       " 'arrived': 2423,\n",
       " 'credited': 5852,\n",
       " 'various': 22968,\n",
       " 'traces': 21778,\n",
       " 'banking': 3009,\n",
       " 'incident': 11324,\n",
       " 'happen': 10374,\n",
       " 'wiring': 23627,\n",
       " 'closing': 4707,\n",
       " '8000': 949,\n",
       " 'property': 16776,\n",
       " 'prepared': 16430,\n",
       " 'waiting': 23267,\n",
       " 'fund': 9751,\n",
       " 'lady': 12543,\n",
       " 'xxxxxxxx': 24129,\n",
       " 'cancel': 4016,\n",
       " 'stop': 20410,\n",
       " 'transition': 21887,\n",
       " 'nv': 14743,\n",
       " 'expected': 8594,\n",
       " 'going': 10021,\n",
       " 'stopped': 20416,\n",
       " 'perform': 15768,\n",
       " '48': 681,\n",
       " 'instructed': 11816,\n",
       " 'ref': 17621,\n",
       " 'forth': 9511,\n",
       " 'talk': 21044,\n",
       " 'direct': 6928,\n",
       " 'check': 4427,\n",
       " 'frustrated': 9700,\n",
       " 'desperately': 6708,\n",
       " 'response': 18337,\n",
       " 'indicate': 11458,\n",
       " 'benefit': 3266,\n",
       " 'assessed': 2508,\n",
       " 'attempt': 2649,\n",
       " 'guaranteed': 10221,\n",
       " 'initiator': 11644,\n",
       " 'attempts': 2652,\n",
       " 'approval': 2297,\n",
       " ...}"
      ]
     },
     "execution_count": 27,
     "metadata": {},
     "output_type": "execute_result"
    }
   ],
   "source": [
    "binary_count_vectorizer.vocabulary_"
   ]
  },
  {
   "cell_type": "markdown",
   "metadata": {},
   "source": [
    "**Inspect the Feature Matrix**"
   ]
  },
  {
   "cell_type": "code",
   "execution_count": 28,
   "metadata": {},
   "outputs": [],
   "source": [
    "X_train_array = X_train_binary_count_vectorizer.toarray()"
   ]
  },
  {
   "cell_type": "code",
   "execution_count": 29,
   "metadata": {},
   "outputs": [],
   "source": [
    "def raw_text_to_vocab(text_index):\n",
    "    print(X_train.iloc[text_index])\n",
    "    for index, exists in enumerate(X_train_array[text_index]):\n",
    "        if exists:\n",
    "            print(index, '->', binary_count_vectorizer.get_feature_names()[index])"
   ]
  },
  {
   "cell_type": "code",
   "execution_count": 30,
   "metadata": {},
   "outputs": [
    {
     "name": "stdout",
     "output_type": "stream",
     "text": [
      "XXXX account listed on my credit report with Experian and XXXX has been paid and closed since XXXX 2007. I would like this account removed from my credit report as it has been over 7 years.\n",
      "316 -> 2007\n",
      "1264 -> account\n",
      "4699 -> closed\n",
      "5847 -> credit\n",
      "8616 -> experian\n",
      "12884 -> like\n",
      "12934 -> listed\n",
      "15420 -> paid\n",
      "17959 -> removed\n",
      "18089 -> report\n",
      "23870 -> xxxx\n",
      "24179 -> years\n"
     ]
    }
   ],
   "source": [
    "raw_text_to_vocab(0)"
   ]
  },
  {
   "cell_type": "markdown",
   "metadata": {},
   "source": [
    "**Q) Which Words are common in different classes of products?**"
   ]
  },
  {
   "cell_type": "markdown",
   "metadata": {},
   "source": [
    "**Q) Which Words are specifically used in respective product classes?**"
   ]
  },
  {
   "cell_type": "markdown",
   "metadata": {},
   "source": [
    "### Machine Learning Algorithm: Naive Bayes"
   ]
  },
  {
   "cell_type": "code",
   "execution_count": 31,
   "metadata": {},
   "outputs": [],
   "source": [
    "from sklearn.naive_bayes import MultinomialNB"
   ]
  },
  {
   "cell_type": "code",
   "execution_count": 32,
   "metadata": {},
   "outputs": [],
   "source": [
    "nb_classifer = MultinomialNB()"
   ]
  },
  {
   "cell_type": "markdown",
   "metadata": {},
   "source": [
    "### Modeling"
   ]
  },
  {
   "cell_type": "code",
   "execution_count": 33,
   "metadata": {},
   "outputs": [
    {
     "data": {
      "text/plain": [
       "MultinomialNB(alpha=1.0, class_prior=None, fit_prior=True)"
      ]
     },
     "execution_count": 33,
     "metadata": {},
     "output_type": "execute_result"
    }
   ],
   "source": [
    "nb_classifer.fit(X_train_binary_count_vectorizer, y_train)"
   ]
  },
  {
   "cell_type": "code",
   "execution_count": 34,
   "metadata": {},
   "outputs": [
    {
     "data": {
      "text/plain": [
       "1.0"
      ]
     },
     "execution_count": 34,
     "metadata": {},
     "output_type": "execute_result"
    }
   ],
   "source": [
    "nb_classifer.alpha"
   ]
  },
  {
   "cell_type": "code",
   "execution_count": 35,
   "metadata": {},
   "outputs": [
    {
     "data": {
      "text/plain": [
       "array([3200., 3200., 3200., 3200., 3200.])"
      ]
     },
     "execution_count": 35,
     "metadata": {},
     "output_type": "execute_result"
    }
   ],
   "source": [
    "nb_classifer.class_count_"
   ]
  },
  {
   "cell_type": "code",
   "execution_count": 36,
   "metadata": {},
   "outputs": [
    {
     "data": {
      "text/plain": [
       "array([-1.60943791, -1.60943791, -1.60943791, -1.60943791, -1.60943791])"
      ]
     },
     "execution_count": 36,
     "metadata": {},
     "output_type": "execute_result"
    }
   ],
   "source": [
    "nb_classifer.class_log_prior_"
   ]
  },
  {
   "cell_type": "code",
   "execution_count": 70,
   "metadata": {},
   "outputs": [
    {
     "data": {
      "text/plain": [
       "array([[ -4.95098841, -10.24868058, -12.32812212, ..., -12.32812212,\n",
       "        -12.32812212, -12.32812212],\n",
       "       [ -5.82451152, -10.18548475, -11.97724422, ..., -11.28409704,\n",
       "        -11.97724422, -11.97724422],\n",
       "       [ -5.23795246, -10.00012639, -12.07956794, ..., -12.07956794,\n",
       "        -11.38642076, -12.07956794],\n",
       "       [ -4.85719732,  -9.28801412, -12.2837464 , ..., -12.2837464 ,\n",
       "        -12.2837464 , -12.2837464 ],\n",
       "       [ -5.22129019,  -8.61371908, -11.65824152, ..., -12.3513887 ,\n",
       "        -12.3513887 , -11.65824152]])"
      ]
     },
     "execution_count": 70,
     "metadata": {},
     "output_type": "execute_result"
    }
   ],
   "source": [
    "nb_classifer.feature_log_prob_"
   ]
  },
  {
   "cell_type": "code",
   "execution_count": 73,
   "metadata": {},
   "outputs": [
    {
     "data": {
      "text/plain": [
       "array([[ -4.95098841, -10.24868058, -12.32812212, ..., -12.32812212,\n",
       "        -12.32812212, -12.32812212],\n",
       "       [ -5.82451152, -10.18548475, -11.97724422, ..., -11.28409704,\n",
       "        -11.97724422, -11.97724422],\n",
       "       [ -5.23795246, -10.00012639, -12.07956794, ..., -12.07956794,\n",
       "        -11.38642076, -12.07956794],\n",
       "       [ -4.85719732,  -9.28801412, -12.2837464 , ..., -12.2837464 ,\n",
       "        -12.2837464 , -12.2837464 ],\n",
       "       [ -5.22129019,  -8.61371908, -11.65824152, ..., -12.3513887 ,\n",
       "        -12.3513887 , -11.65824152]])"
      ]
     },
     "execution_count": 73,
     "metadata": {},
     "output_type": "execute_result"
    }
   ],
   "source": [
    "nb_classifer.coef_"
   ]
  },
  {
   "cell_type": "code",
   "execution_count": 72,
   "metadata": {},
   "outputs": [
    {
     "data": {
      "text/plain": [
       "array([-1.60943791, -1.60943791, -1.60943791, -1.60943791, -1.60943791])"
      ]
     },
     "execution_count": 72,
     "metadata": {},
     "output_type": "execute_result"
    }
   ],
   "source": [
    "nb_classifer.intercept_"
   ]
  },
  {
   "cell_type": "markdown",
   "metadata": {},
   "source": [
    "### Model Evaluation\n",
    "\n",
    "- Cross Validation"
   ]
  },
  {
   "cell_type": "markdown",
   "metadata": {},
   "source": [
    "<img src=\"../images/grid_search_cross_validation.png\" alt=\"Cross Validation\" style=\"width: 500px;\"/>"
   ]
  },
  {
   "cell_type": "code",
   "execution_count": 57,
   "metadata": {},
   "outputs": [],
   "source": [
    "from sklearn.model_selection import cross_val_score"
   ]
  },
  {
   "cell_type": "code",
   "execution_count": 68,
   "metadata": {},
   "outputs": [
    {
     "name": "stdout",
     "output_type": "stream",
     "text": [
      "0.8534375000000001\n",
      "[0.8603125 0.8578125 0.845625  0.8590625 0.844375 ]\n"
     ]
    }
   ],
   "source": [
    "cv_scores = cross_val_score(nb_classifer, X_train_binary_count_vectorizer, y_train, cv=5)\n",
    "print(cv_scores.mean())\n",
    "print(cv_scores)"
   ]
  },
  {
   "cell_type": "markdown",
   "metadata": {},
   "source": [
    "### Quality Metrics\n",
    "\n",
    "- **How to calculate the Accuracy of a Model?**\n",
    "    - Confusion Metrics\n",
    "    - Accuracy Score Value which is calculated using Correct Classification / Total"
   ]
  },
  {
   "cell_type": "code",
   "execution_count": 58,
   "metadata": {},
   "outputs": [],
   "source": [
    "from sklearn.metrics import accuracy_score, confusion_matrix\n",
    "\n",
    "import seaborn as sns;\n",
    "sns.set()\n",
    "\n",
    "import matplotlib.pyplot as plt\n",
    "%matplotlib inline"
   ]
  },
  {
   "cell_type": "code",
   "execution_count": 59,
   "metadata": {},
   "outputs": [],
   "source": [
    "predictions = nb_classifer.predict(X_test_binary_count_vectorizer)"
   ]
  },
  {
   "cell_type": "code",
   "execution_count": 60,
   "metadata": {},
   "outputs": [
    {
     "data": {
      "text/plain": [
       "0.84675"
      ]
     },
     "execution_count": 60,
     "metadata": {},
     "output_type": "execute_result"
    }
   ],
   "source": [
    "accuracy_score(y_test, predictions)"
   ]
  },
  {
   "cell_type": "code",
   "execution_count": 65,
   "metadata": {},
   "outputs": [
    {
     "data": {
      "text/plain": [
       "array([[682,  19,  12,  68,  19],\n",
       "       [ 22, 637,  42,   8,  91],\n",
       "       [  9,  23, 732,  10,  26],\n",
       "       [107,   6,   6, 679,   2],\n",
       "       [ 23,  82,  28,  10, 657]])"
      ]
     },
     "execution_count": 65,
     "metadata": {},
     "output_type": "execute_result"
    }
   ],
   "source": [
    "conf_matrix = confusion_matrix(y_test, predictions, labels=y_test.unique())\n",
    "conf_matrix"
   ]
  },
  {
   "cell_type": "code",
   "execution_count": 77,
   "metadata": {},
   "outputs": [
    {
     "data": {
      "text/plain": [
       "<matplotlib.axes._subplots.AxesSubplot at 0x7f714387f220>"
      ]
     },
     "execution_count": 77,
     "metadata": {},
     "output_type": "execute_result"
    },
    {
     "data": {
      "image/png": "[encoded data removed]",
      "text/plain": [
       "<Figure size 432x288 with 2 Axes>"
      ]
     },
     "metadata": {
      "needs_background": "light"
     },
     "output_type": "display_data"
    }
   ],
   "source": [
    "sns.heatmap(conf_matrix,\n",
    "            cmap='YlGnBu',\n",
    "            annot=True,\n",
    "            fmt=\"d\",\n",
    "            xticklabels=y_test.unique(),\n",
    "            yticklabels=y_test.unique())"
   ]
  },
  {
   "cell_type": "markdown",
   "metadata": {},
   "source": [
    "## Homework\n",
    "\n",
    "- Drop the Complaints which occurs more than 2 times from dataset & see how removing these examples impacts the accuracy?\n",
    "- Use CountVectorizer with Binary as False & see what impacts it has on the accuracy?\n",
    "- Fit CountVectorizer without Stopwords & see how impacts the accuracy?\n",
    "- Identify why there so many misclassifications in `Money transfer, virtual currency, or money service` and `Bank account or service`?"
   ]
  },
  {
   "cell_type": "markdown",
   "metadata": {},
   "source": [
    "## Resources\n",
    "\n",
    "- [How to Use CountVectorizer](https://kavita-ganesan.com/how-to-use-countvectorizer/)"
   ]
  },
  {
   "cell_type": "code",
   "execution_count": null,
   "metadata": {},
   "outputs": [],
   "source": []
  }
 ],
 "metadata": {
  "kernelspec": {
   "display_name": "Python 3",
   "language": "python",
   "name": "python3"
  },
  "language_info": {
   "codemirror_mode": {
    "name": "ipython",
    "version": 3
   },
   "file_extension": ".py",
   "mimetype": "text/x-python",
   "name": "python",
   "nbconvert_exporter": "python",
   "pygments_lexer": "ipython3",
   "version": "3.8.2"
  },
  "toc": {
   "base_numbering": 1,
   "nav_menu": {},
   "number_sections": false,
   "sideBar": true,
   "skip_h1_title": false,
   "title_cell": "Text Classification using Naive Bayes",
   "title_sidebar": "Contents",
   "toc_cell": true,
   "toc_position": {},
   "toc_section_display": true,
   "toc_window_display": false
  }
 },
 "nbformat": 4,
 "nbformat_minor": 4
}
