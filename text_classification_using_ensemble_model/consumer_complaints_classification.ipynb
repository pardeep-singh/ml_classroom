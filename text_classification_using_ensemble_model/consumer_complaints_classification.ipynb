{
 "cells": [
  {
   "cell_type": "markdown",
   "metadata": {
    "toc": true
   },
   "source": [
    "<h1>Text Classification using Ensemble Model<span class=\"tocSkip\"></span></h1>\n",
    "<div class=\"toc\"><ul class=\"toc-item\"><li><span><a href=\"#Ensemble-Learning\" data-toc-modified-id=\"Ensemble-Learning-1\">Ensemble Learning</a></span><ul class=\"toc-item\"><li><span><a href=\"#Boosting\" data-toc-modified-id=\"Boosting-1.1\">Boosting</a></span></li><li><span><a href=\"#Bagging\" data-toc-modified-id=\"Bagging-1.2\">Bagging</a></span></li><li><span><a href=\"#Stacking\" data-toc-modified-id=\"Stacking-1.3\">Stacking</a></span></li></ul></li><li><span><a href=\"#Machine-Learning-Project-Lifecycle:-Fourth-Iteration\" data-toc-modified-id=\"Machine-Learning-Project-Lifecycle:-Fourth-Iteration-2\">Machine Learning Project Lifecycle: Fourth Iteration</a></span><ul class=\"toc-item\"><li><span><a href=\"#Problem-Statement\" data-toc-modified-id=\"Problem-Statement-2.1\">Problem Statement</a></span></li><li><span><a href=\"#Training-Data\" data-toc-modified-id=\"Training-Data-2.2\">Training Data</a></span></li><li><span><a href=\"#Preprocessing-+-Feature-Engineering\" data-toc-modified-id=\"Preprocessing-+-Feature-Engineering-2.3\">Preprocessing + Feature Engineering</a></span></li><li><span><a href=\"#Machine-Learning-Algorithm:-Ensemble-Learning\" data-toc-modified-id=\"Machine-Learning-Algorithm:-Ensemble-Learning-2.4\">Machine Learning Algorithm: Ensemble Learning</a></span><ul class=\"toc-item\"><li><span><a href=\"#Naive-Bayes\" data-toc-modified-id=\"Naive-Bayes-2.4.1\">Naive Bayes</a></span></li><li><span><a href=\"#Logistic-Regression\" data-toc-modified-id=\"Logistic-Regression-2.4.2\">Logistic Regression</a></span></li><li><span><a href=\"#Ensemble-Model:-EnsembleVoteClassifier\" data-toc-modified-id=\"Ensemble-Model:-EnsembleVoteClassifier-2.4.3\">Ensemble Model: <a href=\"http://rasbt.github.io/mlxtend/user_guide/classifier/EnsembleVoteClassifier/\" target=\"_blank\">EnsembleVoteClassifier</a></a></span></li><li><span><a href=\"#Ensemble-Model:-StackingClassifier\" data-toc-modified-id=\"Ensemble-Model:-StackingClassifier-2.4.4\">Ensemble Model: <a href=\"http://rasbt.github.io/mlxtend/user_guide/classifier/StackingClassifier/\" target=\"_blank\">StackingClassifier</a></a></span></li></ul></li><li><span><a href=\"#Quality-Metrics\" data-toc-modified-id=\"Quality-Metrics-2.5\">Quality Metrics</a></span></li><li><span><a href=\"#Model-Evaluation-on-Test-Dataset\" data-toc-modified-id=\"Model-Evaluation-on-Test-Dataset-2.6\">Model Evaluation on Test Dataset</a></span></li></ul></li><li><span><a href=\"#Resources\" data-toc-modified-id=\"Resources-3\">Resources</a></span></li></ul></div>"
   ]
  },
  {
   "cell_type": "markdown",
   "metadata": {},
   "source": [
    "<img src=\"../images/classification.png\" alt=\"Classification\" style=\"width: 700px;\"/>"
   ]
  },
  {
   "cell_type": "markdown",
   "metadata": {
    "heading_collapsed": true
   },
   "source": [
    "## Ensemble Learning\n",
    "\n",
    "**Can we get an advice from multiple experts instead of trusting one person?**"
   ]
  },
  {
   "cell_type": "markdown",
   "metadata": {
    "hidden": true
   },
   "source": [
    "Idea of Ensemble Learning traces back to similar ideas like [Condorcet's jury theorem](https://en.wikipedia.org/wiki/Condorcet%27s_jury_theorem) and [Wisdom of the crowd](https://en.wikipedia.org/wiki/Wisdom_of_the_crowd) where it has been proven that collective opinion of a group of individual is better than Single expert."
   ]
  },
  {
   "cell_type": "markdown",
   "metadata": {
    "hidden": true
   },
   "source": [
    "Using Condorcet's jury theorem:\n",
    "\n",
    "- $\\large N$ is the total number of jurors;\n",
    "- $\\large m$ is a minimal number of jurors that would make a majority, that is $\\large m = floor(N/2) + 1$;\n",
    "- $\\large {N \\choose i}$ is the number of $\\large i$-combinations from a set with $\\large N$ elements.\n",
    "- $\\large p$ is the probability of the correct decision by a juror;\n",
    "- $\\large \\mu$ is the probability of the correct decision by the whole jury.\n",
    "\n",
    "Then:\n",
    "\n",
    "$$ \\large \\mu = \\sum_{i=m}^{N}{N\\choose i}p^i(1-p)^{N-i} $$\n",
    "\n",
    "It can be seen that if $\\large p > 0.5$, then $\\large \\mu > p$. In addition, if $\\large N \\rightarrow \\infty $, then $\\large \\mu \\rightarrow 1$."
   ]
  },
  {
   "cell_type": "code",
   "execution_count": 13,
   "metadata": {
    "hidden": true
   },
   "outputs": [
    {
     "data": {
      "text/plain": [
       "83.69"
      ]
     },
     "execution_count": 13,
     "metadata": {},
     "output_type": "execute_result"
    }
   ],
   "source": [
    "def factorial(n):\n",
    "    if n == 0 or n == 1:\n",
    "        return 1\n",
    "    return n * factorial(n-1)\n",
    "\n",
    "\n",
    "def joint_probability(individual_prob, n, majority):\n",
    "    result = 0\n",
    "    for i in range(majority, n+1):\n",
    "        combinations = factorial(n) / (factorial (n - i) * factorial (i))\n",
    "        current_result = (individual_prob ** i) * ((1 - individual_prob) ** (n - i)) * combinations\n",
    "        result += current_result\n",
    "    return result\n",
    "\n",
    "round(joint_probability(.7, 5, 3) * 100, 2)"
   ]
  },
  {
   "cell_type": "markdown",
   "metadata": {
    "heading_collapsed": true,
    "hidden": true
   },
   "source": [
    "### Boosting"
   ]
  },
  {
   "cell_type": "markdown",
   "metadata": {
    "hidden": true
   },
   "source": [
    "**Born out of [question](https://www.cis.upenn.edu/~mkearns/papers/boostnote.pdf): is it possible to get one strong model from a huge large amount of relatively week and simple models?**\n",
    "\n",
    "[Robert Schapire](https://en.wikipedia.org/wiki/Robert_Schapire) gave the mathematical [solution](https://www.cs.princeton.edu/~schapire/papers/strengthofweak.pdf) to this question & after few years first implementation of Boosting as Adaboost was implemented."
   ]
  },
  {
   "cell_type": "markdown",
   "metadata": {
    "hidden": true
   },
   "source": [
    "**High Level Algo:**\n",
    "\n",
    "- Start same weight for all points: $ {\\displaystyle \\alpha_i = 1 / N} $\n",
    "- For t = 1, .. ,T\n",
    "   - Learn $f_t(X)$ with data weigth $\\alpha_i$\n",
    "   - Compute Coeffieicent $\\hat w_t$ using a **Base Learner**\n",
    "   - Recompute weights $\\alpha_i$\n",
    "   - Normalize weights $\\alpha_i$\n",
    "- Final model predicts by:\n",
    "    - $\\hat y = sign \\: \\big(\\displaystyle \\sum_{t=1} ^ T \\hat w_t . f_t(X) \\big)$"
   ]
  },
  {
   "cell_type": "markdown",
   "metadata": {
    "hidden": true
   },
   "source": [
    "<img src='../images/boosting_example.jpg' alt='Boosting Example' style=\"width: 500px;\" align=\"left\">"
   ]
  },
  {
   "cell_type": "markdown",
   "metadata": {
    "hidden": true
   },
   "source": [
    "<img src='../images/boosting_example2.png' alt='Boosting Example2' style=\"width: 500px;\" align=\"left\">"
   ]
  },
  {
   "cell_type": "markdown",
   "metadata": {
    "heading_collapsed": true,
    "hidden": true
   },
   "source": [
    "### Bagging"
   ]
  },
  {
   "cell_type": "markdown",
   "metadata": {
    "hidden": true
   },
   "source": [
    "Also known as Bootstrapping was proposed by [Leo Breiman](https://en.wikipedia.org/wiki/Leo_Breiman) in 1994.\n",
    "\n",
    "**High Level Algo:**\n",
    "\n",
    "- Given Dataset $X$ of size $N$\n",
    "- During Training, Repeat the process $M$ times\n",
    "    - Randomly select $N_1$ elements from X where $N_1 < N$ with replacement\n",
    "    - Create $M_i$ bootstrap sample\n",
    "    - Train model using $M_i$ bootstrapped sample and a **Base Learner**\n",
    "- During prediction, Make prediction using $M$ models\n",
    "- Now either use a vooting(in case of discrete values) or average (in case of continous values) method to make the final prediction."
   ]
  },
  {
   "cell_type": "markdown",
   "metadata": {
    "hidden": true
   },
   "source": [
    "<img src='../images/bagging_example.png' alt='Bagging' style=\"width: 500px;\" align=\"left\">"
   ]
  },
  {
   "cell_type": "markdown",
   "metadata": {
    "heading_collapsed": true,
    "hidden": true
   },
   "source": [
    "### Stacking"
   ]
  },
  {
   "cell_type": "markdown",
   "metadata": {
    "hidden": true
   },
   "source": [
    "Also known as Meta Learning uses different base learner & a meta classifier that uses the output of the base learners as its own input"
   ]
  },
  {
   "cell_type": "markdown",
   "metadata": {
    "hidden": true
   },
   "source": [
    "<img src='../images/stacking_algorithm.png' alt='Stacking Algo' style=\"width: 700px;\" align=\"left\">"
   ]
  },
  {
   "cell_type": "markdown",
   "metadata": {
    "hidden": true
   },
   "source": [
    "<img src='../images/stacking_example.png' alt='Stacking' style=\"width: 700px;\" align=\"left\">"
   ]
  },
  {
   "cell_type": "markdown",
   "metadata": {
    "heading_collapsed": true
   },
   "source": [
    "## Machine Learning Project Lifecycle: Fourth Iteration"
   ]
  },
  {
   "cell_type": "markdown",
   "metadata": {
    "heading_collapsed": true,
    "hidden": true
   },
   "source": [
    "### Problem Statement\n",
    "\n",
    "Classify the Financial Consumer Complaints into different Product Categories given consumer complaint text.\n",
    "\n",
    "**Product Categories**\n",
    "\n",
    "- Credit reporting, repair, or other\n",
    "- Debt collection\n",
    "- Student loan\n",
    "- Money transfer, virtual currency, or money service\n",
    "- Bank account or service"
   ]
  },
  {
   "cell_type": "markdown",
   "metadata": {
    "heading_collapsed": true,
    "hidden": true
   },
   "source": [
    "### Training Data\n",
    "\n",
    "[Kaggle: Consumer Complaint Database](https://www.kaggle.com/selener/consumer-complaint-database)"
   ]
  },
  {
   "cell_type": "code",
   "execution_count": 14,
   "metadata": {
    "hidden": true
   },
   "outputs": [],
   "source": [
    "import pandas as pd\n",
    "import numpy as np"
   ]
  },
  {
   "cell_type": "code",
   "execution_count": 15,
   "metadata": {
    "hidden": true
   },
   "outputs": [],
   "source": [
    "complaints_training_dataset = pd.read_csv('../datasets/consumer_complaints_training_dataset.csv')"
   ]
  },
  {
   "cell_type": "code",
   "execution_count": 16,
   "metadata": {
    "hidden": true
   },
   "outputs": [
    {
     "data": {
      "text/html": [
       "<div>\n",
       "<style scoped>\n",
       "    .dataframe tbody tr th:only-of-type {\n",
       "        vertical-align: middle;\n",
       "    }\n",
       "\n",
       "    .dataframe tbody tr th {\n",
       "        vertical-align: top;\n",
       "    }\n",
       "\n",
       "    .dataframe thead th {\n",
       "        text-align: right;\n",
       "    }\n",
       "</style>\n",
       "<table border=\"1\" class=\"dataframe\">\n",
       "  <thead>\n",
       "    <tr style=\"text-align: right;\">\n",
       "      <th></th>\n",
       "      <th>Product</th>\n",
       "      <th>Complaint_text</th>\n",
       "    </tr>\n",
       "  </thead>\n",
       "  <tbody>\n",
       "    <tr>\n",
       "      <th>0</th>\n",
       "      <td>Credit reporting, repair, or other</td>\n",
       "      <td>My name is  XXXX   XXXX   XXXX , not  XXXX   X...</td>\n",
       "    </tr>\n",
       "    <tr>\n",
       "      <th>1</th>\n",
       "      <td>Credit reporting, repair, or other</td>\n",
       "      <td>I was shocked when I reviewed my credit report...</td>\n",
       "    </tr>\n",
       "    <tr>\n",
       "      <th>2</th>\n",
       "      <td>Credit reporting, repair, or other</td>\n",
       "      <td>Equifax misused of credit file. Disputing acco...</td>\n",
       "    </tr>\n",
       "    <tr>\n",
       "      <th>3</th>\n",
       "      <td>Credit reporting, repair, or other</td>\n",
       "      <td>I am disturbed that you continue to list the v...</td>\n",
       "    </tr>\n",
       "    <tr>\n",
       "      <th>4</th>\n",
       "      <td>Credit reporting, repair, or other</td>\n",
       "      <td>I went to multiple different credit report web...</td>\n",
       "    </tr>\n",
       "  </tbody>\n",
       "</table>\n",
       "</div>"
      ],
      "text/plain": [
       "                              Product  \\\n",
       "0  Credit reporting, repair, or other   \n",
       "1  Credit reporting, repair, or other   \n",
       "2  Credit reporting, repair, or other   \n",
       "3  Credit reporting, repair, or other   \n",
       "4  Credit reporting, repair, or other   \n",
       "\n",
       "                                      Complaint_text  \n",
       "0  My name is  XXXX   XXXX   XXXX , not  XXXX   X...  \n",
       "1  I was shocked when I reviewed my credit report...  \n",
       "2  Equifax misused of credit file. Disputing acco...  \n",
       "3  I am disturbed that you continue to list the v...  \n",
       "4  I went to multiple different credit report web...  "
      ]
     },
     "execution_count": 16,
     "metadata": {},
     "output_type": "execute_result"
    }
   ],
   "source": [
    "complaints_training_dataset.head()"
   ]
  },
  {
   "cell_type": "code",
   "execution_count": 17,
   "metadata": {
    "hidden": true
   },
   "outputs": [
    {
     "name": "stdout",
     "output_type": "stream",
     "text": [
      "<class 'pandas.core.frame.DataFrame'>\n",
      "RangeIndex: 20000 entries, 0 to 19999\n",
      "Data columns (total 2 columns):\n",
      " #   Column          Non-Null Count  Dtype \n",
      "---  ------          --------------  ----- \n",
      " 0   Product         20000 non-null  object\n",
      " 1   Complaint_text  20000 non-null  object\n",
      "dtypes: object(2)\n",
      "memory usage: 312.6+ KB\n"
     ]
    }
   ],
   "source": [
    "complaints_training_dataset.info()"
   ]
  },
  {
   "cell_type": "markdown",
   "metadata": {
    "hidden": true
   },
   "source": [
    "**Q) What is the distribution of complaints for each product type?**"
   ]
  },
  {
   "cell_type": "code",
   "execution_count": 18,
   "metadata": {
    "hidden": true
   },
   "outputs": [
    {
     "data": {
      "text/plain": [
       "array(['Credit reporting, repair, or other', 'Debt collection',\n",
       "       'Student loan',\n",
       "       'Money transfer, virtual currency, or money service',\n",
       "       'Bank account or service'], dtype=object)"
      ]
     },
     "execution_count": 18,
     "metadata": {},
     "output_type": "execute_result"
    }
   ],
   "source": [
    "complaints_training_dataset.Product.unique()"
   ]
  },
  {
   "cell_type": "code",
   "execution_count": 19,
   "metadata": {
    "hidden": true
   },
   "outputs": [
    {
     "data": {
      "text/html": [
       "<div>\n",
       "<style scoped>\n",
       "    .dataframe tbody tr th:only-of-type {\n",
       "        vertical-align: middle;\n",
       "    }\n",
       "\n",
       "    .dataframe tbody tr th {\n",
       "        vertical-align: top;\n",
       "    }\n",
       "\n",
       "    .dataframe thead th {\n",
       "        text-align: right;\n",
       "    }\n",
       "</style>\n",
       "<table border=\"1\" class=\"dataframe\">\n",
       "  <thead>\n",
       "    <tr style=\"text-align: right;\">\n",
       "      <th></th>\n",
       "      <th>Count</th>\n",
       "    </tr>\n",
       "    <tr>\n",
       "      <th>Product</th>\n",
       "      <th></th>\n",
       "    </tr>\n",
       "  </thead>\n",
       "  <tbody>\n",
       "    <tr>\n",
       "      <th>Bank account or service</th>\n",
       "      <td>4000</td>\n",
       "    </tr>\n",
       "    <tr>\n",
       "      <th>Credit reporting, repair, or other</th>\n",
       "      <td>4000</td>\n",
       "    </tr>\n",
       "    <tr>\n",
       "      <th>Debt collection</th>\n",
       "      <td>4000</td>\n",
       "    </tr>\n",
       "    <tr>\n",
       "      <th>Money transfer, virtual currency, or money service</th>\n",
       "      <td>4000</td>\n",
       "    </tr>\n",
       "    <tr>\n",
       "      <th>Student loan</th>\n",
       "      <td>4000</td>\n",
       "    </tr>\n",
       "  </tbody>\n",
       "</table>\n",
       "</div>"
      ],
      "text/plain": [
       "                                                    Count\n",
       "Product                                                  \n",
       "Bank account or service                              4000\n",
       "Credit reporting, repair, or other                   4000\n",
       "Debt collection                                      4000\n",
       "Money transfer, virtual currency, or money service   4000\n",
       "Student loan                                         4000"
      ]
     },
     "execution_count": 19,
     "metadata": {},
     "output_type": "execute_result"
    }
   ],
   "source": [
    "complaints_training_dataset\\\n",
    "    .groupby('Product')\\\n",
    "    [['Complaint_text']]\\\n",
    "    .count()\\\n",
    "    .rename(columns={'Complaint_text': 'Count'})\\\n",
    "    .sort_values('Count', ascending=False)"
   ]
  },
  {
   "cell_type": "markdown",
   "metadata": {
    "hidden": true
   },
   "source": [
    "**Q) Find out the Occurances of Duplicate Text messages if any?**"
   ]
  },
  {
   "cell_type": "code",
   "execution_count": 20,
   "metadata": {
    "hidden": true
   },
   "outputs": [
    {
     "data": {
      "text/plain": [
       "19913"
      ]
     },
     "execution_count": 20,
     "metadata": {},
     "output_type": "execute_result"
    }
   ],
   "source": [
    "complaints_training_dataset['Complaint_text'].nunique()"
   ]
  },
  {
   "cell_type": "code",
   "execution_count": 21,
   "metadata": {
    "hidden": true
   },
   "outputs": [],
   "source": [
    "duplicate_complaints = complaints_training_dataset['Complaint_text']\\\n",
    "    .value_counts()\\\n",
    "    [complaints_training_dataset['Complaint_text'].value_counts() > 2].index"
   ]
  },
  {
   "cell_type": "code",
   "execution_count": 22,
   "metadata": {
    "hidden": true
   },
   "outputs": [
    {
     "data": {
      "text/plain": [
       "9"
      ]
     },
     "execution_count": 22,
     "metadata": {},
     "output_type": "execute_result"
    }
   ],
   "source": [
    "len(duplicate_complaints)"
   ]
  },
  {
   "cell_type": "markdown",
   "metadata": {
    "heading_collapsed": true,
    "hidden": true
   },
   "source": [
    "### Preprocessing + Feature Engineering"
   ]
  },
  {
   "cell_type": "code",
   "execution_count": 23,
   "metadata": {
    "hidden": true
   },
   "outputs": [],
   "source": [
    "from sklearn.feature_extraction.text import CountVectorizer\n",
    "from sklearn.model_selection import train_test_split\n",
    "\n",
    "RANDOM_STATE = 19"
   ]
  },
  {
   "cell_type": "code",
   "execution_count": 24,
   "metadata": {
    "hidden": true
   },
   "outputs": [],
   "source": [
    "count_vectorizer = CountVectorizer(stop_words='english', max_features=5000)"
   ]
  },
  {
   "cell_type": "code",
   "execution_count": 25,
   "metadata": {
    "hidden": true
   },
   "outputs": [],
   "source": [
    "X_train, X_test, y_train, y_test = train_test_split(\n",
    "    complaints_training_dataset['Complaint_text'],\n",
    "    complaints_training_dataset['Product'],\n",
    "    test_size=.2,\n",
    "    stratify=complaints_training_dataset['Product'],\n",
    "    random_state=RANDOM_STATE)"
   ]
  },
  {
   "cell_type": "code",
   "execution_count": 26,
   "metadata": {
    "hidden": true
   },
   "outputs": [
    {
     "data": {
      "text/plain": [
       "((16000,), (4000,), (16000,), (4000,))"
      ]
     },
     "execution_count": 26,
     "metadata": {},
     "output_type": "execute_result"
    }
   ],
   "source": [
    "X_train.shape, X_test.shape, y_train.shape, y_test.shape"
   ]
  },
  {
   "cell_type": "code",
   "execution_count": 27,
   "metadata": {
    "hidden": true
   },
   "outputs": [],
   "source": [
    "X_train_count_vectorizer = count_vectorizer.fit_transform(X_train)\n",
    "X_test_count_vectorizer = count_vectorizer.transform(X_test)"
   ]
  },
  {
   "cell_type": "code",
   "execution_count": 28,
   "metadata": {
    "hidden": true
   },
   "outputs": [
    {
     "data": {
      "text/plain": [
       "5000"
      ]
     },
     "execution_count": 28,
     "metadata": {},
     "output_type": "execute_result"
    }
   ],
   "source": [
    "len(count_vectorizer.get_feature_names())"
   ]
  },
  {
   "cell_type": "code",
   "execution_count": 29,
   "metadata": {
    "hidden": true
   },
   "outputs": [
    {
     "data": {
      "text/plain": [
       "['00', '000', '10', '100', '1000', '10000', '100000', '1005', '11', '110']"
      ]
     },
     "execution_count": 29,
     "metadata": {},
     "output_type": "execute_result"
    }
   ],
   "source": [
    "count_vectorizer.get_feature_names()[:10]"
   ]
  },
  {
   "cell_type": "code",
   "execution_count": 30,
   "metadata": {
    "hidden": true
   },
   "outputs": [
    {
     "data": {
      "text/plain": [
       "[('xxxx', 4976),\n",
       " ('account', 322),\n",
       " ('listed', 2727),\n",
       " ('credit', 1279),\n",
       " ('report', 3828),\n",
       " ('experian', 1842),\n",
       " ('paid', 3234),\n",
       " ('closed', 1021),\n",
       " ('2007', 63),\n",
       " ('like', 2712)]"
      ]
     },
     "execution_count": 30,
     "metadata": {},
     "output_type": "execute_result"
    }
   ],
   "source": [
    "list(count_vectorizer.vocabulary_.items())[:10]"
   ]
  },
  {
   "cell_type": "code",
   "execution_count": 31,
   "metadata": {
    "hidden": true
   },
   "outputs": [
    {
     "data": {
      "text/plain": [
       "((16000, 5000), (4000, 5000))"
      ]
     },
     "execution_count": 31,
     "metadata": {},
     "output_type": "execute_result"
    }
   ],
   "source": [
    "X_train_count_vectorizer.shape, X_test_count_vectorizer.shape"
   ]
  },
  {
   "cell_type": "markdown",
   "metadata": {
    "heading_collapsed": true,
    "hidden": true
   },
   "source": [
    "### Machine Learning Algorithm: Ensemble Learning"
   ]
  },
  {
   "cell_type": "markdown",
   "metadata": {
    "heading_collapsed": true,
    "hidden": true
   },
   "source": [
    "#### Naive Bayes"
   ]
  },
  {
   "cell_type": "code",
   "execution_count": 32,
   "metadata": {
    "hidden": true
   },
   "outputs": [
    {
     "name": "stdout",
     "output_type": "stream",
     "text": [
      "NB Cross val mean score is 0.8623125 and test score is 0.859\n"
     ]
    }
   ],
   "source": [
    "from sklearn.naive_bayes import MultinomialNB\n",
    "from sklearn.metrics import accuracy_score\n",
    "from sklearn.model_selection import cross_val_score\n",
    "\n",
    "naive_bayes = MultinomialNB()\n",
    "\n",
    "nb_cv_score = cross_val_score(naive_bayes, X_train_count_vectorizer,\n",
    "                              y_train, cv=5)\n",
    "\n",
    "naive_bayes.fit(X_train_count_vectorizer, y_train)\n",
    "\n",
    "naive_bayes_predictions = naive_bayes.predict(X_test_count_vectorizer)\n",
    "\n",
    "nb_test_score = accuracy_score(y_test, naive_bayes_predictions)\n",
    "\n",
    "print(f'NB Cross val mean score is {nb_cv_score.mean()} and test score is {nb_test_score}')"
   ]
  },
  {
   "cell_type": "markdown",
   "metadata": {
    "heading_collapsed": true,
    "hidden": true
   },
   "source": [
    "#### Logistic Regression"
   ]
  },
  {
   "cell_type": "code",
   "execution_count": 33,
   "metadata": {
    "hidden": true
   },
   "outputs": [
    {
     "name": "stdout",
     "output_type": "stream",
     "text": [
      "LR Cross val mean score is 0.8402499999999999 and test score is 0.84075\n"
     ]
    }
   ],
   "source": [
    "from sklearn.linear_model import LogisticRegression\n",
    "import warnings\n",
    "warnings.filterwarnings(action='ignore')\n",
    "\n",
    "lr = LogisticRegression(penalty='l2', max_iter=501, random_state=RANDOM_STATE)\n",
    "\n",
    "lr_cv_scores = cross_val_score(lr, X_train_count_vectorizer,\n",
    "                                     y_train, cv=5)\n",
    "\n",
    "lr.fit(X_train_count_vectorizer, y_train)\n",
    "\n",
    "lr_predictions = lr.predict(X_test_count_vectorizer)\n",
    "\n",
    "lr_test_score = accuracy_score(y_test, lr_predictions)\n",
    "\n",
    "print(f'LR Cross val mean score is {lr_cv_scores.mean()} and test score is {lr_test_score}')"
   ]
  },
  {
   "cell_type": "markdown",
   "metadata": {
    "heading_collapsed": true,
    "hidden": true
   },
   "source": [
    "#### Ensemble Model: [EnsembleVoteClassifier](http://rasbt.github.io/mlxtend/user_guide/classifier/EnsembleVoteClassifier/)"
   ]
  },
  {
   "cell_type": "code",
   "execution_count": 43,
   "metadata": {
    "hidden": true
   },
   "outputs": [],
   "source": [
    "from mlxtend.classifier import EnsembleVoteClassifier"
   ]
  },
  {
   "cell_type": "markdown",
   "metadata": {
    "hidden": true
   },
   "source": [
    "**`EnsembleVoteClassifier` with Voting counts as final prediction**"
   ]
  },
  {
   "cell_type": "code",
   "execution_count": 35,
   "metadata": {
    "hidden": true
   },
   "outputs": [
    {
     "name": "stdout",
     "output_type": "stream",
     "text": [
      "Hard Vote Classifier Cross val mean score is 0.8491875 and test score is 0.84325\n"
     ]
    }
   ],
   "source": [
    "lr_classifier = LogisticRegression(penalty='l2', random_state=RANDOM_STATE, max_iter=500)\n",
    "nb_classifier = MultinomialNB()\n",
    "\n",
    "ensemble_hard_vote_classifier = EnsembleVoteClassifier(\n",
    "    clfs=[lr_classifier, nb_classifier],\n",
    "    weights=[1, 1],\n",
    "    voting='hard')\n",
    "\n",
    "ensemble_hard_vote_classifier_cv_scores = cross_val_score(\n",
    "    ensemble_hard_vote_classifier, X_train_count_vectorizer,\n",
    "    y_train, cv=5, scoring='accuracy')\n",
    "\n",
    "ensemble_hard_vote_classifier.fit(X_train_count_vectorizer, y_train)\n",
    "\n",
    "ensemble_hard_vote_classifier_predictions = ensemble_hard_vote_classifier.predict(X_test_count_vectorizer)\n",
    "\n",
    "ensemble_hard_vote_classifier_test_score = accuracy_score(y_test, ensemble_hard_vote_classifier_predictions)\n",
    "\n",
    "print(f'Hard Vote Classifier Cross val mean score is {ensemble_hard_vote_classifier_cv_scores.mean()}',\n",
    "      f'and test score is {ensemble_hard_vote_classifier_test_score}')"
   ]
  },
  {
   "cell_type": "markdown",
   "metadata": {
    "hidden": true
   },
   "source": [
    "**`EnsembleVoteClassifier` with Probability as final prediction**"
   ]
  },
  {
   "cell_type": "code",
   "execution_count": 36,
   "metadata": {
    "hidden": true
   },
   "outputs": [
    {
     "name": "stdout",
     "output_type": "stream",
     "text": [
      "Soft Vote Classifier Cross val mean score is 0.8688125 and test score is 0.86725\n"
     ]
    }
   ],
   "source": [
    "lr_classifier = LogisticRegression(penalty='l2', random_state=RANDOM_STATE, max_iter=500)\n",
    "nb_classifier = MultinomialNB()\n",
    "\n",
    "ensemble_soft_vote_classifier = EnsembleVoteClassifier(\n",
    "    clfs=[lr_classifier, nb_classifier],\n",
    "    weights=[1, 1],\n",
    "    voting='soft')\n",
    "\n",
    "ensemble_soft_vote_classifier_cv_scores = cross_val_score(\n",
    "    ensemble_soft_vote_classifier, X_train_count_vectorizer,\n",
    "    y_train, cv=5, scoring='accuracy')\n",
    "\n",
    "ensemble_soft_vote_classifier.fit(X_train_count_vectorizer, y_train)\n",
    "\n",
    "ensemble_soft_vote_classifier_predictions = ensemble_soft_vote_classifier.predict(X_test_count_vectorizer)\n",
    "\n",
    "ensemble_soft_vote_classifier_test_score = accuracy_score(y_test, ensemble_soft_vote_classifier_predictions)\n",
    "\n",
    "print(f'Soft Vote Classifier Cross val mean score is {ensemble_soft_vote_classifier_cv_scores.mean()}',\n",
    "      f'and test score is {ensemble_soft_vote_classifier_test_score}')"
   ]
  },
  {
   "cell_type": "markdown",
   "metadata": {
    "heading_collapsed": true,
    "hidden": true
   },
   "source": [
    "#### Ensemble Model: [StackingClassifier](http://rasbt.github.io/mlxtend/user_guide/classifier/StackingClassifier/)"
   ]
  },
  {
   "cell_type": "code",
   "execution_count": 44,
   "metadata": {
    "hidden": true
   },
   "outputs": [],
   "source": [
    "from mlxtend.classifier import StackingClassifier"
   ]
  },
  {
   "cell_type": "code",
   "execution_count": 75,
   "metadata": {
    "hidden": true
   },
   "outputs": [
    {
     "name": "stdout",
     "output_type": "stream",
     "text": [
      "Stacked Classifier Cross val mean score is 0.8665 and test score is 0.869\n"
     ]
    }
   ],
   "source": [
    "clf1 = LogisticRegression(penalty='l2', random_state=RANDOM_STATE, max_iter=500)\n",
    "clf2 = MultinomialNB()\n",
    "meta_classifier = LogisticRegression(penalty='l2', random_state=RANDOM_STATE, max_iter=500)\n",
    "\n",
    "stacked_classifier = StackingClassifier(\n",
    "    classifiers=[clf1, clf2],\n",
    "    meta_classifier=meta_classifier,\n",
    "    use_probas=True, average_probas=True,\n",
    "    store_train_meta_features=True)\n",
    "\n",
    "stacked_classifier_cv_scores = cross_val_score(\n",
    "    stacked_classifier, X_train_count_vectorizer, y_train, cv=5, scoring='accuracy')\n",
    "\n",
    "stacked_classifier.fit(X_train_count_vectorizer, y_train)\n",
    "\n",
    "stacked_classifier_predictions = stacked_classifier.predict(X_test_count_vectorizer)\n",
    "\n",
    "stacked_classifier_test_score = accuracy_score(y_test, stacked_classifier_predictions)\n",
    "\n",
    "print(f'Stacked Classifier Cross val mean score is {stacked_classifier_cv_scores.mean()}',\n",
    "      f'and test score is {stacked_classifier_test_score}')"
   ]
  },
  {
   "cell_type": "code",
   "execution_count": 60,
   "metadata": {
    "hidden": true
   },
   "outputs": [
    {
     "data": {
      "text/plain": [
       "(16000, 5)"
      ]
     },
     "execution_count": 60,
     "metadata": {},
     "output_type": "execute_result"
    }
   ],
   "source": [
    "stacked_classifier.train_meta_features_.shape"
   ]
  },
  {
   "cell_type": "markdown",
   "metadata": {
    "heading_collapsed": true,
    "hidden": true
   },
   "source": [
    "### Quality Metrics"
   ]
  },
  {
   "cell_type": "code",
   "execution_count": 55,
   "metadata": {
    "hidden": true
   },
   "outputs": [],
   "source": [
    "from sklearn.metrics import (accuracy_score,\n",
    "                             confusion_matrix)\n",
    "\n",
    "import seaborn as sns;\n",
    "sns.set()\n",
    "\n",
    "import matplotlib.pyplot as plt\n",
    "%matplotlib inline"
   ]
  },
  {
   "cell_type": "code",
   "execution_count": 56,
   "metadata": {
    "hidden": true
   },
   "outputs": [],
   "source": [
    "nb_conf_matrix = confusion_matrix(y_test, naive_bayes_predictions)\n",
    "lr_conf_matrix = confusion_matrix(y_test, lr_predictions)\n",
    "ensemble_vote_clf_conf_matrix = confusion_matrix(y_test, ensemble_soft_vote_classifier_predictions)\n",
    "stacked_clf_conf_matrix = confusion_matrix(y_test, stacked_classifier_predictions)"
   ]
  },
  {
   "cell_type": "code",
   "execution_count": 66,
   "metadata": {
    "hidden": true
   },
   "outputs": [
    {
     "data": {
      "image/png": "[encoded data removed]",
      "text/plain": [
       "<Figure size 720x288 with 5 Axes>"
      ]
     },
     "metadata": {
      "needs_background": "light"
     },
     "output_type": "display_data"
    }
   ],
   "source": [
    "fig, axs = plt.subplots(ncols=5, gridspec_kw=dict(width_ratios=[6, 6, 6, 6, 0.2]), figsize=(10, 4))\n",
    "\n",
    "sns.heatmap(nb_conf_matrix,\n",
    "            cmap='YlGnBu',\n",
    "            annot=True,\n",
    "            fmt=\"d\",\n",
    "            cbar=False,\n",
    "            xticklabels=y_test.unique(),\n",
    "            yticklabels=y_test.unique(),\n",
    "            ax=axs[0])\n",
    "             \n",
    "sns.heatmap(lr_conf_matrix,\n",
    "            cmap='YlGnBu',\n",
    "            annot=True,\n",
    "            fmt=\"d\",\n",
    "            cbar=False,\n",
    "            xticklabels=y_test.unique(),\n",
    "            yticklabels=False,\n",
    "            ax=axs[1])\n",
    "\n",
    "sns.heatmap(ensemble_vote_clf_conf_matrix,\n",
    "            cmap='YlGnBu',\n",
    "            annot=True,\n",
    "            fmt=\"d\",\n",
    "            cbar=False,\n",
    "            xticklabels=y_test.unique(),\n",
    "            yticklabels=False,\n",
    "            ax=axs[2])\n",
    "             \n",
    "sns.heatmap(stacked_clf_conf_matrix,\n",
    "            cmap='YlGnBu',\n",
    "            annot=True,\n",
    "            fmt=\"d\",\n",
    "            cbar=False,\n",
    "            xticklabels=y_test.unique(),\n",
    "            yticklabels=False,\n",
    "            ax=axs[3],\n",
    "        )\n",
    "\n",
    "axs[0].set_title('Naive Bayes')\n",
    "axs[1].set_title('Logistic Regression')\n",
    "axs[2].set_title('EnsembleVoteClassifier')\n",
    "axs[3].set_title('StackedClassifier')\n",
    "\n",
    "fig.colorbar(axs[1].collections[0], cax=axs[4])\n",
    "plt.show()"
   ]
  },
  {
   "cell_type": "markdown",
   "metadata": {
    "heading_collapsed": true,
    "hidden": true
   },
   "source": [
    "### Model Evaluation on Test Dataset"
   ]
  },
  {
   "cell_type": "markdown",
   "metadata": {
    "hidden": true
   },
   "source": [
    "- Note: Retrain the model using full training [dataset](../datasets/consumer_complaints_training_dataset.csv) & test using the test [dataset](../datasets/consumer_complaints_test_dataset.csv)."
   ]
  },
  {
   "cell_type": "markdown",
   "metadata": {
    "heading_collapsed": true
   },
   "source": [
    "## Resources"
   ]
  },
  {
   "cell_type": "markdown",
   "metadata": {
    "hidden": true
   },
   "source": [
    "- [Model Ensembles](https://www.youtube.com/watch?v=ZeAv5k71AS4)\n",
    "- [Bagging](https://www.youtube.com/watch?v=1zSkR2xFWKg&t=9s)\n",
    "- [Boosting](https://www.youtube.com/watch?v=ZqbPS7TvhqM)\n",
    "- [Boosting in detail](https://www.youtube.com/watch?v=tOylg7_dWhc&list=PLTPQEx-31JXi2QR7QFSvN_pA55iP2G5fk)\n",
    "- [Stacking](https://www.youtube.com/watch?v=POyqyZvTAHA&list=PLTPQEx-31JXi2QR7QFSvN_pA55iP2G5fk&index=3)"
   ]
  }
 ],
 "metadata": {
  "kernelspec": {
   "display_name": "Python 3",
   "language": "python",
   "name": "python3"
  },
  "language_info": {
   "codemirror_mode": {
    "name": "ipython",
    "version": 3
   },
   "file_extension": ".py",
   "mimetype": "text/x-python",
   "name": "python",
   "nbconvert_exporter": "python",
   "pygments_lexer": "ipython3",
   "version": "3.8.2"
  },
  "toc": {
   "base_numbering": 1,
   "nav_menu": {},
   "number_sections": false,
   "sideBar": true,
   "skip_h1_title": false,
   "title_cell": "Text Classification using Ensemble Model",
   "title_sidebar": "Contents",
   "toc_cell": true,
   "toc_position": {},
   "toc_section_display": true,
   "toc_window_display": false
  }
 },
 "nbformat": 4,
 "nbformat_minor": 4
}
