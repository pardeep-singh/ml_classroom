{
 "cells": [
  {
   "cell_type": "markdown",
   "metadata": {
    "toc": true
   },
   "source": [
    "<h1>Text Classification using Logistic Regression<span class=\"tocSkip\"></span></h1>\n",
    "<div class=\"toc\"><ul class=\"toc-item\"><li><span><a href=\"#Logistic-Regression-Theory\" data-toc-modified-id=\"Logistic-Regression-Theory-1\">Logistic Regression Theory</a></span><ul class=\"toc-item\"><li><span><a href=\"#Regression-Revision\" data-toc-modified-id=\"Regression-Revision-1.1\">Regression Revision</a></span></li><li><span><a href=\"#Linear-Classifiers\" data-toc-modified-id=\"Linear-Classifiers-1.2\">Linear Classifiers</a></span><ul class=\"toc-item\"><li><span><a href=\"#Linear-Classifier-Example\" data-toc-modified-id=\"Linear-Classifier-Example-1.2.1\">Linear Classifier Example</a></span></li></ul></li><li><span><a href=\"#Logistic-Regression-Classifier\" data-toc-modified-id=\"Logistic-Regression-Classifier-1.3\">Logistic Regression Classifier</a></span><ul class=\"toc-item\"><li><span><a href=\"#Sigmoid-Function\" data-toc-modified-id=\"Sigmoid-Function-1.3.1\">Sigmoid Function</a></span></li><li><span><a href=\"#Maximum-Likelihood-Quality-Metric\" data-toc-modified-id=\"Maximum-Likelihood-Quality-Metric-1.3.2\">Maximum Likelihood Quality Metric</a></span></li><li><span><a href=\"#Gradient-Ascent-(TODO:-Add-some-theory-to-this-section)\" data-toc-modified-id=\"Gradient-Ascent-(TODO:-Add-some-theory-to-this-section)-1.3.3\">Gradient Ascent (TODO: Add some theory to this section)</a></span></li></ul></li></ul></li><li><span><a href=\"#Machine-Learning-Project-Lifecycle:-Second-Iteration\" data-toc-modified-id=\"Machine-Learning-Project-Lifecycle:-Second-Iteration-2\">Machine Learning Project Lifecycle: Second Iteration</a></span><ul class=\"toc-item\"><li><span><a href=\"#Problem-Statement\" data-toc-modified-id=\"Problem-Statement-2.1\">Problem Statement</a></span></li><li><span><a href=\"#Training-Data\" data-toc-modified-id=\"Training-Data-2.2\">Training Data</a></span></li><li><span><a href=\"#Preprocessing-+-Feature-Engineering\" data-toc-modified-id=\"Preprocessing-+-Feature-Engineering-2.3\">Preprocessing + Feature Engineering</a></span></li><li><span><a href=\"#Machine-Learning-Algorithm:-Logistic-Regression\" data-toc-modified-id=\"Machine-Learning-Algorithm:-Logistic-Regression-2.4\">Machine Learning Algorithm: Logistic Regression</a></span><ul class=\"toc-item\"><li><span><a href=\"#Estimating-Conditional-Probability-using-Link-Function\" data-toc-modified-id=\"Estimating-Conditional-Probability-using-Link-Function-2.4.1\">Estimating Conditional Probability using Link Function</a></span></li><li><span><a href=\"#Compute-derivative-of-log-likelihood-with-respect-to-a-single-coefficient\" data-toc-modified-id=\"Compute-derivative-of-log-likelihood-with-respect-to-a-single-coefficient-2.4.2\">Compute derivative of log likelihood with respect to a single coefficient</a></span></li><li><span><a href=\"#Compute-log-likelihood-which-is-given-by\" data-toc-modified-id=\"Compute-log-likelihood-which-is-given-by-2.4.3\">Compute log likelihood which is given by</a></span></li><li><span><a href=\"#Build-LR-model-using-Gradient-Ascent\" data-toc-modified-id=\"Build-LR-model-using-Gradient-Ascent-2.4.4\">Build LR model using Gradient Ascent</a></span></li><li><span><a href=\"#Predictions\" data-toc-modified-id=\"Predictions-2.4.5\">Predictions</a></span></li></ul></li><li><span><a href=\"#Modeling\" data-toc-modified-id=\"Modeling-2.5\">Modeling</a></span></li><li><span><a href=\"#Model-Evaluation\" data-toc-modified-id=\"Model-Evaluation-2.6\">Model Evaluation</a></span></li><li><span><a href=\"#Quality-Metrics\" data-toc-modified-id=\"Quality-Metrics-2.7\">Quality Metrics</a></span></li><li><span><a href=\"#Model-Evaluation-on-Test-Dataset\" data-toc-modified-id=\"Model-Evaluation-on-Test-Dataset-2.8\">Model Evaluation on Test Dataset</a></span></li></ul></li><li><span><a href=\"#Homework\" data-toc-modified-id=\"Homework-3\">Homework</a></span></li><li><span><a href=\"#Resources\" data-toc-modified-id=\"Resources-4\">Resources</a></span></li></ul></div>"
   ]
  },
  {
   "cell_type": "markdown",
   "metadata": {},
   "source": [
    "<img src=\"../images/classification.png\" alt=\"Classification\" style=\"width: 700px;\"/>"
   ]
  },
  {
   "cell_type": "markdown",
   "metadata": {},
   "source": [
    "## Logistic Regression Theory"
   ]
  },
  {
   "cell_type": "markdown",
   "metadata": {},
   "source": [
    "### Regression Revision"
   ]
  },
  {
   "cell_type": "markdown",
   "metadata": {},
   "source": [
    "### Linear Classifiers\n",
    "\n",
    "- Called Linear Classifiers because output is weighted sum of input features.\n",
    "- Training a classifier -> Learning the coefficients.\n",
    "\n",
    "<img src='../images/linear_classifier_decision_boundry.jpg' alt='Linear Classifier decision boundry' style=\"width: 600px;\" align=\"left\">"
   ]
  },
  {
   "cell_type": "markdown",
   "metadata": {},
   "source": [
    "#### Linear Classifier Example\n",
    "\n",
    "*Linear Classifier example to classify document to check whether documents belong to Student Loan class or not*\n",
    "\n",
    "*Training Data*\n",
    "\n",
    "- +1 -> Belongs to Student Loan class\n",
    "- -1 -> Doesnt belong to Student Loan Class\n",
    "\n",
    "| Document | +1 or -1|\n",
    "|:---------|:----------------:|\n",
    "| EMI is high on Student Loan. | +1 |\n",
    "| Interest is not great on Savings account.| -1 |\n",
    "| Interest on Student loan has decreased.| + 1|"
   ]
  },
  {
   "cell_type": "markdown",
   "metadata": {},
   "source": [
    "*Linear Classifier Model*\n",
    "\n",
    "| Word(x) | Coefficient| Coefficient Value|\n",
    "|:---------:|:----------------:| :----------------: |\n",
    "|  | $ w_0 $ |1.0 |\n",
    "| EMI | $ w_1 $ | 2.0 |\n",
    "| Student | $ w_2 $ | 3.0 |\n",
    "| Interest | $ w_3 $ | 1.0 |\n",
    "| Loan | $ w_4 $ | 1.0 |\n",
    "| Savings | $ w_5 $ | -2.0 |"
   ]
  },
  {
   "cell_type": "markdown",
   "metadata": {},
   "source": [
    "*Classification*\n",
    "\n",
    "$ y = sign(Score(x_i)) $\n",
    "\n",
    "    - if sign is +1, input document belongs to Student Loan class\n",
    "    - if sign is -1, input document doesn't belong to Student Loan class\n",
    "\n",
    "$ Score(x_i) = w_0 + w_1 * x_i[1] + ... +  w_d * x_i[d] = w ^ T . X_i $\n",
    "\n",
    "where\n",
    "\n",
    "- $ x_i $ -> $ x_d $ are features.\n",
    "- $ w_0 $ -> $ w_d $ are coefficients."
   ]
  },
  {
   "cell_type": "markdown",
   "metadata": {},
   "source": [
    "Assumes that x is 1 for all the token,\n",
    "\n",
    "Q) Given `EMI Student`, check if this tokenised sentence belongs to `Student Loan` product category or not?\n",
    "\n",
    "Q) Given `Interest Savings`, check if this tokenised sentence belongs to `Student Loan` product category or not?"
   ]
  },
  {
   "cell_type": "markdown",
   "metadata": {},
   "source": [
    "### Logistic Regression Classifier\n",
    "\n",
    "- Linear classifier/model which uses *Logistic/Logit Link Function* to shrink the output of $ Score(x_i) $ function to 0.0 - 1.0 probability range.\n",
    "\n",
    "$ P(y_i | x_i, w) = Link Function \\: ( \\: Score \\: ( \\: w \\: ^ t \\: . h(x) \\: ) \\:)$\n",
    "\n",
    "<img src='../images/logistic_classifier_to_lr_classifier.jpg' alt='Linear Classifier to LR Classifier' style=\"width: 550px;\" align=\"left\">"
   ]
  },
  {
   "cell_type": "markdown",
   "metadata": {},
   "source": [
    "#### Sigmoid Function\n",
    "\n",
    "- How to make predictions in term of probability?\n",
    "\n",
    "$ sigmoid(Score) = 1 \\: / \\:  (1 + e ^ {-score}) $\n",
    "\n",
    "| Score | -${\\infty}$ | -2 | 0.0 | +2 | +${\\infty}$ |\n",
    "|:---------:|:-------:| :--: | :-------:| :-------:| :-------:|\n",
    "| sigmoid(Score)|0|.12 |.5|.88| 1| \n"
   ]
  },
  {
   "cell_type": "code",
   "execution_count": 3,
   "metadata": {},
   "outputs": [],
   "source": [
    "import numpy as np\n",
    "\n",
    "def sigmoid(value):\n",
    "    return 1 / (1 + np.exp(-value))"
   ]
  },
  {
   "cell_type": "code",
   "execution_count": 4,
   "metadata": {},
   "outputs": [],
   "source": [
    "import seaborn as sns;\n",
    "sns.set()\n",
    "\n",
    "import matplotlib.pyplot as plt\n",
    "%matplotlib inline\n",
    "\n",
    "sns.set(style=\"whitegrid\")"
   ]
  },
  {
   "cell_type": "code",
   "execution_count": 5,
   "metadata": {},
   "outputs": [
    {
     "data": {
      "image/png": "[encoded data removed]",
      "text/plain": [
       "<Figure size 432x288 with 1 Axes>"
      ]
     },
     "metadata": {
      "needs_background": "light"
     },
     "output_type": "display_data"
    }
   ],
   "source": [
    "x = np.linspace(-6, 6)\n",
    "y = sigmoid(x)\n",
    "\n",
    "data = {'Score': x, 'Sigmoid(Score)': y}\n",
    "ax = sns.lineplot(x='Score', y='Sigmoid(Score)', data=data)\n",
    "ax.set(xlabel='Score', ylabel='Sigmoid(Score)')\n",
    "ax.set(title='Sigmoid Link function');"
   ]
  },
  {
   "cell_type": "markdown",
   "metadata": {},
   "source": [
    "#### Maximum Likelihood Quality Metric\n",
    "\n",
    "- *How to evaluate the learned coefficients?*\n",
    "\n",
    "    Model which returns the highest likelihood given the $ w_i ... w_d $\n",
    "\n",
    "\n",
    "| Data Point | X[1] | X[2]  |  y  | Choose w to maximise                  |\n",
    "|:----------:|:----:| :---: | :-: | :-----------------------------------: |\n",
    "| x,y      | 2    | 1     | +1  | $ P(y = +1 | x, w) $   |\n",
    "| x,y      | 0    | 2     | -1  | $ P(y = -1 | x, w) $   |\n",
    "| x,y      | 6    | 7     | -1  | $ P(y = -1 | x, w) $   |\n",
    "| x,y      | 19   | 1     | +1  | $ P(y = +1 | x, w) $  |\n",
    "\n",
    "$ likelihood(w) = {\\displaystyle \\prod_{i=1}^N P(y_i | x_i, w)} $\n",
    "\n",
    "<img src='../images/likelihood_example.jpg' alt='Maximum Likelihood Example' style=\"width: 600px;\" align=\"left\">"
   ]
  },
  {
   "cell_type": "markdown",
   "metadata": {},
   "source": [
    "#### Gradient Ascent (TODO: Add some theory to this section)\n",
    "\n",
    "- How to learn the coefficients?\n",
    "\n",
    "*High Level Algorithm for Single data point*\n",
    "\n",
    "- while not converged:\n",
    "\n",
    "    - $ \\displaystyle w ^ {t + 1} = w ^ {t}  + n {\\displaystyle \\frac{ \\partial l}{\\partial w}}$\n",
    "    \n",
    "For multiple data points, we will use d + 1 dimensional vector as\n",
    "\n",
    "$ \\displaystyle \\nabla l (w) = \\begin{vmatrix} {\\displaystyle \\frac{ \\partial l}{\\partial w_0}} \\\\ {\\displaystyle \\frac{ \\partial l}{\\partial w_1}} \\\\ ... \\\\ {\\displaystyle \\frac{ \\partial l}{\\partial w_d}} \\end{vmatrix}$\n"
   ]
  },
  {
   "cell_type": "code",
   "execution_count": 6,
   "metadata": {},
   "outputs": [
    {
     "name": "stdout",
     "output_type": "stream",
     "text": [
      "matplotlib==3.2.1\r\n"
     ]
    }
   ],
   "source": [
    "!pip freeze | grep matplotlib"
   ]
  },
  {
   "cell_type": "code",
   "execution_count": 7,
   "metadata": {},
   "outputs": [],
   "source": [
    "# import numpy as np\n",
    "# import matplotlib.pyplot as plt\n",
    "# %matplotlib inline\n",
    "# plt.rcParams[\"figure.figsize\"] = 8, 8\n",
    "# from mpl_toolkits.mplot3d import axes3d\n",
    "\n",
    "# x1 = np.linspace(-6, 8, 32)\n",
    "# x2 = np.linspace(-6, 8, 32)\n",
    "\n",
    "# X1, X2 = np.meshgrid(x1, x2)\n",
    "# Y = np.sqrt(np.square(X1) + np.square(X2))\n",
    "\n",
    "# #fig = plt.figure(figsize=plt.figaspect(0.5))\n",
    "# fig = plt.figure(figsize=plt.figaspect(0.5))\n",
    "\n",
    "# # First Plot\n",
    "# ax = fig.add_subplot(1, 2, 1, projection='3d')\n",
    "\n",
    "# surf = ax.plot_surface(X1, X2, Y * -1, cmap='jet')\n",
    "# fig.colorbar(surf, shrink=0.5, aspect=10)\n",
    "\n",
    "# # Second Plot\n",
    "# ax = fig.add_subplot(1, 2, 2)\n",
    "\n",
    "# cp = plt.contour(X1, X2, Y)\n",
    "# plt.clabel(cp, inline=1, fontsize=10)\n",
    "# plt.xlabel('Weight of #Loan')\n",
    "# plt.ylabel('Weight of #Savings')\n",
    "# plt.show()"
   ]
  },
  {
   "cell_type": "markdown",
   "metadata": {},
   "source": [
    "**Derivative of Likelihood**\n",
    "\n",
    "$ {\\displaystyle \\frac{ \\partial (w)}{\\partial w_j}} = \\displaystyle \\sum_{i=1}^N h_j(x_i) (1[y_i = +1] - P(y = +1 | x_i, w))$\n",
    "\n",
    "where\n",
    "\n",
    "- $1[y_i = +1]$ is 1 if $y_i$ = +1 or 0 if $y_i$ = -1\n",
    "\n",
    "*Example*\n",
    "\n",
    "- $ w_1 $ = 1\n",
    "- n = 0.1\n",
    "\n",
    "| X[1] | X[2]  |  y  | $P(y_i)$ | Contribution to $ w_1 $ derivative |\n",
    "|----| --- | ---- | :---------------------: | -------------------------- |\n",
    "| 2    | 1     | +1  |         00.05         | ?   |\n",
    "| 0    | 2     | -1  |          00.02       | ?   |\n",
    "| 3    | 3     | -1  |      00.05        | ?   |"
   ]
  },
  {
   "cell_type": "markdown",
   "metadata": {},
   "source": [
    "*Coefficients update rule during each iteration*\n",
    "\n",
    "Let assume that  $h_j(x_i) = 1$ in $ {\\displaystyle \\frac{ \\partial l(w)}{\\partial w_j}} = \\displaystyle \\sum_{i=1}^N h_j(x_i) (1[y_i = +1] - P(y = +1 | x_i, w))$\n",
    "\n",
    "- $P(y=+1|x_i, w) \\approx 1$\n",
    "    - if $y_i=+1$\n",
    "        - $\\Delta_i = 1 * (1 - 1) \\approx 0$\n",
    "        - Dont change anything as predection is correct\n",
    "    - elif $y_i=-1$\n",
    "        - $\\Delta_i = 1 * (1 - 1) \\approx 1$\n",
    "        - decrease $w_j$ for next iteration so that $P(y=+1|x_i, w)$ also decreases\n",
    "- $P(y=+1|x_i, w) \\approx 0$\n",
    "    - if $y_i=-1$\n",
    "        - $\\Delta_i = 1 * (0 - 0) \\approx 0$\n",
    "        - Dont change anything as predection is correct\n",
    "    - elif $y_i=+1$\n",
    "        - $\\Delta_i = 1 * (0 - 1) \\approx 1$\n",
    "        - increase $w_j$ for next iteration so that $P(y=+1|x_i, w)$ also increase"
   ]
  },
  {
   "cell_type": "markdown",
   "metadata": {},
   "source": [
    "## Machine Learning Project Lifecycle: Second Iteration\n",
    "\n",
    "- tf-idf\n",
    "- Logistic Regression\n",
    "- GridSearchCV\n",
    "- precision, recall"
   ]
  },
  {
   "cell_type": "markdown",
   "metadata": {},
   "source": [
    "### Problem Statement\n",
    "\n",
    "Classify the Financial Consumer Complaints into different Product Categories given consumer complaint text.\n",
    "\n",
    "**Product Categories**\n",
    "\n",
    "- Credit reporting, repair, or other\n",
    "- Debt collection\n",
    "- Student loan\n",
    "- Money transfer, virtual currency, or money service\n",
    "- Bank account or service"
   ]
  },
  {
   "cell_type": "markdown",
   "metadata": {},
   "source": [
    "### Training Data\n",
    "\n",
    "[Kaggle: Consumer Complaint Database](https://www.kaggle.com/selener/consumer-complaint-database)"
   ]
  },
  {
   "cell_type": "code",
   "execution_count": 8,
   "metadata": {},
   "outputs": [],
   "source": [
    "import pandas as pd"
   ]
  },
  {
   "cell_type": "code",
   "execution_count": 9,
   "metadata": {},
   "outputs": [],
   "source": [
    "complaints_training_dataset = pd.read_csv('../datasets/consumer_complaints_training_dataset.csv')"
   ]
  },
  {
   "cell_type": "code",
   "execution_count": 10,
   "metadata": {},
   "outputs": [
    {
     "data": {
      "text/html": [
       "<div>\n",
       "<style scoped>\n",
       "    .dataframe tbody tr th:only-of-type {\n",
       "        vertical-align: middle;\n",
       "    }\n",
       "\n",
       "    .dataframe tbody tr th {\n",
       "        vertical-align: top;\n",
       "    }\n",
       "\n",
       "    .dataframe thead th {\n",
       "        text-align: right;\n",
       "    }\n",
       "</style>\n",
       "<table border=\"1\" class=\"dataframe\">\n",
       "  <thead>\n",
       "    <tr style=\"text-align: right;\">\n",
       "      <th></th>\n",
       "      <th>Product</th>\n",
       "      <th>Complaint_text</th>\n",
       "    </tr>\n",
       "  </thead>\n",
       "  <tbody>\n",
       "    <tr>\n",
       "      <th>0</th>\n",
       "      <td>Credit reporting, repair, or other</td>\n",
       "      <td>My name is  XXXX   XXXX   XXXX , not  XXXX   X...</td>\n",
       "    </tr>\n",
       "    <tr>\n",
       "      <th>1</th>\n",
       "      <td>Credit reporting, repair, or other</td>\n",
       "      <td>I was shocked when I reviewed my credit report...</td>\n",
       "    </tr>\n",
       "    <tr>\n",
       "      <th>2</th>\n",
       "      <td>Credit reporting, repair, or other</td>\n",
       "      <td>Equifax misused of credit file. Disputing acco...</td>\n",
       "    </tr>\n",
       "    <tr>\n",
       "      <th>3</th>\n",
       "      <td>Credit reporting, repair, or other</td>\n",
       "      <td>I am disturbed that you continue to list the v...</td>\n",
       "    </tr>\n",
       "    <tr>\n",
       "      <th>4</th>\n",
       "      <td>Credit reporting, repair, or other</td>\n",
       "      <td>I went to multiple different credit report web...</td>\n",
       "    </tr>\n",
       "  </tbody>\n",
       "</table>\n",
       "</div>"
      ],
      "text/plain": [
       "                              Product  \\\n",
       "0  Credit reporting, repair, or other   \n",
       "1  Credit reporting, repair, or other   \n",
       "2  Credit reporting, repair, or other   \n",
       "3  Credit reporting, repair, or other   \n",
       "4  Credit reporting, repair, or other   \n",
       "\n",
       "                                      Complaint_text  \n",
       "0  My name is  XXXX   XXXX   XXXX , not  XXXX   X...  \n",
       "1  I was shocked when I reviewed my credit report...  \n",
       "2  Equifax misused of credit file. Disputing acco...  \n",
       "3  I am disturbed that you continue to list the v...  \n",
       "4  I went to multiple different credit report web...  "
      ]
     },
     "execution_count": 10,
     "metadata": {},
     "output_type": "execute_result"
    }
   ],
   "source": [
    "complaints_training_dataset.head()"
   ]
  },
  {
   "cell_type": "code",
   "execution_count": 11,
   "metadata": {},
   "outputs": [
    {
     "name": "stdout",
     "output_type": "stream",
     "text": [
      "<class 'pandas.core.frame.DataFrame'>\n",
      "RangeIndex: 20000 entries, 0 to 19999\n",
      "Data columns (total 2 columns):\n",
      "Product           20000 non-null object\n",
      "Complaint_text    20000 non-null object\n",
      "dtypes: object(2)\n",
      "memory usage: 312.6+ KB\n"
     ]
    }
   ],
   "source": [
    "complaints_training_dataset.info()"
   ]
  },
  {
   "cell_type": "markdown",
   "metadata": {},
   "source": [
    "**Q) What is the distribution of complaints for each product type?**"
   ]
  },
  {
   "cell_type": "code",
   "execution_count": 12,
   "metadata": {},
   "outputs": [
    {
     "data": {
      "text/plain": [
       "array(['Credit reporting, repair, or other', 'Debt collection',\n",
       "       'Student loan',\n",
       "       'Money transfer, virtual currency, or money service',\n",
       "       'Bank account or service'], dtype=object)"
      ]
     },
     "execution_count": 12,
     "metadata": {},
     "output_type": "execute_result"
    }
   ],
   "source": [
    "complaints_training_dataset.Product.unique()"
   ]
  },
  {
   "cell_type": "code",
   "execution_count": 13,
   "metadata": {},
   "outputs": [
    {
     "data": {
      "text/html": [
       "<div>\n",
       "<style scoped>\n",
       "    .dataframe tbody tr th:only-of-type {\n",
       "        vertical-align: middle;\n",
       "    }\n",
       "\n",
       "    .dataframe tbody tr th {\n",
       "        vertical-align: top;\n",
       "    }\n",
       "\n",
       "    .dataframe thead th {\n",
       "        text-align: right;\n",
       "    }\n",
       "</style>\n",
       "<table border=\"1\" class=\"dataframe\">\n",
       "  <thead>\n",
       "    <tr style=\"text-align: right;\">\n",
       "      <th></th>\n",
       "      <th>Count</th>\n",
       "    </tr>\n",
       "    <tr>\n",
       "      <th>Product</th>\n",
       "      <th></th>\n",
       "    </tr>\n",
       "  </thead>\n",
       "  <tbody>\n",
       "    <tr>\n",
       "      <th>Bank account or service</th>\n",
       "      <td>4000</td>\n",
       "    </tr>\n",
       "    <tr>\n",
       "      <th>Credit reporting, repair, or other</th>\n",
       "      <td>4000</td>\n",
       "    </tr>\n",
       "    <tr>\n",
       "      <th>Debt collection</th>\n",
       "      <td>4000</td>\n",
       "    </tr>\n",
       "    <tr>\n",
       "      <th>Money transfer, virtual currency, or money service</th>\n",
       "      <td>4000</td>\n",
       "    </tr>\n",
       "    <tr>\n",
       "      <th>Student loan</th>\n",
       "      <td>4000</td>\n",
       "    </tr>\n",
       "  </tbody>\n",
       "</table>\n",
       "</div>"
      ],
      "text/plain": [
       "                                                    Count\n",
       "Product                                                  \n",
       "Bank account or service                              4000\n",
       "Credit reporting, repair, or other                   4000\n",
       "Debt collection                                      4000\n",
       "Money transfer, virtual currency, or money service   4000\n",
       "Student loan                                         4000"
      ]
     },
     "execution_count": 13,
     "metadata": {},
     "output_type": "execute_result"
    }
   ],
   "source": [
    "complaints_training_dataset\\\n",
    "    .groupby('Product')\\\n",
    "    [['Complaint_text']]\\\n",
    "    .count()\\\n",
    "    .rename(columns={'Complaint_text': 'Count'})\\\n",
    "    .sort_values('Count', ascending=False)"
   ]
  },
  {
   "cell_type": "markdown",
   "metadata": {},
   "source": [
    "**Q) Find out the Occurances of Duplicate Text messages if any?**"
   ]
  },
  {
   "cell_type": "code",
   "execution_count": 14,
   "metadata": {},
   "outputs": [
    {
     "data": {
      "text/plain": [
       "19913"
      ]
     },
     "execution_count": 14,
     "metadata": {},
     "output_type": "execute_result"
    }
   ],
   "source": [
    "complaints_training_dataset['Complaint_text'].nunique()"
   ]
  },
  {
   "cell_type": "code",
   "execution_count": 15,
   "metadata": {},
   "outputs": [],
   "source": [
    "duplicate_complaints = complaints_training_dataset['Complaint_text']\\\n",
    "    .value_counts()\\\n",
    "    [complaints_training_dataset['Complaint_text'].value_counts() > 2].index"
   ]
  },
  {
   "cell_type": "code",
   "execution_count": 16,
   "metadata": {},
   "outputs": [
    {
     "data": {
      "text/plain": [
       "9"
      ]
     },
     "execution_count": 16,
     "metadata": {},
     "output_type": "execute_result"
    }
   ],
   "source": [
    "len(duplicate_complaints)"
   ]
  },
  {
   "cell_type": "markdown",
   "metadata": {},
   "source": [
    "### Preprocessing + Feature Engineering\n",
    "\n",
    "- tf-idf"
   ]
  },
  {
   "cell_type": "code",
   "execution_count": 17,
   "metadata": {},
   "outputs": [],
   "source": [
    "from sklearn.feature_extraction.text import TfidfVectorizer\n",
    "from sklearn.model_selection import train_test_split\n",
    "\n",
    "RANDOM_STATE = 19"
   ]
  },
  {
   "cell_type": "code",
   "execution_count": 56,
   "metadata": {},
   "outputs": [],
   "source": [
    "tfidf_vectorizer = TfidfVectorizer(stop_words='english', max_features=10000)"
   ]
  },
  {
   "cell_type": "code",
   "execution_count": 57,
   "metadata": {},
   "outputs": [],
   "source": [
    "X_train, X_test, y_train, y_test = train_test_split(\n",
    "    complaints_training_dataset['Complaint_text'],\n",
    "    complaints_training_dataset['Product'],\n",
    "    test_size=.2,\n",
    "    stratify=complaints_training_dataset['Product'],\n",
    "    random_state=RANDOM_STATE)"
   ]
  },
  {
   "cell_type": "code",
   "execution_count": 58,
   "metadata": {},
   "outputs": [
    {
     "data": {
      "text/plain": [
       "((16000,), (4000,), (16000,), (4000,))"
      ]
     },
     "execution_count": 58,
     "metadata": {},
     "output_type": "execute_result"
    }
   ],
   "source": [
    "X_train.shape, X_test.shape, y_train.shape, y_test.shape"
   ]
  },
  {
   "cell_type": "code",
   "execution_count": 59,
   "metadata": {},
   "outputs": [],
   "source": [
    "X_train_tfidf_vectorizer = tfidf_vectorizer.fit_transform(X_train)\n",
    "X_test_tfidf_vectorizer = tfidf_vectorizer.transform(X_test)"
   ]
  },
  {
   "cell_type": "code",
   "execution_count": 60,
   "metadata": {},
   "outputs": [
    {
     "data": {
      "text/plain": [
       "10000"
      ]
     },
     "execution_count": 60,
     "metadata": {},
     "output_type": "execute_result"
    }
   ],
   "source": [
    "len(tfidf_vectorizer.get_feature_names())"
   ]
  },
  {
   "cell_type": "code",
   "execution_count": 61,
   "metadata": {},
   "outputs": [
    {
     "data": {
      "text/plain": [
       "['00', '000', '001', '01', '02', '03', '04', '06', '07', '08']"
      ]
     },
     "execution_count": 61,
     "metadata": {},
     "output_type": "execute_result"
    }
   ],
   "source": [
    "tfidf_vectorizer.get_feature_names()[:10]"
   ]
  },
  {
   "cell_type": "code",
   "execution_count": 62,
   "metadata": {},
   "outputs": [
    {
     "data": {
      "text/plain": [
       "{'xxxx': 9896,\n",
       " 'account': 573,\n",
       " 'listed': 5287,\n",
       " 'credit': 2413,\n",
       " 'report': 7407,\n",
       " 'experian': 3478,\n",
       " 'paid': 6246,\n",
       " 'closed': 1917,\n",
       " '2007': 115,\n",
       " 'like': 5261,\n",
       " 'removed': 7349,\n",
       " 'years': 9965,\n",
       " 'employer': 3216,\n",
       " 'submitted': 8432,\n",
       " 'incorrect': 4675,\n",
       " 'information': 4736,\n",
       " 'hsa': 4459,\n",
       " 'bank': 1253,\n",
       " 'subsidiary': 8450,\n",
       " 'webster': 9698,\n",
       " 'money': 5736,\n",
       " 'deducted': 2587,\n",
       " 'paycheck': 6333,\n",
       " '15': 50,\n",
       " 'days': 2517,\n",
       " 'hired': 4368,\n",
       " 'refusing': 7213,\n",
       " 'release': 7289,\n",
       " 'funds': 3966,\n",
       " 'corrected': 2314,\n",
       " 'requested': 7440,\n",
       " 'verifying': 9521,\n",
       " 'identity': 4524,\n",
       " 'social': 8133,\n",
       " 'security': 7851,\n",
       " 'number': 5983,\n",
       " 'began': 1315,\n",
       " 'disputing': 2935,\n",
       " 'items': 4987,\n",
       " 'bureaus': 1571,\n",
       " 'xx': 9894,\n",
       " 'sent': 7895,\n",
       " 'follow': 3790,\n",
       " 'letters': 5220,\n",
       " 'believe': 1331,\n",
       " 'public': 6892,\n",
       " 'records': 7142,\n",
       " 'reporting': 7412,\n",
       " 'accurately': 600,\n",
       " 'compliance': 2058,\n",
       " 'fcra': 3629,\n",
       " 'fdcpa': 3630,\n",
       " 'received': 7088,\n",
       " 'didnt': 2783,\n",
       " 'say': 7755,\n",
       " 'company': 2025,\n",
       " 'transcription': 8991,\n",
       " 'voicemail': 9590,\n",
       " 'left': 5185,\n",
       " 'called': 1609,\n",
       " 'said': 7716,\n",
       " 'owe': 6221,\n",
       " '910': 468,\n",
       " '00': 0,\n",
       " 'settle': 7934,\n",
       " '760': 400,\n",
       " 'prior': 6746,\n",
       " '2013': 122,\n",
       " 'exact': 3401,\n",
       " 'date': 2507,\n",
       " 'asked': 1058,\n",
       " 'documentation': 2996,\n",
       " 'recall': 7077,\n",
       " 'need': 5861,\n",
       " 'attorney': 1144,\n",
       " 'request': 7439,\n",
       " 'point': 6555,\n",
       " 'til': 8874,\n",
       " 'resolve': 7487,\n",
       " 'issue': 4977,\n",
       " 'transcript': 8990,\n",
       " 'calling': 1612,\n",
       " 'special': 8191,\n",
       " 'ending': 3241,\n",
       " 'processing': 6777,\n",
       " 'division': 2980,\n",
       " 'location': 5329,\n",
       " 'services': 7924,\n",
       " 'trying': 9103,\n",
       " 'locate': 5326,\n",
       " 'formal': 3851,\n",
       " 'complaint': 2048,\n",
       " 'counts': 2363,\n",
       " 'charges': 1786,\n",
       " 'currently': 2463,\n",
       " 'pending': 6376,\n",
       " 'advised': 721,\n",
       " 'best': 1355,\n",
       " 'make': 5439,\n",
       " 'immediate': 4562,\n",
       " 'contact': 2214,\n",
       " 'senior': 7889,\n",
       " 'associates': 1093,\n",
       " 'legal': 5188,\n",
       " 'department': 2686,\n",
       " 'obtained': 6014,\n",
       " 'case': 1686,\n",
       " 'court': 2372,\n",
       " 'right': 7616,\n",
       " 'appointment': 974,\n",
       " 'directly': 2826,\n",
       " '__': 497,\n",
       " 'scheduled': 7782,\n",
       " 'local': 5324,\n",
       " 'residence': 7475,\n",
       " 'seven': 7940,\n",
       " 'process': 6774,\n",
       " 'issues': 4980,\n",
       " 'standard': 8263,\n",
       " 'time': 8877,\n",
       " 'today': 8904,\n",
       " 'possibly': 6605,\n",
       " 'prevent': 6717,\n",
       " 'moving': 5781,\n",
       " 'forward': 3869,\n",
       " 'carry': 1680,\n",
       " 'supplies': 8542,\n",
       " 'extension': 3522,\n",
       " 'final': 3698,\n",
       " 'notification': 5964,\n",
       " 'luck': 5393,\n",
       " 'traded': 8962,\n",
       " 'bitcoin': 1389,\n",
       " 'coinbase': 1947,\n",
       " 'did': 2780,\n",
       " 'transactions': 8988,\n",
       " 'month': 5747,\n",
       " 'suddenly': 8483,\n",
       " 'provide': 6873,\n",
       " 'ssn': 8241,\n",
       " 'action': 636,\n",
       " 'sell': 7872,\n",
       " 'withdraw': 9799,\n",
       " 'allows': 846,\n",
       " 'trade': 8961,\n",
       " 'beginning': 1319,\n",
       " 'usd': 9425,\n",
       " 'contacted': 2215,\n",
       " 'reply': 7403,\n",
       " 'submitting': 8433,\n",
       " 'agency': 764,\n",
       " 'belong': 1339,\n",
       " 'uploading': 9397,\n",
       " 'letter': 5218,\n",
       " 'proof': 6839,\n",
       " 'fraud': 3893,\n",
       " 'deleted': 2648,\n",
       " 'does': 3004,\n",
       " 'numerous': 5987,\n",
       " 'disputes': 2934,\n",
       " 'situation': 8068,\n",
       " 'rectified': 7152,\n",
       " 'score': 7793,\n",
       " 'lower': 5382,\n",
       " 'accounts': 581,\n",
       " 'shouldnt': 8004,\n",
       " 'bought': 1480,\n",
       " 'phone': 6455,\n",
       " '2017': 126,\n",
       " 'excited': 3429,\n",
       " 'new': 5903,\n",
       " 'advertised': 712,\n",
       " 'plethora': 6533,\n",
       " 'amazing': 863,\n",
       " 'features': 3638,\n",
       " 'including': 4657,\n",
       " 'camera': 1619,\n",
       " 'market': 5485,\n",
       " 'unlimited': 9305,\n",
       " 'photo': 6460,\n",
       " 'memory': 5574,\n",
       " 'addition': 659,\n",
       " 'line': 5274,\n",
       " 'included': 4655,\n",
       " 'leasing': 5177,\n",
       " 'feature': 3637,\n",
       " 'true': 9081,\n",
       " 'synchrony': 8621,\n",
       " 'approved': 990,\n",
       " 'immediately': 4563,\n",
       " 'pay': 6330,\n",
       " 'apr': 997,\n",
       " 'turned': 9122,\n",
       " 'good': 4068,\n",
       " 'product': 6783,\n",
       " 'near': 5849,\n",
       " 'got': 4076,\n",
       " 'receive': 7087,\n",
       " 'text': 8773,\n",
       " 'messages': 5599,\n",
       " 'calls': 1613,\n",
       " 'half': 4198,\n",
       " 'help': 4312,\n",
       " '30': 181,\n",
       " 'given': 4047,\n",
       " 'complete': 2050,\n",
       " 'run': 7697,\n",
       " 'return': 7577,\n",
       " 'service': 7920,\n",
       " 'center': 1733,\n",
       " 'remote': 7345,\n",
       " 'sole': 8143,\n",
       " 'purpose': 6924,\n",
       " 'deny': 2683,\n",
       " 'customer': 2473,\n",
       " 'refunds': 7207,\n",
       " 'getting': 4036,\n",
       " 'faulty': 3615,\n",
       " 'products': 6786,\n",
       " 'day': 2515,\n",
       " 'warranty': 9664,\n",
       " 'suffer': 8487,\n",
       " '700': 377,\n",
       " 'loss': 5369,\n",
       " 'replacement': 7398,\n",
       " 'supposed': 8552,\n",
       " 'working': 9838,\n",
       " 'regards': 7220,\n",
       " 'false': 3585,\n",
       " 'advertising': 716,\n",
       " 'providing': 6878,\n",
       " 'decent': 2561,\n",
       " 'hopes': 4423,\n",
       " 'protect': 6858,\n",
       " 'refund': 7203,\n",
       " 'fraudulent': 3902,\n",
       " 'file': 3688,\n",
       " 'claims': 1876,\n",
       " 'hours': 4450,\n",
       " 'customers': 2474,\n",
       " 'claim': 1871,\n",
       " 'filed': 3689,\n",
       " 'returned': 7578,\n",
       " '60': 325,\n",
       " 'paper': 6265,\n",
       " 'mail': 5422,\n",
       " 'mind': 5634,\n",
       " 'life': 5252,\n",
       " 'sit': 8062,\n",
       " 'wait': 9623,\n",
       " 'moved': 5776,\n",
       " 'accept': 542,\n",
       " 'policy': 6562,\n",
       " 'waited': 9624,\n",
       " 'hear': 4289,\n",
       " 'thing': 8819,\n",
       " 'told': 8909,\n",
       " 'activity': 646,\n",
       " 'months': 5749,\n",
       " 'broken': 1521,\n",
       " 'important': 4598,\n",
       " 'texts': 8777,\n",
       " 'tried': 9061,\n",
       " 'troubleshoot': 9074,\n",
       " 'work': 9833,\n",
       " 'want': 9648,\n",
       " 'know': 5084,\n",
       " 'protecting': 6860,\n",
       " 'relaxed': 7286,\n",
       " 'approach': 982,\n",
       " 'completely': 2052,\n",
       " 'scammed': 7765,\n",
       " 'america': 874,\n",
       " 'biggest': 1371,\n",
       " 'retailers': 7549,\n",
       " 'recorded': 7137,\n",
       " 'answers': 917,\n",
       " 'kept': 5060,\n",
       " 'contractual': 2249,\n",
       " 'agreements': 785,\n",
       " 'contractually': 2250,\n",
       " 'agree': 781,\n",
       " 'buy': 1586,\n",
       " 'share': 7958,\n",
       " 'purchased': 6912,\n",
       " 'buyer': 1587,\n",
       " 'ready': 7032,\n",
       " 'contract': 2243,\n",
       " '2015': 124,\n",
       " 'read': 7026,\n",
       " 'send': 7884,\n",
       " 'commission': 2004,\n",
       " 'fully': 3957,\n",
       " 'refunded': 7205,\n",
       " 'title': 8897,\n",
       " 'fees': 3653,\n",
       " 'holding': 4384,\n",
       " 'escrow': 3341,\n",
       " 'promises': 6823,\n",
       " 'able': 513,\n",
       " 'weeks': 9708,\n",
       " 'navient': 5834,\n",
       " 'ignored': 4535,\n",
       " 'failed': 3569,\n",
       " 'respond': 7502,\n",
       " 'multiple': 5795,\n",
       " 'requests': 7443,\n",
       " 'ibr': 4498,\n",
       " 'income': 4659,\n",
       " 'changed': 1769,\n",
       " 'jobs': 5009,\n",
       " 'decreased': 2581,\n",
       " 'dramatically': 3054,\n",
       " 'form': 3850,\n",
       " 'submissions': 8428,\n",
       " 'fax': 3618,\n",
       " 'online': 6086,\n",
       " 'website': 9696,\n",
       " 'forms': 3859,\n",
       " 'copy': 2303,\n",
       " 'documenting': 2999,\n",
       " 'hourly': 4449,\n",
       " 'wage': 9620,\n",
       " 'afford': 749,\n",
       " 'asking': 1059,\n",
       " '2016': 125,\n",
       " 'went': 9723,\n",
       " 'tx': 9134,\n",
       " 'used': 9430,\n",
       " 'western': 9728,\n",
       " 'union': 9280,\n",
       " 'terminal': 8749,\n",
       " 'transfer': 8994,\n",
       " 'sum': 8509,\n",
       " '120': 32,\n",
       " 'mtcn': 5791,\n",
       " 'tracking': 8958,\n",
       " 'came': 1618,\n",
       " 'transaction': 8986,\n",
       " 'recipient': 7111,\n",
       " 'id': 4506,\n",
       " 'sure': 8560,\n",
       " 'agent': 767,\n",
       " 'suggested': 8497,\n",
       " 'test': 8763,\n",
       " 'question': 6963,\n",
       " 'answer': 914,\n",
       " 'suffice': 8491,\n",
       " 'provided': 6874,\n",
       " 'plus': 6539,\n",
       " 'later': 5136,\n",
       " 'informed': 4739,\n",
       " 'refused': 7211,\n",
       " 'expired': 3487,\n",
       " 'denied': 2678,\n",
       " 'use': 9429,\n",
       " 'wanted': 9649,\n",
       " 'individual': 4712,\n",
       " 'valid': 9465,\n",
       " 'stating': 8284,\n",
       " 'home': 4392,\n",
       " 'telephone': 8719,\n",
       " 'spoke': 8219,\n",
       " 'stated': 8280,\n",
       " 'let': 5216,\n",
       " 'change': 1768,\n",
       " 'fee': 3647,\n",
       " 'offer': 6047,\n",
       " 'minutes': 5647,\n",
       " 'speaking': 8189,\n",
       " 'different': 2792,\n",
       " 'individuals': 4714,\n",
       " 'mailed': 5424,\n",
       " 'address': 662,\n",
       " 'just': 5044,\n",
       " 'ago': 779,\n",
       " 'inquired': 4778,\n",
       " 'status': 8293,\n",
       " 'representative': 7424,\n",
       " 'fault': 3614,\n",
       " 'mentioned': 5579,\n",
       " 'lieu': 5251,\n",
       " 'international': 4881,\n",
       " 'recipients': 7112,\n",
       " 'initial': 4751,\n",
       " 'requesting': 7442,\n",
       " 'victim': 9541,\n",
       " 'theft': 8794,\n",
       " 'result': 7539,\n",
       " 'inquiries': 4780,\n",
       " 'knowledge': 5087,\n",
       " 'consent': 2157,\n",
       " 'transunion': 9024,\n",
       " 'supporting': 8548,\n",
       " 'documents': 3000,\n",
       " 'ignoring': 4537,\n",
       " 'clearly': 1900,\n",
       " 'frustrating': 3940,\n",
       " 'disappointing': 2848,\n",
       " 'remove': 7348,\n",
       " 'inaccurate': 4624,\n",
       " 'attaching': 1119,\n",
       " 'citibank': 1859,\n",
       " 'took': 8919,\n",
       " '170': 80,\n",
       " 'checking': 1811,\n",
       " 'order': 6128,\n",
       " 'maximize': 5523,\n",
       " 'processed': 6775,\n",
       " 'larger': 5128,\n",
       " 'smaller': 8113,\n",
       " 'caused': 1707,\n",
       " 'overdrafted': 6191,\n",
       " 'engaging': 3262,\n",
       " 'unfair': 9249,\n",
       " 'business': 1580,\n",
       " 'practices': 6639,\n",
       " 'overdraft': 6190,\n",
       " 'validate': 9466,\n",
       " 'debt': 2547,\n",
       " 'creditors': 2418,\n",
       " 'evidence': 3393,\n",
       " 'companies': 2024,\n",
       " 'stayed': 8300,\n",
       " 'second': 7829,\n",
       " 'movement': 5777,\n",
       " 'validated': 9467,\n",
       " 'crazy': 2398,\n",
       " 'equitable': 3318,\n",
       " 'conclusion': 2096,\n",
       " 'physically': 6469,\n",
       " 'pioneer': 6492,\n",
       " 'recovery': 7149,\n",
       " 'garnishment': 4004,\n",
       " 'driven': 3068,\n",
       " 'repayment': 7387,\n",
       " 'plan': 6504,\n",
       " 'according': 570,\n",
       " 'law': 5145,\n",
       " 'family': 3593,\n",
       " 'extreme': 3541,\n",
       " 'economic': 3139,\n",
       " 'hardship': 4241,\n",
       " 'rent': 7363,\n",
       " 'food': 3796,\n",
       " 'table': 8631,\n",
       " 'living': 5309,\n",
       " 'present': 6689,\n",
       " '11': 24,\n",
       " 'capital': 1642,\n",
       " 'indicating': 4705,\n",
       " 'suspected': 8580,\n",
       " 'talked': 8654,\n",
       " 'doing': 3009,\n",
       " 'investigation': 4922,\n",
       " 'states': 8283,\n",
       " 'concluded': 2094,\n",
       " 'responsible': 7513,\n",
       " '4000': 235,\n",
       " 'associate': 1091,\n",
       " 'assigned': 1078,\n",
       " 'times': 8884,\n",
       " 'reach': 7018,\n",
       " 'resolution': 7485,\n",
       " 'try': 9101,\n",
       " 'speak': 8187,\n",
       " 'referring': 7185,\n",
       " 'person': 6427,\n",
       " 'care': 1663,\n",
       " 'assist': 1085,\n",
       " 'police': 6560,\n",
       " 'validation': 9470,\n",
       " 'delinquency': 2655,\n",
       " 'itemized': 4986,\n",
       " 'erc': 3325,\n",
       " 'recieved': 7109,\n",
       " 'original': 6142,\n",
       " 'creditor': 2417,\n",
       " 'continuing': 2240,\n",
       " 'cra': 2391,\n",
       " 'owed': 6222,\n",
       " 'wells': 9719,\n",
       " 'fargo': 3601,\n",
       " 'withdrew': 9807,\n",
       " 'charge': 1779,\n",
       " 'thought': 8833,\n",
       " 'opened': 6094,\n",
       " 'regular': 7232,\n",
       " 'pnc': 6546,\n",
       " 'deposit': 2694,\n",
       " '2000': 106,\n",
       " 'occurred': 6030,\n",
       " 'saturday': 7748,\n",
       " 'unable': 9162,\n",
       " 'access': 549,\n",
       " 'support': 8545,\n",
       " 'monday': 5733,\n",
       " 'signature': 8029,\n",
       " 'card': 1657,\n",
       " 'piece': 6480,\n",
       " 'sign': 8027,\n",
       " 'note': 5957,\n",
       " 'far': 3599,\n",
       " 'tell': 8725,\n",
       " 'method': 5606,\n",
       " 'payment': 6343,\n",
       " 'solely': 8144,\n",
       " 'contain': 2218,\n",
       " 'verify': 9520,\n",
       " 'driver': 3069,\n",
       " 'license': 5240,\n",
       " 'reason': 7055,\n",
       " 'physical': 6468,\n",
       " 'necessary': 5856,\n",
       " 'takes': 8650,\n",
       " 'close': 1916,\n",
       " 'issuing': 4981,\n",
       " 'impossible': 4604,\n",
       " 'violation': 9566,\n",
       " 'fdic': 3631,\n",
       " 'laws': 5148,\n",
       " '5000': 281,\n",
       " 'meaning': 5537,\n",
       " 'reasonable': 7056,\n",
       " 'expectation': 3466,\n",
       " 'hold': 4381,\n",
       " 'period': 6401,\n",
       " 'cryptocurrencies': 2444,\n",
       " 'purchase': 6911,\n",
       " 'etherium': 3362,\n",
       " 'dollars': 3013,\n",
       " 'sold': 8140,\n",
       " '180': 86,\n",
       " 'withdrawal': 9800,\n",
       " 'debit': 2543,\n",
       " 'taken': 8648,\n",
       " 'research': 7457,\n",
       " 'uncommon': 9196,\n",
       " 'problem': 6762,\n",
       " 'occurs': 6033,\n",
       " 'attempted': 1130,\n",
       " 'equipment': 3317,\n",
       " 'receiving': 7094,\n",
       " 'invoice': 4934,\n",
       " 'alleged': 827,\n",
       " 'completed': 2051,\n",
       " 'wire': 9786,\n",
       " 'subsequently': 8447,\n",
       " 'site': 8063,\n",
       " 'scam': 7763,\n",
       " 'chase': 1794,\n",
       " 'identified': 4517,\n",
       " 'complicated': 2061,\n",
       " 'refuses': 7212,\n",
       " 'harmless': 4250,\n",
       " 'document': 2995,\n",
       " 'supplied': 8540,\n",
       " 'notarized': 5951,\n",
       " 'understanding': 9221,\n",
       " 'frozen': 3935,\n",
       " 'assets': 1076,\n",
       " 'longer': 5351,\n",
       " 'bigger': 1370,\n",
       " 'cause': 1706,\n",
       " 'overdrawn': 6196,\n",
       " 'applies': 970,\n",
       " 'charging': 1787,\n",
       " 'consumer': 2209,\n",
       " 'happened': 4225,\n",
       " 'yesterday': 9973,\n",
       " 'servicing': 7925,\n",
       " 'son': 8159,\n",
       " 'student': 8399,\n",
       " 'loans': 5321,\n",
       " 'variable': 9482,\n",
       " '75': 395,\n",
       " '25': 154,\n",
       " 'sending': 7887,\n",
       " 'payments': 6344,\n",
       " 'specific': 8196,\n",
       " 'loan': 5318,\n",
       " 'numbers': 5984,\n",
       " 'higher': 4346,\n",
       " 'rate': 7008,\n",
       " 'earlier': 3109,\n",
       " 'posting': 6612,\n",
       " 'outstanding': 6182,\n",
       " 'balance': 1240,\n",
       " 'causing': 1709,\n",
       " 'accrued': 588,\n",
       " 'portion': 6586,\n",
       " 'total': 8929,\n",
       " 'abusive': 533,\n",
       " 'reducing': 7174,\n",
       " 'accordingly': 571,\n",
       " 'collection': 1963,\n",
       " 'claiming': 1875,\n",
       " '560': 308,\n",
       " 'fro': 3931,\n",
       " 'nj': 5923,\n",
       " 've': 9494,\n",
       " 'lived': 5305,\n",
       " 'delaware': 2641,\n",
       " 'past': 6313,\n",
       " '18': 85,\n",
       " 'copies': 2301,\n",
       " 'application': 967,\n",
       " 'recordings': 7141,\n",
       " 'regarding': 7218,\n",
       " 'tax': 8681,\n",
       " 'returns': 7580,\n",
       " 'open': 6093,\n",
       " 'continually': 2236,\n",
       " 'don': 3018,\n",
       " 'woman': 9819,\n",
       " 'nasty': 5822,\n",
       " 'job': 5008,\n",
       " 'burden': 1563,\n",
       " 'prove': 6869,\n",
       " 'isn': 4973,\n",
       " 'dates': 2510,\n",
       " 'busy': 1584,\n",
       " 'schedule': 7781,\n",
       " 'fix': 3738,\n",
       " 'mistakes': 5699,\n",
       " 'national': 5825,\n",
       " 'owes': 6224,\n",
       " '000': 1,\n",
       " 'unpaid': 9316,\n",
       " 'disputed': 2933,\n",
       " 'despite': 2739,\n",
       " 'doesn': 3005,\n",
       " 'start': 8272,\n",
       " 'morning': 5757,\n",
       " 'initiated': 4755,\n",
       " 'inquire': 4777,\n",
       " 'end': 3238,\n",
       " 'inquiry': 4782,\n",
       " 'jp': 5019,\n",
       " 'morgan': 5756,\n",
       " 'wires': 9789,\n",
       " 'week': 9703,\n",
       " 'gave': 4011,\n",
       " 'writing': 9872,\n",
       " 'confirming': 2121,\n",
       " 'confirm': 2117,\n",
       " 'says': 7758,\n",
       " 'investigating': 4921,\n",
       " 'maybe': 5525,\n",
       " 'message': 5597,\n",
       " 'format': 3854,\n",
       " 'making': 5442,\n",
       " 'transfers': 9001,\n",
       " 'supply': 8543,\n",
       " 'member': 5568,\n",
       " 'standing': 8265,\n",
       " 'thank': 8781,\n",
       " 'advance': 702,\n",
       " 'sincerely': 8053,\n",
       " 'hello': 4310,\n",
       " 'express': 3512,\n",
       " 'concern': 2086,\n",
       " 'forgiveness': 3843,\n",
       " 'program': 6803,\n",
       " 'qualified': 6949,\n",
       " 'district': 2965,\n",
       " 'signed': 8031,\n",
       " '17000': 82,\n",
       " '20': 104,\n",
       " 'upset': 9402,\n",
       " 'matter': 5517,\n",
       " 'struggled': 8391,\n",
       " 'needed': 5862,\n",
       " 'place': 6495,\n",
       " 'forbearance': 3805,\n",
       " 'deferment': 2615,\n",
       " 'quite': 6977,\n",
       " 'bankruptcy': 1263,\n",
       " '2014': 123,\n",
       " 'track': 8955,\n",
       " 'greatly': 4132,\n",
       " 'appreciate': 978,\n",
       " 'thanks': 8786,\n",
       " 'harassing': 4234,\n",
       " 'signer': 8032,\n",
       " 'forcing': 3812,\n",
       " 'appear': 953,\n",
       " 'delinquent': 2657,\n",
       " 'offered': 6048,\n",
       " 'whatsoever': 9738,\n",
       " 'exhausted': 3452,\n",
       " 'options': 6123,\n",
       " 'unemployment': 9239,\n",
       " 'current': 2462,\n",
       " 'approximately': 994,\n",
       " '300': 182,\n",
       " 'cosigner': 2333,\n",
       " 'appliances': 962,\n",
       " 'store': 8344,\n",
       " 'delivery': 2665,\n",
       " 'produced': 6781,\n",
       " 'manager': 5458,\n",
       " '12': 31,\n",
       " 'cash': 1688,\n",
       " 'applied': 969,\n",
       " 'agreed': 782,\n",
       " 'enter': 3286,\n",
       " 'technical': 8703,\n",
       " 'difficulty': 2798,\n",
       " '4700': 266,\n",
       " 'statement': 8281,\n",
       " '45': 256,\n",
       " 'toll': 8912,\n",
       " 'free': 3907,\n",
       " 'receipt': 7083,\n",
       " 'long': 5350,\n",
       " 'fine': 3713,\n",
       " 'statements': 8282,\n",
       " 'bills': 1380,\n",
       " 'notices': 5962,\n",
       " 'farm': 3603,\n",
       " 'ran': 6996,\n",
       " 'history': 4374,\n",
       " '5900': 321,\n",
       " 'dated': 2508,\n",
       " 'delete': 2647,\n",
       " 'derogatory': 2714,\n",
       " 'reports': 7414,\n",
       " 'fed': 3639,\n",
       " 'cd': 1721,\n",
       " 'barclays': 1269,\n",
       " 'funded': 3964,\n",
       " 'placed': 6496,\n",
       " 'facts': 3564,\n",
       " 'emails': 3195,\n",
       " 'reached': 7019,\n",
       " 'maturity': 5520,\n",
       " 'allowed': 844,\n",
       " 'allowing': 845,\n",
       " 'saying': 7757,\n",
       " 'verified': 9518,\n",
       " 'deposits': 2701,\n",
       " 'actually': 650,\n",
       " 'recieve': 7108,\n",
       " 'resulting': 7541,\n",
       " 'link': 5277,\n",
       " 'external': 3529,\n",
       " 'acces': 548,\n",
       " 'using': 9437,\n",
       " 'borrowed': 1470,\n",
       " 'owned': 6226,\n",
       " 'recently': 7096,\n",
       " 'safety': 7715,\n",
       " 'box': 1487,\n",
       " '32': 195,\n",
       " 'discovered': 2883,\n",
       " 'issued': 4978,\n",
       " 'acquired': 626,\n",
       " 'office': 6051,\n",
       " 'showed': 8007,\n",
       " 'record': 7136,\n",
       " 'having': 4271,\n",
       " 'library': 5238,\n",
       " 'checked': 1809,\n",
       " 'abandoned': 506,\n",
       " 'illinois': 4548,\n",
       " 'secretary': 7835,\n",
       " 'cfpb': 1756,\n",
       " 'complain': 2044,\n",
       " 'private': 6751,\n",
       " 'originally': 6143,\n",
       " 'missed': 5689,\n",
       " 'required': 7445,\n",
       " 'paying': 6342,\n",
       " 'starting': 8275,\n",
       " '2009': 117,\n",
       " 'graduated': 4102,\n",
       " 'little': 5303,\n",
       " '200': 105,\n",
       " 'principal': 6735,\n",
       " '15000': 53,\n",
       " '91': 467,\n",
       " 'missing': 5690,\n",
       " '18000': 88,\n",
       " 'roughly': 7671,\n",
       " '13000': 40,\n",
       " 'ridiculous': 7614,\n",
       " 'considered': 2170,\n",
       " 'crime': 2423,\n",
       " 'understand': 9218,\n",
       " 'works': 9841,\n",
       " 'really': 7046,\n",
       " 'ask': 1057,\n",
       " 'utilities': 9447,\n",
       " 'primary': 6733,\n",
       " 'systems': 8628,\n",
       " 'useless': 9432,\n",
       " 'require': 7444,\n",
       " 'utility': 9448,\n",
       " 'energy': 3252,\n",
       " 'additional': 660,\n",
       " 'power': 6626,\n",
       " 'warning': 9659,\n",
       " 'consistently': 2180,\n",
       " 'coming': 1989,\n",
       " 'previous': 6722,\n",
       " 'positive': 6595,\n",
       " 'drastic': 3055,\n",
       " 'difference': 2790,\n",
       " 'bringing': 1515,\n",
       " 'challenge': 1762,\n",
       " 'email': 3192,\n",
       " 'duplicate': 3093,\n",
       " 'solutions': 8151,\n",
       " 'executive': 3442,\n",
       " 'remediation': 7323,\n",
       " 'analyst': 892,\n",
       " 'lost': 5371,\n",
       " 'stolen': 8331,\n",
       " 'exec': 3437,\n",
       " 'electronic': 3180,\n",
       " 'branch': 1494,\n",
       " 'consider': 2166,\n",
       " 'material': 5512,\n",
       " 'available': 1191,\n",
       " 'review': 7593,\n",
       " 'lies': 5250,\n",
       " 'created': 2402,\n",
       " 'explanation': 3495,\n",
       " 'unauthorized': 9173,\n",
       " 'civil': 1869,\n",
       " 'stepson': 8316,\n",
       " 'married': 5495,\n",
       " '28': 168,\n",
       " 'wellsfargo': 9720,\n",
       " 'electronically': 3181,\n",
       " 'authorized': 1176,\n",
       " 'specially': 8195,\n",
       " 'cards': 1662,\n",
       " 'aware': 1209,\n",
       " 'filing': 3691,\n",
       " 'lawsuit': 5149,\n",
       " 'justice': 5045,\n",
       " 'dept': 2707,\n",
       " 'ftc': 3946,\n",
       " '3200': 197,\n",
       " '100': 12,\n",
       " 'posted': 6610,\n",
       " '35': 208,\n",
       " 'summary': 8513,\n",
       " '500': 280,\n",
       " '96': 483,\n",
       " '3800': 224,\n",
       " '29': 172,\n",
       " 'added': 656,\n",
       " 'thet': 8809,\n",
       " 'reverse': 7588,\n",
       " '7500': 397,\n",
       " 'dont': 3021,\n",
       " 'mortgage': 5760,\n",
       " 'refi': 7187,\n",
       " 'looking': 5356,\n",
       " 'explaining': 3493,\n",
       " 'acct': 591,\n",
       " 'create': 2401,\n",
       " 'terms': 8756,\n",
       " 'agreement': 784,\n",
       " 'governing': 4082,\n",
       " 'paypal': 6349,\n",
       " 'username': 9434,\n",
       " 'payer': 6340,\n",
       " 'single': 8057,\n",
       " 'beneficial': 1346,\n",
       " 'owner': 6227,\n",
       " 'inadvertently': 4634,\n",
       " 'upgraded': 9390,\n",
       " 'documented': 2998,\n",
       " 'occasions': 6023,\n",
       " 'downgrade': 3034,\n",
       " 'simple': 8049,\n",
       " 'personal': 6429,\n",
       " 'limited': 5271,\n",
       " 'communications': 2020,\n",
       " 'spent': 8212,\n",
       " 'representatives': 7425,\n",
       " 'explained': 3492,\n",
       " 'ongoing': 6085,\n",
       " 'indicated': 4703,\n",
       " 'ticket': 8864,\n",
       " 'allow': 841,\n",
       " '24': 149,\n",
       " 'contacting': 2216,\n",
       " 'audit': 1155,\n",
       " 'risk': 7631,\n",
       " 'arc': 1005,\n",
       " 'committee': 2011,\n",
       " 'board': 1435,\n",
       " 'financial': 3706,\n",
       " 'protection': 6861,\n",
       " 'bureau': 1568,\n",
       " 'unfortunately': 9258,\n",
       " 'confirmation': 2118,\n",
       " 'communication': 2019,\n",
       " 'opposed': 6114,\n",
       " 'taking': 8652,\n",
       " 'steps': 8315,\n",
       " 'bring': 1514,\n",
       " 'attention': 1139,\n",
       " 'media': 5550,\n",
       " 'representation': 7422,\n",
       " 'california': 1606,\n",
       " 'state': 8279,\n",
       " 'general': 4019,\n",
       " 'federal': 3640,\n",
       " 'reserve': 7468,\n",
       " 'securities': 7848,\n",
       " 'exchanges': 3427,\n",
       " 'sec': 7828,\n",
       " 'checks': 1815,\n",
       " 'deposited': 2695,\n",
       " 'cashed': 1690,\n",
       " 'written': 9874,\n",
       " 'suntrust': 8525,\n",
       " 'beneficiary': 1348,\n",
       " 'arrived': 1037,\n",
       " 'credited': 2415,\n",
       " 'various': 9488,\n",
       " 'traces': 8953,\n",
       " 'banking': 1258,\n",
       " 'incident': 4650,\n",
       " 'happen': 4223,\n",
       " 'wiring': 9791,\n",
       " 'closing': 1922,\n",
       " '8000': 419,\n",
       " 'property': 6844,\n",
       " 'prepared': 6678,\n",
       " 'waiting': 9625,\n",
       " 'fund': 3963,\n",
       " 'lady': 5107,\n",
       " 'xxxxxxxx': 9955,\n",
       " 'cancel': 1625,\n",
       " 'stop': 8338,\n",
       " 'transition': 9007,\n",
       " 'nv': 5989,\n",
       " 'expected': 3468,\n",
       " 'going': 4064,\n",
       " 'stopped': 8340,\n",
       " 'perform': 6395,\n",
       " '48': 268,\n",
       " 'instructed': 4825,\n",
       " 'ref': 7177,\n",
       " 'forth': 3862,\n",
       " 'talk': 8653,\n",
       " 'direct': 2820,\n",
       " 'check': 1807,\n",
       " 'frustrated': 3939,\n",
       " 'desperately': 2736,\n",
       " 'response': 7508,\n",
       " 'indicate': 4702,\n",
       " 'benefit': 1349,\n",
       " 'assessed': 1071,\n",
       " 'attempt': 1129,\n",
       " 'guaranteed': 4158,\n",
       " 'initiator': 4759,\n",
       " 'attempts': 1132,\n",
       " 'approval': 987,\n",
       " 'wired': 9787,\n",
       " 'acted': 634,\n",
       " 'accordance': 569,\n",
       " 'conditions': 2103,\n",
       " 'enclosed': 3228,\n",
       " 'disclosures': 2868,\n",
       " 'publication': 6893,\n",
       " 'disclose': 2864,\n",
       " 'amend': 870,\n",
       " 'effort': 3163,\n",
       " 'act': 633,\n",
       " 'liable': 5232,\n",
       " 'amended': 871,\n",
       " 'canceled': 1627,\n",
       " 'refer': 7178,\n",
       " 'section': 7838,\n",
       " 'titled': 8898,\n",
       " 'canceling': 1628,\n",
       " 'orders': 6131,\n",
       " 'details': 2749,\n",
       " 'experience': 3479,\n",
       " 'regret': 7230,\n",
       " 'inconvenience': 4669,\n",
       " 'encountered': 3232,\n",
       " 'apologize': 939,\n",
       " 'meet': 5562,\n",
       " 'expectations': 3467,\n",
       " 'confirmed': 2120,\n",
       " 'instructions': 4828,\n",
       " 'authorization': 1173,\n",
       " 'based': 1279,\n",
       " 'indication': 4706,\n",
       " 'error': 3330,\n",
       " 'handling': 4214,\n",
       " ...}"
      ]
     },
     "execution_count": 62,
     "metadata": {},
     "output_type": "execute_result"
    }
   ],
   "source": [
    "tfidf_vectorizer.vocabulary_"
   ]
  },
  {
   "cell_type": "code",
   "execution_count": 63,
   "metadata": {},
   "outputs": [
    {
     "data": {
      "text/plain": [
       "((16000, 10000), (4000, 10000))"
      ]
     },
     "execution_count": 63,
     "metadata": {},
     "output_type": "execute_result"
    }
   ],
   "source": [
    "X_train_tfidf_vectorizer.shape, X_test_tfidf_vectorizer.shape"
   ]
  },
  {
   "cell_type": "code",
   "execution_count": 64,
   "metadata": {},
   "outputs": [],
   "source": [
    "# X_train_array = X_train_tfidf_vectorizer.toarray()"
   ]
  },
  {
   "cell_type": "code",
   "execution_count": 65,
   "metadata": {},
   "outputs": [],
   "source": [
    "# X_train_array.shape"
   ]
  },
  {
   "cell_type": "code",
   "execution_count": 66,
   "metadata": {},
   "outputs": [],
   "source": [
    "# def raw_text_to_vocab(text_index):\n",
    "#     print(X_train.iloc[text_index])\n",
    "#     for index, exists in enumerate(X_train_array[text_index]):\n",
    "#         if exists:\n",
    "#             print(index, '->', tfidf_vectorizer.get_feature_names()[index], exists)"
   ]
  },
  {
   "cell_type": "code",
   "execution_count": 67,
   "metadata": {},
   "outputs": [],
   "source": [
    "# raw_text_to_vocab(0)"
   ]
  },
  {
   "cell_type": "code",
   "execution_count": 68,
   "metadata": {},
   "outputs": [
    {
     "name": "stdout",
     "output_type": "stream",
     "text": [
      "\n",
      "==> Credit reporting, repair, or other:\n",
      "  * Most Correlated Unigrams are: remove, bureaus, inquiry, inquiries, reporting, transunion, experian, credit, report, equifax\n",
      "\n",
      "==> Debt collection:\n",
      "  * Most Correlated Unigrams are: agency, calling, company, collector, recovery, validation, owe, collect, collection, debt\n",
      "\n",
      "==> Student loan:\n",
      "  * Most Correlated Unigrams are: plan, payment, forbearance, school, repayment, payments, student, loan, loans, navient\n",
      "\n",
      "==> Money transfer, virtual currency, or money service:\n",
      "  * Most Correlated Unigrams are: moneygram, funds, support, transaction, western, wire, money, transfer, paypal, coinbase\n",
      "\n",
      "==> Bank account or service:\n",
      "  * Most Correlated Unigrams are: atm, america, fees, bonus, deposit, branch, check, checking, overdraft, bank\n"
     ]
    }
   ],
   "source": [
    "from sklearn.feature_selection import chi2\n",
    "import numpy as np\n",
    "\n",
    "N = 10\n",
    "for product in complaints_training_dataset['Product'].unique():\n",
    "  features_chi2 = chi2(X_train_tfidf_vectorizer, y_train == product)\n",
    "  indices = np.argsort(features_chi2[0])\n",
    "  feature_names = np.array(tfidf_vectorizer.get_feature_names())[indices]\n",
    "  unigrams = [v for v in feature_names if len(v.split(' ')) == 1]\n",
    "  bigrams = [v for v in feature_names if len(v.split(' ')) == 2]\n",
    "  print(\"\\n==> %s:\" %(product))\n",
    "  print(\"  * Most Correlated Unigrams are: %s\" %(', '.join(unigrams[-N:])))"
   ]
  },
  {
   "cell_type": "markdown",
   "metadata": {},
   "source": [
    "### Machine Learning Algorithm: Logistic Regression"
   ]
  },
  {
   "cell_type": "markdown",
   "metadata": {},
   "source": [
    "#### Estimating Conditional Probability using Link Function\n",
    "\n",
    "Recall from lecture that the link function is given by:\n",
    "$$\n",
    "P(y_i = +1 | \\mathbf{x}_i,\\mathbf{w}) = \\frac{1}{1 + \\exp(-\\mathbf{w}^T h(\\mathbf{x}_i))},\n",
    "$$\n",
    "\n",
    "where the feature vector $h(\\mathbf{x}_i)$ represents the word counts of **important_words** in the review  $\\mathbf{x}_i$. Complete the following function that implements the link function:"
   ]
  },
  {
   "cell_type": "markdown",
   "metadata": {},
   "source": [
    "Since the word counts are stored as columns in **feature_matrix**, each $i$-th row of the matrix corresponds to the feature vector $h(\\mathbf{x}_i)$:\n",
    "$$\n",
    "[\\text{feature_matrix}] =\n",
    "\\left[\n",
    "\\begin{array}{c}\n",
    "h(\\mathbf{x}_1)^T \\\\\n",
    "h(\\mathbf{x}_2)^T \\\\\n",
    "\\vdots \\\\\n",
    "h(\\mathbf{x}_N)^T\n",
    "\\end{array}\n",
    "\\right] =\n",
    "\\left[\n",
    "\\begin{array}{cccc}\n",
    "h_0(\\mathbf{x}_1) & h_1(\\mathbf{x}_1) & \\cdots & h_D(\\mathbf{x}_1) \\\\\n",
    "h_0(\\mathbf{x}_2) & h_1(\\mathbf{x}_2) & \\cdots & h_D(\\mathbf{x}_2) \\\\\n",
    "\\vdots & \\vdots & \\ddots & \\vdots \\\\\n",
    "h_0(\\mathbf{x}_N) & h_1(\\mathbf{x}_N) & \\cdots & h_D(\\mathbf{x}_N)\n",
    "\\end{array}\n",
    "\\right]\n",
    "$$\n",
    "\n",
    "By the rules of matrix multiplication, the score vector containing elements $\\mathbf{w}^T h(\\mathbf{x}_i)$ is obtained by multiplying **feature_matrix** and the coefficient vector $\\mathbf{w}$.\n",
    "$$\n",
    "[\\text{score}] =\n",
    "[\\text{feature_matrix}]\\mathbf{w} =\n",
    "\\left[\n",
    "\\begin{array}{c}\n",
    "h(\\mathbf{x}_1)^T \\\\\n",
    "h(\\mathbf{x}_2)^T \\\\\n",
    "\\vdots \\\\\n",
    "h(\\mathbf{x}_N)^T\n",
    "\\end{array}\n",
    "\\right]\n",
    "\\mathbf{w}\n",
    "= \\left[\n",
    "\\begin{array}{c}\n",
    "h(\\mathbf{x}_1)^T\\mathbf{w} \\\\\n",
    "h(\\mathbf{x}_2)^T\\mathbf{w} \\\\\n",
    "\\vdots \\\\\n",
    "h(\\mathbf{x}_N)^T\\mathbf{w}\n",
    "\\end{array}\n",
    "\\right]\n",
    "= \\left[\n",
    "\\begin{array}{c}\n",
    "\\mathbf{w}^T h(\\mathbf{x}_1) \\\\\n",
    "\\mathbf{w}^T h(\\mathbf{x}_2) \\\\\n",
    "\\vdots \\\\\n",
    "\\mathbf{w}^T h(\\mathbf{x}_N)\n",
    "\\end{array}\n",
    "\\right]\n",
    "$$"
   ]
  },
  {
   "cell_type": "code",
   "execution_count": 69,
   "metadata": {},
   "outputs": [],
   "source": [
    "def sigmoid(scores):\n",
    "    return 1.0 / (1 + np.exp(-scores))\n",
    "\n",
    "def predict_probability(feature_matrix, coefficients):\n",
    "    scores = np.dot(feature_matrix, coefficients)\n",
    "    predictions = sigmoid(scores)\n",
    "    #predictions = 1.0 / (1 + np.exp(-scores))\n",
    "    return predictions"
   ]
  },
  {
   "cell_type": "code",
   "execution_count": 70,
   "metadata": {},
   "outputs": [
    {
     "name": "stdout",
     "output_type": "stream",
     "text": [
      "The following outputs must match \n",
      "------------------------------------------------\n",
      "correct_predictions           = [0.98201379 0.26894142]\n",
      "output of predict_probability = [0.98201379 0.26894142]\n"
     ]
    }
   ],
   "source": [
    "dummy_feature_matrix = np.array([[1.,2.,3.], [1.,-1.,-1]])\n",
    "dummy_coefficients = np.array([1., 3., -1.])\n",
    "\n",
    "correct_scores      = np.array( [ 1.*1. + 2.*3. + 3.*(-1.),          1.*1. + (-1.)*3. + (-1.)*(-1.) ] )\n",
    "correct_predictions = np.array( [ 1./(1+np.exp(-correct_scores[0])), 1./(1+np.exp(-correct_scores[1])) ] )\n",
    "\n",
    "print('The following outputs must match ')\n",
    "print('------------------------------------------------')\n",
    "print('correct_predictions           =', correct_predictions)\n",
    "print('output of predict_probability =', predict_probability(dummy_feature_matrix, dummy_coefficients))"
   ]
  },
  {
   "cell_type": "markdown",
   "metadata": {},
   "source": [
    "#### Compute derivative of log likelihood with respect to a single coefficient\n",
    "\n",
    "$$\n",
    "\\frac{\\partial\\ell}{\\partial w_j} = \\sum_{i=1}^N h_j(\\mathbf{x}_i)\\left(\\mathbf{1}[y_i = +1] - P(y_i = +1 | \\mathbf{x}_i, \\mathbf{w})\\right)\n",
    "$$\n",
    "\n",
    "We will now write a function that computes the derivative of log likelihood with respect to a single coefficient $w_j$. The function accepts two arguments:\n",
    "* `errors` vector containing $\\mathbf{1}[y_i = +1] - P(y_i = +1 | \\mathbf{x}_i, \\mathbf{w})$ for all $i$.\n",
    "* `feature` vector containing $h_j(\\mathbf{x}_i)$  for all $i$."
   ]
  },
  {
   "cell_type": "code",
   "execution_count": 71,
   "metadata": {},
   "outputs": [],
   "source": [
    "def feature_derivative(errors, feature):\n",
    "    #derivative = np.dot(np.transpose(errors), feature)\n",
    "    derivative = np.dot(errors, feature)\n",
    "    return derivative"
   ]
  },
  {
   "cell_type": "markdown",
   "metadata": {},
   "source": [
    "#### Compute log likelihood which is given by\n",
    "\n",
    "$$\\ell\\ell(\\mathbf{w}) = \\sum_{i=1}^N \\Big( (\\mathbf{1}[y_i = +1] - 1)\\mathbf{w}^T h(\\mathbf{x}_i) - \\ln\\left(1 + \\exp(-\\mathbf{w}^T h(\\mathbf{x}_i))\\right) \\Big) $$"
   ]
  },
  {
   "cell_type": "code",
   "execution_count": 72,
   "metadata": {},
   "outputs": [],
   "source": [
    "def compute_log_likelihood(feature_matrix, target_labels, target_label, coefficients):\n",
    "    indicator = (target_labels == target_labels)\n",
    "    #print(feature_matrix.shape, coefficients.shape)\n",
    "    scores = np.dot(feature_matrix, coefficients)\n",
    "    errors = np.transpose(np.array([indicator])) - 1\n",
    "    #lp = np.sum(errors * scores - np.log(sigmoid(scores)))\n",
    "    #print(f'Indicator shape:{indicator.shape}, scores shape:{scores.shape}, sigmoid shape: {sigmoid(scores).shape}')\n",
    "    lp = np.sum((indicator - 1) * scores - np.log(sigmoid(scores)))\n",
    "    return lp"
   ]
  },
  {
   "cell_type": "code",
   "execution_count": 73,
   "metadata": {},
   "outputs": [
    {
     "data": {
      "text/plain": [
       "(2,)"
      ]
     },
     "execution_count": 73,
     "metadata": {},
     "output_type": "execute_result"
    }
   ],
   "source": [
    "np.dot(dummy_feature_matrix, dummy_coefficients).shape"
   ]
  },
  {
   "cell_type": "code",
   "execution_count": 74,
   "metadata": {},
   "outputs": [
    {
     "name": "stdout",
     "output_type": "stream",
     "text": [
      "The following outputs must match \n",
      "------------------------------------------------\n",
      "correct_log_likelihood           = -5.331411615436032\n",
      "output of compute_log_likelihood = 1.3314116154360325\n"
     ]
    }
   ],
   "source": [
    "dummy_feature_matrix = np.array([[1.,2.,3.], [1.,-1.,-1]])\n",
    "dummy_coefficients = np.array([1., 3., -1.])\n",
    "dummy_sentiment = np.array([-1, 1])\n",
    "\n",
    "correct_indicators  = np.array( [ -1==+1, 1==+1 ] )\n",
    "correct_scores      = np.array( [ 1.*1. + 2.*3. + 3.*(-1.),  1.*1. + (-1.)*3. + (-1.)*(-1.) ] )\n",
    "correct_first_term  = np.array( [ (correct_indicators[0]-1)*correct_scores[0],\n",
    "                                 (correct_indicators[1]-1)*correct_scores[1] ] )\n",
    "correct_second_term = np.array( [ np.log(1. + np.exp(-correct_scores[0])), \n",
    "                                 np.log(1. + np.exp(-correct_scores[1])) ] )\n",
    "\n",
    "correct_ll          =      sum( [ correct_first_term[0]-correct_second_term[0],\n",
    "                                 correct_first_term[1]-correct_second_term[1] ] ) \n",
    "\n",
    "print('The following outputs must match ')\n",
    "print('------------------------------------------------')\n",
    "print('correct_log_likelihood           =', correct_ll)\n",
    "print('output of compute_log_likelihood =', compute_log_likelihood(dummy_feature_matrix, dummy_sentiment, 1, dummy_coefficients))"
   ]
  },
  {
   "cell_type": "markdown",
   "metadata": {},
   "source": [
    "#### Build LR model using Gradient Ascent"
   ]
  },
  {
   "cell_type": "code",
   "execution_count": 75,
   "metadata": {},
   "outputs": [
    {
     "data": {
      "text/plain": [
       "(16000,)"
      ]
     },
     "execution_count": 75,
     "metadata": {},
     "output_type": "execute_result"
    }
   ],
   "source": [
    "np.ones((X_train_tfidf_vectorizer.shape[0], 1))[:, 0].shape"
   ]
  },
  {
   "cell_type": "code",
   "execution_count": 92,
   "metadata": {},
   "outputs": [],
   "source": [
    "from math import sqrt\n",
    "\n",
    "def lr(feature_matrix, target_labels, target_label,\n",
    "       initial_coefficients, step_size, max_iterations):\n",
    "    coefficients = np.array(initial_coefficients)\n",
    "    for iteration in range(max_iterations):\n",
    "        predictions = predict_probability(feature_matrix, coefficients)\n",
    "        \n",
    "        indicator = (target_labels == target_label)\n",
    "        \n",
    "        #errors = np.transpose(np.array([indicator])) - predictions\n",
    "        #print(indicator.shape, predictions.shape)\n",
    "        #errors = indicator - predictions[:, 0]\n",
    "        errors = indicator - predictions\n",
    "        \n",
    "        for j in range(len(coefficients)):\n",
    "            derivative = feature_derivative(errors, feature_matrix[:, j])\n",
    "            coefficients[j] += step_size * derivative\n",
    "            \n",
    "        if iteration <= 15 or (iteration <= 100 and iteration % 10 == 0)\\\n",
    "            or (iteration <= 1000 and iteration % 100 == 0)\\\n",
    "            or (iteration <= 10000 and iteration % 1000 == 0)\\\n",
    "            or iteration % 10000 == 0:\n",
    "            lp = compute_log_likelihood(feature_matrix, target_labels,\n",
    "                                        target_label, coefficients)\n",
    "            print(f'Iteration: {iteration} -> Likelihood value: {lp}')\n",
    "            predictions = predict_probability(feature_matrix, coefficients)\n",
    "            print(predictions.min(), predictions.max(), (predictions > .5).sum())\n",
    "    return coefficients"
   ]
  },
  {
   "cell_type": "code",
   "execution_count": 105,
   "metadata": {},
   "outputs": [
    {
     "name": "stdout",
     "output_type": "stream",
     "text": [
      "Iteration: 0 -> Likelihood value: 82352.05858012925\n",
      "0.0030372608326246207 0.009156347455813398 0\n",
      "Iteration: 1 -> Likelihood value: 31706.16918857883\n",
      "0.09520851970820396 0.2218590040790422 0\n",
      "Iteration: 2 -> Likelihood value: 18746.28863036439\n",
      "0.23012775691780843 0.5154437086894701 6\n",
      "Iteration: 3 -> Likelihood value: 44638.488252498566\n",
      "0.03191417542589787 0.16442568698798038 0\n",
      "Iteration: 4 -> Likelihood value: 14780.903849553406\n",
      "0.27605756300582485 0.7294161457656626 2171\n",
      "Iteration: 5 -> Likelihood value: 62327.77784179713\n",
      "0.007799516611473133 0.09291302055056874 0\n",
      "Iteration: 6 -> Likelihood value: 19499.806110487752\n",
      "0.1637885963821367 0.7422926380849997 1158\n",
      "Iteration: 7 -> Likelihood value: 44033.84915067276\n",
      "0.02407348501407484 0.35835992778842324 0\n",
      "Iteration: 8 -> Likelihood value: 15969.959128814611\n",
      "0.19843358751779083 0.8674633724409107 2707\n",
      "Iteration: 9 -> Likelihood value: 58697.09206192693\n",
      "0.007436741287808554 0.24840138277497736 0\n",
      "Iteration: 10 -> Likelihood value: 18969.194512842427\n",
      "0.13662463969628388 0.8872138413154604 2310\n",
      "Iteration: 11 -> Likelihood value: 48235.427738143844\n",
      "0.013610648991426244 0.506355749691201 1\n",
      "Iteration: 12 -> Likelihood value: 17552.090197506823\n",
      "0.1397284200719 0.9328695075951451 2840\n",
      "Iteration: 13 -> Likelihood value: 54356.491968134666\n",
      "0.00784468420525571 0.5048631745917928 1\n",
      "Iteration: 14 -> Likelihood value: 19157.700695127136\n",
      "0.10968041092228602 0.9478585280001138 2736\n",
      "Iteration: 15 -> Likelihood value: 49843.18371732515\n",
      "0.00971017422819096 0.6710782051012139 24\n",
      "Iteration: 20 -> Likelihood value: 21456.19306036518\n",
      "0.06952536814170567 0.977597668091221 2824\n",
      "Iteration: 30 -> Likelihood value: 28478.42262576372\n",
      "0.02833695418058888 0.9888025517278787 2509\n",
      "Iteration: 40 -> Likelihood value: 33941.575425639065\n",
      "0.014170729317359732 0.9931015977810668 2354\n",
      "Iteration: 50 -> Likelihood value: 35728.90240058191\n",
      "0.009861320502087729 0.99628110725962 2440\n",
      "Iteration: 60 -> Likelihood value: 36983.037250867535\n",
      "0.007390373814623805 0.997849560810612 2513\n",
      "Iteration: 70 -> Likelihood value: 38088.82476304399\n",
      "0.005741083371643552 0.9986618196554871 2595\n",
      "Iteration: 80 -> Likelihood value: 39077.873458570844\n",
      "0.0045861209295805765 0.9991181652233745 2642\n",
      "Iteration: 90 -> Likelihood value: 39971.2001232202\n",
      "0.0037466154113775 0.9993916481921669 2681\n",
      "Iteration: 100 -> Likelihood value: 40784.695640193866\n",
      "0.003117668277803094 0.9995643040169433 2718\n",
      "Iteration: 200 -> Likelihood value: 46333.67597704388\n",
      "0.0008851408962566369 0.9999505257313985 2873\n",
      "Iteration: 300 -> Likelihood value: 49587.75828823692\n",
      "0.00041468767715705114 0.9999849611604931 2929\n",
      "Iteration: 400 -> Likelihood value: 51832.90971341831\n",
      "0.000241863336278741 0.9999930898003837 2972\n"
     ]
    }
   ],
   "source": [
    "step_size=1e-3\n",
    "max_iter=1001\n",
    "target_labels = y_train\n",
    "target_label = 'Student loan'\n",
    "constant_feature = np.ones((X_train_tfidf_vectorizer.shape[0], 1))\n",
    "features_matrix = np.hstack((constant_feature, X_train_tfidf_vectorizer.toarray()))\n",
    "initial_coefficients = np.zeros(features_matrix.shape[1])\n",
    "student_loan_lr_coeff = lr(features_matrix,\n",
    "                          target_labels,\n",
    "                          target_label,\n",
    "                          initial_coefficients,\n",
    "                          step_size,\n",
    "                          max_iter)"
   ]
  },
  {
   "cell_type": "markdown",
   "metadata": {},
   "source": [
    "#### Predictions\n",
    "\n",
    "- 1000 iterations -> 1e-5 -> 422 student loan prediction -> 0.0796844321786911(min prob) 0.7276472670085411 (max pro)\n",
    "- 1000 iterations -> 1e-4 -> 2701 -> 0.004082467781937289 0.999257866186728 -> 39547.86471785138\n",
    "- 100 iterations -> 1e-3 -> 2716 -> 0.0037466154113775 0.9993916481921669 -> 39971.2001232202\n",
    "- 500 iterations -> 1e-3 -> 3000 -> 0.00016002748416665656 0.9999960208123433 -> 51832.90971341831"
   ]
  },
  {
   "cell_type": "code",
   "execution_count": 107,
   "metadata": {},
   "outputs": [
    {
     "name": "stdout",
     "output_type": "stream",
     "text": [
      "3200\n",
      "(16000, 10001) (10001,)\n",
      "-5.369149911651749 11.735093259852734\n",
      "0.00016002748416665656 0.9999960208123433\n",
      "3000\n"
     ]
    }
   ],
   "source": [
    "print((target_labels == 'Student loan').sum())\n",
    "print(features_matrix.shape, student_loan_lr_coeff.shape)\n",
    "print(student_loan_lr_coeff.min(), student_loan_lr_coeff.max())\n",
    "predictions = predict_probability(features_matrix, student_loan_lr_coeff)\n",
    "print(predictions.min(), predictions.max())\n",
    "print((predictions > .5).sum())"
   ]
  },
  {
   "cell_type": "markdown",
   "metadata": {},
   "source": [
    "### Modeling"
   ]
  },
  {
   "cell_type": "code",
   "execution_count": 41,
   "metadata": {},
   "outputs": [
    {
     "data": {
      "text/plain": [
       "array(['Credit reporting, repair, or other', 'Bank account or service',\n",
       "       'Debt collection',\n",
       "       'Money transfer, virtual currency, or money service',\n",
       "       'Student loan'], dtype=object)"
      ]
     },
     "execution_count": 41,
     "metadata": {},
     "output_type": "execute_result"
    }
   ],
   "source": [
    "y_train.unique()"
   ]
  },
  {
   "cell_type": "code",
   "execution_count": 42,
   "metadata": {},
   "outputs": [
    {
     "name": "stdout",
     "output_type": "stream",
     "text": [
      "scikit-image==0.14.2\r\n",
      "scikit-learn==0.22.2.post1\r\n"
     ]
    }
   ],
   "source": [
    "!pip freeze | grep scikit"
   ]
  },
  {
   "cell_type": "code",
   "execution_count": 43,
   "metadata": {},
   "outputs": [],
   "source": [
    "from sklearn.linear_model import LogisticRegression"
   ]
  },
  {
   "cell_type": "code",
   "execution_count": 44,
   "metadata": {},
   "outputs": [],
   "source": [
    "lr_model = LogisticRegression(penalty='none', max_iter=301, random_state=RANDOM_STATE)"
   ]
  },
  {
   "cell_type": "code",
   "execution_count": 45,
   "metadata": {},
   "outputs": [
    {
     "name": "stdout",
     "output_type": "stream",
     "text": [
      "CPU times: user 5.07 s, sys: 778 ms, total: 5.84 s\n",
      "Wall time: 1.31 s\n"
     ]
    },
    {
     "data": {
      "text/plain": [
       "LogisticRegression(C=1.0, class_weight=None, dual=False, fit_intercept=True,\n",
       "                   intercept_scaling=1, l1_ratio=None, max_iter=301,\n",
       "                   multi_class='auto', n_jobs=None, penalty='none',\n",
       "                   random_state=19, solver='lbfgs', tol=0.0001, verbose=0,\n",
       "                   warm_start=False)"
      ]
     },
     "execution_count": 45,
     "metadata": {},
     "output_type": "execute_result"
    }
   ],
   "source": [
    "%%time\n",
    "\n",
    "lr_model.fit(X_train_tfidf_vectorizer, y_train == 'Student loan')"
   ]
  },
  {
   "cell_type": "code",
   "execution_count": 46,
   "metadata": {},
   "outputs": [
    {
     "data": {
      "text/plain": [
       "array([False,  True])"
      ]
     },
     "execution_count": 46,
     "metadata": {},
     "output_type": "execute_result"
    }
   ],
   "source": [
    "lr_model.classes_"
   ]
  },
  {
   "cell_type": "code",
   "execution_count": 47,
   "metadata": {},
   "outputs": [
    {
     "data": {
      "text/plain": [
       "array([[  54.40205571, -202.64857603,   36.4316644 , ...,   -0.46870238,\n",
       "          -2.14389495,  241.53657657]])"
      ]
     },
     "execution_count": 47,
     "metadata": {},
     "output_type": "execute_result"
    }
   ],
   "source": [
    "lr_model.coef_"
   ]
  },
  {
   "cell_type": "code",
   "execution_count": 48,
   "metadata": {},
   "outputs": [
    {
     "data": {
      "text/plain": [
       "3200"
      ]
     },
     "execution_count": 48,
     "metadata": {},
     "output_type": "execute_result"
    }
   ],
   "source": [
    "predictions = lr_model.predict(X_train_tfidf_vectorizer)\n",
    "(predictions == True).sum()"
   ]
  },
  {
   "cell_type": "code",
   "execution_count": 49,
   "metadata": {},
   "outputs": [
    {
     "name": "stdout",
     "output_type": "stream",
     "text": [
      "[False False False False False False False False  True False]\n",
      "[[1.00000000e+000 1.70393570e-050]\n",
      " [1.00000000e+000 1.44653428e-124]\n",
      " [1.00000000e+000 1.54972729e-168]\n",
      " [1.00000000e+000 3.88168233e-064]\n",
      " [1.00000000e+000 3.58657256e-233]\n",
      " [1.00000000e+000 3.89678269e-153]\n",
      " [1.00000000e+000 3.38501800e-153]\n",
      " [1.00000000e+000 1.42942332e-136]\n",
      " [0.00000000e+000 1.00000000e+000]\n",
      " [1.00000000e+000 1.60953165e-211]]\n"
     ]
    }
   ],
   "source": [
    "print(lr_model.predict(X_train_tfidf_vectorizer)[:10])\n",
    "print(lr_model.predict_proba(X_train_tfidf_vectorizer)[:10])"
   ]
  },
  {
   "cell_type": "code",
   "execution_count": 50,
   "metadata": {},
   "outputs": [
    {
     "data": {
      "text/plain": [
       "3200"
      ]
     },
     "execution_count": 50,
     "metadata": {},
     "output_type": "execute_result"
    }
   ],
   "source": [
    "predictions = lr_model.predict_proba(X_train_tfidf_vectorizer)\n",
    "(predictions[:, 1] > .5).sum()"
   ]
  },
  {
   "cell_type": "code",
   "execution_count": 51,
   "metadata": {},
   "outputs": [],
   "source": [
    "def print_top10(vectorizer, clf, class_labels):\n",
    "    \"\"\"Prints features with the highest coefficient values, per class\"\"\"\n",
    "    feature_names = vectorizer.get_feature_names()\n",
    "    for i, class_label in enumerate(class_labels):\n",
    "        top10 = np.argsort(clf.coef_[i])[-10:]\n",
    "        print(\"\\n==> %s:\" %(class_label))\n",
    "        print(\"    * %s\" % (\", \".join(feature_names[j] for j in top10)))"
   ]
  },
  {
   "cell_type": "code",
   "execution_count": 52,
   "metadata": {},
   "outputs": [
    {
     "name": "stdout",
     "output_type": "stream",
     "text": [
      "\n",
      "==> Credit reporting, repair, or other:\n",
      "    * ita, paperwork, mohela, classes, deferment, consolidated, repayment, ameirica, fedloan, navient\n"
     ]
    },
    {
     "ename": "IndexError",
     "evalue": "index 1 is out of bounds for axis 0 with size 1",
     "output_type": "error",
     "traceback": [
      "\u001b[0;31m---------------------------------------------------------------------------\u001b[0m",
      "\u001b[0;31mIndexError\u001b[0m                                Traceback (most recent call last)",
      "\u001b[0;32m<ipython-input-52-bf6a563b7e8c>\u001b[0m in \u001b[0;36m<module>\u001b[0;34m\u001b[0m\n\u001b[0;32m----> 1\u001b[0;31m \u001b[0mprint_top10\u001b[0m\u001b[0;34m(\u001b[0m\u001b[0mtfidf_vectorizer\u001b[0m\u001b[0;34m,\u001b[0m \u001b[0mlr_model\u001b[0m\u001b[0;34m,\u001b[0m \u001b[0my_train\u001b[0m\u001b[0;34m.\u001b[0m\u001b[0munique\u001b[0m\u001b[0;34m(\u001b[0m\u001b[0;34m)\u001b[0m\u001b[0;34m)\u001b[0m\u001b[0;34m\u001b[0m\u001b[0;34m\u001b[0m\u001b[0m\n\u001b[0m",
      "\u001b[0;32m<ipython-input-51-a9578769f2d4>\u001b[0m in \u001b[0;36mprint_top10\u001b[0;34m(vectorizer, clf, class_labels)\u001b[0m\n\u001b[1;32m      3\u001b[0m     \u001b[0mfeature_names\u001b[0m \u001b[0;34m=\u001b[0m \u001b[0mvectorizer\u001b[0m\u001b[0;34m.\u001b[0m\u001b[0mget_feature_names\u001b[0m\u001b[0;34m(\u001b[0m\u001b[0;34m)\u001b[0m\u001b[0;34m\u001b[0m\u001b[0;34m\u001b[0m\u001b[0m\n\u001b[1;32m      4\u001b[0m     \u001b[0;32mfor\u001b[0m \u001b[0mi\u001b[0m\u001b[0;34m,\u001b[0m \u001b[0mclass_label\u001b[0m \u001b[0;32min\u001b[0m \u001b[0menumerate\u001b[0m\u001b[0;34m(\u001b[0m\u001b[0mclass_labels\u001b[0m\u001b[0;34m)\u001b[0m\u001b[0;34m:\u001b[0m\u001b[0;34m\u001b[0m\u001b[0;34m\u001b[0m\u001b[0m\n\u001b[0;32m----> 5\u001b[0;31m         \u001b[0mtop10\u001b[0m \u001b[0;34m=\u001b[0m \u001b[0mnp\u001b[0m\u001b[0;34m.\u001b[0m\u001b[0margsort\u001b[0m\u001b[0;34m(\u001b[0m\u001b[0mclf\u001b[0m\u001b[0;34m.\u001b[0m\u001b[0mcoef_\u001b[0m\u001b[0;34m[\u001b[0m\u001b[0mi\u001b[0m\u001b[0;34m]\u001b[0m\u001b[0;34m)\u001b[0m\u001b[0;34m[\u001b[0m\u001b[0;34m-\u001b[0m\u001b[0;36m10\u001b[0m\u001b[0;34m:\u001b[0m\u001b[0;34m]\u001b[0m\u001b[0;34m\u001b[0m\u001b[0;34m\u001b[0m\u001b[0m\n\u001b[0m\u001b[1;32m      6\u001b[0m         \u001b[0mprint\u001b[0m\u001b[0;34m(\u001b[0m\u001b[0;34m\"\\n==> %s:\"\u001b[0m \u001b[0;34m%\u001b[0m\u001b[0;34m(\u001b[0m\u001b[0mclass_label\u001b[0m\u001b[0;34m)\u001b[0m\u001b[0;34m)\u001b[0m\u001b[0;34m\u001b[0m\u001b[0;34m\u001b[0m\u001b[0m\n\u001b[1;32m      7\u001b[0m         \u001b[0mprint\u001b[0m\u001b[0;34m(\u001b[0m\u001b[0;34m\"    * %s\"\u001b[0m \u001b[0;34m%\u001b[0m \u001b[0;34m(\u001b[0m\u001b[0;34m\", \"\u001b[0m\u001b[0;34m.\u001b[0m\u001b[0mjoin\u001b[0m\u001b[0;34m(\u001b[0m\u001b[0mfeature_names\u001b[0m\u001b[0;34m[\u001b[0m\u001b[0mj\u001b[0m\u001b[0;34m]\u001b[0m \u001b[0;32mfor\u001b[0m \u001b[0mj\u001b[0m \u001b[0;32min\u001b[0m \u001b[0mtop10\u001b[0m\u001b[0;34m)\u001b[0m\u001b[0;34m)\u001b[0m\u001b[0;34m)\u001b[0m\u001b[0;34m\u001b[0m\u001b[0;34m\u001b[0m\u001b[0m\n",
      "\u001b[0;31mIndexError\u001b[0m: index 1 is out of bounds for axis 0 with size 1"
     ]
    }
   ],
   "source": [
    "print_top10(tfidf_vectorizer, lr_model, y_train.unique())"
   ]
  },
  {
   "cell_type": "markdown",
   "metadata": {},
   "source": [
    "### Model Evaluation\n",
    "\n",
    "- Cross Validation\n",
    "- Hyper Parameter Tunning"
   ]
  },
  {
   "cell_type": "code",
   "execution_count": 53,
   "metadata": {},
   "outputs": [],
   "source": [
    "from sklearn.model_selection import cross_val_score, GridSearchCV"
   ]
  },
  {
   "cell_type": "code",
   "execution_count": 54,
   "metadata": {},
   "outputs": [],
   "source": [
    "cv_scores = cross_val_score(lr_model, X_train_tfidf_vectorizer, y_train == 'Student loan', cv=5)"
   ]
  },
  {
   "cell_type": "code",
   "execution_count": 55,
   "metadata": {},
   "outputs": [
    {
     "name": "stdout",
     "output_type": "stream",
     "text": [
      "0.9570000000000001\n",
      "[0.956875  0.9628125 0.9503125 0.9565625 0.9584375]\n"
     ]
    }
   ],
   "source": [
    "print(cv_scores.mean())\n",
    "print(cv_scores)"
   ]
  },
  {
   "cell_type": "code",
   "execution_count": 39,
   "metadata": {
    "scrolled": true
   },
   "outputs": [
    {
     "name": "stdout",
     "output_type": "stream",
     "text": [
      "Fitting 5 folds for each of 6 candidates, totalling 30 fits\n"
     ]
    },
    {
     "name": "stderr",
     "output_type": "stream",
     "text": [
      "[Parallel(n_jobs=-1)]: Using backend LokyBackend with 2 concurrent workers.\n",
      "[Parallel(n_jobs=-1)]: Done  30 out of  30 | elapsed:  2.4min finished\n",
      "/usr/local/lib/python3.8/site-packages/sklearn/linear_model/_logistic.py:937: ConvergenceWarning: lbfgs failed to converge (status=1):\n",
      "STOP: TOTAL NO. of ITERATIONS REACHED LIMIT.\n",
      "\n",
      "Increase the number of iterations (max_iter) or scale the data as shown in:\n",
      "    https://scikit-learn.org/stable/modules/preprocessing.html.\n",
      "Please also refer to the documentation for alternative solver options:\n",
      "    https://scikit-learn.org/stable/modules/linear_model.html#logistic-regression\n",
      "  n_iter_i = _check_optimize_result(\n"
     ]
    },
    {
     "data": {
      "text/plain": [
       "GridSearchCV(cv=5, error_score=nan,\n",
       "             estimator=LogisticRegression(C=1.0, class_weight=None, dual=False,\n",
       "                                          fit_intercept=True,\n",
       "                                          intercept_scaling=1, l1_ratio=None,\n",
       "                                          max_iter=100, multi_class='auto',\n",
       "                                          n_jobs=None, penalty='none',\n",
       "                                          random_state=19, solver='lbfgs',\n",
       "                                          tol=0.0001, verbose=0,\n",
       "                                          warm_start=False),\n",
       "             iid='deprecated', n_jobs=-1,\n",
       "             param_grid={'max_iter': [100, 1000, 2500, 5000, 7500, 10000]},\n",
       "             pre_dispatch='2*n_jobs', refit=True, return_train_score=False,\n",
       "             scoring=None, verbose=1)"
      ]
     },
     "execution_count": 39,
     "metadata": {},
     "output_type": "execute_result"
    }
   ],
   "source": [
    "params_grid = {\n",
    "    'max_iter': [100, 1000, 2500, 5000, 7500, 10000]\n",
    "}\n",
    "\n",
    "grid_search = GridSearchCV(LogisticRegression(penalty='none',\n",
    "                                              random_state=RANDOM_STATE),\n",
    "                           params_grid, cv=5,\n",
    "                           n_jobs=-1, verbose=1)\n",
    "\n",
    "grid_search.fit(X_train_tfidf_vectorizer, y_train)"
   ]
  },
  {
   "cell_type": "code",
   "execution_count": 40,
   "metadata": {
    "scrolled": false
   },
   "outputs": [
    {
     "name": "stdout",
     "output_type": "stream",
     "text": [
      "0.8286250000000001\n",
      "LogisticRegression(C=1.0, class_weight=None, dual=False, fit_intercept=True,\n",
      "                   intercept_scaling=1, l1_ratio=None, max_iter=100,\n",
      "                   multi_class='auto', n_jobs=None, penalty='none',\n",
      "                   random_state=19, solver='lbfgs', tol=0.0001, verbose=0,\n",
      "                   warm_start=False)\n",
      "{'mean_fit_time': array([ 3.46824985, 10.35557775, 10.80008135, 10.5697371 , 10.29876566,\n",
      "       10.37499719]), 'std_fit_time': array([0.16070535, 3.61185528, 3.8637648 , 3.76246566, 3.35653672,\n",
      "       3.41183422]), 'mean_score_time': array([0.00523715, 0.00497565, 0.00496216, 0.00497088, 0.00483651,\n",
      "       0.00499339]), 'std_score_time': array([5.09720843e-04, 5.97581032e-05, 2.14665628e-04, 1.54124997e-04,\n",
      "       1.64535244e-04, 2.05502676e-04]), 'param_max_iter': masked_array(data=[100, 1000, 2500, 5000, 7500, 10000],\n",
      "             mask=[False, False, False, False, False, False],\n",
      "       fill_value='?',\n",
      "            dtype=object), 'params': [{'max_iter': 100}, {'max_iter': 1000}, {'max_iter': 2500}, {'max_iter': 5000}, {'max_iter': 7500}, {'max_iter': 10000}], 'split0_test_score': array([0.8290625, 0.83     , 0.83     , 0.83     , 0.83     , 0.83     ]), 'split1_test_score': array([0.8371875, 0.8315625, 0.8315625, 0.8315625, 0.8315625, 0.8315625]), 'split2_test_score': array([0.8225  , 0.820625, 0.820625, 0.820625, 0.820625, 0.820625]), 'split3_test_score': array([0.8309375, 0.8240625, 0.8240625, 0.8240625, 0.8240625, 0.8240625]), 'split4_test_score': array([0.8234375, 0.820625 , 0.820625 , 0.820625 , 0.820625 , 0.820625 ]), 'mean_test_score': array([0.828625, 0.825375, 0.825375, 0.825375, 0.825375, 0.825375]), 'std_test_score': array([0.00535315, 0.0046157 , 0.0046157 , 0.0046157 , 0.0046157 ,\n",
      "       0.0046157 ]), 'rank_test_score': array([1, 2, 2, 2, 2, 2], dtype=int32)}\n"
     ]
    }
   ],
   "source": [
    "print(grid_search.best_score_)\n",
    "print(grid_search.best_estimator_)\n",
    "print(grid_search.cv_results_)"
   ]
  },
  {
   "cell_type": "markdown",
   "metadata": {},
   "source": [
    "### Quality Metrics"
   ]
  },
  {
   "cell_type": "code",
   "execution_count": 41,
   "metadata": {},
   "outputs": [],
   "source": [
    "from sklearn.metrics import (accuracy_score,\n",
    "                             confusion_matrix,\n",
    "                             precision_score,\n",
    "                             recall_score)\n",
    "\n",
    "import seaborn as sns;\n",
    "sns.set()\n",
    "\n",
    "import matplotlib.pyplot as plt\n",
    "%matplotlib inline"
   ]
  },
  {
   "cell_type": "code",
   "execution_count": 42,
   "metadata": {},
   "outputs": [],
   "source": [
    "predictions = lr.predict(X_test_tfidf_vectorizer)"
   ]
  },
  {
   "cell_type": "code",
   "execution_count": 43,
   "metadata": {},
   "outputs": [
    {
     "data": {
      "text/plain": [
       "0.82425"
      ]
     },
     "execution_count": 43,
     "metadata": {},
     "output_type": "execute_result"
    }
   ],
   "source": [
    "accuracy_score(y_test, predictions)"
   ]
  },
  {
   "cell_type": "code",
   "execution_count": 44,
   "metadata": {},
   "outputs": [
    {
     "data": {
      "text/plain": [
       "array([[660,  32,  10,  80,  18],\n",
       "       [ 32, 634,  24,   5, 105],\n",
       "       [ 12,  38, 703,  10,  37],\n",
       "       [ 94,  21,   1, 676,   8],\n",
       "       [ 20, 120,  25,  11, 624]])"
      ]
     },
     "execution_count": 44,
     "metadata": {},
     "output_type": "execute_result"
    }
   ],
   "source": [
    "conf_matrix = confusion_matrix(y_test, predictions, labels=y_test.unique())\n",
    "conf_matrix"
   ]
  },
  {
   "cell_type": "code",
   "execution_count": 45,
   "metadata": {},
   "outputs": [
    {
     "data": {
      "text/plain": [
       "<matplotlib.axes._subplots.AxesSubplot at 0x7f2d516a93d0>"
      ]
     },
     "execution_count": 45,
     "metadata": {},
     "output_type": "execute_result"
    },
    {
     "data": {
      "image/png": "[encoded data removed]",
      "text/plain": [
       "<Figure size 432x288 with 2 Axes>"
      ]
     },
     "metadata": {
      "needs_background": "light"
     },
     "output_type": "display_data"
    }
   ],
   "source": [
    "sns.heatmap(conf_matrix,\n",
    "            cmap='YlGnBu',\n",
    "            annot=True,\n",
    "            fmt=\"d\",\n",
    "            xticklabels=y_test.unique(),\n",
    "            yticklabels=y_test.unique())"
   ]
  },
  {
   "cell_type": "code",
   "execution_count": 46,
   "metadata": {},
   "outputs": [
    {
     "data": {
      "text/plain": [
       "0.8242499999999999"
      ]
     },
     "execution_count": 46,
     "metadata": {},
     "output_type": "execute_result"
    }
   ],
   "source": [
    "recall_score(y_test, predictions, labels=y_test.unique(), average='macro')"
   ]
  },
  {
   "cell_type": "code",
   "execution_count": 47,
   "metadata": {},
   "outputs": [
    {
     "data": {
      "text/plain": [
       "0.82425"
      ]
     },
     "execution_count": 47,
     "metadata": {},
     "output_type": "execute_result"
    }
   ],
   "source": [
    "precision_score(y_test, predictions, labels=y_test.unique(), average='micro')"
   ]
  },
  {
   "cell_type": "markdown",
   "metadata": {},
   "source": [
    "### Model Evaluation on Test Dataset\n",
    "\n",
    "- Note: Retrain the model using full training dataset."
   ]
  },
  {
   "cell_type": "markdown",
   "metadata": {},
   "source": [
    "## Homework"
   ]
  },
  {
   "cell_type": "markdown",
   "metadata": {},
   "source": [
    "## Resources"
   ]
  }
 ],
 "metadata": {
  "kernelspec": {
   "display_name": "Python 3",
   "language": "python",
   "name": "python3"
  },
  "language_info": {
   "codemirror_mode": {
    "name": "ipython",
    "version": 3
   },
   "file_extension": ".py",
   "mimetype": "text/x-python",
   "name": "python",
   "nbconvert_exporter": "python",
   "pygments_lexer": "ipython3",
   "version": "3.7.3"
  },
  "toc": {
   "base_numbering": 1,
   "nav_menu": {},
   "number_sections": false,
   "sideBar": true,
   "skip_h1_title": false,
   "title_cell": "Text Classification using Logistic Regression",
   "title_sidebar": "Contents",
   "toc_cell": true,
   "toc_position": {},
   "toc_section_display": true,
   "toc_window_display": false
  }
 },
 "nbformat": 4,
 "nbformat_minor": 4
}
